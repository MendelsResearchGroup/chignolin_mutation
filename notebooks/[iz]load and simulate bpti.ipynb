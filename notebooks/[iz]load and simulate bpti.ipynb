{
 "cells": [
  {
   "cell_type": "code",
   "execution_count": 1,
   "metadata": {
    "collapsed": true,
    "jupyter": {
     "outputs_hidden": true
    }
   },
   "outputs": [
    {
     "data": {
      "application/vnd.jupyter.widget-view+json": {
       "model_id": "01cf321992b74265aee78b520c514e39",
       "version_major": 2,
       "version_minor": 0
      },
      "text/plain": []
     },
     "metadata": {},
     "output_type": "display_data"
    },
    {
     "name": "stderr",
     "output_type": "stream",
     "text": [
      "[dgx-master.technion.ac.il:3952300] PMIX ERROR: NO-PERMISSIONS in file dstore_base.c at line 237\n",
      "[dgx-master.technion.ac.il:3952300] PMIX ERROR: NO-PERMISSIONS in file dstore_base.c at line 246\n"
     ]
    }
   ],
   "source": [
    "import plumed\n",
    "import numpy as np\n",
    "import pandas as pd\n",
    "import MDAnalysis as mda\n",
    "import nglview\n",
    "import vmd\n",
    "import os\n",
    "from psfgen import PsfGen\n",
    "import subprocess\n",
    "import gromacs\n",
    "import panedr\n",
    "from gromacs.setup import *\n",
    "\n",
    "import matplotlib.pyplot as plt\n",
    "\n",
    "import yaml"
   ]
  },
  {
   "cell_type": "code",
   "execution_count": 2,
   "metadata": {
    "collapsed": true,
    "jupyter": {
     "outputs_hidden": true
    }
   },
   "outputs": [],
   "source": [
    "with open('../params.yaml','r') as f:\n",
    "    config = yaml.safe_load(f)"
   ]
  },
  {
   "cell_type": "code",
   "execution_count": 3,
   "metadata": {
    "collapsed": true,
    "jupyter": {
     "outputs_hidden": true
    }
   },
   "outputs": [],
   "source": [
    "system = config['base'][os.uname().nodename]"
   ]
  },
  {
   "cell_type": "code",
   "execution_count": 4,
   "metadata": {
    "collapsed": true,
    "jupyter": {
     "outputs_hidden": true
    }
   },
   "outputs": [],
   "source": [
    "base  = os.getcwd()"
   ]
  },
  {
   "cell_type": "code",
   "execution_count": 5,
   "metadata": {
    "collapsed": true,
    "jupyter": {
     "outputs_hidden": true
    }
   },
   "outputs": [],
   "source": [
    "import sys\n",
    "extra_path = '/rg/mendels_prj/zadoki/bpti/src'  # whatever it is\n",
    "if extra_path not in sys.path:\n",
    "    sys.path.append(extra_path)\n",
    "    \n",
    "from utils.utils import clean, run_omp_slurm, run_mpi_slurm"
   ]
  },
  {
   "cell_type": "markdown",
   "metadata": {},
   "source": [
    "## Simulate the five starting positions for BPTI"
   ]
  },
  {
   "cell_type": "markdown",
   "metadata": {},
   "source": [
    "## state a"
   ]
  },
  {
   "cell_type": "code",
   "execution_count": 6,
   "metadata": {
    "collapsed": true,
    "jupyter": {
     "outputs_hidden": true
    }
   },
   "outputs": [],
   "source": [
    "# create pdb psf files\n",
    "\n",
    "gen = PsfGen(output=\"/dev/null\")  # Suppress output since there's too much\n",
    "gen.read_topology('../data/raw/top_all27_prot_lipid_na.inp')\n",
    "gen.alias_atom(resname='ILE' , top_atomname='CD', pdb_atomname='CD1')\n",
    "gen.add_segment(segid=\"P\",\n",
    "                pdbfile=\"../data/raw/1187409s_pdb1.pdb\",\n",
    "                first='NTER',\n",
    "                last='CTER'\n",
    "                )\n",
    "gen.read_coords(segid=\"P\", filename=\"../data/raw/1187409s_pdb1.pdb\")\n",
    "gen.regenerate_resids()\n",
    "# pach disulfide bridges\n",
    "\n",
    "gen.patch(patchname=\"DISU\", targets=[(\"P\",\"5\"), (\"P\",\"55\")])\n",
    "gen.patch(patchname=\"DISU\", targets=[(\"P\",\"14\"), (\"P\",\"38\")])\n",
    "gen.patch(patchname=\"DISU\", targets=[(\"P\",\"30\"), (\"P\",\"51\")])\n",
    "gen.regenerate_angles()\n",
    "gen.regenerate_dihedrals()\n",
    "gen.guess_coords()\n",
    "# make folder\n",
    "os.makedirs('../data/interim/state_A', exist_ok=True)\n",
    "gen.write_pdb('../data/interim/state_A/5bpi_A.pdb')\n",
    "gen.write_psf('../data/interim/state_A/5bpi_A.psf')"
   ]
  },
  {
   "cell_type": "code",
   "execution_count": 68,
   "metadata": {
    "collapsed": true,
    "jupyter": {
     "outputs_hidden": true
    }
   },
   "outputs": [
    {
     "ename": "FileNotFoundError",
     "evalue": "[Errno 2] No such file or directory: '../data/interim/state_A'",
     "output_type": "error",
     "traceback": [
      "\u001b[0;31m---------------------------------------------------------------------------\u001b[0m",
      "\u001b[0;31mFileNotFoundError\u001b[0m                         Traceback (most recent call last)",
      "Cell \u001b[0;32mIn[68], line 2\u001b[0m\n\u001b[1;32m      1\u001b[0m \u001b[38;5;66;03m# solvate and ionize \u001b[39;00m\n\u001b[0;32m----> 2\u001b[0m \u001b[43mos\u001b[49m\u001b[38;5;241;43m.\u001b[39;49m\u001b[43mchdir\u001b[49m\u001b[43m(\u001b[49m\u001b[38;5;124;43m\"\u001b[39;49m\u001b[38;5;124;43m../data/interim/state_A\u001b[39;49m\u001b[38;5;124;43m\"\u001b[39;49m\u001b[43m)\u001b[49m\n\u001b[1;32m      3\u001b[0m \u001b[38;5;66;03m# original topology ff \u001b[39;00m\n\u001b[1;32m      4\u001b[0m f1 \u001b[38;5;241m=\u001b[39m topology(protein\u001b[38;5;241m=\u001b[39m\u001b[38;5;124m'\u001b[39m\u001b[38;5;124mprotein_solvate\u001b[39m\u001b[38;5;124m'\u001b[39m, struct\u001b[38;5;241m=\u001b[39m\u001b[38;5;124m'\u001b[39m\u001b[38;5;124m5bpi_A.pdb\u001b[39m\u001b[38;5;124m'\u001b[39m,  ff\u001b[38;5;241m=\u001b[39m\u001b[38;5;124m'\u001b[39m\u001b[38;5;124mcharmm27\u001b[39m\u001b[38;5;124m'\u001b[39m, water\u001b[38;5;241m=\u001b[39m\u001b[38;5;124m'\u001b[39m\u001b[38;5;124mtip4p\u001b[39m\u001b[38;5;124m'\u001b[39m, ignh\u001b[38;5;241m=\u001b[39m\u001b[38;5;28;01mTrue\u001b[39;00m, posrefc\u001b[38;5;241m=\u001b[39m\u001b[38;5;241m100\u001b[39m)\n",
      "\u001b[0;31mFileNotFoundError\u001b[0m: [Errno 2] No such file or directory: '../data/interim/state_A'"
     ]
    }
   ],
   "source": [
    "%%capture\n",
    "# solvate and ionize \n",
    "os.chdir(\"../data/interim/state_A\")\n",
    "# original topology ff \n",
    "f1 = topology(protein='protein_solvate', struct='5bpi_A.pdb',  ff='charmm27', water='tip4p', ignh=True, posrefc=50)\n",
    "# solvate and ionize\n",
    "f2 = solvate(boxtype='cubic',distance=1.0, **f1)\n",
    "# minimize flexible\n",
    "f3 = energy_minimize(integrator='cg',define = '-DFLEXIBLE',maxwarn=10, **f2)\n",
    "# minimize rigid\n",
    "f3 = energy_minimize(integrator='steep',maxwarn=10, **f3)\n",
    "# restrained md npt 20ns\n",
    "MD_restrained(r='/rg/mendels_prj/zadoki/bpti/data/interim/state_A/em/em.pdb', maxwarn=10, nstxout=1000, nstvout=0, nstenergy=100, nstxtcout = 0, nsteps= 10000000, **f3)"
   ]
  },
  {
   "cell_type": "code",
   "execution_count": 8,
   "metadata": {
    "collapsed": true,
    "jupyter": {
     "outputs_hidden": true
    }
   },
   "outputs": [
    {
     "data": {
      "text/plain": [
       "'/rg/mendels_prj/zadoki/bpti/notebooks'"
      ]
     },
     "execution_count": 8,
     "metadata": {},
     "output_type": "execute_result"
    }
   ],
   "source": [
    "os.getcwd()"
   ]
  },
  {
   "cell_type": "code",
   "execution_count": 16,
   "metadata": {
    "collapsed": true,
    "jupyter": {
     "outputs_hidden": true
    }
   },
   "outputs": [
    {
     "name": "stderr",
     "output_type": "stream",
     "text": [
      "slurmstepd: error: Unable to create TMPDIR [/usr/tmp]: Permission denied\n",
      "slurmstepd: error: Setting TMPDIR to /tmp\n"
     ]
    },
    {
     "data": {
      "text/plain": [
       "CompletedProcess(args='srun -N1 -G1 --mpi=pmix singularity run --nv  --cleanenv --home $(pwd) --env OMP_NUM_THREADS=1 ~/gromacs_2023-2.sif', returncode=0)"
      ]
     },
     "execution_count": 16,
     "metadata": {},
     "output_type": "execute_result"
    }
   ],
   "source": [
    "run_mpi_slurm('mpirun -np 10 gmx mdrun  -v -deffnm md -cpi', **system)"
   ]
  },
  {
   "cell_type": "code",
   "execution_count": 16,
   "metadata": {
    "collapsed": true,
    "jupyter": {
     "outputs_hidden": true
    }
   },
   "outputs": [],
   "source": [
    "data = panedr.edr_to_df('../data/interim/state_A/MD_POSRES/md.edr')"
   ]
  },
  {
   "cell_type": "code",
   "execution_count": 49,
   "metadata": {
    "collapsed": true,
    "jupyter": {
     "outputs_hidden": true
    }
   },
   "outputs": [
    {
     "data": {
      "text/plain": [
       "<Axes: xlabel='Time'>"
      ]
     },
     "execution_count": 49,
     "metadata": {},
     "output_type": "execute_result"
    },
    {
     "data": {
      "image/png": "[encoded data removed]",
      "text/plain": [
       "<Figure size 640x480 with 1 Axes>"
      ]
     },
     "metadata": {},
     "output_type": "display_data"
    }
   ],
   "source": [
    "\n",
    "data.iloc[10:,:].plot(x='Time', y='Temperature')\n",
    "\n",
    "\n"
   ]
  },
  {
   "cell_type": "code",
   "execution_count": 48,
   "metadata": {
    "collapsed": true,
    "jupyter": {
     "outputs_hidden": true
    }
   },
   "outputs": [
    {
     "data": {
      "text/plain": [
       "<Axes: xlabel='Time'>"
      ]
     },
     "execution_count": 48,
     "metadata": {},
     "output_type": "execute_result"
    },
    {
     "data": {
      "image/png": "[encoded data removed]",
      "text/plain": [
       "<Figure size 640x480 with 1 Axes>"
      ]
     },
     "metadata": {},
     "output_type": "display_data"
    }
   ],
   "source": [
    "data.iloc[10:,:].plot(x='Time', y='Pressure')\n"
   ]
  },
  {
   "cell_type": "code",
   "execution_count": 47,
   "metadata": {
    "collapsed": true,
    "jupyter": {
     "outputs_hidden": true
    }
   },
   "outputs": [
    {
     "data": {
      "text/plain": [
       "<Axes: xlabel='Time'>"
      ]
     },
     "execution_count": 47,
     "metadata": {},
     "output_type": "execute_result"
    },
    {
     "data": {
      "image/png": "[encoded data removed]",
      "text/plain": [
       "<Figure size 640x480 with 1 Axes>"
      ]
     },
     "metadata": {},
     "output_type": "display_data"
    }
   ],
   "source": [
    "data.iloc[10:,:].plot(x='Time', y='Total Energy')\n"
   ]
  },
  {
   "cell_type": "code",
   "execution_count": 24,
   "metadata": {
    "collapsed": true,
    "jupyter": {
     "outputs_hidden": true
    }
   },
   "outputs": [
    {
     "data": {
      "text/plain": [
       "<Axes: xlabel='Time'>"
      ]
     },
     "execution_count": 24,
     "metadata": {},
     "output_type": "execute_result"
    },
    {
     "data": {
      "image/png": "[encoded data removed]",
      "text/plain": [
       "<Figure size 640x480 with 1 Axes>"
      ]
     },
     "metadata": {},
     "output_type": "display_data"
    }
   ],
   "source": [
    "data.iloc[10:,:].plot(x='Time', y='Potential')\n"
   ]
  },
  {
   "cell_type": "code",
   "execution_count": 22,
   "metadata": {
    "collapsed": true,
    "jupyter": {
     "outputs_hidden": true
    }
   },
   "outputs": [
    {
     "data": {
      "text/plain": [
       "Index(['Time', 'Bond', 'U-B', 'Proper Dih.', 'Improper Dih.', 'CMAP Dih.',\n",
       "       'LJ-14', 'Coulomb-14', 'LJ (SR)', 'Disper. corr.', 'Coulomb (SR)',\n",
       "       'Coul. recip.', 'Position Rest.', 'Potential', 'Kinetic En.',\n",
       "       'Total Energy', 'Conserved En.', 'Temperature', 'Pres. DC', 'Pressure',\n",
       "       'Constr. rmsd', 'Box-X', 'Box-Y', 'Box-Z', 'Volume', 'Density', 'pV',\n",
       "       'Enthalpy', 'Vir-XX', 'Vir-XY', 'Vir-XZ', 'Vir-YX', 'Vir-YY', 'Vir-YZ',\n",
       "       'Vir-ZX', 'Vir-ZY', 'Vir-ZZ', 'Pres-XX', 'Pres-XY', 'Pres-XZ',\n",
       "       'Pres-YX', 'Pres-YY', 'Pres-YZ', 'Pres-ZX', 'Pres-ZY', 'Pres-ZZ',\n",
       "       '#Surf*SurfTen', 'T-System', 'Lamb-System'],\n",
       "      dtype='object')"
      ]
     },
     "execution_count": 22,
     "metadata": {},
     "output_type": "execute_result"
    }
   ],
   "source": [
    "data.columns"
   ]
  },
  {
   "cell_type": "code",
   "execution_count": 61,
   "metadata": {
    "collapsed": true,
    "jupyter": {
     "outputs_hidden": true
    }
   },
   "outputs": [],
   "source": [
    "# bootstrapping averages for convergence\n",
    "dd = data[\"Potential\"].to_numpy()\n",
    "length = dd.shape[0]\n",
    "num_points = 1000\n",
    "num_straps = 10000\n",
    "bootstraps = np.zeros(num_straps)\n",
    "\n",
    "for i in range(num_straps) : \n",
    "    av = 0\n",
    "    av2 = 0 \n",
    "    for j in range(num_points) : av = av + dd[np.random.randint(0,length)]\n",
    "    \n",
    "    bootstraps[i] = (av / num_points)\n",
    " \n"
   ]
  },
  {
   "cell_type": "code",
   "execution_count": 62,
   "metadata": {
    "collapsed": true,
    "jupyter": {
     "outputs_hidden": true
    }
   },
   "outputs": [
    {
     "data": {
      "text/plain": [
       "(-328378.99069004686, 365.82069318676866)"
      ]
     },
     "execution_count": 62,
     "metadata": {},
     "output_type": "execute_result"
    }
   ],
   "source": [
    "bootstraps.mean(), bootstraps.var()"
   ]
  },
  {
   "cell_type": "markdown",
   "metadata": {},
   "source": [
    "## state_b"
   ]
  },
  {
   "cell_type": "code",
   "execution_count": 69,
   "metadata": {
    "collapsed": true,
    "jupyter": {
     "outputs_hidden": true
    }
   },
   "outputs": [],
   "source": [
    "os.chdir(base)"
   ]
  },
  {
   "cell_type": "code",
   "execution_count": 65,
   "metadata": {
    "collapsed": true,
    "jupyter": {
     "outputs_hidden": true
    }
   },
   "outputs": [],
   "source": [
    "# create pdb psf files\n",
    "\n",
    "gen = PsfGen(output=\"/dev/null\")  # Suppress output since there's too much\n",
    "gen.read_topology('../data/raw/top_all27_prot_lipid_na.inp')\n",
    "gen.alias_atom(resname='ILE' , top_atomname='CD', pdb_atomname='CD1')\n",
    "gen.add_segment(segid=\"P\",\n",
    "                pdbfile=\"../data/raw/1187409s_pdb2.pdb\",\n",
    "                first='NTER',\n",
    "                last='CTER'\n",
    "                )\n",
    "gen.read_coords(segid=\"P\", filename=\"../data/raw/1187409s_pdb2.pdb\")\n",
    "gen.regenerate_resids()\n",
    "# pach disulfide bridges\n",
    "\n",
    "gen.patch(patchname=\"DISU\", targets=[(\"P\",\"5\"), (\"P\",\"55\")])\n",
    "gen.patch(patchname=\"DISU\", targets=[(\"P\",\"14\"), (\"P\",\"38\")])\n",
    "gen.patch(patchname=\"DISU\", targets=[(\"P\",\"30\"), (\"P\",\"51\")])\n",
    "gen.regenerate_angles()\n",
    "gen.regenerate_dihedrals()\n",
    "gen.guess_coords()\n",
    "# make folder\n",
    "os.makedirs('../data/interim/state_B', exist_ok=True)\n",
    "gen.write_pdb('../data/interim/state_B/5bpi_B.pdb')\n",
    "gen.write_psf('../data/interim/state_B/5bpi_B.psf')"
   ]
  },
  {
   "cell_type": "code",
   "execution_count": 70,
   "metadata": {
    "collapsed": true,
    "jupyter": {
     "outputs_hidden": true
    }
   },
   "outputs": [
    {
     "name": "stderr",
     "output_type": "stream",
     "text": [
      "               :-) GROMACS - gmx pdb2gmx, 2020.6-plumed-2.8.0 (-:\n",
      "\n",
      "                            GROMACS is written by:\n",
      "     Emile Apol      Rossen Apostolov      Paul Bauer     Herman J.C. Berendsen\n",
      "    Par Bjelkmar      Christian Blau   Viacheslav Bolnykh     Kevin Boyd    \n",
      " Aldert van Buuren   Rudi van Drunen     Anton Feenstra       Alan Gray     \n",
      "  Gerrit Groenhof     Anca Hamuraru    Vincent Hindriksen  M. Eric Irrgang  \n",
      "  Aleksei Iupinov   Christoph Junghans     Joe Jordan     Dimitrios Karkoulis\n",
      "    Peter Kasson        Jiri Kraus      Carsten Kutzner      Per Larsson    \n",
      "  Justin A. Lemkul    Viveca Lindahl    Magnus Lundborg     Erik Marklund   \n",
      "    Pascal Merz     Pieter Meulenhoff    Teemu Murtola       Szilard Pall   \n",
      "    Sander Pronk      Roland Schulz      Michael Shirts    Alexey Shvetsov  \n",
      "   Alfons Sijbers     Peter Tieleman      Jon Vincent      Teemu Virolainen \n",
      " Christian Wennberg    Maarten Wolf      Artem Zhmurov   \n",
      "                           and the project leaders:\n",
      "        Mark Abraham, Berk Hess, Erik Lindahl, and David van der Spoel\n",
      "\n",
      "Copyright (c) 1991-2000, University of Groningen, The Netherlands.\n",
      "Copyright (c) 2001-2019, The GROMACS development team at\n",
      "Uppsala University, Stockholm University and\n",
      "the Royal Institute of Technology, Sweden.\n",
      "check out http://www.gromacs.org for more information.\n",
      "\n",
      "GROMACS is free software; you can redistribute it and/or modify it\n",
      "under the terms of the GNU Lesser General Public License\n",
      "as published by the Free Software Foundation; either version 2.1\n",
      "of the License, or (at your option) any later version.\n",
      "\n",
      "GROMACS:      gmx pdb2gmx, version 2020.6-plumed-2.8.0\n",
      "Executable:   /home/zadoki/miniconda3/envs/bpti/bin/gmx_mpi\n",
      "Data prefix:  /home/zadoki/miniconda3/envs/bpti\n",
      "Working dir:  /rg/mendels_prj/zadoki/bpti/data/interim/state_B/top\n",
      "Command line:\n",
      "  gmx_mpi pdb2gmx -ignh -posrefc 50 -f /rg/mendels_prj/zadoki/bpti/data/interim/state_B/5bpi_B.pdb -o protein_solvate.pdb -p system.top -i posres.itp -ff charmm27 -water tip4p\n",
      "\n",
      "Opening force field file /home/zadoki/miniconda3/envs/bpti/share/gromacs/top/charmm27.ff/aminoacids.r2b\n",
      "Opening force field file /home/zadoki/miniconda3/envs/bpti/share/gromacs/top/charmm27.ff/rna.r2b\n",
      "\n",
      "WARNING: there were 4 atoms with zero occupancy and 0 atoms with\n",
      "         occupancy unequal to one (out of 454 atoms). Check your pdb file.\n",
      "\n",
      "Opening force field file /home/zadoki/miniconda3/envs/bpti/share/gromacs/top/charmm27.ff/atomtypes.atp\n",
      "Opening force field file /home/zadoki/miniconda3/envs/bpti/share/gromacs/top/charmm27.ff/aminoacids.rtp\n",
      "Opening force field file /home/zadoki/miniconda3/envs/bpti/share/gromacs/top/charmm27.ff/dna.rtp\n",
      "Opening force field file /home/zadoki/miniconda3/envs/bpti/share/gromacs/top/charmm27.ff/lipids.rtp\n",
      "Opening force field file /home/zadoki/miniconda3/envs/bpti/share/gromacs/top/charmm27.ff/rna.rtp\n",
      "Opening force field file /home/zadoki/miniconda3/envs/bpti/share/gromacs/top/charmm27.ff/aminoacids.hdb\n",
      "Opening force field file /home/zadoki/miniconda3/envs/bpti/share/gromacs/top/charmm27.ff/dna.hdb\n",
      "Opening force field file /home/zadoki/miniconda3/envs/bpti/share/gromacs/top/charmm27.ff/lipids.hdb\n",
      "Opening force field file /home/zadoki/miniconda3/envs/bpti/share/gromacs/top/charmm27.ff/rna.hdb\n",
      "Opening force field file /home/zadoki/miniconda3/envs/bpti/share/gromacs/top/charmm27.ff/aminoacids.n.tdb\n",
      "Opening force field file /home/zadoki/miniconda3/envs/bpti/share/gromacs/top/charmm27.ff/dna.n.tdb\n",
      "Opening force field file /home/zadoki/miniconda3/envs/bpti/share/gromacs/top/charmm27.ff/rna.n.tdb\n",
      "Opening force field file /home/zadoki/miniconda3/envs/bpti/share/gromacs/top/charmm27.ff/aminoacids.c.tdb\n",
      "Opening force field file /home/zadoki/miniconda3/envs/bpti/share/gromacs/top/charmm27.ff/dna.c.tdb\n",
      "Opening force field file /home/zadoki/miniconda3/envs/bpti/share/gromacs/top/charmm27.ff/rna.c.tdb\n",
      "\n",
      "Back Off! I just backed up system.top to ./#system.top.3#\n",
      "8 out of 8 lines of specbond.dat converted successfully\n",
      "Special Atom Distance matrix:\n",
      "                    CYS5   CYS14   CYS30   CYS38   CYS51   MET52\n",
      "                    SG41   SG108   SG240   SG300   SG406   SD413\n",
      "   CYS14   SG108   1.883\n",
      "   CYS30   SG240   0.836   1.756\n",
      "   CYS38   SG300   1.908   0.199   1.832\n",
      "   CYS51   SG406   0.760   1.595   0.203   1.659\n",
      "   MET52   SD413   0.951   2.208   0.456   2.285   0.633\n",
      "   CYS55   SG438   0.209   1.779   0.637   1.813   0.552   0.809\n",
      "Linking CYS-5 SG-41 and CYS-55 SG-438...\n",
      "Linking CYS-14 SG-108 and CYS-38 SG-300...\n",
      "Linking CYS-30 SG-240 and CYS-51 SG-406...\n",
      "Opening force field file /home/zadoki/miniconda3/envs/bpti/share/gromacs/top/charmm27.ff/aminoacids.arn\n",
      "Opening force field file /home/zadoki/miniconda3/envs/bpti/share/gromacs/top/charmm27.ff/dna.arn\n",
      "Opening force field file /home/zadoki/miniconda3/envs/bpti/share/gromacs/top/charmm27.ff/rna.arn\n",
      "Making bonds...\n",
      "Number of bonds was 906, now 906\n",
      "Generating angles, dihedrals and pairs...\n",
      "Before cleaning: 2371 pairs\n",
      "Before cleaning: 2391 dihedrals\n",
      "Keeping all generated dihedrals\n",
      "Making cmap torsions...\n",
      "There are   56 cmap torsion pairs\n",
      "There are 2391 dihedrals,  141 impropers, 1626 angles\n",
      "          2347 pairs,      906 bonds and     0 virtual sites\n",
      "Total mass 6517.558 a.m.u.\n",
      "Total charge 6.000 e\n",
      "Writing topology\n",
      "\n",
      "Back Off! I just backed up posres.itp to ./#posres.itp.1#\n",
      "\n",
      "Writing coordinate file...\n",
      "\n",
      "Back Off! I just backed up protein_solvate.pdb to ./#protein_solvate.pdb.1#\n",
      "\n",
      "GROMACS reminds you: \"Yeah, a Wuzz, Or a Jerk\" (F. Black)\n",
      "\n",
      "[dgx-master.technion.ac.il:3743051] PMIX ERROR: NO-PERMISSIONS in file dstore_base.c at line 237\n",
      "[dgx-master.technion.ac.il:3743051] PMIX ERROR: NO-PERMISSIONS in file dstore_base.c at line 246\n"
     ]
    },
    {
     "name": "stdout",
     "output_type": "stream",
     "text": [
      "\n",
      "Using the Charmm27 force field in directory charmm27.ff\n",
      "\n",
      "going to rename charmm27.ff/aminoacids.r2b\n",
      "going to rename charmm27.ff/rna.r2b\n",
      "Reading /rg/mendels_prj/zadoki/bpti/data/interim/state_B/5bpi_B.pdb...\n",
      "Read '', 454 atoms\n",
      "Analyzing pdb file\n",
      "Splitting chemical chains based on TER records or chain id changing.\n",
      "There are 1 chains and 0 blocks of water and 58 residues with 454 atoms\n",
      "\n",
      "  chain  #res #atoms\n",
      "  1 'A'    58    454  \n",
      "\n",
      "Reading residue database... (Charmm27)\n",
      "Processing chain 1 'A' (454 atoms, 58 residues)\n",
      "Identified residue ARG1 as a starting terminus.\n",
      "Identified residue ALA58 as a ending terminus.\n",
      "Start terminus ARG-1: NH3+\n",
      "End terminus ALA-58: COO-\n",
      "Checking for duplicate atoms....\n",
      "Generating any missing hydrogen atoms and/or adding termini.\n",
      "Now there are 58 residues with 892 atoms\n",
      "\t\t--------- PLEASE NOTE ------------\n",
      "You have successfully generated a topology from: /rg/mendels_prj/zadoki/bpti/data/interim/state_B/5bpi_B.pdb.\n",
      "The Charmm27 force field and the tip4p water model are used.\n",
      "\t\t--------- ETON ESAELP ------------\n"
     ]
    },
    {
     "name": "stderr",
     "output_type": "stream",
     "text": [
      "              :-) GROMACS - gmx editconf, 2020.6-plumed-2.8.0 (-:\n",
      "\n",
      "                            GROMACS is written by:\n",
      "     Emile Apol      Rossen Apostolov      Paul Bauer     Herman J.C. Berendsen\n",
      "    Par Bjelkmar      Christian Blau   Viacheslav Bolnykh     Kevin Boyd    \n",
      " Aldert van Buuren   Rudi van Drunen     Anton Feenstra       Alan Gray     \n",
      "  Gerrit Groenhof     Anca Hamuraru    Vincent Hindriksen  M. Eric Irrgang  \n",
      "  Aleksei Iupinov   Christoph Junghans     Joe Jordan     Dimitrios Karkoulis\n",
      "    Peter Kasson        Jiri Kraus      Carsten Kutzner      Per Larsson    \n",
      "  Justin A. Lemkul    Viveca Lindahl    Magnus Lundborg     Erik Marklund   \n",
      "    Pascal Merz     Pieter Meulenhoff    Teemu Murtola       Szilard Pall   \n",
      "    Sander Pronk      Roland Schulz      Michael Shirts    Alexey Shvetsov  \n",
      "   Alfons Sijbers     Peter Tieleman      Jon Vincent      Teemu Virolainen \n",
      " Christian Wennberg    Maarten Wolf      Artem Zhmurov   \n",
      "                           and the project leaders:\n",
      "        Mark Abraham, Berk Hess, Erik Lindahl, and David van der Spoel\n",
      "\n",
      "Copyright (c) 1991-2000, University of Groningen, The Netherlands.\n",
      "Copyright (c) 2001-2019, The GROMACS development team at\n",
      "Uppsala University, Stockholm University and\n",
      "the Royal Institute of Technology, Sweden.\n",
      "check out http://www.gromacs.org for more information.\n",
      "\n",
      "GROMACS is free software; you can redistribute it and/or modify it\n",
      "under the terms of the GNU Lesser General Public License\n",
      "as published by the Free Software Foundation; either version 2.1\n",
      "of the License, or (at your option) any later version.\n",
      "\n",
      "GROMACS:      gmx editconf, version 2020.6-plumed-2.8.0\n",
      "Executable:   /home/zadoki/miniconda3/envs/bpti/bin/gmx_mpi\n",
      "Data prefix:  /home/zadoki/miniconda3/envs/bpti\n",
      "Working dir:  /rg/mendels_prj/zadoki/bpti/data/interim/state_B/solvate\n",
      "Command line:\n",
      "  gmx_mpi editconf -f /rg/mendels_prj/zadoki/bpti/data/interim/state_B/top/protein_solvate.pdb -o boxed.gro -bt cubic -d 1.0\n",
      "\n",
      "\n",
      "Back Off! I just backed up boxed.gro to ./#boxed.gro.1#\n",
      "\n",
      "GROMACS reminds you: \"Everything Must Go\" (Red Hot Chili Peppers)\n",
      "\n",
      "[dgx-master.technion.ac.il:3743246] PMIX ERROR: NO-PERMISSIONS in file dstore_base.c at line 237\n",
      "[dgx-master.technion.ac.il:3743246] PMIX ERROR: NO-PERMISSIONS in file dstore_base.c at line 246\n"
     ]
    },
    {
     "name": "stdout",
     "output_type": "stream",
     "text": [
      "Note that major changes are planned in future for editconf, to improve usability and utility.\n",
      "Read 892 atoms\n",
      "No velocities found\n",
      "    system size :  2.791  3.751  2.703 (nm)\n",
      "    diameter    :  3.946               (nm)\n",
      "    center      :  0.016 -0.006 -0.007 (nm)\n",
      "    box vectors :  0.000  0.000  0.000 (nm)\n",
      "    box angles  :   0.00   0.00   0.00 (degrees)\n",
      "    box volume  :   0.00               (nm^3)\n",
      "    shift       :  2.957  2.979  2.980 (nm)\n",
      "new center      :  2.973  2.973  2.973 (nm)\n",
      "new box vectors :  5.946  5.946  5.946 (nm)\n",
      "new box angles  :  90.00  90.00  90.00 (degrees)\n",
      "new box volume  : 210.21               (nm^3)\n"
     ]
    },
    {
     "name": "stderr",
     "output_type": "stream",
     "text": [
      "               :-) GROMACS - gmx solvate, 2020.6-plumed-2.8.0 (-:\n",
      "\n",
      "                            GROMACS is written by:\n",
      "     Emile Apol      Rossen Apostolov      Paul Bauer     Herman J.C. Berendsen\n",
      "    Par Bjelkmar      Christian Blau   Viacheslav Bolnykh     Kevin Boyd    \n",
      " Aldert van Buuren   Rudi van Drunen     Anton Feenstra       Alan Gray     \n",
      "  Gerrit Groenhof     Anca Hamuraru    Vincent Hindriksen  M. Eric Irrgang  \n",
      "  Aleksei Iupinov   Christoph Junghans     Joe Jordan     Dimitrios Karkoulis\n",
      "    Peter Kasson        Jiri Kraus      Carsten Kutzner      Per Larsson    \n",
      "  Justin A. Lemkul    Viveca Lindahl    Magnus Lundborg     Erik Marklund   \n",
      "    Pascal Merz     Pieter Meulenhoff    Teemu Murtola       Szilard Pall   \n",
      "    Sander Pronk      Roland Schulz      Michael Shirts    Alexey Shvetsov  \n",
      "   Alfons Sijbers     Peter Tieleman      Jon Vincent      Teemu Virolainen \n",
      " Christian Wennberg    Maarten Wolf      Artem Zhmurov   \n",
      "                           and the project leaders:\n",
      "        Mark Abraham, Berk Hess, Erik Lindahl, and David van der Spoel\n",
      "\n",
      "Copyright (c) 1991-2000, University of Groningen, The Netherlands.\n",
      "Copyright (c) 2001-2019, The GROMACS development team at\n",
      "Uppsala University, Stockholm University and\n",
      "the Royal Institute of Technology, Sweden.\n",
      "check out http://www.gromacs.org for more information.\n",
      "\n",
      "GROMACS is free software; you can redistribute it and/or modify it\n",
      "under the terms of the GNU Lesser General Public License\n",
      "as published by the Free Software Foundation; either version 2.1\n",
      "of the License, or (at your option) any later version.\n",
      "\n",
      "GROMACS:      gmx solvate, version 2020.6-plumed-2.8.0\n",
      "Executable:   /home/zadoki/miniconda3/envs/bpti/bin/gmx_mpi\n",
      "Data prefix:  /home/zadoki/miniconda3/envs/bpti\n",
      "Working dir:  /rg/mendels_prj/zadoki/bpti/data/interim/state_B/solvate\n",
      "Command line:\n",
      "  gmx_mpi solvate -p /rg/mendels_prj/zadoki/bpti/data/interim/state_B/top/system.top -cp boxed.gro -cs tip4p -o solvated.gro\n",
      "\n",
      "Reading solute configuration\n",
      "Reading solvent configuration\n",
      "\n",
      "Initialising inter-atomic distances...\n",
      "Generating solvent configuration\n",
      "Will generate new solvent configuration of 4x4x4 boxes\n",
      "Solvent box contains 32224 atoms in 8056 residues\n",
      "Removed 3936 solvent atoms due to solvent-solvent overlap\n",
      "Removed 1220 solvent atoms due to solute-solvent overlap\n",
      "Sorting configuration\n",
      "Found 1 molecule type:\n",
      "    SOL (   4 atoms):  6767 residues\n",
      "Generated solvent containing 27068 atoms in 6767 residues\n",
      "Writing generated configuration to solvated.gro\n",
      "\n",
      "Back Off! I just backed up solvated.gro to ./#solvated.gro.1#\n",
      "\n",
      "Output configuration contains 27960 atoms in 6825 residues\n"
     ]
    },
    {
     "name": "stdout",
     "output_type": "stream",
     "text": [
      "\n",
      "WARNING: Masses and atomic (Van der Waals) radii will be guessed\n",
      "         based on residue and atom names, since they could not be\n",
      "         definitively assigned from the information in your input\n",
      "         files. These guessed numbers might deviate from the mass\n",
      "         and radius of the atom type. Please check the output\n",
      "         files if necessary.\n",
      "\n",
      "NOTE: From version 5.0 gmx solvate uses the Van der Waals radii\n",
      "from the source below. This means the results may be different\n",
      "compared to previous GROMACS versions.\n",
      "\n",
      "++++ PLEASE READ AND CITE THE FOLLOWING REFERENCE ++++\n",
      "A. Bondi\n",
      "van der Waals Volumes and Radii\n",
      "J. Phys. Chem. 68 (1964) pp. 441-451\n",
      "-------- -------- --- Thank You --- -------- --------\n",
      "\n"
     ]
    },
    {
     "name": "stderr",
     "output_type": "stream",
     "text": [
      "Volume                 :     210.205 (nm^3)\n",
      "Density                :     1017.97 (g/l)\n",
      "Number of solvent molecules:   6767   \n",
      "\n",
      "Processing topology\n",
      "\n",
      "Back Off! I just backed up /rg/mendels_prj/zadoki/bpti/data/interim/state_B/top/system.top to /rg/mendels_prj/zadoki/bpti/data/interim/state_B/top/#system.top.4#\n",
      "\n",
      "GROMACS reminds you: \"Everything Must Go\" (Red Hot Chili Peppers)\n",
      "\n",
      "[dgx-master.technion.ac.il:3743341] PMIX ERROR: NO-PERMISSIONS in file dstore_base.c at line 237\n",
      "[dgx-master.technion.ac.il:3743341] PMIX ERROR: NO-PERMISSIONS in file dstore_base.c at line 246\n"
     ]
    },
    {
     "name": "stdout",
     "output_type": "stream",
     "text": [
      "Adding line for 6767 solvent molecules with resname (SOL) to topology file (/rg/mendels_prj/zadoki/bpti/data/interim/state_B/top/system.top)\n"
     ]
    },
    {
     "name": "stderr",
     "output_type": "stream",
     "text": [
      "               :-) GROMACS - gmx genion, 2020.6-plumed-2.8.0 (-:\n",
      "\n",
      "                            GROMACS is written by:\n",
      "     Emile Apol      Rossen Apostolov      Paul Bauer     Herman J.C. Berendsen\n",
      "    Par Bjelkmar      Christian Blau   Viacheslav Bolnykh     Kevin Boyd    \n",
      " Aldert van Buuren   Rudi van Drunen     Anton Feenstra       Alan Gray     \n",
      "  Gerrit Groenhof     Anca Hamuraru    Vincent Hindriksen  M. Eric Irrgang  \n",
      "  Aleksei Iupinov   Christoph Junghans     Joe Jordan     Dimitrios Karkoulis\n",
      "    Peter Kasson        Jiri Kraus      Carsten Kutzner      Per Larsson    \n",
      "  Justin A. Lemkul    Viveca Lindahl    Magnus Lundborg     Erik Marklund   \n",
      "    Pascal Merz     Pieter Meulenhoff    Teemu Murtola       Szilard Pall   \n",
      "    Sander Pronk      Roland Schulz      Michael Shirts    Alexey Shvetsov  \n",
      "   Alfons Sijbers     Peter Tieleman      Jon Vincent      Teemu Virolainen \n",
      " Christian Wennberg    Maarten Wolf      Artem Zhmurov   \n",
      "                           and the project leaders:\n",
      "        Mark Abraham, Berk Hess, Erik Lindahl, and David van der Spoel\n",
      "\n",
      "Copyright (c) 1991-2000, University of Groningen, The Netherlands.\n",
      "Copyright (c) 2001-2019, The GROMACS development team at\n",
      "Uppsala University, Stockholm University and\n",
      "the Royal Institute of Technology, Sweden.\n",
      "check out http://www.gromacs.org for more information.\n",
      "\n",
      "GROMACS is free software; you can redistribute it and/or modify it\n",
      "under the terms of the GNU Lesser General Public License\n",
      "as published by the Free Software Foundation; either version 2.1\n",
      "of the License, or (at your option) any later version.\n",
      "\n",
      "GROMACS:      gmx genion, version 2020.6-plumed-2.8.0\n",
      "Executable:   /home/zadoki/miniconda3/envs/bpti/bin/gmx_mpi\n",
      "Data prefix:  /home/zadoki/miniconda3/envs/bpti\n",
      "Working dir:  /rg/mendels_prj/zadoki/bpti/data/interim/state_B/solvate\n",
      "Command line:\n",
      "  gmx_mpi genion -s topol.tpr -o ionized.gro -p /rg/mendels_prj/zadoki/bpti/data/interim/state_B/top/system.top -pname NA -nname CL -np 0 -nn 6\n",
      "\n",
      "Reading file topol.tpr, VERSION 2020.6-plumed-2.8.0 (single precision)\n",
      "Reading file topol.tpr, VERSION 2020.6-plumed-2.8.0 (single precision)\n",
      "Group     0 (         System) has 27960 elements\n",
      "Group     1 (        Protein) has   892 elements\n",
      "Group     2 (      Protein-H) has   454 elements\n",
      "Group     3 (        C-alpha) has    58 elements\n",
      "Group     4 (       Backbone) has   174 elements\n",
      "Group     5 (      MainChain) has   231 elements\n",
      "Group     6 (   MainChain+Cb) has   283 elements\n",
      "Group     7 (    MainChain+H) has   287 elements\n",
      "Group     8 (      SideChain) has   605 elements\n",
      "Group     9 (    SideChain-H) has   223 elements\n",
      "Group    10 (    Prot-Masses) has   892 elements\n",
      "Group    11 (    non-Protein) has 27068 elements\n",
      "Group    12 (          Water) has 27068 elements\n",
      "Group    13 (            SOL) has 27068 elements\n",
      "Group    14 (      non-Water) has   892 elements\n",
      "Select a group: Number of (4-atomic) solvent molecules: 6767\n",
      "\n",
      "Back Off! I just backed up /rg/mendels_prj/zadoki/bpti/data/interim/state_B/top/system.top to /rg/mendels_prj/zadoki/bpti/data/interim/state_B/top/#system.top.5#\n",
      "Using random seed 1538682815.\n",
      "Replacing solvent molecule 891 (atom 4456) with CL\n",
      "Replacing solvent molecule 3935 (atom 16632) with CL\n",
      "Replacing solvent molecule 5770 (atom 23972) with CL\n",
      "Replacing solvent molecule 4215 (atom 17752) with CL\n",
      "Replacing solvent molecule 6030 (atom 25012) with CL\n",
      "Replacing solvent molecule 2988 (atom 12844) with CL\n",
      "\n",
      "\n",
      "Back Off! I just backed up ionized.gro to ./#ionized.gro.1#\n",
      "\n",
      "GROMACS reminds you: \"Youth is wasted on the young\" (The Smashing Pumpkins)\n",
      "\n",
      "[dgx-master.technion.ac.il:3743686] PMIX ERROR: NO-PERMISSIONS in file dstore_base.c at line 237\n",
      "[dgx-master.technion.ac.il:3743686] PMIX ERROR: NO-PERMISSIONS in file dstore_base.c at line 246\n"
     ]
    },
    {
     "name": "stdout",
     "output_type": "stream",
     "text": [
      "Will try to add 0 NA ions and 6 CL ions.\n",
      "Select a continuous group of solvent molecules\n",
      "Selected 13: 'SOL'\n",
      "\n",
      "Processing topology\n",
      "Replacing 6 solute molecules in topology file (/rg/mendels_prj/zadoki/bpti/data/interim/state_B/top/system.top)  by 0 NA and 6 CL ions.\n"
     ]
    },
    {
     "name": "stderr",
     "output_type": "stream",
     "text": [
      "              :-) GROMACS - gmx make_ndx, 2020.6-plumed-2.8.0 (-:\n",
      "\n",
      "                            GROMACS is written by:\n",
      "     Emile Apol      Rossen Apostolov      Paul Bauer     Herman J.C. Berendsen\n",
      "    Par Bjelkmar      Christian Blau   Viacheslav Bolnykh     Kevin Boyd    \n",
      " Aldert van Buuren   Rudi van Drunen     Anton Feenstra       Alan Gray     \n",
      "  Gerrit Groenhof     Anca Hamuraru    Vincent Hindriksen  M. Eric Irrgang  \n",
      "  Aleksei Iupinov   Christoph Junghans     Joe Jordan     Dimitrios Karkoulis\n",
      "    Peter Kasson        Jiri Kraus      Carsten Kutzner      Per Larsson    \n",
      "  Justin A. Lemkul    Viveca Lindahl    Magnus Lundborg     Erik Marklund   \n",
      "    Pascal Merz     Pieter Meulenhoff    Teemu Murtola       Szilard Pall   \n",
      "    Sander Pronk      Roland Schulz      Michael Shirts    Alexey Shvetsov  \n",
      "   Alfons Sijbers     Peter Tieleman      Jon Vincent      Teemu Virolainen \n",
      " Christian Wennberg    Maarten Wolf      Artem Zhmurov   \n",
      "                           and the project leaders:\n",
      "        Mark Abraham, Berk Hess, Erik Lindahl, and David van der Spoel\n",
      "\n",
      "Copyright (c) 1991-2000, University of Groningen, The Netherlands.\n",
      "Copyright (c) 2001-2019, The GROMACS development team at\n",
      "Uppsala University, Stockholm University and\n",
      "the Royal Institute of Technology, Sweden.\n",
      "check out http://www.gromacs.org for more information.\n",
      "\n",
      "GROMACS is free software; you can redistribute it and/or modify it\n",
      "under the terms of the GNU Lesser General Public License\n",
      "as published by the Free Software Foundation; either version 2.1\n",
      "of the License, or (at your option) any later version.\n",
      "\n",
      "GROMACS:      gmx make_ndx, version 2020.6-plumed-2.8.0\n",
      "Executable:   /home/zadoki/miniconda3/envs/bpti/bin/gmx_mpi\n",
      "Data prefix:  /home/zadoki/miniconda3/envs/bpti\n",
      "Working dir:  /rg/mendels_prj/zadoki/bpti/data/interim/state_B/solvate\n",
      "Command line:\n",
      "  gmx_mpi make_ndx -f ionized.tpr -o main.ndx\n",
      "\n",
      "\n",
      "Reading structure file\n",
      "Reading file ionized.tpr, VERSION 2020.6-plumed-2.8.0 (single precision)\n",
      "Reading file ionized.tpr, VERSION 2020.6-plumed-2.8.0 (single precision)\n",
      "\n",
      "Back Off! I just backed up main.ndx to ./#main.ndx.2#\n",
      "\n",
      "GROMACS reminds you: \"Raw data is like raw sewage, it requires some processing before it can be spread around. The opposite is true of theories.\" (Jim Carr)\n",
      "\n",
      "[dgx-master.technion.ac.il:3743946] PMIX ERROR: NO-PERMISSIONS in file dstore_base.c at line 237\n",
      "[dgx-master.technion.ac.il:3743946] PMIX ERROR: NO-PERMISSIONS in file dstore_base.c at line 246\n",
      "              :-) GROMACS - gmx make_ndx, 2020.6-plumed-2.8.0 (-:\n",
      "\n",
      "                            GROMACS is written by:\n",
      "     Emile Apol      Rossen Apostolov      Paul Bauer     Herman J.C. Berendsen\n",
      "    Par Bjelkmar      Christian Blau   Viacheslav Bolnykh     Kevin Boyd    \n",
      " Aldert van Buuren   Rudi van Drunen     Anton Feenstra       Alan Gray     \n",
      "  Gerrit Groenhof     Anca Hamuraru    Vincent Hindriksen  M. Eric Irrgang  \n",
      "  Aleksei Iupinov   Christoph Junghans     Joe Jordan     Dimitrios Karkoulis\n",
      "    Peter Kasson        Jiri Kraus      Carsten Kutzner      Per Larsson    \n",
      "  Justin A. Lemkul    Viveca Lindahl    Magnus Lundborg     Erik Marklund   \n",
      "    Pascal Merz     Pieter Meulenhoff    Teemu Murtola       Szilard Pall   \n",
      "    Sander Pronk      Roland Schulz      Michael Shirts    Alexey Shvetsov  \n",
      "   Alfons Sijbers     Peter Tieleman      Jon Vincent      Teemu Virolainen \n",
      " Christian Wennberg    Maarten Wolf      Artem Zhmurov   \n",
      "                           and the project leaders:\n",
      "        Mark Abraham, Berk Hess, Erik Lindahl, and David van der Spoel\n",
      "\n",
      "Copyright (c) 1991-2000, University of Groningen, The Netherlands.\n",
      "Copyright (c) 2001-2019, The GROMACS development team at\n",
      "Uppsala University, Stockholm University and\n",
      "the Royal Institute of Technology, Sweden.\n",
      "check out http://www.gromacs.org for more information.\n",
      "\n",
      "GROMACS is free software; you can redistribute it and/or modify it\n",
      "under the terms of the GNU Lesser General Public License\n",
      "as published by the Free Software Foundation; either version 2.1\n",
      "of the License, or (at your option) any later version.\n",
      "\n",
      "GROMACS:      gmx make_ndx, version 2020.6-plumed-2.8.0\n",
      "Executable:   /home/zadoki/miniconda3/envs/bpti/bin/gmx_mpi\n",
      "Data prefix:  /home/zadoki/miniconda3/envs/bpti\n",
      "Working dir:  /rg/mendels_prj/zadoki/bpti/data/interim/state_B/solvate\n",
      "Command line:\n",
      "  gmx_mpi make_ndx -f ionized.tpr -n main.ndx -o main.ndx\n",
      "\n",
      "\n",
      "Reading structure file\n",
      "Reading file ionized.tpr, VERSION 2020.6-plumed-2.8.0 (single precision)\n",
      "Reading file ionized.tpr, VERSION 2020.6-plumed-2.8.0 (single precision)\n",
      "\n",
      "Back Off! I just backed up main.ndx to ./#main.ndx.3#\n",
      "\n",
      "GROMACS reminds you: \"Raw data is like raw sewage, it requires some processing before it can be spread around. The opposite is true of theories.\" (Jim Carr)\n",
      "\n",
      "[dgx-master.technion.ac.il:3744073] PMIX ERROR: NO-PERMISSIONS in file dstore_base.c at line 237\n",
      "[dgx-master.technion.ac.il:3744073] PMIX ERROR: NO-PERMISSIONS in file dstore_base.c at line 246\n",
      "               :-) GROMACS - gmx trjconv, 2020.6-plumed-2.8.0 (-:\n",
      "\n",
      "                            GROMACS is written by:\n",
      "     Emile Apol      Rossen Apostolov      Paul Bauer     Herman J.C. Berendsen\n",
      "    Par Bjelkmar      Christian Blau   Viacheslav Bolnykh     Kevin Boyd    \n",
      " Aldert van Buuren   Rudi van Drunen     Anton Feenstra       Alan Gray     \n",
      "  Gerrit Groenhof     Anca Hamuraru    Vincent Hindriksen  M. Eric Irrgang  \n",
      "  Aleksei Iupinov   Christoph Junghans     Joe Jordan     Dimitrios Karkoulis\n",
      "    Peter Kasson        Jiri Kraus      Carsten Kutzner      Per Larsson    \n",
      "  Justin A. Lemkul    Viveca Lindahl    Magnus Lundborg     Erik Marklund   \n",
      "    Pascal Merz     Pieter Meulenhoff    Teemu Murtola       Szilard Pall   \n",
      "    Sander Pronk      Roland Schulz      Michael Shirts    Alexey Shvetsov  \n",
      "   Alfons Sijbers     Peter Tieleman      Jon Vincent      Teemu Virolainen \n",
      " Christian Wennberg    Maarten Wolf      Artem Zhmurov   \n",
      "                           and the project leaders:\n",
      "        Mark Abraham, Berk Hess, Erik Lindahl, and David van der Spoel\n",
      "\n",
      "Copyright (c) 1991-2000, University of Groningen, The Netherlands.\n",
      "Copyright (c) 2001-2019, The GROMACS development team at\n",
      "Uppsala University, Stockholm University and\n",
      "the Royal Institute of Technology, Sweden.\n",
      "check out http://www.gromacs.org for more information.\n",
      "\n",
      "GROMACS is free software; you can redistribute it and/or modify it\n",
      "under the terms of the GNU Lesser General Public License\n",
      "as published by the Free Software Foundation; either version 2.1\n",
      "of the License, or (at your option) any later version.\n",
      "\n",
      "GROMACS:      gmx trjconv, version 2020.6-plumed-2.8.0\n",
      "Executable:   /home/zadoki/miniconda3/envs/bpti/bin/gmx_mpi\n",
      "Data prefix:  /home/zadoki/miniconda3/envs/bpti\n",
      "Working dir:  /rg/mendels_prj/zadoki/bpti/data/interim/state_B/solvate\n",
      "Command line:\n",
      "  gmx_mpi trjconv -ur compact -center -boxcenter tric -pbc mol -f ionized.gro -s ionized.tpr -o compact.pdb -n main.ndx\n",
      "\n",
      "Will write pdb: Protein data bank file\n",
      "Reading file ionized.tpr, VERSION 2020.6-plumed-2.8.0 (single precision)\n",
      "Reading file ionized.tpr, VERSION 2020.6-plumed-2.8.0 (single precision)\n",
      "Group     0 (         System) has 27942 elements\n",
      "Group     1 (        Protein) has   892 elements\n",
      "Group     2 (      Protein-H) has   454 elements\n",
      "Group     3 (        C-alpha) has    58 elements\n",
      "Group     4 (       Backbone) has   174 elements\n",
      "Group     5 (      MainChain) has   231 elements\n",
      "Group     6 (   MainChain+Cb) has   283 elements\n",
      "Group     7 (    MainChain+H) has   287 elements\n",
      "Group     8 (      SideChain) has   605 elements\n",
      "Group     9 (    SideChain-H) has   223 elements\n",
      "Group    10 (    Prot-Masses) has   892 elements\n",
      "Group    11 (    non-Protein) has 27050 elements\n",
      "Group    12 (          Water) has 27044 elements\n",
      "Group    13 (            SOL) has 27044 elements\n",
      "Group    14 (      non-Water) has   898 elements\n",
      "Group    15 (            Ion) has     6 elements\n",
      "Group    16 (             CL) has     6 elements\n",
      "Group    17 ( Water_and_ions) has 27050 elements\n",
      "Group    18 (       __main__) has   892 elements\n",
      "Group    19 (__environment__) has 27050 elements\n",
      "Select a group: Group     0 (         System) has 27942 elements\n",
      "Group     1 (        Protein) has   892 elements\n",
      "Group     2 (      Protein-H) has   454 elements\n",
      "Group     3 (        C-alpha) has    58 elements\n",
      "Group     4 (       Backbone) has   174 elements\n",
      "Group     5 (      MainChain) has   231 elements\n",
      "Group     6 (   MainChain+Cb) has   283 elements\n",
      "Group     7 (    MainChain+H) has   287 elements\n",
      "Group     8 (      SideChain) has   605 elements\n",
      "Group     9 (    SideChain-H) has   223 elements\n",
      "Group    10 (    Prot-Masses) has   892 elements\n",
      "Group    11 (    non-Protein) has 27050 elements\n",
      "Group    12 (          Water) has 27044 elements\n",
      "Group    13 (            SOL) has 27044 elements\n",
      "Group    14 (      non-Water) has   898 elements\n",
      "Group    15 (            Ion) has     6 elements\n",
      "Group    16 (             CL) has     6 elements\n",
      "Group    17 ( Water_and_ions) has 27050 elements\n",
      "Group    18 (       __main__) has   892 elements\n",
      "Group    19 (__environment__) has 27050 elements\n",
      "Select a group: Reading frames from gro file 'Protein in water', 27942 atoms.\n",
      "Reading frame       0 time    0.000   \n",
      "Precision of ionized.gro is 0.001 (nm)\n",
      "\n",
      "Back Off! I just backed up compact.pdb to ./#compact.pdb.1#\n",
      "Last frame          0 time    0.000   \n",
      "\n",
      "\n",
      "GROMACS reminds you: \"Wild Pointers Couldn't Drag Me Away\" (K.A. Feenstra)\n",
      "\n",
      "[dgx-master.technion.ac.il:3744173] PMIX ERROR: NO-PERMISSIONS in file dstore_base.c at line 237\n",
      "[dgx-master.technion.ac.il:3744173] PMIX ERROR: NO-PERMISSIONS in file dstore_base.c at line 246\n"
     ]
    },
    {
     "name": "stdout",
     "output_type": "stream",
     "text": [
      "Note that major changes are planned in future for trjconv, to improve usability and utility.\n",
      "Select group for centering\n",
      "Selected 18: '__main__'\n",
      "Select group for output\n",
      "Selected 0: 'System'\n"
     ]
    },
    {
     "name": "stderr",
     "output_type": "stream",
     "text": [
      "               :-) GROMACS - gmx grompp, 2020.6-plumed-2.8.0 (-:\n",
      "\n",
      "                            GROMACS is written by:\n",
      "     Emile Apol      Rossen Apostolov      Paul Bauer     Herman J.C. Berendsen\n",
      "    Par Bjelkmar      Christian Blau   Viacheslav Bolnykh     Kevin Boyd    \n",
      " Aldert van Buuren   Rudi van Drunen     Anton Feenstra       Alan Gray     \n",
      "  Gerrit Groenhof     Anca Hamuraru    Vincent Hindriksen  M. Eric Irrgang  \n",
      "  Aleksei Iupinov   Christoph Junghans     Joe Jordan     Dimitrios Karkoulis\n",
      "    Peter Kasson        Jiri Kraus      Carsten Kutzner      Per Larsson    \n",
      "  Justin A. Lemkul    Viveca Lindahl    Magnus Lundborg     Erik Marklund   \n",
      "    Pascal Merz     Pieter Meulenhoff    Teemu Murtola       Szilard Pall   \n",
      "    Sander Pronk      Roland Schulz      Michael Shirts    Alexey Shvetsov  \n",
      "   Alfons Sijbers     Peter Tieleman      Jon Vincent      Teemu Virolainen \n",
      " Christian Wennberg    Maarten Wolf      Artem Zhmurov   \n",
      "                           and the project leaders:\n",
      "        Mark Abraham, Berk Hess, Erik Lindahl, and David van der Spoel\n",
      "\n",
      "Copyright (c) 1991-2000, University of Groningen, The Netherlands.\n",
      "Copyright (c) 2001-2019, The GROMACS development team at\n",
      "Uppsala University, Stockholm University and\n",
      "the Royal Institute of Technology, Sweden.\n",
      "check out http://www.gromacs.org for more information.\n",
      "\n",
      "GROMACS is free software; you can redistribute it and/or modify it\n",
      "under the terms of the GNU Lesser General Public License\n",
      "as published by the Free Software Foundation; either version 2.1\n",
      "of the License, or (at your option) any later version.\n",
      "\n",
      "GROMACS:      gmx grompp, version 2020.6-plumed-2.8.0\n",
      "Executable:   /home/zadoki/miniconda3/envs/bpti/bin/gmx_mpi\n",
      "Data prefix:  /home/zadoki/miniconda3/envs/bpti\n",
      "Working dir:  /rg/mendels_prj/zadoki/bpti/data/interim/state_B/em\n",
      "Command line:\n",
      "  gmx_mpi grompp -f em.mdp -o em.tpr -c /rg/mendels_prj/zadoki/bpti/data/interim/state_B/solvate/ionized.gro -r /rg/mendels_prj/zadoki/bpti/data/interim/state_B/solvate/ionized.gro -p /rg/mendels_prj/zadoki/bpti/data/interim/state_B/top/system.top -maxwarn 10 -pp processed.top\n",
      "\n",
      "Ignoring obsolete mdp entry 'cpp'\n",
      "Ignoring obsolete mdp entry 'optimize_fft'\n",
      "Ignoring obsolete mdp entry 'ns_type'\n",
      "\n",
      "NOTE 1 [file em.mdp]:\n",
      "  Replacing vdwtype=Shift by the equivalent combination of vdwtype=Cut-off\n",
      "  and vdw_modifier=Force-switch\n",
      "\n",
      "\n",
      "NOTE 2 [file em.mdp]:\n",
      "  nstcomm < nstcalcenergy defeats the purpose of nstcalcenergy, setting\n",
      "  nstcomm to nstcalcenergy\n",
      "\n",
      "Setting the LD random seed to -537926674\n",
      "\n",
      "Back Off! I just backed up processed.top to ./#processed.top.2#\n",
      "Generated 20503 of the 20503 non-bonded parameter combinations\n",
      "Generating 1-4 interactions: fudge = 1\n",
      "Generated 17396 of the 20503 1-4 parameter combinations\n",
      "Excluding 3 bonded neighbours molecule type 'Protein_chain_A'\n",
      "Excluding 2 bonded neighbours molecule type 'SOL'\n",
      "Excluding 1 bonded neighbours molecule type 'CL'\n",
      "Cleaning up constraints and constant bonded interactions with virtual sites\n",
      "Number of degrees of freedom in T-Coupling group rest is 63540.00\n",
      "Estimate for the relative computational load of the PME mesh part: 0.12\n",
      "\n",
      "There were 2 notes\n",
      "\n",
      "Back Off! I just backed up em.tpr to ./#em.tpr.2#\n",
      "\n",
      "GROMACS reminds you: \"Wild Pointers Couldn't Drag Me Away\" (K.A. Feenstra)\n",
      "\n"
     ]
    },
    {
     "name": "stdout",
     "output_type": "stream",
     "text": [
      "Analysing residue names:\n",
      "There are:    58    Protein residues\n",
      "There are:  6761      Water residues\n",
      "There are:     6        Ion residues\n",
      "Analysing Protein...\n",
      "Analysing residues not classified as Protein/DNA/RNA/Water and splitting into groups...\n",
      "Calculating fourier grid dimensions for X Y Z\n",
      "Using a fourier grid of 52x52x52, spacing 0.114 0.114 0.114\n",
      "This run will generate roughly 2 Mb of data\n"
     ]
    },
    {
     "name": "stderr",
     "output_type": "stream",
     "text": [
      "[dgx-master.technion.ac.il:3744318] PMIX ERROR: NO-PERMISSIONS in file dstore_base.c at line 237\n",
      "[dgx-master.technion.ac.il:3744318] PMIX ERROR: NO-PERMISSIONS in file dstore_base.c at line 246\n",
      "                :-) GROMACS - gmx mdrun, 2020.6-plumed-2.8.0 (-:\n",
      "\n",
      "                            GROMACS is written by:\n",
      "     Emile Apol      Rossen Apostolov      Paul Bauer     Herman J.C. Berendsen\n",
      "    Par Bjelkmar      Christian Blau   Viacheslav Bolnykh     Kevin Boyd    \n",
      " Aldert van Buuren   Rudi van Drunen     Anton Feenstra       Alan Gray     \n",
      "  Gerrit Groenhof     Anca Hamuraru    Vincent Hindriksen  M. Eric Irrgang  \n",
      "  Aleksei Iupinov   Christoph Junghans     Joe Jordan     Dimitrios Karkoulis\n",
      "    Peter Kasson        Jiri Kraus      Carsten Kutzner      Per Larsson    \n",
      "  Justin A. Lemkul    Viveca Lindahl    Magnus Lundborg     Erik Marklund   \n",
      "    Pascal Merz     Pieter Meulenhoff    Teemu Murtola       Szilard Pall   \n",
      "    Sander Pronk      Roland Schulz      Michael Shirts    Alexey Shvetsov  \n",
      "   Alfons Sijbers     Peter Tieleman      Jon Vincent      Teemu Virolainen \n",
      " Christian Wennberg    Maarten Wolf      Artem Zhmurov   \n",
      "                           and the project leaders:\n",
      "        Mark Abraham, Berk Hess, Erik Lindahl, and David van der Spoel\n",
      "\n",
      "Copyright (c) 1991-2000, University of Groningen, The Netherlands.\n",
      "Copyright (c) 2001-2019, The GROMACS development team at\n",
      "Uppsala University, Stockholm University and\n",
      "the Royal Institute of Technology, Sweden.\n",
      "check out http://www.gromacs.org for more information.\n",
      "\n",
      "GROMACS is free software; you can redistribute it and/or modify it\n",
      "under the terms of the GNU Lesser General Public License\n",
      "as published by the Free Software Foundation; either version 2.1\n",
      "of the License, or (at your option) any later version.\n",
      "\n",
      "GROMACS:      gmx mdrun, version 2020.6-plumed-2.8.0\n",
      "Executable:   /home/zadoki/miniconda3/envs/bpti/bin/gmx_mpi\n",
      "Data prefix:  /home/zadoki/miniconda3/envs/bpti\n",
      "Working dir:  /rg/mendels_prj/zadoki/bpti/data/interim/state_B/em\n",
      "Command line:\n",
      "  gmx_mpi mdrun -v -stepout 10 -deffnm em -c em.pdb\n",
      "\n",
      "\n",
      "Back Off! I just backed up em.log to ./#em.log.2#\n",
      "Compiled SIMD: SSE2, but for this host/run AVX_512 might be better (see log).\n",
      "The current CPU can measure timings more accurately than the code in\n",
      "gmx mdrun was configured to use. This might affect your simulation\n",
      "speed as accurate timings are needed for load-balancing.\n",
      "Please consider rebuilding gmx mdrun with the GMX_USE_RDTSCP=ON CMake option.\n",
      "Reading file em.tpr, VERSION 2020.6-plumed-2.8.0 (single precision)\n",
      "\n",
      "Using 1 MPI process\n",
      "Using 8 OpenMP threads \n",
      "\n",
      "\n",
      "Back Off! I just backed up em.trr to ./#em.trr.2#\n",
      "\n",
      "Back Off! I just backed up em.edr to ./#em.edr.2#\n",
      "\n",
      "Polak-Ribiere Conjugate Gradients:\n",
      "   Tolerance (Fmax)   =  5.00000e+02\n",
      "   Number of steps    =         1000\n",
      "   F-max             =  1.82861e+05 on atom 6913\n",
      "   F-Norm            =  6.01963e+03\n",
      "\n",
      "Step 0, Epot=-1.486885e+05, Fnorm=4.985e+03, Fmax=1.439e+05 (atom 15605)\n",
      "Step 1, Epot=-1.586990e+05, Fnorm=4.030e+03, Fmax=1.131e+05 (atom 15605)\n",
      "Step 2, Epot=-1.674872e+05, Fnorm=3.346e+03, Fmax=8.864e+04 (atom 15605)\n",
      "Step 3, Epot=-1.776635e+05, Fnorm=2.677e+03, Fmax=6.428e+04 (atom 15605)\n",
      "Step 4, Epot=-1.878327e+05, Fnorm=2.134e+03, Fmax=4.525e+04 (atom 15605)\n",
      "Step 5, Epot=-1.982460e+05, Fnorm=1.676e+03, Fmax=3.070e+04 (atom 15605)\n",
      "Step 6, Epot=-2.085091e+05, Fnorm=1.306e+03, Fmax=2.058e+04 (atom 15605)\n",
      "Step 7, Epot=-2.185429e+05, Fnorm=1.009e+03, Fmax=1.364e+04 (atom 15605)\n",
      "Step 8, Epot=-2.281513e+05, Fnorm=7.723e+02, Fmax=8.856e+03 (atom 15605)\n",
      "Step 9, Epot=-2.372293e+05, Fnorm=5.896e+02, Fmax=6.699e+03 (atom 27801)\n",
      "Step 10, Epot=-2.458877e+05, Fnorm=4.555e+02, Fmax=5.117e+03 (atom 27801)\n",
      "Step 11, Epot=-2.543889e+05, Fnorm=3.563e+02, Fmax=3.634e+03 (atom 27841)\n",
      "Step 12, Epot=-2.628686e+05, Fnorm=2.836e+02, Fmax=2.415e+03 (atom 27841)\n",
      "Step 13, Epot=-2.716236e+05, Fnorm=2.442e+02, Fmax=1.713e+03 (atom 13233)\n",
      "Step 14, Epot=-2.745036e+05, Fnorm=8.024e+02, Fmax=1.407e+04 (atom 13377)\n",
      "Step 15, Epot=-2.826423e+05, Fnorm=1.858e+02, Fmax=1.766e+03 (atom 610)\n",
      "Step 16, Epot=-2.849158e+05, Fnorm=2.372e+02, Fmax=4.578e+03 (atom 548)\n",
      "Step 17, Epot=-2.909258e+05, Fnorm=4.283e+02, Fmax=1.514e+04 (atom 548)\n",
      "Step 18, Epot=-2.961777e+05, Fnorm=4.124e+02, Fmax=9.797e+03 (atom 548)\n",
      "Step 19, Epot=-2.986500e+05, Fnorm=1.381e+02, Fmax=3.712e+03 (atom 548)\n",
      "Step 20, Epot=-2.995418e+05, Fnorm=2.184e+02, Fmax=5.976e+03 (atom 548)\n",
      "Step 21, Epot=-3.053912e+05, Fnorm=1.897e+02, Fmax=5.289e+03 (atom 610)\n",
      "Step 22, Epot=-3.065883e+05, Fnorm=1.834e+02, Fmax=5.724e+03 (atom 610)\n",
      "Step 23, Epot=-3.086736e+05, Fnorm=4.809e+02, Fmax=9.958e+03 (atom 610)\n",
      "Step 24, Epot=-3.132612e+05, Fnorm=3.172e+02, Fmax=1.251e+04 (atom 548)\n",
      "Step 25, Epot=-3.145545e+05, Fnorm=2.925e+02, Fmax=1.378e+04 (atom 548)\n",
      "Step 26, Epot=-3.146453e+05, Fnorm=2.995e+02, Fmax=1.122e+04 (atom 548)\n",
      "Step 27, Epot=-3.158122e+05, Fnorm=9.927e+01, Fmax=1.826e+03 (atom 739)\n",
      "Step 28, Epot=-3.160222e+05, Fnorm=8.079e+01, Fmax=2.530e+03 (atom 548)\n",
      "Step 29, Epot=-3.162614e+05, Fnorm=8.451e+01, Fmax=4.017e+03 (atom 548)\n",
      "Step 30, Epot=-3.168288e+05, Fnorm=9.316e+01, Fmax=6.051e+03 (atom 548)\n",
      "Step 31, Epot=-3.178770e+05, Fnorm=1.980e+02, Fmax=1.668e+04 (atom 548)\n",
      "Step 32, Epot=-3.183391e+05, Fnorm=9.167e+01, Fmax=5.654e+03 (atom 548)\n",
      "Step 33, Epot=-3.188598e+05, Fnorm=1.329e+02, Fmax=8.499e+03 (atom 548)\n",
      "Step 34, Epot=-3.191855e+05, Fnorm=7.062e+01, Fmax=1.642e+03 (atom 548)\n",
      "Step 35, Epot=-3.195290e+05, Fnorm=1.354e+02, Fmax=6.383e+03 (atom 548)\n",
      "Step 36, Epot=-3.203436e+05, Fnorm=1.637e+02, Fmax=5.558e+03 (atom 739)\n",
      "Step 37, Epot=-3.213011e+05, Fnorm=1.499e+02, Fmax=3.708e+03 (atom 10915)\n",
      "Step 38, Epot=-3.227403e+05, Fnorm=1.500e+02, Fmax=7.764e+03 (atom 739)\n",
      "Step 39, Epot=-3.235535e+05, Fnorm=1.034e+02, Fmax=4.604e+03 (atom 548)\n",
      "Step 40, Epot=-3.239420e+05, Fnorm=1.667e+02, Fmax=6.982e+03 (atom 739)\n",
      "Step 41, Epot=-3.249836e+05, Fnorm=1.484e+02, Fmax=5.238e+03 (atom 548)\n",
      "Step 42, Epot=-3.252489e+05, Fnorm=2.345e+02, Fmax=1.391e+04 (atom 548)\n",
      "Step 43, Epot=-3.259666e+05, Fnorm=7.318e+01, Fmax=3.801e+03 (atom 548)\n",
      "Step 44, Epot=-3.260887e+05, Fnorm=4.744e+01, Fmax=5.936e+02 (atom 890)\n",
      "Step 45, Epot=-3.262048e+05, Fnorm=4.389e+01, Fmax=3.859e+02 (atom 550)\n",
      "\n",
      "writing lowest energy coordinates.\n",
      "\n",
      "Back Off! I just backed up em.pdb to ./#em.pdb.2#\n",
      "\n",
      "Polak-Ribiere Conjugate Gradients converged to Fmax < 500 in 45 steps\n",
      "Potential Energy  = -3.2620475e+05\n",
      "Maximum force     =  3.8588983e+02 on atom 550\n",
      "Norm of force     =  4.3892308e+01\n",
      "\n",
      "GROMACS reminds you: \"Pain is inevitable. Suffering is optional.\" (Haruki Murakami)\n",
      "\n",
      "[dgx-master.technion.ac.il:3744497] PMIX ERROR: NO-PERMISSIONS in file dstore_base.c at line 237\n",
      "[dgx-master.technion.ac.il:3744497] PMIX ERROR: NO-PERMISSIONS in file dstore_base.c at line 246\n",
      "               :-) GROMACS - gmx grompp, 2020.6-plumed-2.8.0 (-:\n",
      "\n",
      "                            GROMACS is written by:\n",
      "     Emile Apol      Rossen Apostolov      Paul Bauer     Herman J.C. Berendsen\n",
      "    Par Bjelkmar      Christian Blau   Viacheslav Bolnykh     Kevin Boyd    \n",
      " Aldert van Buuren   Rudi van Drunen     Anton Feenstra       Alan Gray     \n",
      "  Gerrit Groenhof     Anca Hamuraru    Vincent Hindriksen  M. Eric Irrgang  \n",
      "  Aleksei Iupinov   Christoph Junghans     Joe Jordan     Dimitrios Karkoulis\n",
      "    Peter Kasson        Jiri Kraus      Carsten Kutzner      Per Larsson    \n",
      "  Justin A. Lemkul    Viveca Lindahl    Magnus Lundborg     Erik Marklund   \n",
      "    Pascal Merz     Pieter Meulenhoff    Teemu Murtola       Szilard Pall   \n",
      "    Sander Pronk      Roland Schulz      Michael Shirts    Alexey Shvetsov  \n",
      "   Alfons Sijbers     Peter Tieleman      Jon Vincent      Teemu Virolainen \n",
      " Christian Wennberg    Maarten Wolf      Artem Zhmurov   \n",
      "                           and the project leaders:\n",
      "        Mark Abraham, Berk Hess, Erik Lindahl, and David van der Spoel\n",
      "\n",
      "Copyright (c) 1991-2000, University of Groningen, The Netherlands.\n",
      "Copyright (c) 2001-2019, The GROMACS development team at\n",
      "Uppsala University, Stockholm University and\n",
      "the Royal Institute of Technology, Sweden.\n",
      "check out http://www.gromacs.org for more information.\n",
      "\n",
      "GROMACS is free software; you can redistribute it and/or modify it\n",
      "under the terms of the GNU Lesser General Public License\n",
      "as published by the Free Software Foundation; either version 2.1\n",
      "of the License, or (at your option) any later version.\n",
      "\n",
      "GROMACS:      gmx grompp, version 2020.6-plumed-2.8.0\n",
      "Executable:   /home/zadoki/miniconda3/envs/bpti/bin/gmx_mpi\n",
      "Data prefix:  /home/zadoki/miniconda3/envs/bpti\n",
      "Working dir:  /rg/mendels_prj/zadoki/bpti/data/interim/state_B/em\n",
      "Command line:\n",
      "  gmx_mpi grompp -f em.mdp -o em.tpr -c /rg/mendels_prj/zadoki/bpti/data/interim/state_B/em/em.pdb -r /rg/mendels_prj/zadoki/bpti/data/interim/state_B/em/em.pdb -p /rg/mendels_prj/zadoki/bpti/data/interim/state_B/top/system.top -maxwarn 10 -pp processed.top\n",
      "\n",
      "Ignoring obsolete mdp entry 'cpp'\n",
      "Ignoring obsolete mdp entry 'optimize_fft'\n",
      "Ignoring obsolete mdp entry 'ns_type'\n",
      "\n",
      "NOTE 1 [file em.mdp]:\n",
      "  Replacing vdwtype=Shift by the equivalent combination of vdwtype=Cut-off\n",
      "  and vdw_modifier=Force-switch\n",
      "\n",
      "\n",
      "NOTE 2 [file em.mdp]:\n",
      "  nstcomm < nstcalcenergy defeats the purpose of nstcalcenergy, setting\n",
      "  nstcomm to nstcalcenergy\n",
      "\n",
      "Setting the LD random seed to -68468775\n",
      "\n",
      "Back Off! I just backed up processed.top to ./#processed.top.3#\n",
      "Generated 20503 of the 20503 non-bonded parameter combinations\n",
      "Generating 1-4 interactions: fudge = 1\n",
      "Generated 17396 of the 20503 1-4 parameter combinations\n",
      "Excluding 3 bonded neighbours molecule type 'Protein_chain_A'\n",
      "Excluding 2 bonded neighbours molecule type 'SOL'\n",
      "Excluding 1 bonded neighbours molecule type 'CL'\n",
      "\n",
      "WARNING 1 [file system.top, line 8491]:\n",
      "  The following macros were defined in the 'define' mdp field with the -D\n",
      "  prefix, but were not used in the topology:\n",
      "      FLEXSPC\n",
      "  If you haven't made a spelling error, either use the macro you defined,\n",
      "  or don't define the macro\n",
      "\n",
      "Cleaning up constraints and constant bonded interactions with virtual sites\n",
      "Number of degrees of freedom in T-Coupling group rest is 43257.00\n",
      "\n",
      "NOTE 3 [file em.mdp]:\n",
      "  Removing center of mass motion in the presence of position restraints\n",
      "  might cause artifacts. When you are using position restraints to\n",
      "  equilibrate a macro-molecule, the artifacts are usually negligible.\n",
      "\n",
      "Estimate for the relative computational load of the PME mesh part: 0.12\n",
      "\n",
      "There were 3 notes\n",
      "\n",
      "There was 1 warning\n",
      "\n",
      "Back Off! I just backed up em.tpr to ./#em.tpr.3#\n",
      "\n",
      "GROMACS reminds you: \"Even the *healthy* people move in clouds of cigarette smoke, women straining polyester, men in raggedly cutoffs slathering mayonnaise on foot-long hot dogs. It's as if the hotel were hosting a conference on adult onset diabetes\" (Jess Walter)\n",
      "\n"
     ]
    },
    {
     "name": "stdout",
     "output_type": "stream",
     "text": [
      "Analysing residue names:\n",
      "There are:    58    Protein residues\n",
      "There are:  6761      Water residues\n",
      "There are:     6        Ion residues\n",
      "Analysing Protein...\n",
      "Analysing residues not classified as Protein/DNA/RNA/Water and splitting into groups...\n",
      "Calculating fourier grid dimensions for X Y Z\n",
      "Using a fourier grid of 52x52x52, spacing 0.114 0.114 0.114\n",
      "This run will generate roughly 2 Mb of data\n"
     ]
    },
    {
     "name": "stderr",
     "output_type": "stream",
     "text": [
      "[dgx-master.technion.ac.il:3745253] PMIX ERROR: NO-PERMISSIONS in file dstore_base.c at line 237\n",
      "[dgx-master.technion.ac.il:3745253] PMIX ERROR: NO-PERMISSIONS in file dstore_base.c at line 246\n",
      "                :-) GROMACS - gmx mdrun, 2020.6-plumed-2.8.0 (-:\n",
      "\n",
      "                            GROMACS is written by:\n",
      "     Emile Apol      Rossen Apostolov      Paul Bauer     Herman J.C. Berendsen\n",
      "    Par Bjelkmar      Christian Blau   Viacheslav Bolnykh     Kevin Boyd    \n",
      " Aldert van Buuren   Rudi van Drunen     Anton Feenstra       Alan Gray     \n",
      "  Gerrit Groenhof     Anca Hamuraru    Vincent Hindriksen  M. Eric Irrgang  \n",
      "  Aleksei Iupinov   Christoph Junghans     Joe Jordan     Dimitrios Karkoulis\n",
      "    Peter Kasson        Jiri Kraus      Carsten Kutzner      Per Larsson    \n",
      "  Justin A. Lemkul    Viveca Lindahl    Magnus Lundborg     Erik Marklund   \n",
      "    Pascal Merz     Pieter Meulenhoff    Teemu Murtola       Szilard Pall   \n",
      "    Sander Pronk      Roland Schulz      Michael Shirts    Alexey Shvetsov  \n",
      "   Alfons Sijbers     Peter Tieleman      Jon Vincent      Teemu Virolainen \n",
      " Christian Wennberg    Maarten Wolf      Artem Zhmurov   \n",
      "                           and the project leaders:\n",
      "        Mark Abraham, Berk Hess, Erik Lindahl, and David van der Spoel\n",
      "\n",
      "Copyright (c) 1991-2000, University of Groningen, The Netherlands.\n",
      "Copyright (c) 2001-2019, The GROMACS development team at\n",
      "Uppsala University, Stockholm University and\n",
      "the Royal Institute of Technology, Sweden.\n",
      "check out http://www.gromacs.org for more information.\n",
      "\n",
      "GROMACS is free software; you can redistribute it and/or modify it\n",
      "under the terms of the GNU Lesser General Public License\n",
      "as published by the Free Software Foundation; either version 2.1\n",
      "of the License, or (at your option) any later version.\n",
      "\n",
      "GROMACS:      gmx mdrun, version 2020.6-plumed-2.8.0\n",
      "Executable:   /home/zadoki/miniconda3/envs/bpti/bin/gmx_mpi\n",
      "Data prefix:  /home/zadoki/miniconda3/envs/bpti\n",
      "Working dir:  /rg/mendels_prj/zadoki/bpti/data/interim/state_B/em\n",
      "Command line:\n",
      "  gmx_mpi mdrun -v -stepout 10 -deffnm em -c em.pdb\n",
      "\n",
      "\n",
      "Back Off! I just backed up em.log to ./#em.log.3#\n",
      "Compiled SIMD: SSE2, but for this host/run AVX_512 might be better (see log).\n",
      "The current CPU can measure timings more accurately than the code in\n",
      "gmx mdrun was configured to use. This might affect your simulation\n",
      "speed as accurate timings are needed for load-balancing.\n",
      "Please consider rebuilding gmx mdrun with the GMX_USE_RDTSCP=ON CMake option.\n",
      "Reading file em.tpr, VERSION 2020.6-plumed-2.8.0 (single precision)\n",
      "\n",
      "Using 1 MPI process\n",
      "Using 8 OpenMP threads \n",
      "\n",
      "\n",
      "Back Off! I just backed up em.trr to ./#em.trr.3#\n",
      "\n",
      "Back Off! I just backed up em.edr to ./#em.edr.3#\n",
      "\n",
      "Steepest Descents:\n",
      "   Tolerance (Fmax)   =  5.00000e+02\n",
      "   Number of steps    =         1000\n",
      "Step=    0, Dmax= 1.0e-02 nm, Epot= -3.14556e+05 Fmax= 3.77485e+02, atom= 550\n",
      "\n",
      "writing lowest energy coordinates.\n",
      "\n",
      "Back Off! I just backed up em.pdb to ./#em.pdb.3#\n",
      "\n",
      "Steepest Descents converged to Fmax < 500 in 1 steps\n",
      "Potential Energy  = -3.1455581e+05\n",
      "Maximum force     =  3.7748529e+02 on atom 550\n",
      "Norm of force     =  4.4810276e+01\n",
      "\n",
      "GROMACS reminds you: \"You Don't Wanna Know\" (Pulp Fiction)\n",
      "\n",
      "[dgx-master.technion.ac.il:3745420] PMIX ERROR: NO-PERMISSIONS in file dstore_base.c at line 237\n",
      "[dgx-master.technion.ac.il:3745420] PMIX ERROR: NO-PERMISSIONS in file dstore_base.c at line 237\n",
      "[dgx-master.technion.ac.il:3745420] PMIX ERROR: NO-PERMISSIONS in file dstore_base.c at line 237\n",
      "[dgx-master.technion.ac.il:3745420] PMIX ERROR: NO-PERMISSIONS in file dstore_base.c at line 246\n",
      "              :-) GROMACS - gmx make_ndx, 2020.6-plumed-2.8.0 (-:\n",
      "\n",
      "                            GROMACS is written by:\n",
      "     Emile Apol      Rossen Apostolov      Paul Bauer     Herman J.C. Berendsen\n",
      "    Par Bjelkmar      Christian Blau   Viacheslav Bolnykh     Kevin Boyd    \n",
      " Aldert van Buuren   Rudi van Drunen     Anton Feenstra       Alan Gray     \n",
      "  Gerrit Groenhof     Anca Hamuraru    Vincent Hindriksen  M. Eric Irrgang  \n",
      "  Aleksei Iupinov   Christoph Junghans     Joe Jordan     Dimitrios Karkoulis\n",
      "    Peter Kasson        Jiri Kraus      Carsten Kutzner      Per Larsson    \n",
      "  Justin A. Lemkul    Viveca Lindahl    Magnus Lundborg     Erik Marklund   \n",
      "    Pascal Merz     Pieter Meulenhoff    Teemu Murtola       Szilard Pall   \n",
      "    Sander Pronk      Roland Schulz      Michael Shirts    Alexey Shvetsov  \n",
      "   Alfons Sijbers     Peter Tieleman      Jon Vincent      Teemu Virolainen \n",
      " Christian Wennberg    Maarten Wolf      Artem Zhmurov   \n",
      "                           and the project leaders:\n",
      "        Mark Abraham, Berk Hess, Erik Lindahl, and David van der Spoel\n",
      "\n",
      "Copyright (c) 1991-2000, University of Groningen, The Netherlands.\n",
      "Copyright (c) 2001-2019, The GROMACS development team at\n",
      "Uppsala University, Stockholm University and\n",
      "the Royal Institute of Technology, Sweden.\n",
      "check out http://www.gromacs.org for more information.\n",
      "\n",
      "GROMACS is free software; you can redistribute it and/or modify it\n",
      "under the terms of the GNU Lesser General Public License\n",
      "as published by the Free Software Foundation; either version 2.1\n",
      "of the License, or (at your option) any later version.\n",
      "\n",
      "GROMACS:      gmx make_ndx, version 2020.6-plumed-2.8.0\n",
      "Executable:   /home/zadoki/miniconda3/envs/bpti/bin/gmx_mpi\n",
      "Data prefix:  /home/zadoki/miniconda3/envs/bpti\n",
      "Working dir:  /rg/mendels_prj/zadoki/bpti/data/interim/state_B/MD_POSRES\n",
      "Command line:\n",
      "  gmx_mpi make_ndx -f /rg/mendels_prj/zadoki/bpti/data/interim/state_B/em/em.pdb -o md.ndx\n",
      "\n",
      "\n",
      "Reading structure file\n",
      "\n",
      "Back Off! I just backed up md.ndx to ./#md.ndx.2#\n",
      "\n",
      "GROMACS reminds you: \"You Don't Wanna Know\" (Pulp Fiction)\n",
      "\n",
      "[dgx-master.technion.ac.il:3745586] PMIX ERROR: NO-PERMISSIONS in file dstore_base.c at line 237\n",
      "[dgx-master.technion.ac.il:3745586] PMIX ERROR: NO-PERMISSIONS in file dstore_base.c at line 237\n",
      "[dgx-master.technion.ac.il:3745586] PMIX ERROR: NO-PERMISSIONS in file dstore_base.c at line 246\n",
      "              :-) GROMACS - gmx make_ndx, 2020.6-plumed-2.8.0 (-:\n",
      "\n",
      "                            GROMACS is written by:\n",
      "     Emile Apol      Rossen Apostolov      Paul Bauer     Herman J.C. Berendsen\n",
      "    Par Bjelkmar      Christian Blau   Viacheslav Bolnykh     Kevin Boyd    \n",
      " Aldert van Buuren   Rudi van Drunen     Anton Feenstra       Alan Gray     \n",
      "  Gerrit Groenhof     Anca Hamuraru    Vincent Hindriksen  M. Eric Irrgang  \n",
      "  Aleksei Iupinov   Christoph Junghans     Joe Jordan     Dimitrios Karkoulis\n",
      "    Peter Kasson        Jiri Kraus      Carsten Kutzner      Per Larsson    \n",
      "  Justin A. Lemkul    Viveca Lindahl    Magnus Lundborg     Erik Marklund   \n",
      "    Pascal Merz     Pieter Meulenhoff    Teemu Murtola       Szilard Pall   \n",
      "    Sander Pronk      Roland Schulz      Michael Shirts    Alexey Shvetsov  \n",
      "   Alfons Sijbers     Peter Tieleman      Jon Vincent      Teemu Virolainen \n",
      " Christian Wennberg    Maarten Wolf      Artem Zhmurov   \n",
      "                           and the project leaders:\n",
      "        Mark Abraham, Berk Hess, Erik Lindahl, and David van der Spoel\n",
      "\n",
      "Copyright (c) 1991-2000, University of Groningen, The Netherlands.\n",
      "Copyright (c) 2001-2019, The GROMACS development team at\n",
      "Uppsala University, Stockholm University and\n",
      "the Royal Institute of Technology, Sweden.\n",
      "check out http://www.gromacs.org for more information.\n",
      "\n",
      "GROMACS is free software; you can redistribute it and/or modify it\n",
      "under the terms of the GNU Lesser General Public License\n",
      "as published by the Free Software Foundation; either version 2.1\n",
      "of the License, or (at your option) any later version.\n",
      "\n",
      "GROMACS:      gmx make_ndx, version 2020.6-plumed-2.8.0\n",
      "Executable:   /home/zadoki/miniconda3/envs/bpti/bin/gmx_mpi\n",
      "Data prefix:  /home/zadoki/miniconda3/envs/bpti\n",
      "Working dir:  /rg/mendels_prj/zadoki/bpti/data/interim/state_B/MD_POSRES\n",
      "Command line:\n",
      "  gmx_mpi make_ndx -f /rg/mendels_prj/zadoki/bpti/data/interim/state_B/em/em.pdb -n md.ndx -o md.ndx\n",
      "\n",
      "\n",
      "Reading structure file\n",
      "\n",
      "Back Off! I just backed up md.ndx to ./#md.ndx.3#\n",
      "\n",
      "GROMACS reminds you: \"You Don't Wanna Know\" (Pulp Fiction)\n",
      "\n",
      "[dgx-master.technion.ac.il:3745719] PMIX ERROR: NO-PERMISSIONS in file dstore_base.c at line 237\n",
      "[dgx-master.technion.ac.il:3745719] PMIX ERROR: NO-PERMISSIONS in file dstore_base.c at line 246\n",
      "               :-) GROMACS - gmx grompp, 2020.6-plumed-2.8.0 (-:\n",
      "\n",
      "                            GROMACS is written by:\n",
      "     Emile Apol      Rossen Apostolov      Paul Bauer     Herman J.C. Berendsen\n",
      "    Par Bjelkmar      Christian Blau   Viacheslav Bolnykh     Kevin Boyd    \n",
      " Aldert van Buuren   Rudi van Drunen     Anton Feenstra       Alan Gray     \n",
      "  Gerrit Groenhof     Anca Hamuraru    Vincent Hindriksen  M. Eric Irrgang  \n",
      "  Aleksei Iupinov   Christoph Junghans     Joe Jordan     Dimitrios Karkoulis\n",
      "    Peter Kasson        Jiri Kraus      Carsten Kutzner      Per Larsson    \n",
      "  Justin A. Lemkul    Viveca Lindahl    Magnus Lundborg     Erik Marklund   \n",
      "    Pascal Merz     Pieter Meulenhoff    Teemu Murtola       Szilard Pall   \n",
      "    Sander Pronk      Roland Schulz      Michael Shirts    Alexey Shvetsov  \n",
      "   Alfons Sijbers     Peter Tieleman      Jon Vincent      Teemu Virolainen \n",
      " Christian Wennberg    Maarten Wolf      Artem Zhmurov   \n",
      "                           and the project leaders:\n",
      "        Mark Abraham, Berk Hess, Erik Lindahl, and David van der Spoel\n",
      "\n",
      "Copyright (c) 1991-2000, University of Groningen, The Netherlands.\n",
      "Copyright (c) 2001-2019, The GROMACS development team at\n",
      "Uppsala University, Stockholm University and\n",
      "the Royal Institute of Technology, Sweden.\n",
      "check out http://www.gromacs.org for more information.\n",
      "\n",
      "GROMACS is free software; you can redistribute it and/or modify it\n",
      "under the terms of the GNU Lesser General Public License\n",
      "as published by the Free Software Foundation; either version 2.1\n",
      "of the License, or (at your option) any later version.\n",
      "\n",
      "GROMACS:      gmx grompp, version 2020.6-plumed-2.8.0\n",
      "Executable:   /home/zadoki/miniconda3/envs/bpti/bin/gmx_mpi\n",
      "Data prefix:  /home/zadoki/miniconda3/envs/bpti\n",
      "Working dir:  /rg/mendels_prj/zadoki/bpti/data/interim/state_B/MD_POSRES\n",
      "Command line:\n",
      "  gmx_mpi grompp -f md.mdp -p /rg/mendels_prj/zadoki/bpti/data/interim/state_B/top/system.top -c /rg/mendels_prj/zadoki/bpti/data/interim/state_B/em/em.pdb -n /rg/mendels_prj/zadoki/bpti/data/interim/state_B/MD_POSRES/md.ndx -o md.tpr -pp processed.top -r /rg/mendels_prj/zadoki/bpti/data/interim/state_B/em/em.pdb -maxwarn 10\n",
      "\n",
      "Ignoring obsolete mdp entry 'andersen_seed'\n",
      "Ignoring obsolete mdp entry 'optimize_fft'\n",
      "Ignoring obsolete mdp entry 'ns_type'\n",
      "Replacing old mdp entry 'nstxtcout' by 'nstxout-compressed'\n",
      "Replacing old mdp entry 'xtc-precision' by 'compressed-x-precision'\n",
      "\n",
      "NOTE 1 [file md.mdp]:\n",
      "  With Verlet lists the optimal nstlist is >= 10, with GPUs >= 20. Note\n",
      "  that with the Verlet scheme, nstlist has no effect on the accuracy of\n",
      "  your simulation.\n",
      "\n",
      "Setting the LD random seed to -92307468\n",
      "\n",
      "Back Off! I just backed up processed.top to ./#processed.top.1#\n",
      "Generated 20503 of the 20503 non-bonded parameter combinations\n",
      "Generating 1-4 interactions: fudge = 1\n",
      "Generated 17396 of the 20503 1-4 parameter combinations\n",
      "Excluding 3 bonded neighbours molecule type 'Protein_chain_A'\n",
      "Excluding 2 bonded neighbours molecule type 'SOL'\n",
      "Excluding 1 bonded neighbours molecule type 'CL'\n",
      "Velocities were taken from a Maxwell distribution at 300 K\n",
      "Cleaning up constraints and constant bonded interactions with virtual sites\n",
      "The center of mass of the position restraint coord's is  2.982  2.994  2.968\n",
      "The center of mass of the position restraint coord's is  2.982  2.994  2.968\n",
      "Number of degrees of freedom in T-Coupling group System is 42819.00\n",
      "\n",
      "NOTE 2 [file md.mdp]:\n",
      "  Removing center of mass motion in the presence of position restraints\n",
      "  might cause artifacts. When you are using position restraints to\n",
      "  equilibrate a macro-molecule, the artifacts are usually negligible.\n",
      "\n",
      "Estimate for the relative computational load of the PME mesh part: 0.13\n",
      "\n",
      "NOTE 3 [file md.mdp]:\n",
      "  This run will generate roughly 3363 Mb of data\n",
      "\n",
      "\n",
      "There were 3 notes\n",
      "\n",
      "Back Off! I just backed up md.tpr to ./#md.tpr.1#\n"
     ]
    },
    {
     "name": "stdout",
     "output_type": "stream",
     "text": [
      "turning H bonds into constraints...\n",
      "turning H bonds into constraints...\n",
      "turning H bonds into constraints...\n",
      "Determining Verlet buffer for a tolerance of 0.005 kJ/mol/ps at 300 K\n",
      "Calculated rlist for 1x1 atom pair-list as 1.010 nm, buffer size 0.010 nm\n",
      "Set rlist, assuming 4x4 atom pair-list, to 1.000 nm, buffer size 0.000 nm\n",
      "Note that mdrun will redetermine rlist based on the actual pair-list setup\n",
      "Calculating fourier grid dimensions for X Y Z\n",
      "Using a fourier grid of 52x52x52, spacing 0.114 0.114 0.114\n"
     ]
    },
    {
     "name": "stderr",
     "output_type": "stream",
     "text": [
      "\n",
      "GROMACS reminds you: \"All sorts of things can happen when you're open to new ideas and playing around with things.\" (Stephanie Kwolek, inventor of Kevlar)\n",
      "\n",
      "[dgx-master.technion.ac.il:3745825] PMIX ERROR: NO-PERMISSIONS in file dstore_base.c at line 237\n",
      "[dgx-master.technion.ac.il:3745825] PMIX ERROR: NO-PERMISSIONS in file dstore_base.c at line 237\n",
      "[dgx-master.technion.ac.il:3745825] PMIX ERROR: NO-PERMISSIONS in file dstore_base.c at line 246\n"
     ]
    }
   ],
   "source": [
    "%%capture\n",
    "# solvate and ionize \n",
    "os.chdir(\"../data/interim/state_B\")\n",
    "# original topology ff \n",
    "f1 = topology(protein='protein_solvate', struct='5bpi_B.pdb',  ff='charmm27', water='tip4p', ignh=True, posrefc=50)\n",
    "# solvate and ionize\n",
    "f2 = solvate(boxtype='cubic',distance=1.0, **f1)\n",
    "# minimize flexible\n",
    "f3 = energy_minimize(integrator='cg',define = '-DFLEXIBLE',maxwarn=10, **f2)\n",
    "# minimize rigid\n",
    "f3 = energy_minimize(integrator='steep',maxwarn=10, **f3)\n",
    "# restrained md npt 20ns\n",
    "MD_restrained(r='/rg/mendels_prj/zadoki/bpti/data/interim/state_B/em/em.pdb', maxwarn=10, nstxout=1000, nstvout=0, nstenergy=100, nstxtcout = 0, nsteps= 10000000, **f3)"
   ]
  },
  {
   "cell_type": "code",
   "execution_count": 71,
   "metadata": {
    "collapsed": true,
    "jupyter": {
     "outputs_hidden": true
    }
   },
   "outputs": [],
   "source": [
    "os.chdir('../state_B/MD_POSRES/')"
   ]
  },
  {
   "cell_type": "code",
   "execution_count": null,
   "metadata": {
    "collapsed": true,
    "jupyter": {
     "outputs_hidden": true
    },
    "scrolled": true
   },
   "outputs": [
    {
     "name": "stdout",
     "output_type": "stream",
     "text": [
      "slurmstepd: error: Unable to create TMPDIR [/usr/tmp]: Permission denied\n",
      "slurmstepd: error: Setting TMPDIR to /tmp\n",
      "               :-) GROMACS - gmx mdrun, 2021-plumed-2.9.0-dev (-:\n",
      "\n",
      "                            GROMACS is written by:\n",
      "     Andrey Alekseenko              Emile Apol              Rossen Apostolov     \n",
      "         Paul Bauer           Herman J.C. Berendsen           Par Bjelkmar       \n",
      "       Christian Blau           Viacheslav Bolnykh             Kevin Boyd        \n",
      "     Aldert van Buuren           Rudi van Drunen             Anton Feenstra      \n",
      "    Gilles Gouaillardet             Alan Gray               Gerrit Groenhof      \n",
      "       Anca Hamuraru            Vincent Hindriksen          M. Eric Irrgang      \n",
      "      Aleksei Iupinov           Christoph Junghans             Joe Jordan        \n",
      "    Dimitrios Karkoulis            Peter Kasson                Jiri Kraus        \n",
      "      Carsten Kutzner              Per Larsson              Justin A. Lemkul     \n",
      "       Viveca Lindahl            Magnus Lundborg             Erik Marklund       \n",
      "        Pascal Merz             Pieter Meulenhoff            Teemu Murtola       \n",
      "        Szilard Pall               Sander Pronk              Roland Schulz       \n",
      "       Michael Shirts            Alexey Shvetsov             Alfons Sijbers      \n",
      "       Peter Tieleman              Jon Vincent              Teemu Virolainen     \n",
      "     Christian Wennberg            Maarten Wolf              Artem Zhmurov       \n",
      "                           and the project leaders:\n",
      "        Mark Abraham, Berk Hess, Erik Lindahl, and David van der Spoel\n",
      "\n",
      "Copyright (c) 1991-2000, University of Groningen, The Netherlands.\n",
      "Copyright (c) 2001-2019, The GROMACS development team at\n",
      "Uppsala University, Stockholm University and\n",
      "the Royal Institute of Technology, Sweden.\n",
      "check out http://www.gromacs.org for more information.\n",
      "\n",
      "GROMACS is free software; you can redistribute it and/or modify it\n",
      "under the terms of the GNU Lesser General Public License\n",
      "as published by the Free Software Foundation; either version 2.1\n",
      "of the License, or (at your option) any later version.\n",
      "\n",
      "GROMACS:      gmx mdrun, version 2021-plumed-2.9.0-dev\n",
      "Executable:   /gromacs/AVX2_256_ts/bin/gmx\n",
      "Data prefix:  /gromacs/AVX2_256_ts\n",
      "Working dir:  /rg/mendels_prj/zadoki/bpti/data/interim/state_B/MD_POSRES\n",
      "Command line:\n",
      "  gmx mdrun -v -deffnm md -ntomp 4 -pin off\n",
      "\n",
      "Reading file md.tpr, VERSION 2020.6-plumed-2.8.0 (single precision)\n",
      "Note: file tpx version 119, software tpx version 122\n",
      "Changing nstlist from 5 to 80, rlist from 1 to 1.146\n",
      "\n",
      "1 GPU selected for this run.\n",
      "Mapping of GPU IDs to the 2 GPU tasks in the 1 rank on this node:\n",
      "  PP:0,PME:0\n",
      "PP tasks will do (non-perturbed) short-ranged interactions on the GPU\n",
      "PP task will update and constrain coordinates on the CPU\n",
      "PME tasks will do all aspects on the GPU\n",
      "Using 1 MPI process\n",
      "Using 4 OpenMP threads \n",
      "\n",
      "\n",
      "WARNING: This run will generate roughly 3284 Mb of data\n",
      "\n",
      "starting mdrun 'Protein in water'\n",
      "10000000 steps,  20000.0 ps.\n",
      "step 7440: timed with pme grid 52 52 52, coulomb cutoff 1.000: 122.9 M-cycles 18:52:07 2023tep 6500, will finish Mon Nov 13 18:51:43 2023\n",
      "step 7600: timed with pme grid 44 44 44, coulomb cutoff 1.126: 128.5 M-cycles\n",
      "step 7760: timed with pme grid 40 40 40, coulomb cutoff 1.239: 148.2 M-cycles\n",
      "step 7920: timed with pme grid 42 42 42, coulomb cutoff 1.180: 134.4 M-cycles\n",
      "step 8080: timed with pme grid 44 44 44, coulomb cutoff 1.126: 138.2 M-cycles\n",
      "step 8240: timed with pme grid 48 48 48, coulomb cutoff 1.032: 125.5 M-cycles\n",
      "step 8400: timed with pme grid 52 52 52, coulomb cutoff 1.000: 127.6 M-cycles\n",
      "              optimal pme grid 52 52 52, coulomb cutoff 1.000\n",
      "step 2581700, will finish Mon Nov 13 18:53:55 2023 will finish Mon Nov 13 19:26:36 2023 12700, will finish Mon Nov 13 19:20:46 2023 202311:15 20233 19:10:36 2023Nov 13 19:08:55 2023 Mon Nov 13 19:07:31 2023inish Mon Nov 13 19:06:21 2023ill finish Mon Nov 13 19:05:19 202300, will finish Mon Nov 13 19:04:25 2023p 33600, will finish Mon Nov 13 19:03:42 202338 2023:01:56 202313 19:01:27 2023 Nov 13 19:01:02 2023h Mon Nov 13 19:00:38 2023finish Mon Nov 13 19:00:17 2023will finish Mon Nov 13 18:59:58 2023400, will finish Mon Nov 13 18:59:40 2023ep 54500, will finish Mon Nov 13 18:59:22 20232354 20238:58:40 2023 13 18:58:29 2023n Nov 13 18:58:18 2023sh Mon Nov 13 18:58:11 2023 finish Mon Nov 13 18:58:02 2023 will finish Mon Nov 13 18:57:54 20233300, will finish Mon Nov 13 18:58:07 2023tep 75400, will finish Mon Nov 13 18:57:58 2023023:41 202318:57:34 2023v 13 18:57:27 2023on Nov 13 18:57:20 2023ish Mon Nov 13 18:57:14 2023l finish Mon Nov 13 18:57:09 2023, will finish Mon Nov 13 18:57:03 202394200, will finish Mon Nov 13 18:56:58 20232023 18:56:43 202300, will finish Mon Nov 13 18:56:38 202313 18:56:34 20236600, will finish Mon Nov 13 18:56:30 2023v 13 18:56:26 2023110700, will finish Mon Nov 13 18:56:21 2023Nov 13 18:56:18 2023p 114800, will finish Mon Nov 13 18:56:15 2023n Nov 13 18:56:11 2023tep 118900, will finish Mon Nov 13 18:56:08 2023Mon Nov 13 18:56:09 2023h Mon Nov 13 18:56:12 202323ish Mon Nov 13 18:56:06 20232023inish Mon Nov 13 18:56:00 20237 2023 finish Mon Nov 13 18:55:55 2023:52 2023ll finish Mon Nov 13 18:55:49 202355:46 2023will finish Mon Nov 13 18:55:45 20238:55:43 2023, will finish Mon Nov 13 18:55:40 2023 18:55:38 202300, will finish Mon Nov 13 18:55:36 202313 18:55:35 20237800, will finish Mon Nov 13 18:55:33 2023v 13 18:55:31 2023161900, will finish Mon Nov 13 18:55:29 2023Nov 13 18:55:28 2023p 166000, will finish Mon Nov 13 18:55:26 2023n Nov 13 18:55:35 2023tep 170100, will finish Mon Nov 13 18:55:33 2023Mon Nov 13 18:55:32 2023h Mon Nov 13 18:55:28 202323ish Mon Nov 13 18:55:26 20232023inish Mon Nov 13 18:55:23 20232 2023 finish Mon Nov 13 18:55:20 2023:19 2023ll finish Mon Nov 13 18:55:18 202355:16 2023will finish Mon Nov 13 18:55:15 20238:55:14 2023, will finish Mon Nov 13 18:55:13 2023 18:55:13 202300, will finish Mon Nov 13 18:55:11 202313 18:55:10 20239000, will finish Mon Nov 13 18:55:09 2023v 13 18:55:09 2023213100, will finish Mon Nov 13 18:55:08 2023Nov 13 18:55:09 2023p 217200, will finish Mon Nov 13 18:55:14 2023n Nov 13 18:55:13 2023tep 221300, will finish Mon Nov 13 18:55:12 2023Mon Nov 13 18:55:11 2023h Mon Nov 13 18:55:09 202323ish Mon Nov 13 18:55:07 20232023inish Mon Nov 13 18:55:06 20235 2023 finish Mon Nov 13 18:55:04 2023:03 2023ll finish Mon Nov 13 18:55:02 202355:01 2023will finish Mon Nov 13 18:55:00 20238:54:59 2023, will finish Mon Nov 13 18:54:59 2023 18:54:58 202300, will finish Mon Nov 13 18:54:57 202313 18:54:56 20230200, will finish Mon Nov 13 18:54:56 2023v 13 18:54:55 2023264300, will finish Mon Nov 13 18:55:01 2023Nov 13 18:55:00 2023p 268400, will finish Mon Nov 13 18:54:59 2023n Nov 13 18:54:59 2023tep 272500, will finish Mon Nov 13 18:54:58 2023Mon Nov 13 18:54:57 2023h Mon Nov 13 18:54:56 202323ish Mon Nov 13 18:54:54 20232023inish Mon Nov 13 18:54:53 20233 2023 finish Mon Nov 13 18:54:52 2023:51 2023ll finish Mon Nov 13 18:54:51 202354:50 2023will finish Mon Nov 13 18:54:50 20238:54:49 2023, will finish Mon Nov 13 18:54:48 2023 18:54:48 202300, will finish Mon Nov 13 18:54:47 202313 18:54:47 20231400, will finish Mon Nov 13 18:54:52 2023v 13 18:54:51 2023315500, will finish Mon Nov 13 18:54:51 2023Nov 13 18:54:50 2023p 319600, will finish Mon Nov 13 18:54:50 2023n Nov 13 18:54:49 2023tep 323700, will finish Mon Nov 13 18:54:49 2023Mon Nov 13 18:54:48 2023h Mon Nov 13 18:54:47 202323ish Mon Nov 13 18:54:46 20232023inish Mon Nov 13 18:54:45 20235 2023 finish Mon Nov 13 18:54:44 2023:44 2023ll finish Mon Nov 13 18:54:43 202354:43 2023will finish Mon Nov 13 18:54:42 20238:54:42 2023, will finish Mon Nov 13 18:54:42 2023 18:54:42 202300, will finish Mon Nov 13 18:54:46 202313 18:54:45 20232600, will finish Mon Nov 13 18:54:45 2023v 13 18:54:45 2023366700, will finish Mon Nov 13 18:54:44 2023Nov 13 18:54:44 2023p 370800, will finish Mon Nov 13 18:54:44 2023n Nov 13 18:54:43 2023tep 374900, will finish Mon Nov 13 18:54:43 2023Mon Nov 13 18:54:42 2023h Mon Nov 13 18:54:41 202323ish Mon Nov 13 18:54:41 20232023inish Mon Nov 13 18:54:40 20239 2023 finish Mon Nov 13 18:54:39 2023:39 2023ll finish Mon Nov 13 18:54:38 202354:38 2023will finish Mon Nov 13 18:54:38 20238:54:37 2023, will finish Mon Nov 13 18:54:37 2023 18:54:41 202300, will finish Mon Nov 13 18:54:40 202313 18:54:40 20233800, will finish Mon Nov 13 18:54:39 2023v 13 18:54:39 2023417900, will finish Mon Nov 13 18:54:39 2023Nov 13 18:54:39 2023p 422000, will finish Mon Nov 13 18:54:38 2023n Nov 13 18:54:38 2023tep 426100, will finish Mon Nov 13 18:54:38 2023Mon Nov 13 18:54:37 2023h Mon Nov 13 18:54:37 202323ish Mon Nov 13 18:54:36 20232023inish Mon Nov 13 18:54:36 20235 2023 finish Mon Nov 13 18:54:35 2023:35 2023ll finish Mon Nov 13 18:54:34 202354:34 2023will finish Mon Nov 13 18:54:34 20238:54:33 2023, will finish Mon Nov 13 18:54:33 2023 18:54:36 202300, will finish Mon Nov 13 18:54:36 202313 18:54:36 20235000, will finish Mon Nov 13 18:54:35 2023v 13 18:54:35 2023469100, will finish Mon Nov 13 18:54:35 2023Nov 13 18:54:35 2023p 473200, will finish Mon Nov 13 18:54:34 2023n Nov 13 18:54:34 2023tep 477300, will finish Mon Nov 13 18:54:34 2023Mon Nov 13 18:54:33 2023h Mon Nov 13 18:54:33 202323ish Mon Nov 13 18:54:32 20232023inish Mon Nov 13 18:54:32 20231 2023 finish Mon Nov 13 18:54:31 2023:31 2023ll finish Mon Nov 13 18:54:31 202354:31 2023will finish Mon Nov 13 18:54:30 20238:54:30 2023, will finish Mon Nov 13 18:54:33 2023 18:54:33 202300, will finish Mon Nov 13 18:54:33 202313 18:54:32 20236200, will finish Mon Nov 13 18:54:32 2023v 13 18:54:32 2023520300, will finish Mon Nov 13 18:54:32 2023Nov 13 18:54:31 2023p 524400, will finish Mon Nov 13 18:54:31 2023n Nov 13 18:54:31 2023tep 528500, will finish Mon Nov 13 18:54:31 2023Mon Nov 13 18:54:31 2023h Mon Nov 13 18:54:30 202323ish Mon Nov 13 18:54:29 20232023inish Mon Nov 13 18:54:29 20239 2023 finish Mon Nov 13 18:54:28 2023:28 2023ll finish Mon Nov 13 18:54:28 202354:28 2023will finish Mon Nov 13 18:54:28 20238:54:27 2023, will finish Mon Nov 13 18:54:30 2023 18:54:30 202300, will finish Mon Nov 13 18:54:30 202313 18:54:29 20237400, will finish Mon Nov 13 18:54:29 2023v 13 18:54:29 2023571500, will finish Mon Nov 13 18:54:29 2023Nov 13 18:54:28 2023p 575600, will finish Mon Nov 13 18:54:28 2023n Nov 13 18:54:28 2023tep 579700, will finish Mon Nov 13 18:54:28 2023Mon Nov 13 18:54:28 2023h Mon Nov 13 18:54:27 202323ish Mon Nov 13 18:54:27 20232023inish Mon Nov 13 18:54:26 20236 2023 finish Mon Nov 13 18:54:26 2023:26 2023ll finish Mon Nov 13 18:54:25 202354:25 2023will finish Mon Nov 13 18:54:25 20238:54:27 2023, will finish Mon Nov 13 18:54:27 2023 18:54:27 202300, will finish Mon Nov 13 18:54:27 202313 18:54:27 20238600, will finish Mon Nov 13 18:54:26 2023v 13 18:54:26 2023622700, will finish Mon Nov 13 18:54:26 2023Nov 13 18:54:26 2023p 626800, will finish Mon Nov 13 18:54:26 2023n Nov 13 18:54:26 2023tep 630900, will finish Mon Nov 13 18:54:25 2023Mon Nov 13 18:54:25 2023h Mon Nov 13 18:54:25 202323ish Mon Nov 13 18:54:24 20232023inish Mon Nov 13 18:54:24 20234 2023 finish Mon Nov 13 18:54:24 2023:24 2023ll finish Mon Nov 13 18:54:23 202354:25 2023will finish Mon Nov 13 18:54:25 20238:54:25 2023, will finish Mon Nov 13 18:54:25 2023 18:54:25 202300, will finish Mon Nov 13 18:54:25 202313 18:54:24 20239800, will finish Mon Nov 13 18:54:24 2023v 13 18:54:24 2023673900, will finish Mon Nov 13 18:54:24 2023Nov 13 18:54:24 2023p 678000, will finish Mon Nov 13 18:54:24 2023n Nov 13 18:54:24 2023tep 682100, will finish Mon Nov 13 18:54:23 2023Mon Nov 13 18:54:23 2023h Mon Nov 13 18:54:23 202323ish Mon Nov 13 18:54:23 20232023inish Mon Nov 13 18:54:22 20232 2023 finish Mon Nov 13 18:54:22 2023:23 2023ll finish Mon Nov 13 18:54:24 202354:24 2023will finish Mon Nov 13 18:54:23 20238:54:23 2023, will finish Mon Nov 13 18:54:23 2023 18:54:23 202300, will finish Mon Nov 13 18:54:23 202313 18:54:23 20231000, will finish Mon Nov 13 18:54:23 2023v 13 18:54:22 2023725100, will finish Mon Nov 13 18:54:22 2023Nov 13 18:54:22 2023p 729200, will finish Mon Nov 13 18:54:22 2023n Nov 13 18:54:22 2023tep 733300, will finish Mon Nov 13 18:54:22 2023Mon Nov 13 18:54:22 2023h Mon Nov 13 18:54:21 202323ish Mon Nov 13 18:54:21 20232023inish Mon Nov 13 18:54:21 20233 2023 finish Mon Nov 13 18:54:23 2023:23 2023ll finish Mon Nov 13 18:54:22 202354:22 2023will finish Mon Nov 13 18:54:22 20238:54:22 2023, will finish Mon Nov 13 18:54:22 2023 18:54:22 202300, will finish Mon Nov 13 18:54:22 202313 18:54:22 20232200, will finish Mon Nov 13 18:54:22 2023v 13 18:54:21 2023776300, will finish Mon Nov 13 18:54:21 2023Nov 13 18:54:21 2023p 780400, will finish Mon Nov 13 18:54:21 2023n Nov 13 18:54:21 2023tep 784500, will finish Mon Nov 13 18:54:21 2023Mon Nov 13 18:54:21 2023h Mon Nov 13 18:54:21 202323ish Mon Nov 13 18:54:20 20232023inish Mon Nov 13 18:54:22 20232 2023 finish Mon Nov 13 18:54:22 2023:22 2023ll finish Mon Nov 13 18:54:22 202354:22 2023will finish Mon Nov 13 18:54:22 20238:54:21 2023, will finish Mon Nov 13 18:54:21 2023 18:54:21 202300, will finish Mon Nov 13 18:54:21 202313 18:54:21 20233400, will finish Mon Nov 13 18:54:21 2023v 13 18:54:21 2023827500, will finish Mon Nov 13 18:54:20 2023Nov 13 18:54:20 2023p 831600, will finish Mon Nov 13 18:54:20 2023n Nov 13 18:54:20 2023tep 835700, will finish Mon Nov 13 18:54:20 2023Mon Nov 13 18:54:20 2023h Mon Nov 13 18:54:19 202323ish Mon Nov 13 18:54:19 20232023inish Mon Nov 13 18:54:21 20231 2023 finish Mon Nov 13 18:54:21 2023:21 2023ll finish Mon Nov 13 18:54:20 202354:20 2023will finish Mon Nov 13 18:54:20 20238:54:20 2023, will finish Mon Nov 13 18:54:20 2023 18:54:20 202300, will finish Mon Nov 13 18:54:20 202313 18:54:20 20234600, will finish Mon Nov 13 18:54:19 2023v 13 18:54:19 2023878700, will finish Mon Nov 13 18:54:19 2023Nov 13 18:54:19 2023p 882800, will finish Mon Nov 13 18:54:19 2023n Nov 13 18:54:19 2023tep 886900, will finish Mon Nov 13 18:54:19 2023Mon Nov 13 18:54:19 2023h Mon Nov 13 18:54:19 202323ish Mon Nov 13 18:54:18 20232023inish Mon Nov 13 18:54:20 20230 2023 finish Mon Nov 13 18:54:20 2023:20 2023ll finish Mon Nov 13 18:54:19 202354:19 2023will finish Mon Nov 13 18:54:19 20238:54:19 2023, will finish Mon Nov 13 18:54:19 2023 18:54:19 202300, will finish Mon Nov 13 18:54:19 202313 18:54:19 20235800, will finish Mon Nov 13 18:54:19 2023v 13 18:54:19 2023929900, will finish Mon Nov 13 18:54:19 2023Nov 13 18:54:18 2023p 934000, will finish Mon Nov 13 18:54:18 2023n Nov 13 18:54:18 2023tep 938100, will finish Mon Nov 13 18:54:18 2023Mon Nov 13 18:54:18 2023h Mon Nov 13 18:54:18 202323ish Mon Nov 13 18:54:19 20232023inish Mon Nov 13 18:54:19 20239 2023 finish Mon Nov 13 18:54:19 2023:19 2023ll finish Mon Nov 13 18:54:19 202354:19 2023will finish Mon Nov 13 18:54:18 20238:54:18 2023, will finish Mon Nov 13 18:54:18 2023 18:54:18 202300, will finish Mon Nov 13 18:54:18 202313 18:54:18 20237000, will finish Mon Nov 13 18:54:18 2023v 13 18:54:18 2023981100, will finish Mon Nov 13 18:54:17 2023Nov 13 18:54:17 2023p 985200, will finish Mon Nov 13 18:54:17 2023n Nov 13 18:54:17 2023tep 989300, will finish Mon Nov 13 18:54:17 2023Mon Nov 13 18:54:17 2023h Mon Nov 13 18:54:16 202323ish Mon Nov 13 18:54:18 2023Nov 13 18:54:18 202313 18:54:18 20238:54:17 2023:17 20232023p 1013600, will finish Mon Nov 13 18:54:17 202315600, will finish Mon Nov 13 18:54:17 20230, will finish Mon Nov 13 18:54:17 2023ill finish Mon Nov 13 18:54:17 2023finish Mon Nov 13 18:54:17 2023sh Mon Nov 13 18:54:17 2023on Nov 13 18:54:16 2023ov 13 18:54:16 20233 18:54:16 2023:54:16 202316 2023023 1039700, will finish Mon Nov 13 18:54:16 20231700, will finish Mon Nov 13 18:54:16 2023, will finish Mon Nov 13 18:54:16 2023ll finish Mon Nov 13 18:54:18 2023inish Mon Nov 13 18:54:18 2023h Mon Nov 13 18:54:18 2023n Nov 13 18:54:18 2023v 13 18:54:18 2023 18:54:18 202354:18 20238 202323tep 1063800, will finish Mon Nov 13 18:54:17 20231065800, will finish Mon Nov 13 18:54:18 2023800, will finish Mon Nov 13 18:54:18 2023 will finish Mon Nov 13 18:54:17 2023l finish Mon Nov 13 18:54:17 2023nish Mon Nov 13 18:54:17 2023 Mon Nov 13 18:54:17 2023 Nov 13 18:54:17 2023 13 18:54:17 202318:54:18 20234:18 2023 20233ep 1089900, will finish Mon Nov 13 18:54:18 2023091900, will finish Mon Nov 13 18:54:19 202300, will finish Mon Nov 13 18:54:19 2023will finish Mon Nov 13 18:54:19 2023 finish Mon Nov 13 18:54:19 2023ish Mon Nov 13 18:54:19 2023Mon Nov 13 18:54:19 2023Nov 13 18:54:19 202313 18:54:19 20238:54:19 2023:19 20232023p 1116000, will finish Mon Nov 13 18:54:19 202318000, will finish Mon Nov 13 18:54:19 20230, will finish Mon Nov 13 18:54:19 2023ill finish Mon Nov 13 18:54:19 2023finish Mon Nov 13 18:54:19 2023sh Mon Nov 13 18:54:19 2023on Nov 13 18:54:19 2023ov 13 18:54:19 20233 18:54:19 2023:54:19 202319 2023023 1142100, will finish Mon Nov 13 18:54:21 20234100, will finish Mon Nov 13 18:54:21 2023, will finish Mon Nov 13 18:54:20 2023ll finish Mon Nov 13 18:54:20 2023inish Mon Nov 13 18:54:20 2023h Mon Nov 13 18:54:20 2023n Nov 13 18:54:20 2023v 13 18:54:20 2023 18:54:20 202354:20 20230 202323tep 1166200, will finish Mon Nov 13 18:54:20 20231168200, will finish Mon Nov 13 18:54:20 2023200, will finish Mon Nov 13 18:54:20 2023 will finish Mon Nov 13 18:54:20 2023l finish Mon Nov 13 18:54:20 2023nish Mon Nov 13 18:54:20 2023 Mon Nov 13 18:54:20 2023 Nov 13 18:54:20 2023 13 18:54:19 202318:54:19 20234:19 2023 20233ep 1192300, will finish Mon Nov 13 18:54:21 2023194300, will finish Mon Nov 13 18:54:20 202300, will finish Mon Nov 13 18:54:20 2023will finish Mon Nov 13 18:54:20 2023 finish Mon Nov 13 18:54:20 2023ish Mon Nov 13 18:54:20 2023Mon Nov 13 18:54:20 2023Nov 13 18:54:20 202313 18:54:20 20238:54:20 2023:20 20232023p 1218400, will finish Mon Nov 13 18:54:19 202320400, will finish Mon Nov 13 18:54:19 20230, will finish Mon Nov 13 18:54:19 2023ill finish Mon Nov 13 18:54:19 2023finish Mon Nov 13 18:54:19 2023sh Mon Nov 13 18:54:19 2023on Nov 13 18:54:19 2023ov 13 18:54:19 20233 18:54:19 2023:54:20 202320 2023023 1244500, will finish Mon Nov 13 18:54:20 20236500, will finish Mon Nov 13 18:54:20 2023, will finish Mon Nov 13 18:54:20 2023ll finish Mon Nov 13 18:54:20 2023inish Mon Nov 13 18:54:20 2023h Mon Nov 13 18:54:20 2023n Nov 13 18:54:20 2023v 13 18:54:21 2023 18:54:21 202354:22 20232 202323tep 1268600, will finish Mon Nov 13 18:54:22 20231270600, will finish Mon Nov 13 18:54:23 2023600, will finish Mon Nov 13 18:54:23 2023 will finish Mon Nov 13 18:54:24 2023l finish Mon Nov 13 18:54:24 2023nish Mon Nov 13 18:54:25 2023 Mon Nov 13 18:54:25 2023 Nov 13 18:54:25 2023 13 18:54:27 202318:54:27 20234:28 2023 20233ep 1294700, will finish Mon Nov 13 18:54:29 2023296700, will finish Mon Nov 13 18:54:30 202300, will finish Mon Nov 13 18:54:30 2023will finish Mon Nov 13 18:54:31 2023 finish Mon Nov 13 18:54:31 2023ish Mon Nov 13 18:54:31 2023Mon Nov 13 18:54:30 2023Nov 13 18:54:30 202313 18:54:30 20238:54:30 2023:30 20232023p 1320800, will finish Mon Nov 13 18:54:30 202322800, will finish Mon Nov 13 18:54:30 20230, will finish Mon Nov 13 18:54:30 2023ill finish Mon Nov 13 18:54:30 2023finish Mon Nov 13 18:54:30 2023sh Mon Nov 13 18:54:31 2023on Nov 13 18:54:31 2023ov 13 18:54:30 20233 18:54:30 2023:54:30 202330 2023023 1346900, will finish Mon Nov 13 18:54:30 20238900, will finish Mon Nov 13 18:54:30 2023, will finish Mon Nov 13 18:54:30 2023ll finish Mon Nov 13 18:54:30 2023inish Mon Nov 13 18:54:29 2023h Mon Nov 13 18:54:29 2023n Nov 13 18:54:29 2023v 13 18:54:29 2023 18:54:29 202354:29 20239 202323tep 1371000, will finish Mon Nov 13 18:54:28 20231373000, will finish Mon Nov 13 18:54:28 2023000, will finish Mon Nov 13 18:54:28 2023 will finish Mon Nov 13 18:54:28 2023l finish Mon Nov 13 18:54:28 2023nish Mon Nov 13 18:54:29 2023 Mon Nov 13 18:54:29 2023 Nov 13 18:54:29 2023 13 18:54:29 202318:54:29 20234:29 2023 20233ep 1397100, will finish Mon Nov 13 18:54:28 2023399100, will finish Mon Nov 13 18:54:28 202300, will finish Mon Nov 13 18:54:28 2023will finish Mon Nov 13 18:54:28 2023 finish Mon Nov 13 18:54:28 2023ish Mon Nov 13 18:54:28 2023Mon Nov 13 18:54:28 2023Nov 13 18:54:28 202313 18:54:28 20238:54:27 2023:27 20232023p 1423200, will finish Mon Nov 13 18:54:27 202325200, will finish Mon Nov 13 18:54:27 20230, will finish Mon Nov 13 18:54:27 2023ill finish Mon Nov 13 18:54:28 2023finish Mon Nov 13 18:54:28 2023sh Mon Nov 13 18:54:28 2023on Nov 13 18:54:28 2023ov 13 18:54:28 20233 18:54:28 2023:54:27 202327 2023023 1449300, will finish Mon Nov 13 18:54:27 20231300, will finish Mon Nov 13 18:54:27 2023, will finish Mon Nov 13 18:54:27 2023ll finish Mon Nov 13 18:54:27 2023inish Mon Nov 13 18:54:27 2023h Mon Nov 13 18:54:27 2023n Nov 13 18:54:26 2023v 13 18:54:26 2023 18:54:26 202354:26 20236 202323tep 1473400, will finish Mon Nov 13 18:54:26 20231475400, will finish Mon Nov 13 18:54:26 2023400, will finish Mon Nov 13 18:54:27 2023 will finish Mon Nov 13 18:54:27 2023l finish Mon Nov 13 18:54:27 2023nish Mon Nov 13 18:54:27 2023 Mon Nov 13 18:54:26 2023 Nov 13 18:54:26 2023 13 18:54:26 202318:54:26 20234:26 2023 20233ep 1499500, will finish Mon Nov 13 18:54:26 2023501500, will finish Mon Nov 13 18:54:26 202300, will finish Mon Nov 13 18:54:26 2023will finish Mon Nov 13 18:54:25 2023 finish Mon Nov 13 18:54:25 2023ish Mon Nov 13 18:54:25 2023Mon Nov 13 18:54:25 2023Nov 13 18:54:25 202313 18:54:25 20238:54:25 2023:25 20232023p 1525600, will finish Mon Nov 13 18:54:26 202327600, will finish Mon Nov 13 18:54:25 20230, will finish Mon Nov 13 18:54:25 2023ill finish Mon Nov 13 18:54:25 2023finish Mon Nov 13 18:54:25 2023sh Mon Nov 13 18:54:25 2023on Nov 13 18:54:25 2023ov 13 18:54:25 20233 18:54:25 2023:54:25 202325 2023023 1551700, will finish Mon Nov 13 18:54:24 20233700, will finish Mon Nov 13 18:54:24 2023, will finish Mon Nov 13 18:54:24 2023ll finish Mon Nov 13 18:54:24 2023inish Mon Nov 13 18:54:24 2023h Mon Nov 13 18:54:24 2023n Nov 13 18:54:24 2023v 13 18:54:24 2023 18:54:24 202354:24 20235 202323tep 1575800, will finish Mon Nov 13 18:54:24 20231577800, will finish Mon Nov 13 18:54:24 2023800, will finish Mon Nov 13 18:54:24 2023 will finish Mon Nov 13 18:54:24 2023l finish Mon Nov 13 18:54:24 2023nish Mon Nov 13 18:54:24 2023 Mon Nov 13 18:54:24 2023 Nov 13 18:54:24 2023 13 18:54:24 202318:54:24 20234:24 2023 20233ep 1601900, will finish Mon Nov 13 18:54:23 2023603900, will finish Mon Nov 13 18:54:23 202300, will finish Mon Nov 13 18:54:23 2023will finish Mon Nov 13 18:54:23 2023 finish Mon Nov 13 18:54:23 2023ish Mon Nov 13 18:54:23 2023Mon Nov 13 18:54:23 2023Nov 13 18:54:23 202313 18:54:23 20238:54:23 2023:23 20232023p 1628000, will finish Mon Nov 13 18:54:24 202330000, will finish Mon Nov 13 18:54:24 20230, will finish Mon Nov 13 18:54:24 2023ill finish Mon Nov 13 18:54:24 2023finish Mon Nov 13 18:54:24 2023sh Mon Nov 13 18:54:24 2023on Nov 13 18:54:24 2023ov 13 18:54:24 20233 18:54:24 2023:54:24 202324 2023023 1654100, will finish Mon Nov 13 18:54:24 20236100, will finish Mon Nov 13 18:54:24 2023, will finish Mon Nov 13 18:54:24 2023ll finish Mon Nov 13 18:54:24 2023inish Mon Nov 13 18:54:23 2023h Mon Nov 13 18:54:23 2023n Nov 13 18:54:23 2023v 13 18:54:23 2023 18:54:23 202354:23 20233 202323tep 1678200, will finish Mon Nov 13 18:54:24 20231680200, will finish Mon Nov 13 18:54:24 2023200, will finish Mon Nov 13 18:54:24 2023 will finish Mon Nov 13 18:54:24 2023l finish Mon Nov 13 18:54:24 2023nish Mon Nov 13 18:54:24 2023 Mon Nov 13 18:54:23 2023 Nov 13 18:54:23 2023 13 18:54:23 202318:54:23 20234:23 2023 20233ep 1704300, will finish Mon Nov 13 18:54:23 2023706300, will finish Mon Nov 13 18:54:23 202300, will finish Mon Nov 13 18:54:23 2023will finish Mon Nov 13 18:54:23 2023 finish Mon Nov 13 18:54:23 2023ish Mon Nov 13 18:54:23 2023Mon Nov 13 18:54:23 2023Nov 13 18:54:23 202313 18:54:23 20238:54:22 2023:23 20232023p 1730400, will finish Mon Nov 13 18:54:23 202332400, will finish Mon Nov 13 18:54:23 20230, will finish Mon Nov 13 18:54:23 2023ill finish Mon Nov 13 18:54:23 2023finish Mon Nov 13 18:54:23 2023sh Mon Nov 13 18:54:23 2023on Nov 13 18:54:23 2023ov 13 18:54:23 20233 18:54:23 2023:54:23 202322 2023023 1756500, will finish Mon Nov 13 18:54:22 20238500, will finish Mon Nov 13 18:54:22 2023, will finish Mon Nov 13 18:54:22 2023ll finish Mon Nov 13 18:54:22 2023inish Mon Nov 13 18:54:22 2023h Mon Nov 13 18:54:22 2023n Nov 13 18:54:22 2023v 13 18:54:22 2023 18:54:23 202354:23 20233 202323tep 1780600, will finish Mon Nov 13 18:54:23 20231782600, will finish Mon Nov 13 18:54:23 2023600, will finish Mon Nov 13 18:54:22 2023 will finish Mon Nov 13 18:54:22 2023l finish Mon Nov 13 18:54:22 2023nish Mon Nov 13 18:54:22 2023 Mon Nov 13 18:54:22 2023 Nov 13 18:54:22 2023 13 18:54:22 202318:54:22 20234:22 2023 20233ep 1806700, will finish Mon Nov 13 18:54:22 2023808700, will finish Mon Nov 13 18:54:22 202300, will finish Mon Nov 13 18:54:22 2023will finish Mon Nov 13 18:54:22 2023 finish Mon Nov 13 18:54:22 2023ish Mon Nov 13 18:54:22 2023Mon Nov 13 18:54:23 2023Nov 13 18:54:23 202313 18:54:23 20238:54:22 2023:22 20232023p 1832800, will finish Mon Nov 13 18:54:22 202334800, will finish Mon Nov 13 18:54:22 20230, will finish Mon Nov 13 18:54:22 2023ill finish Mon Nov 13 18:54:22 2023finish Mon Nov 13 18:54:22 2023sh Mon Nov 13 18:54:22 2023on Nov 13 18:54:22 2023ov 13 18:54:22 20233 18:54:22 2023:54:22 202322 2023023 1858900, will finish Mon Nov 13 18:54:22 20230900, will finish Mon Nov 13 18:54:21 2023, will finish Mon Nov 13 18:54:21 2023ll finish Mon Nov 13 18:54:21 2023inish Mon Nov 13 18:54:22 2023h Mon Nov 13 18:54:22 2023n Nov 13 18:54:22 2023v 13 18:54:22 2023 18:54:22 202354:22 20232 202323tep 1883000, will finish Mon Nov 13 18:54:22 20231885000, will finish Mon Nov 13 18:54:22 2023000, will finish Mon Nov 13 18:54:22 2023 will finish Mon Nov 13 18:54:22 2023l finish Mon Nov 13 18:54:22 2023nish Mon Nov 13 18:54:22 2023 Mon Nov 13 18:54:22 2023 Nov 13 18:54:21 2023 13 18:54:21 202318:54:21 20234:21 2023 20233ep 1909100, will finish Mon Nov 13 18:54:21 2023911100, will finish Mon Nov 13 18:54:21 202300, will finish Mon Nov 13 18:54:22 2023will finish Mon Nov 13 18:54:22 2023 finish Mon Nov 13 18:54:22 2023ish Mon Nov 13 18:54:22 2023Mon Nov 13 18:54:22 2023Nov 13 18:54:22 202313 18:54:22 20238:54:22 2023:21 20232023p 1935200, will finish Mon Nov 13 18:54:21 202337200, will finish Mon Nov 13 18:54:21 20230, will finish Mon Nov 13 18:54:21 2023ill finish Mon Nov 13 18:54:21 2023finish Mon Nov 13 18:54:21 2023sh Mon Nov 13 18:54:21 2023on Nov 13 18:54:21 2023ov 13 18:54:21 20233 18:54:21 2023:54:21 202321 2023023 1961300, will finish Mon Nov 13 18:54:21 20233300, will finish Mon Nov 13 18:54:21 2023, will finish Mon Nov 13 18:54:21 2023ll finish Mon Nov 13 18:54:21 2023inish Mon Nov 13 18:54:21 2023h Mon Nov 13 18:54:21 2023n Nov 13 18:54:21 2023v 13 18:54:21 2023 18:54:21 202354:21 20231 202323tep 1985400, will finish Mon Nov 13 18:54:21 20231987400, will finish Mon Nov 13 18:54:21 2023400, will finish Mon Nov 13 18:54:21 2023 will finish Mon Nov 13 18:54:21 2023l finish Mon Nov 13 18:54:21 2023nish Mon Nov 13 18:54:21 2023 Mon Nov 13 18:54:21 2023 Nov 13 18:54:21 2023 13 18:54:21 202318:54:21 20234:21 2023 20233ep 2011500, will finish Mon Nov 13 18:54:20 2023013500, will finish Mon Nov 13 18:54:21 202300, will finish Mon Nov 13 18:54:21 2023will finish Mon Nov 13 18:54:21 2023 finish Mon Nov 13 18:54:21 2023ish Mon Nov 13 18:54:21 2023Mon Nov 13 18:54:21 2023Nov 13 18:54:21 202313 18:54:21 20238:54:21 2023:21 20232023p 2037600, will finish Mon Nov 13 18:54:20 202339600, will finish Mon Nov 13 18:54:20 20230, will finish Mon Nov 13 18:54:20 2023ill finish Mon Nov 13 18:54:20 2023finish Mon Nov 13 18:54:20 2023sh Mon Nov 13 18:54:20 2023on Nov 13 18:54:20 2023ov 13 18:54:20 20233 18:54:20 2023:54:20 202320 2023023 2063700, will finish Mon Nov 13 18:54:21 20235700, will finish Mon Nov 13 18:54:21 2023, will finish Mon Nov 13 18:54:21 2023ll finish Mon Nov 13 18:54:21 2023inish Mon Nov 13 18:54:20 2023h Mon Nov 13 18:54:20 2023n Nov 13 18:54:20 2023v 13 18:54:20 2023 18:54:20 202354:20 20230 202323tep 2087800, will finish Mon Nov 13 18:54:20 20232089800, will finish Mon Nov 13 18:54:20 2023800, will finish Mon Nov 13 18:54:20 2023 will finish Mon Nov 13 18:54:20 2023l finish Mon Nov 13 18:54:20 2023nish Mon Nov 13 18:54:20 2023 Mon Nov 13 18:54:20 2023 Nov 13 18:54:20 2023 13 18:54:20 202318:54:20 20234:20 2023 20233ep 2113900, will finish Mon Nov 13 18:54:20 2023115900, will finish Mon Nov 13 18:54:20 202300, will finish Mon Nov 13 18:54:20 2023will finish Mon Nov 13 18:54:20 2023 finish Mon Nov 13 18:54:20 2023ish Mon Nov 13 18:54:20 2023Mon Nov 13 18:54:20 2023Nov 13 18:54:20 202313 18:54:20 20238:54:20 2023:20 20232023p 2140000, will finish Mon Nov 13 18:54:20 202342000, will finish Mon Nov 13 18:54:20 20230, will finish Mon Nov 13 18:54:20 2023ill finish Mon Nov 13 18:54:20 2023finish Mon Nov 13 18:54:19 2023sh Mon Nov 13 18:54:19 2023on Nov 13 18:54:19 2023ov 13 18:54:19 20233 18:54:19 2023:54:19 202320 2023023 2166100, will finish Mon Nov 13 18:54:20 20238100, will finish Mon Nov 13 18:54:20 2023, will finish Mon Nov 13 18:54:20 2023ll finish Mon Nov 13 18:54:20 2023inish Mon Nov 13 18:54:20 2023h Mon Nov 13 18:54:19 2023n Nov 13 18:54:19 2023v 13 18:54:19 2023 18:54:19 202354:19 20239 202323tep 2190200, will finish Mon Nov 13 18:54:19 20232192200, will finish Mon Nov 13 18:54:19 2023200, will finish Mon Nov 13 18:54:19 2023 will finish Mon Nov 13 18:54:19 2023l finish Mon Nov 13 18:54:19 2023nish Mon Nov 13 18:54:19 2023 Mon Nov 13 18:54:19 2023 Nov 13 18:54:19 2023 13 18:54:20 202318:54:20 20234:20 2023 20233ep 2216300, will finish Mon Nov 13 18:54:19 2023218300, will finish Mon Nov 13 18:54:19 202300, will finish Mon Nov 13 18:54:19 2023will finish Mon Nov 13 18:54:19 2023 finish Mon Nov 13 18:54:19 2023ish Mon Nov 13 18:54:19 2023Mon Nov 13 18:54:19 2023Nov 13 18:54:19 202313 18:54:19 20238:54:19 2023:19 20232023p 2242400, will finish Mon Nov 13 18:54:19 202344400, will finish Mon Nov 13 18:54:19 20230, will finish Mon Nov 13 18:54:19 2023ill finish Mon Nov 13 18:54:19 2023finish Mon Nov 13 18:54:19 2023sh Mon Nov 13 18:54:19 2023on Nov 13 18:54:20 2023ov 13 18:54:20 20233 18:54:19 2023:54:19 202319 2023023 2268500, will finish Mon Nov 13 18:54:19 20230500, will finish Mon Nov 13 18:54:19 2023, will finish Mon Nov 13 18:54:19 2023ll finish Mon Nov 13 18:54:19 2023inish Mon Nov 13 18:54:19 2023h Mon Nov 13 18:54:19 2023n Nov 13 18:54:19 2023v 13 18:54:19 2023 18:54:19 202354:19 20238 202323tep 2292600, will finish Mon Nov 13 18:54:18 20232294600, will finish Mon Nov 13 18:54:18 2023600, will finish Mon Nov 13 18:54:18 2023 will finish Mon Nov 13 18:54:18 2023l finish Mon Nov 13 18:54:19 2023nish Mon Nov 13 18:54:19 2023 Mon Nov 13 18:54:19 2023 Nov 13 18:54:19 2023 13 18:54:19 202318:54:19 20234:19 2023 20233ep 2318700, will finish Mon Nov 13 18:54:19 2023320700, will finish Mon Nov 13 18:54:19 202300, will finish Mon Nov 13 18:54:19 2023will finish Mon Nov 13 18:54:18 2023 finish Mon Nov 13 18:54:18 2023ish Mon Nov 13 18:54:17 2023Mon Nov 13 18:54:17 2023Nov 13 18:54:17 202313 18:54:16 20238:54:16 2023:16 20232023p 2344800, will finish Mon Nov 13 18:54:15 202346800, will finish Mon Nov 13 18:54:14 20230, will finish Mon Nov 13 18:54:14 2023ill finish Mon Nov 13 18:54:14 2023finish Mon Nov 13 18:54:14 2023sh Mon Nov 13 18:54:13 2023on Nov 13 18:54:13 2023ov 13 18:54:13 20233 18:54:13 2023:54:13 202312 2023023 2370900, will finish Mon Nov 13 18:54:11 20232900, will finish Mon Nov 13 18:54:11 2023, will finish Mon Nov 13 18:54:10 2023ll finish Mon Nov 13 18:54:10 2023inish Mon Nov 13 18:54:10 2023h Mon Nov 13 18:54:09 2023n Nov 13 18:54:09 2023v 13 18:54:09 2023 18:54:08 202354:08 20238 202323tep 2395000, will finish Mon Nov 13 18:54:07 20232397000, will finish Mon Nov 13 18:54:07 2023000, will finish Mon Nov 13 18:54:06 2023 will finish Mon Nov 13 18:54:06 2023l finish Mon Nov 13 18:54:06 2023nish Mon Nov 13 18:54:06 2023 Mon Nov 13 18:54:05 2023 Nov 13 18:54:05 2023 13 18:54:06 202318:54:05 20234:05 2023 20233ep 2421100, will finish Mon Nov 13 18:54:05 2023423100, will finish Mon Nov 13 18:54:04 202300, will finish Mon Nov 13 18:54:04 2023will finish Mon Nov 13 18:54:04 2023 finish Mon Nov 13 18:54:04 2023ish Mon Nov 13 18:54:04 2023Mon Nov 13 18:54:04 2023Nov 13 18:54:03 202313 18:54:03 20238:54:03 2023:03 20232023p 2447200, will finish Mon Nov 13 18:54:02 202349200, will finish Mon Nov 13 18:54:02 20230, will finish Mon Nov 13 18:54:02 2023ill finish Mon Nov 13 18:54:02 2023finish Mon Nov 13 18:54:02 2023sh Mon Nov 13 18:54:02 2023on Nov 13 18:54:02 2023ov 13 18:54:02 20233 18:54:02 2023:54:02 202301 2023023 2473300, will finish Mon Nov 13 18:54:01 20235300, will finish Mon Nov 13 18:54:01 2023, will finish Mon Nov 13 18:54:01 2023ll finish Mon Nov 13 18:54:00 2023inish Mon Nov 13 18:54:00 2023h Mon Nov 13 18:54:00 2023n Nov 13 18:54:00 2023v 13 18:54:00 2023 18:54:00 202354:00 20239 202323tep 2497400, will finish Mon Nov 13 18:53:59 20232499400, will finish Mon Nov 13 18:53:59 2023400, will finish Mon Nov 13 18:53:59 2023 will finish Mon Nov 13 18:53:59 2023l finish Mon Nov 13 18:54:00 2023nish Mon Nov 13 18:54:00 2023 Mon Nov 13 18:54:00 2023 Nov 13 18:54:01 2023 13 18:54:01 202318:54:00 20234:00 2023 20233ep 2523500, will finish Mon Nov 13 18:54:00 2023525500, will finish Mon Nov 13 18:54:00 202300, will finish Mon Nov 13 18:54:00 2023will finish Mon Nov 13 18:53:59 2023 finish Mon Nov 13 18:53:59 2023ish Mon Nov 13 18:53:59 2023Mon Nov 13 18:53:59 2023Nov 13 18:53:59 202313 18:53:58 20238:53:58 2023:58 20232023p 2549600, will finish Mon Nov 13 18:53:57 202351600, will finish Mon Nov 13 18:53:57 20230, will finish Mon Nov 13 18:53:56 2023ill finish Mon Nov 13 18:53:56 2023finish Mon Nov 13 18:53:56 2023sh Mon Nov 13 18:53:56 2023on Nov 13 18:53:56 2023ov 13 18:53:56 20233 18:53:56 2023:53:56 202356 2023023 2575700, will finish Mon Nov 13 18:53:55 20237700, will finish Mon Nov 13 18:53:55 2023, will finish Mon Nov 13 18:53:55 2023"
     ]
    }
   ],
   "source": [
    "!srun -p mig -N1 -G1 --mpi=pmix singularity run --nv --cleanenv --home $(pwd) --env OMP_NUM_THREADS=4 ~/gromacs_2023-2.sif  mpirun -np 1 gmx mdrun -v -deffnm md  -ntomp 4  -pin off  "
   ]
  },
  {
   "cell_type": "markdown",
   "metadata": {},
   "source": [
    "## visualize with nglview"
   ]
  },
  {
   "cell_type": "code",
   "execution_count": 7,
   "metadata": {
    "collapsed": true,
    "jupyter": {
     "outputs_hidden": true
    }
   },
   "outputs": [],
   "source": [
    "os.chdir(base)\n",
    "os.chdir('../data/interim/state_B/MD_POSRES/')"
   ]
  },
  {
   "cell_type": "code",
   "execution_count": 30,
   "metadata": {
    "collapsed": true,
    "jupyter": {
     "outputs_hidden": true
    }
   },
   "outputs": [],
   "source": [
    "u = mda.Universe('md.gro', 'md.trr')"
   ]
  },
  {
   "cell_type": "code",
   "execution_count": 31,
   "metadata": {
    "collapsed": true,
    "jupyter": {
     "outputs_hidden": true
    }
   },
   "outputs": [
    {
     "data": {
      "text/plain": [
       "10001"
      ]
     },
     "execution_count": 31,
     "metadata": {},
     "output_type": "execute_result"
    }
   ],
   "source": [
    "u.trajectory.n_frames"
   ]
  },
  {
   "cell_type": "code",
   "execution_count": 45,
   "metadata": {
    "collapsed": true,
    "jupyter": {
     "outputs_hidden": true
    }
   },
   "outputs": [
    {
     "data": {
      "text/plain": [
       "<Residue SOL, 1001>"
      ]
     },
     "execution_count": 45,
     "metadata": {},
     "output_type": "execute_result"
    }
   ],
   "source": [
    "u.universe.residues[1000]"
   ]
  },
  {
   "cell_type": "code",
   "execution_count": 50,
   "metadata": {
    "collapsed": true,
    "jupyter": {
     "outputs_hidden": true
    }
   },
   "outputs": [],
   "source": [
    "prot = u.select_atoms(\"(protein and not type H) or (resname SOL witgin  )\")"
   ]
  },
  {
   "cell_type": "code",
   "execution_count": 33,
   "metadata": {
    "collapsed": true,
    "jupyter": {
     "outputs_hidden": true
    }
   },
   "outputs": [
    {
     "data": {
      "text/plain": [
       "<AtomGroup with 454 atoms>"
      ]
     },
     "execution_count": 33,
     "metadata": {},
     "output_type": "execute_result"
    }
   ],
   "source": [
    "prot"
   ]
  },
  {
   "cell_type": "code",
   "execution_count": 34,
   "metadata": {
    "collapsed": true,
    "jupyter": {
     "outputs_hidden": true
    }
   },
   "outputs": [
    {
     "data": {
      "application/vnd.jupyter.widget-view+json": {
       "model_id": "483189cb1e4a472cac5726a0daf689bd",
       "version_major": 2,
       "version_minor": 0
      },
      "text/plain": [
       "NGLWidget(max_frame=10000)"
      ]
     },
     "metadata": {},
     "output_type": "display_data"
    }
   ],
   "source": [
    "view = nglview.show_mdanalysis(prot)\n",
    "view"
   ]
  },
  {
   "cell_type": "code",
   "execution_count": 17,
   "metadata": {
    "collapsed": true,
    "jupyter": {
     "outputs_hidden": true
    }
   },
   "outputs": [
    {
     "data": {
      "text/plain": [
       "<nglview.component.ComponentViewer at 0x7f885a97ac70>"
      ]
     },
     "execution_count": 17,
     "metadata": {},
     "output_type": "execute_result"
    }
   ],
   "source": [
    "view.add_trajectory(u)"
   ]
  },
  {
   "cell_type": "code",
   "execution_count": 24,
   "metadata": {
    "collapsed": true,
    "jupyter": {
     "outputs_hidden": true
    }
   },
   "outputs": [
    {
     "data": {
      "text/plain": [
       "<GROReader md.gro with 1 frames of 27942 atoms>"
      ]
     },
     "execution_count": 24,
     "metadata": {},
     "output_type": "execute_result"
    }
   ],
   "source": [
    "u.trajectory"
   ]
  },
  {
   "cell_type": "code",
   "execution_count": null,
   "metadata": {
    "collapsed": true,
    "jupyter": {
     "outputs_hidden": true
    }
   },
   "outputs": [],
   "source": []
  }
 ],
 "metadata": {
  "kernelspec": {
   "display_name": "bpti",
   "language": "python",
   "name": "bpti"
  },
  "language_info": {
   "codemirror_mode": {
    "name": "ipython",
    "version": 3
   },
   "file_extension": ".py",
   "mimetype": "text/x-python",
   "name": "python",
   "nbconvert_exporter": "python",
   "pygments_lexer": "ipython3",
   "version": "3.9.18"
  }
 },
 "nbformat": 4,
 "nbformat_minor": 4
}
