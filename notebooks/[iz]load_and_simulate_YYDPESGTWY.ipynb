{
 "cells": [
  {
   "cell_type": "code",
   "execution_count": 1,
   "metadata": {
    "execution": {
     "iopub.execute_input": "2024-02-18T10:29:19.225701Z",
     "iopub.status.busy": "2024-02-18T10:29:19.224820Z",
     "iopub.status.idle": "2024-02-18T10:29:24.338040Z",
     "shell.execute_reply": "2024-02-18T10:29:24.337069Z",
     "shell.execute_reply.started": "2024-02-18T10:29:19.225666Z"
    }
   },
   "outputs": [
    {
     "data": {
      "application/vnd.jupyter.widget-view+json": {
       "model_id": "1359379154a64d3687668249a8b818dd",
       "version_major": 2,
       "version_minor": 0
      },
      "text/plain": []
     },
     "metadata": {},
     "output_type": "display_data"
    },
    {
     "name": "stderr",
     "output_type": "stream",
     "text": [
      "[dgx-master.technion.ac.il:3385968] PMIX ERROR: NO-PERMISSIONS in file dstore_base.c at line 237\n",
      "[dgx-master.technion.ac.il:3385968] PMIX ERROR: NO-PERMISSIONS in file dstore_base.c at line 246\n"
     ]
    }
   ],
   "source": [
    "import plumed\n",
    "import numpy as np\n",
    "import pandas as pd\n",
    "import MDAnalysis as mda\n",
    "import nglview\n",
    "import os\n",
    "from pathlib import Path\n",
    "from psfgen import PsfGen\n",
    "import subprocess\n",
    "import gromacs\n",
    "import panedr\n",
    "from gromacs.setup import *\n",
    "\n",
    "import matplotlib.pyplot as plt\n",
    "\n",
    "import yaml\n",
    "\n"
   ]
  },
  {
   "cell_type": "code",
   "execution_count": 2,
   "metadata": {
    "execution": {
     "iopub.execute_input": "2024-02-18T10:29:24.340532Z",
     "iopub.status.busy": "2024-02-18T10:29:24.339715Z",
     "iopub.status.idle": "2024-02-18T10:29:24.344039Z",
     "shell.execute_reply": "2024-02-18T10:29:24.343417Z",
     "shell.execute_reply.started": "2024-02-18T10:29:24.340501Z"
    }
   },
   "outputs": [],
   "source": [
    "base  = Path(os.getcwd()).parent"
   ]
  },
  {
   "cell_type": "code",
   "execution_count": 3,
   "metadata": {
    "execution": {
     "iopub.execute_input": "2024-02-18T10:29:24.348047Z",
     "iopub.status.busy": "2024-02-18T10:29:24.347816Z",
     "iopub.status.idle": "2024-02-18T10:29:24.357698Z",
     "shell.execute_reply": "2024-02-18T10:29:24.357035Z",
     "shell.execute_reply.started": "2024-02-18T10:29:24.348024Z"
    }
   },
   "outputs": [],
   "source": [
    "import sys\n",
    "extra_path = str(base / 'src' )"
   ]
  },
  {
   "cell_type": "code",
   "execution_count": 4,
   "metadata": {
    "execution": {
     "iopub.execute_input": "2024-02-18T10:29:24.359072Z",
     "iopub.status.busy": "2024-02-18T10:29:24.358529Z",
     "iopub.status.idle": "2024-02-18T10:29:24.372301Z",
     "shell.execute_reply": "2024-02-18T10:29:24.371637Z",
     "shell.execute_reply.started": "2024-02-18T10:29:24.359046Z"
    }
   },
   "outputs": [],
   "source": [
    "if extra_path not in sys.path:\n",
    "    sys.path.append(extra_path)\n",
    "    \n",
    "from utils import clean, run_omp_slurm, run_mpi_slurm"
   ]
  },
  {
   "cell_type": "code",
   "execution_count": 5,
   "metadata": {
    "execution": {
     "iopub.execute_input": "2024-02-18T10:29:25.760325Z",
     "iopub.status.busy": "2024-02-18T10:29:25.759533Z",
     "iopub.status.idle": "2024-02-18T10:29:25.764585Z",
     "shell.execute_reply": "2024-02-18T10:29:25.763849Z",
     "shell.execute_reply.started": "2024-02-18T10:29:25.760292Z"
    }
   },
   "outputs": [],
   "source": [
    "# set some general constants\n",
    "NSTEPS = 1000000\n",
    "NSTXOUT = 100\n",
    "TEMPERATURE = 340\n",
    "NSTENERGY=100\n",
    "\n",
    "# set timers to strech and posres runs\n",
    "\n",
    "nsteps_strech = 100000\n",
    "nsteps_posres = 100000\n",
    "\n",
    "\n",
    "# YYDPETGTWY -> YYDPESGTWY\n",
    "# set some mutation and file/folder names \n",
    "\n",
    "mutate = [('5','SER')]\n",
    "\n",
    "mutate_name = 'YYDPESGTWY'\n"
   ]
  },
  {
   "cell_type": "markdown",
   "metadata": {},
   "source": [
    "## Simulate the starting position for chignolin"
   ]
  },
  {
   "cell_type": "markdown",
   "metadata": {},
   "source": [
    "## Folded state"
   ]
  },
  {
   "cell_type": "code",
   "execution_count": 6,
   "metadata": {
    "execution": {
     "iopub.execute_input": "2024-02-18T10:29:38.758876Z",
     "iopub.status.busy": "2024-02-18T10:29:38.758219Z",
     "iopub.status.idle": "2024-02-18T10:29:38.793367Z",
     "shell.execute_reply": "2024-02-18T10:29:38.792621Z",
     "shell.execute_reply.started": "2024-02-18T10:29:38.758844Z"
    }
   },
   "outputs": [],
   "source": [
    "# create pdb psf files\n",
    "\n",
    "gen = PsfGen(output=\"/dev/null\")  # Suppress output since there's too much\n",
    "#gen.read_topology('../data/top_all27_prot_lipid_na.inp')\n",
    "gen.read_topology(str(base / 'data/top_all27_prot_lipid_na.inp'))"
   ]
  },
  {
   "cell_type": "code",
   "execution_count": 7,
   "metadata": {
    "execution": {
     "iopub.execute_input": "2024-02-18T10:29:40.125167Z",
     "iopub.status.busy": "2024-02-18T10:29:40.124448Z",
     "iopub.status.idle": "2024-02-18T10:29:40.152170Z",
     "shell.execute_reply": "2024-02-18T10:29:40.151405Z",
     "shell.execute_reply.started": "2024-02-18T10:29:40.125134Z"
    }
   },
   "outputs": [],
   "source": [
    "gen.alias_atom(resname='ILE' , top_atomname='CD', pdb_atomname='CD1')\n",
    "gen.add_segment(segid=\"P\",\n",
    "                pdbfile=str(base / 'data/YYDPETGTWY.pdb'),\n",
    "                first='NTER',\n",
    "                last='CTER',\n",
    "                mutate= mutate\n",
    "                )\n",
    "gen.read_coords(segid=\"P\", filename=str(base / 'data/YYDPETGTWY.pdb'))\n",
    "gen.regenerate_resids()\n",
    "gen.regenerate_angles()\n",
    "gen.regenerate_dihedrals()\n",
    "gen.guess_coords()"
   ]
  },
  {
   "cell_type": "code",
   "execution_count": 8,
   "metadata": {
    "execution": {
     "iopub.execute_input": "2024-02-18T10:29:42.852871Z",
     "iopub.status.busy": "2024-02-18T10:29:42.852024Z",
     "iopub.status.idle": "2024-02-18T10:29:42.856403Z",
     "shell.execute_reply": "2024-02-18T10:29:42.855742Z",
     "shell.execute_reply.started": "2024-02-18T10:29:42.852832Z"
    }
   },
   "outputs": [],
   "source": [
    "# make folder\n",
    "fdir = base / 'data/interim' / mutate_name / 'state_folded'"
   ]
  },
  {
   "cell_type": "code",
   "execution_count": 9,
   "metadata": {
    "execution": {
     "iopub.execute_input": "2024-02-18T10:30:14.877040Z",
     "iopub.status.busy": "2024-02-18T10:30:14.876664Z",
     "iopub.status.idle": "2024-02-18T10:30:14.882924Z",
     "shell.execute_reply": "2024-02-18T10:30:14.882199Z",
     "shell.execute_reply.started": "2024-02-18T10:30:14.877012Z"
    }
   },
   "outputs": [],
   "source": [
    "os.makedirs(str(fdir), exist_ok=True)"
   ]
  },
  {
   "cell_type": "code",
   "execution_count": 10,
   "metadata": {
    "execution": {
     "iopub.execute_input": "2024-02-18T10:30:22.653279Z",
     "iopub.status.busy": "2024-02-18T10:30:22.652283Z",
     "iopub.status.idle": "2024-02-18T10:30:22.666589Z",
     "shell.execute_reply": "2024-02-18T10:30:22.665794Z",
     "shell.execute_reply.started": "2024-02-18T10:30:22.653241Z"
    }
   },
   "outputs": [],
   "source": [
    "gen.write_pdb(str(fdir / str(mutate_name + '.pdb')))\n",
    "gen.write_psf(str(fdir / str(mutate_name + '.psf')))"
   ]
  },
  {
   "cell_type": "code",
   "execution_count": 11,
   "metadata": {
    "execution": {
     "iopub.execute_input": "2024-02-18T10:30:26.164818Z",
     "iopub.status.busy": "2024-02-18T10:30:26.163994Z",
     "iopub.status.idle": "2024-02-18T10:30:26.168226Z",
     "shell.execute_reply": "2024-02-18T10:30:26.167550Z",
     "shell.execute_reply.started": "2024-02-18T10:30:26.164785Z"
    }
   },
   "outputs": [],
   "source": [
    "# solvate and ionize \n",
    "os.chdir(fdir)"
   ]
  },
  {
   "cell_type": "code",
   "execution_count": 12,
   "metadata": {
    "execution": {
     "iopub.execute_input": "2024-02-18T10:30:27.582142Z",
     "iopub.status.busy": "2024-02-18T10:30:27.581466Z",
     "iopub.status.idle": "2024-02-18T10:30:31.038011Z",
     "shell.execute_reply": "2024-02-18T10:30:31.036824Z",
     "shell.execute_reply.started": "2024-02-18T10:30:27.582109Z"
    }
   },
   "outputs": [
    {
     "name": "stderr",
     "output_type": "stream",
     "text": [
      "               :-) GROMACS - gmx pdb2gmx, 2020.6-plumed-2.8.0 (-:\n",
      "\n",
      "                            GROMACS is written by:\n",
      "     Emile Apol      Rossen Apostolov      Paul Bauer     Herman J.C. Berendsen\n",
      "    Par Bjelkmar      Christian Blau   Viacheslav Bolnykh     Kevin Boyd    \n",
      " Aldert van Buuren   Rudi van Drunen     Anton Feenstra       Alan Gray     \n",
      "  Gerrit Groenhof     Anca Hamuraru    Vincent Hindriksen  M. Eric Irrgang  \n",
      "  Aleksei Iupinov   Christoph Junghans     Joe Jordan     Dimitrios Karkoulis\n",
      "    Peter Kasson        Jiri Kraus      Carsten Kutzner      Per Larsson    \n",
      "  Justin A. Lemkul    Viveca Lindahl    Magnus Lundborg     Erik Marklund   \n",
      "    Pascal Merz     Pieter Meulenhoff    Teemu Murtola       Szilard Pall   \n",
      "    Sander Pronk      Roland Schulz      Michael Shirts    Alexey Shvetsov  \n",
      "   Alfons Sijbers     Peter Tieleman      Jon Vincent      Teemu Virolainen \n",
      " Christian Wennberg    Maarten Wolf      Artem Zhmurov   \n",
      "                           and the project leaders:\n",
      "        Mark Abraham, Berk Hess, Erik Lindahl, and David van der Spoel\n",
      "\n",
      "Copyright (c) 1991-2000, University of Groningen, The Netherlands.\n",
      "Copyright (c) 2001-2019, The GROMACS development team at\n",
      "Uppsala University, Stockholm University and\n",
      "the Royal Institute of Technology, Sweden.\n",
      "check out http://www.gromacs.org for more information.\n",
      "\n",
      "GROMACS is free software; you can redistribute it and/or modify it\n",
      "under the terms of the GNU Lesser General Public License\n",
      "as published by the Free Software Foundation; either version 2.1\n",
      "of the License, or (at your option) any later version.\n",
      "\n",
      "GROMACS:      gmx pdb2gmx, version 2020.6-plumed-2.8.0\n",
      "Executable:   /home/zadoki/miniconda3/envs/bpti/bin/gmx_mpi\n",
      "Data prefix:  /home/zadoki/miniconda3/envs/bpti\n",
      "Working dir:  /rg/mendels_prj/zadoki/chignolin_test/data/interim/YYDPESGTWY/state_folded/top\n",
      "Command line:\n",
      "  gmx_mpi pdb2gmx -ignh -posrefc 50 -f /rg/mendels_prj/zadoki/chignolin_test/data/interim/YYDPESGTWY/state_folded/YYDPESGTWY.pdb -o protein_solvate.pdb -p system.top -i posres.itp -ff charmm27 -water tip3p\n",
      "\n",
      "Opening force field file /home/zadoki/miniconda3/envs/bpti/share/gromacs/top/charmm27.ff/aminoacids.r2b\n",
      "Opening force field file /home/zadoki/miniconda3/envs/bpti/share/gromacs/top/charmm27.ff/rna.r2b\n",
      "\n",
      "WARNING: there were 3 atoms with zero occupancy and 0 atoms with\n",
      "         occupancy unequal to one (out of 92 atoms). Check your pdb file.\n",
      "\n",
      "Opening force field file /home/zadoki/miniconda3/envs/bpti/share/gromacs/top/charmm27.ff/atomtypes.atp\n",
      "Opening force field file /home/zadoki/miniconda3/envs/bpti/share/gromacs/top/charmm27.ff/aminoacids.rtp\n",
      "Opening force field file /home/zadoki/miniconda3/envs/bpti/share/gromacs/top/charmm27.ff/dna.rtp\n",
      "Opening force field file /home/zadoki/miniconda3/envs/bpti/share/gromacs/top/charmm27.ff/lipids.rtp\n",
      "Opening force field file /home/zadoki/miniconda3/envs/bpti/share/gromacs/top/charmm27.ff/rna.rtp\n",
      "Opening force field file /home/zadoki/miniconda3/envs/bpti/share/gromacs/top/charmm27.ff/aminoacids.hdb\n",
      "Opening force field file /home/zadoki/miniconda3/envs/bpti/share/gromacs/top/charmm27.ff/dna.hdb\n",
      "Opening force field file /home/zadoki/miniconda3/envs/bpti/share/gromacs/top/charmm27.ff/lipids.hdb\n",
      "Opening force field file /home/zadoki/miniconda3/envs/bpti/share/gromacs/top/charmm27.ff/rna.hdb\n",
      "Opening force field file /home/zadoki/miniconda3/envs/bpti/share/gromacs/top/charmm27.ff/aminoacids.n.tdb\n",
      "Opening force field file /home/zadoki/miniconda3/envs/bpti/share/gromacs/top/charmm27.ff/dna.n.tdb\n",
      "Opening force field file /home/zadoki/miniconda3/envs/bpti/share/gromacs/top/charmm27.ff/rna.n.tdb\n",
      "Opening force field file /home/zadoki/miniconda3/envs/bpti/share/gromacs/top/charmm27.ff/aminoacids.c.tdb\n",
      "Opening force field file /home/zadoki/miniconda3/envs/bpti/share/gromacs/top/charmm27.ff/dna.c.tdb\n",
      "Opening force field file /home/zadoki/miniconda3/envs/bpti/share/gromacs/top/charmm27.ff/rna.c.tdb\n",
      "8 out of 8 lines of specbond.dat converted successfully\n",
      "Opening force field file /home/zadoki/miniconda3/envs/bpti/share/gromacs/top/charmm27.ff/aminoacids.arn\n",
      "Opening force field file /home/zadoki/miniconda3/envs/bpti/share/gromacs/top/charmm27.ff/dna.arn\n",
      "Opening force field file /home/zadoki/miniconda3/envs/bpti/share/gromacs/top/charmm27.ff/rna.arn\n",
      "Making bonds...\n",
      "Number of bonds was 168, now 168\n",
      "Generating angles, dihedrals and pairs...\n",
      "Before cleaning: 432 pairs\n",
      "Before cleaning: 442 dihedrals\n",
      "Keeping all generated dihedrals\n",
      "Making cmap torsions...\n",
      "There are    8 cmap torsion pairs\n",
      "There are  442 dihedrals,   21 impropers,  293 angles\n",
      "           420 pairs,      168 bonds and     0 virtual sites\n",
      "Total mass 1278.297 a.m.u.\n",
      "Total charge -2.000 e\n",
      "Writing topology\n",
      "\n",
      "Writing coordinate file...\n",
      "\n",
      "GROMACS reminds you: \"I invented the term 'Object-Oriented', and I can tell you I did not have C++ in mind.\" (Alay Kay, author of Smalltalk)\n",
      "\n"
     ]
    },
    {
     "name": "stdout",
     "output_type": "stream",
     "text": [
      "\n",
      "Using the Charmm27 force field in directory charmm27.ff\n",
      "\n",
      "going to rename charmm27.ff/aminoacids.r2b\n",
      "going to rename charmm27.ff/rna.r2b\n",
      "Reading /rg/mendels_prj/zadoki/chignolin_test/data/interim/YYDPESGTWY/state_folded/YYDPESGTWY.pdb...\n",
      "Read '', 92 atoms\n",
      "Analyzing pdb file\n",
      "Splitting chemical chains based on TER records or chain id changing.\n",
      "There are 1 chains and 0 blocks of water and 10 residues with 92 atoms\n",
      "\n",
      "  chain  #res #atoms\n",
      "  1 'A'    10     92  \n",
      "\n",
      "Reading residue database... (Charmm27)\n",
      "Processing chain 1 'A' (92 atoms, 10 residues)\n",
      "Identified residue TYR0 as a starting terminus.\n",
      "Identified residue TYR9 as a ending terminus.\n",
      "Start terminus TYR-0: NH3+\n",
      "End terminus TYR-9: COO-\n",
      "Checking for duplicate atoms....\n",
      "Generating any missing hydrogen atoms and/or adding termini.\n",
      "Now there are 10 residues with 163 atoms\n",
      "\t\t--------- PLEASE NOTE ------------\n",
      "You have successfully generated a topology from: /rg/mendels_prj/zadoki/chignolin_test/data/interim/YYDPESGTWY/state_folded/YYDPESGTWY.pdb.\n",
      "The Charmm27 force field and the tip3p water model are used.\n",
      "\t\t--------- ETON ESAELP ------------\n"
     ]
    },
    {
     "name": "stderr",
     "output_type": "stream",
     "text": [
      "[dgx-master.technion.ac.il:3386946] PMIX ERROR: NO-PERMISSIONS in file dstore_base.c at line 237\n",
      "[dgx-master.technion.ac.il:3386946] PMIX ERROR: NO-PERMISSIONS in file dstore_base.c at line 246\n",
      "              :-) GROMACS - gmx editconf, 2020.6-plumed-2.8.0 (-:\n",
      "\n",
      "                            GROMACS is written by:\n",
      "     Emile Apol      Rossen Apostolov      Paul Bauer     Herman J.C. Berendsen\n",
      "    Par Bjelkmar      Christian Blau   Viacheslav Bolnykh     Kevin Boyd    \n",
      " Aldert van Buuren   Rudi van Drunen     Anton Feenstra       Alan Gray     \n",
      "  Gerrit Groenhof     Anca Hamuraru    Vincent Hindriksen  M. Eric Irrgang  \n",
      "  Aleksei Iupinov   Christoph Junghans     Joe Jordan     Dimitrios Karkoulis\n",
      "    Peter Kasson        Jiri Kraus      Carsten Kutzner      Per Larsson    \n",
      "  Justin A. Lemkul    Viveca Lindahl    Magnus Lundborg     Erik Marklund   \n",
      "    Pascal Merz     Pieter Meulenhoff    Teemu Murtola       Szilard Pall   \n",
      "    Sander Pronk      Roland Schulz      Michael Shirts    Alexey Shvetsov  \n",
      "   Alfons Sijbers     Peter Tieleman      Jon Vincent      Teemu Virolainen \n",
      " Christian Wennberg    Maarten Wolf      Artem Zhmurov   \n",
      "                           and the project leaders:\n",
      "        Mark Abraham, Berk Hess, Erik Lindahl, and David van der Spoel\n",
      "\n",
      "Copyright (c) 1991-2000, University of Groningen, The Netherlands.\n",
      "Copyright (c) 2001-2019, The GROMACS development team at\n",
      "Uppsala University, Stockholm University and\n",
      "the Royal Institute of Technology, Sweden.\n",
      "check out http://www.gromacs.org for more information.\n",
      "\n",
      "GROMACS is free software; you can redistribute it and/or modify it\n",
      "under the terms of the GNU Lesser General Public License\n",
      "as published by the Free Software Foundation; either version 2.1\n",
      "of the License, or (at your option) any later version.\n",
      "\n",
      "GROMACS:      gmx editconf, version 2020.6-plumed-2.8.0\n",
      "Executable:   /home/zadoki/miniconda3/envs/bpti/bin/gmx_mpi\n",
      "Data prefix:  /home/zadoki/miniconda3/envs/bpti\n",
      "Working dir:  /rg/mendels_prj/zadoki/chignolin_test/data/interim/YYDPESGTWY/state_folded/solvate\n",
      "Command line:\n",
      "  gmx_mpi editconf -f /rg/mendels_prj/zadoki/chignolin_test/data/interim/YYDPESGTWY/state_folded/top/protein_solvate.pdb -o boxed.gro -bt cubic -d 1.0\n",
      "\n",
      "\n",
      "GROMACS reminds you: \"I invented the term 'Object-Oriented', and I can tell you I did not have C++ in mind.\" (Alay Kay, author of Smalltalk)\n",
      "\n"
     ]
    },
    {
     "name": "stdout",
     "output_type": "stream",
     "text": [
      "Note that major changes are planned in future for editconf, to improve usability and utility.\n",
      "Read 163 atoms\n",
      "No velocities found\n",
      "    system size :  1.619  1.509  1.306 (nm)\n",
      "    diameter    :  1.784               (nm)\n",
      "    center      :  0.017 -0.513 -0.638 (nm)\n",
      "    box vectors :  0.000  0.000  0.000 (nm)\n",
      "    box angles  :   0.00   0.00   0.00 (degrees)\n",
      "    box volume  :   0.00               (nm^3)\n",
      "    shift       :  1.875  2.405  2.530 (nm)\n",
      "new center      :  1.892  1.892  1.892 (nm)\n",
      "new box vectors :  3.784  3.784  3.784 (nm)\n",
      "new box angles  :  90.00  90.00  90.00 (degrees)\n",
      "new box volume  :  54.18               (nm^3)\n"
     ]
    },
    {
     "name": "stderr",
     "output_type": "stream",
     "text": [
      "[dgx-master.technion.ac.il:3386971] PMIX ERROR: NO-PERMISSIONS in file dstore_base.c at line 237\n",
      "[dgx-master.technion.ac.il:3386971] PMIX ERROR: NO-PERMISSIONS in file dstore_base.c at line 237\n",
      "[dgx-master.technion.ac.il:3386971] PMIX ERROR: NO-PERMISSIONS in file dstore_base.c at line 246\n",
      "               :-) GROMACS - gmx solvate, 2020.6-plumed-2.8.0 (-:\n",
      "\n",
      "                            GROMACS is written by:\n",
      "     Emile Apol      Rossen Apostolov      Paul Bauer     Herman J.C. Berendsen\n",
      "    Par Bjelkmar      Christian Blau   Viacheslav Bolnykh     Kevin Boyd    \n",
      " Aldert van Buuren   Rudi van Drunen     Anton Feenstra       Alan Gray     \n",
      "  Gerrit Groenhof     Anca Hamuraru    Vincent Hindriksen  M. Eric Irrgang  \n",
      "  Aleksei Iupinov   Christoph Junghans     Joe Jordan     Dimitrios Karkoulis\n",
      "    Peter Kasson        Jiri Kraus      Carsten Kutzner      Per Larsson    \n",
      "  Justin A. Lemkul    Viveca Lindahl    Magnus Lundborg     Erik Marklund   \n",
      "    Pascal Merz     Pieter Meulenhoff    Teemu Murtola       Szilard Pall   \n",
      "    Sander Pronk      Roland Schulz      Michael Shirts    Alexey Shvetsov  \n",
      "   Alfons Sijbers     Peter Tieleman      Jon Vincent      Teemu Virolainen \n",
      " Christian Wennberg    Maarten Wolf      Artem Zhmurov   \n",
      "                           and the project leaders:\n",
      "        Mark Abraham, Berk Hess, Erik Lindahl, and David van der Spoel\n",
      "\n",
      "Copyright (c) 1991-2000, University of Groningen, The Netherlands.\n",
      "Copyright (c) 2001-2019, The GROMACS development team at\n",
      "Uppsala University, Stockholm University and\n",
      "the Royal Institute of Technology, Sweden.\n",
      "check out http://www.gromacs.org for more information.\n",
      "\n",
      "GROMACS is free software; you can redistribute it and/or modify it\n",
      "under the terms of the GNU Lesser General Public License\n",
      "as published by the Free Software Foundation; either version 2.1\n",
      "of the License, or (at your option) any later version.\n",
      "\n",
      "GROMACS:      gmx solvate, version 2020.6-plumed-2.8.0\n",
      "Executable:   /home/zadoki/miniconda3/envs/bpti/bin/gmx_mpi\n",
      "Data prefix:  /home/zadoki/miniconda3/envs/bpti\n",
      "Working dir:  /rg/mendels_prj/zadoki/chignolin_test/data/interim/YYDPESGTWY/state_folded/solvate\n",
      "Command line:\n",
      "  gmx_mpi solvate -p /rg/mendels_prj/zadoki/chignolin_test/data/interim/YYDPESGTWY/state_folded/top/system.top -cp boxed.gro -cs spc216 -o solvated.gro\n",
      "\n",
      "Reading solute configuration\n",
      "Reading solvent configuration\n",
      "\n",
      "Initialising inter-atomic distances...\n",
      "Generating solvent configuration\n",
      "Will generate new solvent configuration of 3x3x3 boxes\n",
      "Solvent box contains 6921 atoms in 2307 residues\n"
     ]
    },
    {
     "name": "stdout",
     "output_type": "stream",
     "text": [
      "\n",
      "WARNING: Masses and atomic (Van der Waals) radii will be guessed\n",
      "         based on residue and atom names, since they could not be\n",
      "         definitively assigned from the information in your input\n",
      "         files. These guessed numbers might deviate from the mass\n",
      "         and radius of the atom type. Please check the output\n",
      "         files if necessary.\n",
      "\n",
      "NOTE: From version 5.0 gmx solvate uses the Van der Waals radii\n",
      "from the source below. This means the results may be different\n",
      "compared to previous GROMACS versions.\n",
      "\n",
      "++++ PLEASE READ AND CITE THE FOLLOWING REFERENCE ++++\n",
      "A. Bondi\n",
      "van der Waals Volumes and Radii\n",
      "J. Phys. Chem. 68 (1964) pp. 441-451\n",
      "-------- -------- --- Thank You --- -------- --------\n",
      "\n",
      "Adding line for 1647 solvent molecules with resname (SOL) to topology file (/rg/mendels_prj/zadoki/chignolin_test/data/interim/YYDPESGTWY/state_folded/top/system.top)\n"
     ]
    },
    {
     "name": "stderr",
     "output_type": "stream",
     "text": [
      "Removed 1815 solvent atoms due to solvent-solvent overlap\n",
      "Removed 165 solvent atoms due to solute-solvent overlap\n",
      "Sorting configuration\n",
      "Found 1 molecule type:\n",
      "    SOL (   3 atoms):  1647 residues\n",
      "Generated solvent containing 4941 atoms in 1647 residues\n",
      "Writing generated configuration to solvated.gro\n",
      "\n",
      "Output configuration contains 5104 atoms in 1657 residues\n",
      "Volume                 :     54.1753 (nm^3)\n",
      "Density                :     950.745 (g/l)\n",
      "Number of solvent molecules:   1647   \n",
      "\n",
      "Processing topology\n",
      "\n",
      "Back Off! I just backed up /rg/mendels_prj/zadoki/chignolin_test/data/interim/YYDPESGTWY/state_folded/top/system.top to /rg/mendels_prj/zadoki/chignolin_test/data/interim/YYDPESGTWY/state_folded/top/#system.top.1#\n",
      "\n",
      "GROMACS reminds you: \"I invented the term 'Object-Oriented', and I can tell you I did not have C++ in mind.\" (Alay Kay, author of Smalltalk)\n",
      "\n",
      "[dgx-master.technion.ac.il:3387004] PMIX ERROR: NO-PERMISSIONS in file dstore_base.c at line 237\n",
      "[dgx-master.technion.ac.il:3387004] PMIX ERROR: NO-PERMISSIONS in file dstore_base.c at line 246\n",
      "               :-) GROMACS - gmx genion, 2020.6-plumed-2.8.0 (-:\n",
      "\n",
      "                            GROMACS is written by:\n",
      "     Emile Apol      Rossen Apostolov      Paul Bauer     Herman J.C. Berendsen\n",
      "    Par Bjelkmar      Christian Blau   Viacheslav Bolnykh     Kevin Boyd    \n",
      " Aldert van Buuren   Rudi van Drunen     Anton Feenstra       Alan Gray     \n",
      "  Gerrit Groenhof     Anca Hamuraru    Vincent Hindriksen  M. Eric Irrgang  \n",
      "  Aleksei Iupinov   Christoph Junghans     Joe Jordan     Dimitrios Karkoulis\n",
      "    Peter Kasson        Jiri Kraus      Carsten Kutzner      Per Larsson    \n",
      "  Justin A. Lemkul    Viveca Lindahl    Magnus Lundborg     Erik Marklund   \n",
      "    Pascal Merz     Pieter Meulenhoff    Teemu Murtola       Szilard Pall   \n",
      "    Sander Pronk      Roland Schulz      Michael Shirts    Alexey Shvetsov  \n",
      "   Alfons Sijbers     Peter Tieleman      Jon Vincent      Teemu Virolainen \n",
      " Christian Wennberg    Maarten Wolf      Artem Zhmurov   \n",
      "                           and the project leaders:\n",
      "        Mark Abraham, Berk Hess, Erik Lindahl, and David van der Spoel\n",
      "\n",
      "Copyright (c) 1991-2000, University of Groningen, The Netherlands.\n",
      "Copyright (c) 2001-2019, The GROMACS development team at\n",
      "Uppsala University, Stockholm University and\n",
      "the Royal Institute of Technology, Sweden.\n",
      "check out http://www.gromacs.org for more information.\n",
      "\n",
      "GROMACS is free software; you can redistribute it and/or modify it\n",
      "under the terms of the GNU Lesser General Public License\n",
      "as published by the Free Software Foundation; either version 2.1\n",
      "of the License, or (at your option) any later version.\n",
      "\n",
      "GROMACS:      gmx genion, version 2020.6-plumed-2.8.0\n",
      "Executable:   /home/zadoki/miniconda3/envs/bpti/bin/gmx_mpi\n",
      "Data prefix:  /home/zadoki/miniconda3/envs/bpti\n",
      "Working dir:  /rg/mendels_prj/zadoki/chignolin_test/data/interim/YYDPESGTWY/state_folded/solvate\n",
      "Command line:\n",
      "  gmx_mpi genion -s topol.tpr -o ionized.gro -p /rg/mendels_prj/zadoki/chignolin_test/data/interim/YYDPESGTWY/state_folded/top/system.top -pname NA -nname CL -np 2 -nn 0\n",
      "\n",
      "Reading file topol.tpr, VERSION 2020.6-plumed-2.8.0 (single precision)\n",
      "Reading file topol.tpr, VERSION 2020.6-plumed-2.8.0 (single precision)\n",
      "Group     0 (         System) has  5104 elements\n",
      "Group     1 (        Protein) has   163 elements\n",
      "Group     2 (      Protein-H) has    92 elements\n",
      "Group     3 (        C-alpha) has    10 elements\n",
      "Group     4 (       Backbone) has    30 elements\n",
      "Group     5 (      MainChain) has    39 elements\n",
      "Group     6 (   MainChain+Cb) has    48 elements\n",
      "Group     7 (    MainChain+H) has    50 elements\n",
      "Group     8 (      SideChain) has   113 elements\n",
      "Group     9 (    SideChain-H) has    53 elements\n",
      "Group    10 (    Prot-Masses) has   163 elements\n",
      "Group    11 (    non-Protein) has  4941 elements\n",
      "Group    12 (          Water) has  4941 elements\n",
      "Group    13 (            SOL) has  4941 elements\n",
      "Group    14 (      non-Water) has   163 elements\n",
      "Select a group: Number of (3-atomic) solvent molecules: 1647\n",
      "\n",
      "Back Off! I just backed up /rg/mendels_prj/zadoki/chignolin_test/data/interim/YYDPESGTWY/state_folded/top/system.top to /rg/mendels_prj/zadoki/chignolin_test/data/interim/YYDPESGTWY/state_folded/top/#system.top.2#\n",
      "Using random seed -1351414601.\n",
      "Replacing solvent molecule 820 (atom 2623) with NA\n",
      "Replacing solvent molecule 517 (atom 1714) with NA\n",
      "\n",
      "\n",
      "GROMACS reminds you: \"I like to wait, then I feel like I do something\" (Carl Caleman)\n",
      "\n",
      "[dgx-master.technion.ac.il:3387057] PMIX ERROR: NO-PERMISSIONS in file dstore_base.c at line 237\n",
      "[dgx-master.technion.ac.il:3387057] PMIX ERROR: NO-PERMISSIONS in file dstore_base.c at line 237\n",
      "[dgx-master.technion.ac.il:3387057] PMIX ERROR: NO-PERMISSIONS in file dstore_base.c at line 246\n"
     ]
    },
    {
     "name": "stdout",
     "output_type": "stream",
     "text": [
      "Will try to add 2 NA ions and 0 CL ions.\n",
      "Select a continuous group of solvent molecules\n",
      "Selected 13: 'SOL'\n",
      "\n",
      "Processing topology\n",
      "Replacing 2 solute molecules in topology file (/rg/mendels_prj/zadoki/chignolin_test/data/interim/YYDPESGTWY/state_folded/top/system.top)  by 2 NA and 0 CL ions.\n"
     ]
    },
    {
     "name": "stderr",
     "output_type": "stream",
     "text": [
      "              :-) GROMACS - gmx make_ndx, 2020.6-plumed-2.8.0 (-:\n",
      "\n",
      "                            GROMACS is written by:\n",
      "     Emile Apol      Rossen Apostolov      Paul Bauer     Herman J.C. Berendsen\n",
      "    Par Bjelkmar      Christian Blau   Viacheslav Bolnykh     Kevin Boyd    \n",
      " Aldert van Buuren   Rudi van Drunen     Anton Feenstra       Alan Gray     \n",
      "  Gerrit Groenhof     Anca Hamuraru    Vincent Hindriksen  M. Eric Irrgang  \n",
      "  Aleksei Iupinov   Christoph Junghans     Joe Jordan     Dimitrios Karkoulis\n",
      "    Peter Kasson        Jiri Kraus      Carsten Kutzner      Per Larsson    \n",
      "  Justin A. Lemkul    Viveca Lindahl    Magnus Lundborg     Erik Marklund   \n",
      "    Pascal Merz     Pieter Meulenhoff    Teemu Murtola       Szilard Pall   \n",
      "    Sander Pronk      Roland Schulz      Michael Shirts    Alexey Shvetsov  \n",
      "   Alfons Sijbers     Peter Tieleman      Jon Vincent      Teemu Virolainen \n",
      " Christian Wennberg    Maarten Wolf      Artem Zhmurov   \n",
      "                           and the project leaders:\n",
      "        Mark Abraham, Berk Hess, Erik Lindahl, and David van der Spoel\n",
      "\n",
      "Copyright (c) 1991-2000, University of Groningen, The Netherlands.\n",
      "Copyright (c) 2001-2019, The GROMACS development team at\n",
      "Uppsala University, Stockholm University and\n",
      "the Royal Institute of Technology, Sweden.\n",
      "check out http://www.gromacs.org for more information.\n",
      "\n",
      "GROMACS is free software; you can redistribute it and/or modify it\n",
      "under the terms of the GNU Lesser General Public License\n",
      "as published by the Free Software Foundation; either version 2.1\n",
      "of the License, or (at your option) any later version.\n",
      "\n",
      "GROMACS:      gmx make_ndx, version 2020.6-plumed-2.8.0\n",
      "Executable:   /home/zadoki/miniconda3/envs/bpti/bin/gmx_mpi\n",
      "Data prefix:  /home/zadoki/miniconda3/envs/bpti\n",
      "Working dir:  /rg/mendels_prj/zadoki/chignolin_test/data/interim/YYDPESGTWY/state_folded/solvate\n",
      "Command line:\n",
      "  gmx_mpi make_ndx -f ionized.tpr -o main.ndx\n",
      "\n",
      "\n",
      "Reading structure file\n",
      "Reading file ionized.tpr, VERSION 2020.6-plumed-2.8.0 (single precision)\n",
      "Reading file ionized.tpr, VERSION 2020.6-plumed-2.8.0 (single precision)\n",
      "\n",
      "GROMACS reminds you: \"Millions saw the apple fall, Newton was the only one who asked why?\" (Bernard Baruch)\n",
      "\n",
      "[dgx-master.technion.ac.il:3387109] PMIX ERROR: NO-PERMISSIONS in file dstore_base.c at line 237\n",
      "[dgx-master.technion.ac.il:3387109] PMIX ERROR: NO-PERMISSIONS in file dstore_base.c at line 246\n",
      "              :-) GROMACS - gmx make_ndx, 2020.6-plumed-2.8.0 (-:\n",
      "\n",
      "                            GROMACS is written by:\n",
      "     Emile Apol      Rossen Apostolov      Paul Bauer     Herman J.C. Berendsen\n",
      "    Par Bjelkmar      Christian Blau   Viacheslav Bolnykh     Kevin Boyd    \n",
      " Aldert van Buuren   Rudi van Drunen     Anton Feenstra       Alan Gray     \n",
      "  Gerrit Groenhof     Anca Hamuraru    Vincent Hindriksen  M. Eric Irrgang  \n",
      "  Aleksei Iupinov   Christoph Junghans     Joe Jordan     Dimitrios Karkoulis\n",
      "    Peter Kasson        Jiri Kraus      Carsten Kutzner      Per Larsson    \n",
      "  Justin A. Lemkul    Viveca Lindahl    Magnus Lundborg     Erik Marklund   \n",
      "    Pascal Merz     Pieter Meulenhoff    Teemu Murtola       Szilard Pall   \n",
      "    Sander Pronk      Roland Schulz      Michael Shirts    Alexey Shvetsov  \n",
      "   Alfons Sijbers     Peter Tieleman      Jon Vincent      Teemu Virolainen \n",
      " Christian Wennberg    Maarten Wolf      Artem Zhmurov   \n",
      "                           and the project leaders:\n",
      "        Mark Abraham, Berk Hess, Erik Lindahl, and David van der Spoel\n",
      "\n",
      "Copyright (c) 1991-2000, University of Groningen, The Netherlands.\n",
      "Copyright (c) 2001-2019, The GROMACS development team at\n",
      "Uppsala University, Stockholm University and\n",
      "the Royal Institute of Technology, Sweden.\n",
      "check out http://www.gromacs.org for more information.\n",
      "\n",
      "GROMACS is free software; you can redistribute it and/or modify it\n",
      "under the terms of the GNU Lesser General Public License\n",
      "as published by the Free Software Foundation; either version 2.1\n",
      "of the License, or (at your option) any later version.\n",
      "\n",
      "GROMACS:      gmx make_ndx, version 2020.6-plumed-2.8.0\n",
      "Executable:   /home/zadoki/miniconda3/envs/bpti/bin/gmx_mpi\n",
      "Data prefix:  /home/zadoki/miniconda3/envs/bpti\n",
      "Working dir:  /rg/mendels_prj/zadoki/chignolin_test/data/interim/YYDPESGTWY/state_folded/solvate\n",
      "Command line:\n",
      "  gmx_mpi make_ndx -f ionized.tpr -n main.ndx -o main.ndx\n",
      "\n",
      "\n",
      "Reading structure file\n",
      "Reading file ionized.tpr, VERSION 2020.6-plumed-2.8.0 (single precision)\n",
      "Reading file ionized.tpr, VERSION 2020.6-plumed-2.8.0 (single precision)\n",
      "\n",
      "Back Off! I just backed up main.ndx to ./#main.ndx.1#\n",
      "\n",
      "GROMACS reminds you: \"Millions saw the apple fall, Newton was the only one who asked why?\" (Bernard Baruch)\n",
      "\n",
      "[dgx-master.technion.ac.il:3387141] PMIX ERROR: NO-PERMISSIONS in file dstore_base.c at line 237\n",
      "[dgx-master.technion.ac.il:3387141] PMIX ERROR: NO-PERMISSIONS in file dstore_base.c at line 246\n"
     ]
    },
    {
     "name": "stdout",
     "output_type": "stream",
     "text": [
      "Note that major changes are planned in future for trjconv, to improve usability and utility.\n",
      "Select group for centering\n",
      "Selected 18: '__main__'\n",
      "Select group for output\n",
      "Selected 0: 'System'\n"
     ]
    },
    {
     "name": "stderr",
     "output_type": "stream",
     "text": [
      "               :-) GROMACS - gmx trjconv, 2020.6-plumed-2.8.0 (-:\n",
      "\n",
      "                            GROMACS is written by:\n",
      "     Emile Apol      Rossen Apostolov      Paul Bauer     Herman J.C. Berendsen\n",
      "    Par Bjelkmar      Christian Blau   Viacheslav Bolnykh     Kevin Boyd    \n",
      " Aldert van Buuren   Rudi van Drunen     Anton Feenstra       Alan Gray     \n",
      "  Gerrit Groenhof     Anca Hamuraru    Vincent Hindriksen  M. Eric Irrgang  \n",
      "  Aleksei Iupinov   Christoph Junghans     Joe Jordan     Dimitrios Karkoulis\n",
      "    Peter Kasson        Jiri Kraus      Carsten Kutzner      Per Larsson    \n",
      "  Justin A. Lemkul    Viveca Lindahl    Magnus Lundborg     Erik Marklund   \n",
      "    Pascal Merz     Pieter Meulenhoff    Teemu Murtola       Szilard Pall   \n",
      "    Sander Pronk      Roland Schulz      Michael Shirts    Alexey Shvetsov  \n",
      "   Alfons Sijbers     Peter Tieleman      Jon Vincent      Teemu Virolainen \n",
      " Christian Wennberg    Maarten Wolf      Artem Zhmurov   \n",
      "                           and the project leaders:\n",
      "        Mark Abraham, Berk Hess, Erik Lindahl, and David van der Spoel\n",
      "\n",
      "Copyright (c) 1991-2000, University of Groningen, The Netherlands.\n",
      "Copyright (c) 2001-2019, The GROMACS development team at\n",
      "Uppsala University, Stockholm University and\n",
      "the Royal Institute of Technology, Sweden.\n",
      "check out http://www.gromacs.org for more information.\n",
      "\n",
      "GROMACS is free software; you can redistribute it and/or modify it\n",
      "under the terms of the GNU Lesser General Public License\n",
      "as published by the Free Software Foundation; either version 2.1\n",
      "of the License, or (at your option) any later version.\n",
      "\n",
      "GROMACS:      gmx trjconv, version 2020.6-plumed-2.8.0\n",
      "Executable:   /home/zadoki/miniconda3/envs/bpti/bin/gmx_mpi\n",
      "Data prefix:  /home/zadoki/miniconda3/envs/bpti\n",
      "Working dir:  /rg/mendels_prj/zadoki/chignolin_test/data/interim/YYDPESGTWY/state_folded/solvate\n",
      "Command line:\n",
      "  gmx_mpi trjconv -ur compact -center -boxcenter tric -pbc mol -f ionized.gro -s ionized.tpr -o compact.pdb -n main.ndx\n",
      "\n",
      "Will write pdb: Protein data bank file\n",
      "Reading file ionized.tpr, VERSION 2020.6-plumed-2.8.0 (single precision)\n",
      "Reading file ionized.tpr, VERSION 2020.6-plumed-2.8.0 (single precision)\n",
      "Group     0 (         System) has  5100 elements\n",
      "Group     1 (        Protein) has   163 elements\n",
      "Group     2 (      Protein-H) has    92 elements\n",
      "Group     3 (        C-alpha) has    10 elements\n",
      "Group     4 (       Backbone) has    30 elements\n",
      "Group     5 (      MainChain) has    39 elements\n",
      "Group     6 (   MainChain+Cb) has    48 elements\n",
      "Group     7 (    MainChain+H) has    50 elements\n",
      "Group     8 (      SideChain) has   113 elements\n",
      "Group     9 (    SideChain-H) has    53 elements\n",
      "Group    10 (    Prot-Masses) has   163 elements\n",
      "Group    11 (    non-Protein) has  4937 elements\n",
      "Group    12 (          Water) has  4935 elements\n",
      "Group    13 (            SOL) has  4935 elements\n",
      "Group    14 (      non-Water) has   165 elements\n",
      "Group    15 (            Ion) has     2 elements\n",
      "Group    16 (             NA) has     2 elements\n",
      "Group    17 ( Water_and_ions) has  4937 elements\n",
      "Group    18 (       __main__) has   163 elements\n",
      "Group    19 (__environment__) has  4937 elements\n",
      "Select a group: Group     0 (         System) has  5100 elements\n",
      "Group     1 (        Protein) has   163 elements\n",
      "Group     2 (      Protein-H) has    92 elements\n",
      "Group     3 (        C-alpha) has    10 elements\n",
      "Group     4 (       Backbone) has    30 elements\n",
      "Group     5 (      MainChain) has    39 elements\n",
      "Group     6 (   MainChain+Cb) has    48 elements\n",
      "Group     7 (    MainChain+H) has    50 elements\n",
      "Group     8 (      SideChain) has   113 elements\n",
      "Group     9 (    SideChain-H) has    53 elements\n",
      "Group    10 (    Prot-Masses) has   163 elements\n",
      "Group    11 (    non-Protein) has  4937 elements\n",
      "Group    12 (          Water) has  4935 elements\n",
      "Group    13 (            SOL) has  4935 elements\n",
      "Group    14 (      non-Water) has   165 elements\n",
      "Group    15 (            Ion) has     2 elements\n",
      "Group    16 (             NA) has     2 elements\n",
      "Group    17 ( Water_and_ions) has  4937 elements\n",
      "Group    18 (       __main__) has   163 elements\n",
      "Group    19 (__environment__) has  4937 elements\n",
      "Select a group: Reading frames from gro file 'Protein in water', 5100 atoms.\n",
      "Reading frame       0 time    0.000   \n",
      "Precision of ionized.gro is 0.001 (nm)\n",
      "Last frame          0 time    0.000   \n",
      "\n",
      "\n",
      "GROMACS reminds you: \"Millions saw the apple fall, Newton was the only one who asked why?\" (Bernard Baruch)\n",
      "\n"
     ]
    }
   ],
   "source": [
    "# original topology ff \n",
    "f1 = topology(protein='protein_solvate', struct= mutate_name + '.pdb',  ff='charmm27', water='tip3p', ignh=True, posrefc=50)\n",
    "# solvate and ionize\n",
    "f2 = solvate(boxtype='cubic',distance=1.0, water='tip3p', **f1)"
   ]
  },
  {
   "cell_type": "code",
   "execution_count": 13,
   "metadata": {
    "execution": {
     "iopub.execute_input": "2024-02-18T10:30:31.040037Z",
     "iopub.status.busy": "2024-02-18T10:30:31.039753Z",
     "iopub.status.idle": "2024-02-18T10:30:37.608866Z",
     "shell.execute_reply": "2024-02-18T10:30:37.607888Z",
     "shell.execute_reply.started": "2024-02-18T10:30:31.040010Z"
    }
   },
   "outputs": [
    {
     "name": "stderr",
     "output_type": "stream",
     "text": [
      "[dgx-master.technion.ac.il:3387163] PMIX ERROR: NO-PERMISSIONS in file dstore_base.c at line 237\n",
      "[dgx-master.technion.ac.il:3387163] PMIX ERROR: NO-PERMISSIONS in file dstore_base.c at line 246\n",
      "/home/zadoki/miniconda3/envs/gromacs_plumed/lib/python3.9/site-packages/gromacs/setup.py:781: UsageWarning: Unprocessed mdp option are interpreted as options for grompp:\n",
      "{'maxwarn': 10, 'pp': 'processed.top'}\n",
      "  warnings.warn(wmsg, category=UsageWarning)\n",
      "               :-) GROMACS - gmx grompp, 2020.6-plumed-2.8.0 (-:\n",
      "\n",
      "                            GROMACS is written by:\n",
      "     Emile Apol      Rossen Apostolov      Paul Bauer     Herman J.C. Berendsen\n",
      "    Par Bjelkmar      Christian Blau   Viacheslav Bolnykh     Kevin Boyd    \n",
      " Aldert van Buuren   Rudi van Drunen     Anton Feenstra       Alan Gray     \n",
      "  Gerrit Groenhof     Anca Hamuraru    Vincent Hindriksen  M. Eric Irrgang  \n",
      "  Aleksei Iupinov   Christoph Junghans     Joe Jordan     Dimitrios Karkoulis\n",
      "    Peter Kasson        Jiri Kraus      Carsten Kutzner      Per Larsson    \n",
      "  Justin A. Lemkul    Viveca Lindahl    Magnus Lundborg     Erik Marklund   \n",
      "    Pascal Merz     Pieter Meulenhoff    Teemu Murtola       Szilard Pall   \n",
      "    Sander Pronk      Roland Schulz      Michael Shirts    Alexey Shvetsov  \n",
      "   Alfons Sijbers     Peter Tieleman      Jon Vincent      Teemu Virolainen \n",
      " Christian Wennberg    Maarten Wolf      Artem Zhmurov   \n",
      "                           and the project leaders:\n",
      "        Mark Abraham, Berk Hess, Erik Lindahl, and David van der Spoel\n",
      "\n",
      "Copyright (c) 1991-2000, University of Groningen, The Netherlands.\n",
      "Copyright (c) 2001-2019, The GROMACS development team at\n",
      "Uppsala University, Stockholm University and\n",
      "the Royal Institute of Technology, Sweden.\n",
      "check out http://www.gromacs.org for more information.\n",
      "\n",
      "GROMACS is free software; you can redistribute it and/or modify it\n",
      "under the terms of the GNU Lesser General Public License\n",
      "as published by the Free Software Foundation; either version 2.1\n",
      "of the License, or (at your option) any later version.\n",
      "\n",
      "GROMACS:      gmx grompp, version 2020.6-plumed-2.8.0\n",
      "Executable:   /home/zadoki/miniconda3/envs/bpti/bin/gmx_mpi\n",
      "Data prefix:  /home/zadoki/miniconda3/envs/bpti\n",
      "Working dir:  /rg/mendels_prj/zadoki/chignolin_test/data/interim/YYDPESGTWY/state_folded/em\n",
      "Command line:\n",
      "  gmx_mpi grompp -f em.mdp -o em.tpr -c /rg/mendels_prj/zadoki/chignolin_test/data/interim/YYDPESGTWY/state_folded/solvate/ionized.gro -r /rg/mendels_prj/zadoki/chignolin_test/data/interim/YYDPESGTWY/state_folded/solvate/ionized.gro -p /rg/mendels_prj/zadoki/chignolin_test/data/interim/YYDPESGTWY/state_folded/top/system.top -maxwarn 10 -pp processed.top\n",
      "\n",
      "Ignoring obsolete mdp entry 'cpp'\n",
      "Ignoring obsolete mdp entry 'optimize_fft'\n",
      "Ignoring obsolete mdp entry 'ns_type'\n",
      "\n",
      "NOTE 1 [file em.mdp]:\n",
      "  Replacing vdwtype=Shift by the equivalent combination of vdwtype=Cut-off\n",
      "  and vdw_modifier=Force-switch\n",
      "\n",
      "\n",
      "NOTE 2 [file em.mdp]:\n",
      "  nstcomm < nstcalcenergy defeats the purpose of nstcalcenergy, setting\n",
      "  nstcomm to nstcalcenergy\n",
      "\n",
      "Setting the LD random seed to 2008985579\n",
      "Generated 20503 of the 20503 non-bonded parameter combinations\n",
      "Generating 1-4 interactions: fudge = 1\n",
      "Generated 17396 of the 20503 1-4 parameter combinations\n",
      "Excluding 3 bonded neighbours molecule type 'Protein_chain_A'\n",
      "Excluding 2 bonded neighbours molecule type 'SOL'\n",
      "Excluding 1 bonded neighbours molecule type 'NA'\n",
      "\n",
      "WARNING 1 [file system.top, line 1599]:\n",
      "  The following macros were defined in the 'define' mdp field with the -D\n",
      "  prefix, but were not used in the topology:\n",
      "      FLEXSPC\n",
      "  If you haven't made a spelling error, either use the macro you defined,\n",
      "  or don't define the macro\n",
      "\n",
      "Number of degrees of freedom in T-Coupling group rest is 10362.00\n",
      "\n",
      "NOTE 3 [file em.mdp]:\n",
      "  Removing center of mass motion in the presence of position restraints\n",
      "  might cause artifacts. When you are using position restraints to\n",
      "  equilibrate a macro-molecule, the artifacts are usually negligible.\n",
      "\n",
      "Estimate for the relative computational load of the PME mesh part: 0.17\n",
      "\n",
      "There were 3 notes\n",
      "\n",
      "There was 1 warning\n",
      "\n",
      "GROMACS reminds you: \"Even the *healthy* people move in clouds of cigarette smoke, women straining polyester, men in raggedly cutoffs slathering mayonnaise on foot-long hot dogs. It's as if the hotel were hosting a conference on adult onset diabetes\" (Jess Walter)\n",
      "\n"
     ]
    },
    {
     "name": "stdout",
     "output_type": "stream",
     "text": [
      "Analysing residue names:\n",
      "There are:    10    Protein residues\n",
      "There are:  1645      Water residues\n",
      "There are:     2        Ion residues\n",
      "Analysing Protein...\n",
      "Analysing residues not classified as Protein/DNA/RNA/Water and splitting into groups...\n",
      "Calculating fourier grid dimensions for X Y Z\n",
      "Using a fourier grid of 32x32x32, spacing 0.118 0.118 0.118\n",
      "This run will generate roughly 0 Mb of data\n"
     ]
    },
    {
     "name": "stderr",
     "output_type": "stream",
     "text": [
      "[dgx-master.technion.ac.il:3387185] PMIX ERROR: NO-PERMISSIONS in file dstore_base.c at line 237\n",
      "[dgx-master.technion.ac.il:3387185] PMIX ERROR: NO-PERMISSIONS in file dstore_base.c at line 246\n",
      "/home/zadoki/miniconda3/envs/gromacs_plumed/lib/python3.9/site-packages/gromacs/run.py:445: AutoCorrectionWarning: No 'mdrun_d' binary found so trying 'mdrun' instead.\n",
      "(Note that energy minimization runs better with mdrun_d.)\n",
      "  warnings.warn(wmsg, category=AutoCorrectionWarning)\n",
      "                :-) GROMACS - gmx mdrun, 2020.6-plumed-2.8.0 (-:\n",
      "\n",
      "                            GROMACS is written by:\n",
      "     Emile Apol      Rossen Apostolov      Paul Bauer     Herman J.C. Berendsen\n",
      "    Par Bjelkmar      Christian Blau   Viacheslav Bolnykh     Kevin Boyd    \n",
      " Aldert van Buuren   Rudi van Drunen     Anton Feenstra       Alan Gray     \n",
      "  Gerrit Groenhof     Anca Hamuraru    Vincent Hindriksen  M. Eric Irrgang  \n",
      "  Aleksei Iupinov   Christoph Junghans     Joe Jordan     Dimitrios Karkoulis\n",
      "    Peter Kasson        Jiri Kraus      Carsten Kutzner      Per Larsson    \n",
      "  Justin A. Lemkul    Viveca Lindahl    Magnus Lundborg     Erik Marklund   \n",
      "    Pascal Merz     Pieter Meulenhoff    Teemu Murtola       Szilard Pall   \n",
      "    Sander Pronk      Roland Schulz      Michael Shirts    Alexey Shvetsov  \n",
      "   Alfons Sijbers     Peter Tieleman      Jon Vincent      Teemu Virolainen \n",
      " Christian Wennberg    Maarten Wolf      Artem Zhmurov   \n",
      "                           and the project leaders:\n",
      "        Mark Abraham, Berk Hess, Erik Lindahl, and David van der Spoel\n",
      "\n",
      "Copyright (c) 1991-2000, University of Groningen, The Netherlands.\n",
      "Copyright (c) 2001-2019, The GROMACS development team at\n",
      "Uppsala University, Stockholm University and\n",
      "the Royal Institute of Technology, Sweden.\n",
      "check out http://www.gromacs.org for more information.\n",
      "\n",
      "GROMACS is free software; you can redistribute it and/or modify it\n",
      "under the terms of the GNU Lesser General Public License\n",
      "as published by the Free Software Foundation; either version 2.1\n",
      "of the License, or (at your option) any later version.\n",
      "\n",
      "GROMACS:      gmx mdrun, version 2020.6-plumed-2.8.0\n",
      "Executable:   /home/zadoki/miniconda3/envs/bpti/bin/gmx_mpi\n",
      "Data prefix:  /home/zadoki/miniconda3/envs/bpti\n",
      "Working dir:  /rg/mendels_prj/zadoki/chignolin_test/data/interim/YYDPESGTWY/state_folded/em\n",
      "Command line:\n",
      "  gmx_mpi mdrun -v -stepout 10 -deffnm em -c em.pdb\n",
      "\n",
      "Compiled SIMD: SSE2, but for this host/run AVX_512 might be better (see log).\n",
      "The current CPU can measure timings more accurately than the code in\n",
      "gmx mdrun was configured to use. This might affect your simulation\n",
      "speed as accurate timings are needed for load-balancing.\n",
      "Please consider rebuilding gmx mdrun with the GMX_USE_RDTSCP=ON CMake option.\n",
      "Reading file em.tpr, VERSION 2020.6-plumed-2.8.0 (single precision)\n",
      "\n",
      "Using 1 MPI process\n",
      "Using 16 OpenMP threads \n",
      "\n",
      "\n",
      "Steepest Descents:\n",
      "   Tolerance (Fmax)   =  5.00000e+02\n",
      "   Number of steps    =         1000\n",
      "Step=    0, Dmax= 1.0e-02 nm, Epot= -5.71162e+04 Fmax= 8.75897e+04, atom= 13\n",
      "Step=    1, Dmax= 1.0e-02 nm, Epot= -5.94732e+04 Fmax= 2.76407e+04, atom= 998\n",
      "Step=    2, Dmax= 1.2e-02 nm, Epot= -6.17805e+04 Fmax= 1.08505e+04, atom= 998\n",
      "Step=    3, Dmax= 1.4e-02 nm, Epot= -6.37091e+04 Fmax= 5.50004e+03, atom= 998\n",
      "Step=    4, Dmax= 1.7e-02 nm, Epot= -6.53038e+04 Fmax= 3.36547e+03, atom= 90\n",
      "Step=    6, Dmax= 1.0e-02 nm, Epot= -6.59554e+04 Fmax= 1.09375e+04, atom= 84\n",
      "Step=    7, Dmax= 1.2e-02 nm, Epot= -6.65691e+04 Fmax= 5.31523e+03, atom= 84\n",
      "Step=    8, Dmax= 1.5e-02 nm, Epot= -6.68494e+04 Fmax= 1.53220e+04, atom= 84\n",
      "Step=    9, Dmax= 1.8e-02 nm, Epot= -6.73593e+04 Fmax= 8.53424e+03, atom= 84\n",
      "Step=   11, Dmax= 1.1e-02 nm, Epot= -6.76521e+04 Fmax= 6.12034e+03, atom= 84\n",
      "Step=   12, Dmax= 1.3e-02 nm, Epot= -6.78639e+04 Fmax= 1.09232e+04, atom= 84\n",
      "Step=   13, Dmax= 1.5e-02 nm, Epot= -6.81100e+04 Fmax= 1.00660e+04, atom= 84\n",
      "Step=   14, Dmax= 1.9e-02 nm, Epot= -6.81467e+04 Fmax= 1.46889e+04, atom= 84\n",
      "Step=   15, Dmax= 2.2e-02 nm, Epot= -6.82707e+04 Fmax= 1.54294e+04, atom= 84\n",
      "Step=   17, Dmax= 1.3e-02 nm, Epot= -6.88626e+04 Fmax= 2.66419e+03, atom= 130\n",
      "Step=   19, Dmax= 8.0e-03 nm, Epot= -6.90965e+04 Fmax= 8.74340e+03, atom= 130\n",
      "Step=   20, Dmax= 9.6e-03 nm, Epot= -6.93318e+04 Fmax= 4.78116e+03, atom= 130\n",
      "Step=   21, Dmax= 1.2e-02 nm, Epot= -6.94105e+04 Fmax= 1.12957e+04, atom= 130\n",
      "Step=   22, Dmax= 1.4e-02 nm, Epot= -6.96502e+04 Fmax= 8.15387e+03, atom= 130\n",
      "Step=   24, Dmax= 8.3e-03 nm, Epot= -6.98327e+04 Fmax= 3.74835e+03, atom= 130\n",
      "Step=   25, Dmax= 1.0e-02 nm, Epot= -6.99523e+04 Fmax= 1.05125e+04, atom= 130\n",
      "Step=   26, Dmax= 1.2e-02 nm, Epot= -7.01427e+04 Fmax= 6.54177e+03, atom= 130\n",
      "Step=   28, Dmax= 7.2e-03 nm, Epot= -7.02769e+04 Fmax= 3.51997e+03, atom= 130\n",
      "Step=   29, Dmax= 8.6e-03 nm, Epot= -7.03971e+04 Fmax= 8.56456e+03, atom= 130\n",
      "Step=   30, Dmax= 1.0e-02 nm, Epot= -7.05418e+04 Fmax= 5.98413e+03, atom= 130\n",
      "Step=   31, Dmax= 1.2e-02 nm, Epot= -7.05757e+04 Fmax= 1.13515e+04, atom= 130\n",
      "Step=   32, Dmax= 1.5e-02 nm, Epot= -7.07234e+04 Fmax= 9.62631e+03, atom= 130\n",
      "Step=   34, Dmax= 8.9e-03 nm, Epot= -7.08864e+04 Fmax= 3.22494e+03, atom= 130\n",
      "Step=   35, Dmax= 1.1e-02 nm, Epot= -7.09543e+04 Fmax= 1.21553e+04, atom= 130\n",
      "Step=   36, Dmax= 1.3e-02 nm, Epot= -7.11420e+04 Fmax= 6.24377e+03, atom= 130\n",
      "Step=   38, Dmax= 7.7e-03 nm, Epot= -7.12399e+04 Fmax= 4.61077e+03, atom= 130\n",
      "Step=   39, Dmax= 9.3e-03 nm, Epot= -7.13004e+04 Fmax= 8.39760e+03, atom= 130\n",
      "Step=   40, Dmax= 1.1e-02 nm, Epot= -7.14006e+04 Fmax= 7.29000e+03, atom= 130\n",
      "Step=   41, Dmax= 1.3e-02 nm, Epot= -7.14073e+04 Fmax= 1.13931e+04, atom= 130\n",
      "Step=   42, Dmax= 1.6e-02 nm, Epot= -7.14978e+04 Fmax= 1.12313e+04, atom= 130\n",
      "Step=   44, Dmax= 9.6e-03 nm, Epot= -7.16784e+04 Fmax= 2.65119e+03, atom= 130\n",
      "Step=   45, Dmax= 1.2e-02 nm, Epot= -7.16991e+04 Fmax= 1.39119e+04, atom= 130\n",
      "Step=   46, Dmax= 1.4e-02 nm, Epot= -7.19174e+04 Fmax= 5.93638e+03, atom= 130\n",
      "Step=   48, Dmax= 8.3e-03 nm, Epot= -7.19872e+04 Fmax= 5.78146e+03, atom= 130\n",
      "Step=   49, Dmax= 1.0e-02 nm, Epot= -7.20251e+04 Fmax= 8.22958e+03, atom= 130\n",
      "Step=   50, Dmax= 1.2e-02 nm, Epot= -7.20858e+04 Fmax= 8.68963e+03, atom= 130\n",
      "Step=   51, Dmax= 1.4e-02 nm, Epot= -7.20869e+04 Fmax= 1.14476e+04, atom= 130\n",
      "Step=   52, Dmax= 1.7e-02 nm, Epot= -7.21211e+04 Fmax= 1.29539e+04, atom= 130\n",
      "Step=   54, Dmax= 1.0e-02 nm, Epot= -7.23381e+04 Fmax= 2.04691e+03, atom= 130\n",
      "Step=   56, Dmax= 6.2e-03 nm, Epot= -7.24191e+04 Fmax= 6.64908e+03, atom= 130\n",
      "Step=   57, Dmax= 7.4e-03 nm, Epot= -7.24953e+04 Fmax= 3.90566e+03, atom= 130\n",
      "Step=   58, Dmax= 8.9e-03 nm, Epot= -7.25147e+04 Fmax= 8.86618e+03, atom= 130\n",
      "Step=   59, Dmax= 1.1e-02 nm, Epot= -7.26013e+04 Fmax= 6.35409e+03, atom= 130\n",
      "Step=   61, Dmax= 6.4e-03 nm, Epot= -7.26785e+04 Fmax= 2.63400e+03, atom= 130\n",
      "Step=   62, Dmax= 7.7e-03 nm, Epot= -7.27145e+04 Fmax= 8.18447e+03, atom= 130\n",
      "Step=   63, Dmax= 9.3e-03 nm, Epot= -7.28079e+04 Fmax= 4.81545e+03, atom= 130\n",
      "Step=   65, Dmax= 5.6e-03 nm, Epot= -7.28639e+04 Fmax= 3.08930e+03, atom= 130\n",
      "Step=   66, Dmax= 6.7e-03 nm, Epot= -7.29031e+04 Fmax= 6.38530e+03, atom= 130\n",
      "Step=   67, Dmax= 8.0e-03 nm, Epot= -7.29626e+04 Fmax= 4.96226e+03, atom= 130\n",
      "Step=   68, Dmax= 9.6e-03 nm, Epot= -7.29700e+04 Fmax= 8.71301e+03, atom= 130\n",
      "Step=   69, Dmax= 1.2e-02 nm, Epot= -7.30300e+04 Fmax= 7.60102e+03, atom= 130\n",
      "Step=   71, Dmax= 6.9e-03 nm, Epot= -7.31222e+04 Fmax= 2.02218e+03, atom= 130\n",
      "Step=   72, Dmax= 8.3e-03 nm, Epot= -7.31444e+04 Fmax= 9.59913e+03, atom= 130\n",
      "Step=   73, Dmax= 1.0e-02 nm, Epot= -7.32648e+04 Fmax= 4.33315e+03, atom= 130\n",
      "Step=   75, Dmax= 6.0e-03 nm, Epot= -7.33074e+04 Fmax= 4.13205e+03, atom= 130\n",
      "Step=   76, Dmax= 7.2e-03 nm, Epot= -7.33366e+04 Fmax= 6.03404e+03, atom= 130\n",
      "Step=   77, Dmax= 8.6e-03 nm, Epot= -7.33747e+04 Fmax= 6.12604e+03, atom= 130\n",
      "Step=   78, Dmax= 1.0e-02 nm, Epot= -7.33843e+04 Fmax= 8.53362e+03, atom= 130\n",
      "Step=   79, Dmax= 1.2e-02 nm, Epot= -7.34117e+04 Fmax= 8.94429e+03, atom= 130\n",
      "Step=   81, Dmax= 7.4e-03 nm, Epot= -7.35271e+04 Fmax= 1.35461e+03, atom= 130\n",
      "Step=   82, Dmax= 8.9e-03 nm, Epot= -7.35530e+04 Fmax= 1.11697e+04, atom= 130\n",
      "Step=   83, Dmax= 1.1e-02 nm, Epot= -7.37131e+04 Fmax= 3.77658e+03, atom= 130\n",
      "Step=   85, Dmax= 6.4e-03 nm, Epot= -7.37395e+04 Fmax= 5.26123e+03, atom= 130\n",
      "Step=   86, Dmax= 7.7e-03 nm, Epot= -7.37718e+04 Fmax= 5.64002e+03, atom= 130\n",
      "Step=   87, Dmax= 9.2e-03 nm, Epot= -7.37835e+04 Fmax= 7.38336e+03, atom= 130\n",
      "Step=   88, Dmax= 1.1e-02 nm, Epot= -7.38053e+04 Fmax= 8.32792e+03, atom= 130\n",
      "Step=   90, Dmax= 6.7e-03 nm, Epot= -7.39009e+04 Fmax= 1.25712e+03, atom= 130\n",
      "Step=   91, Dmax= 8.0e-03 nm, Epot= -7.39376e+04 Fmax= 1.01032e+04, atom= 130\n",
      "Step=   92, Dmax= 9.6e-03 nm, Epot= -7.40555e+04 Fmax= 3.60645e+03, atom= 130\n",
      "Step=   94, Dmax= 5.7e-03 nm, Epot= -7.40820e+04 Fmax= 4.54069e+03, atom= 130\n",
      "Step=   95, Dmax= 6.9e-03 nm, Epot= -7.41066e+04 Fmax= 5.20576e+03, atom= 130\n",
      "Step=   96, Dmax= 8.3e-03 nm, Epot= -7.41238e+04 Fmax= 6.52948e+03, atom= 130\n",
      "Step=   97, Dmax= 9.9e-03 nm, Epot= -7.41379e+04 Fmax= 7.48847e+03, atom= 130\n",
      "Step=   99, Dmax= 6.0e-03 nm, Epot= -7.42197e+04 Fmax= 7.96051e+02, atom= 130\n",
      "Step=  100, Dmax= 7.2e-03 nm, Epot= -7.42964e+04 Fmax= 9.33605e+03, atom= 130\n",
      "Step=  101, Dmax= 8.6e-03 nm, Epot= -7.44118e+04 Fmax= 2.69031e+03, atom= 130\n",
      "Step=  103, Dmax= 5.2e-03 nm, Epot= -7.44320e+04 Fmax= 4.53938e+03, atom= 130\n",
      "Step=  104, Dmax= 6.2e-03 nm, Epot= -7.44614e+04 Fmax= 4.19214e+03, atom= 130\n",
      "Step=  105, Dmax= 7.4e-03 nm, Epot= -7.44679e+04 Fmax= 6.25892e+03, atom= 130\n",
      "Step=  106, Dmax= 8.9e-03 nm, Epot= -7.44943e+04 Fmax= 6.32576e+03, atom= 130\n",
      "Step=  108, Dmax= 5.3e-03 nm, Epot= -7.45531e+04 Fmax= 1.33153e+03, atom= 130\n",
      "Step=  109, Dmax= 6.4e-03 nm, Epot= -7.45729e+04 Fmax= 7.77813e+03, atom= 130\n",
      "Step=  110, Dmax= 7.7e-03 nm, Epot= -7.46456e+04 Fmax= 3.19645e+03, atom= 130\n",
      "Step=  112, Dmax= 4.6e-03 nm, Epot= -7.46694e+04 Fmax= 3.31908e+03, atom= 130\n",
      "Step=  113, Dmax= 5.5e-03 nm, Epot= -7.46865e+04 Fmax= 4.50160e+03, atom= 130\n",
      "Step=  114, Dmax= 6.6e-03 nm, Epot= -7.47074e+04 Fmax= 4.89566e+03, atom= 130\n",
      "Step=  115, Dmax= 8.0e-03 nm, Epot= -7.47141e+04 Fmax= 6.34930e+03, atom= 130\n",
      "Step=  116, Dmax= 9.6e-03 nm, Epot= -7.47273e+04 Fmax= 7.19944e+03, atom= 130\n",
      "Step=  118, Dmax= 5.7e-03 nm, Epot= -7.47977e+04 Fmax= 1.05192e+03, atom= 130\n",
      "Step=  119, Dmax= 6.9e-03 nm, Epot= -7.48186e+04 Fmax= 8.72483e+03, atom= 130\n",
      "Step=  120, Dmax= 8.3e-03 nm, Epot= -7.49062e+04 Fmax= 3.08443e+03, atom= 130\n",
      "Step=  122, Dmax= 5.0e-03 nm, Epot= -7.49239e+04 Fmax= 3.94264e+03, atom= 130\n",
      "Step=  123, Dmax= 6.0e-03 nm, Epot= -7.49410e+04 Fmax= 4.46974e+03, atom= 130\n",
      "Step=  124, Dmax= 7.1e-03 nm, Epot= -7.49517e+04 Fmax= 5.64989e+03, atom= 130\n",
      "Step=  125, Dmax= 8.6e-03 nm, Epot= -7.49613e+04 Fmax= 6.45075e+03, atom= 130\n",
      "Step=  127, Dmax= 5.1e-03 nm, Epot= -7.50212e+04 Fmax= 7.12433e+02, atom= 130\n",
      "Step=  128, Dmax= 6.2e-03 nm, Epot= -7.50674e+04 Fmax= 8.03501e+03, atom= 130\n",
      "Step=  129, Dmax= 7.4e-03 nm, Epot= -7.51517e+04 Fmax= 2.34910e+03, atom= 130\n",
      "Step=  131, Dmax= 4.4e-03 nm, Epot= -7.51658e+04 Fmax= 3.90102e+03, atom= 130\n",
      "Step=  132, Dmax= 5.3e-03 nm, Epot= -7.51867e+04 Fmax= 3.63148e+03, atom= 130\n",
      "Step=  133, Dmax= 6.4e-03 nm, Epot= -7.51911e+04 Fmax= 5.39198e+03, atom= 130\n",
      "Step=  134, Dmax= 7.7e-03 nm, Epot= -7.52098e+04 Fmax= 5.46357e+03, atom= 130\n",
      "Step=  136, Dmax= 4.6e-03 nm, Epot= -7.52535e+04 Fmax= 1.13142e+03, atom= 130\n",
      "Step=  137, Dmax= 5.5e-03 nm, Epot= -7.52672e+04 Fmax= 6.71424e+03, atom= 130\n",
      "Step=  138, Dmax= 6.6e-03 nm, Epot= -7.53216e+04 Fmax= 2.74301e+03, atom= 130\n",
      "Step=  140, Dmax= 4.0e-03 nm, Epot= -7.53389e+04 Fmax= 2.87711e+03, atom= 130\n",
      "Step=  141, Dmax= 4.8e-03 nm, Epot= -7.53515e+04 Fmax= 3.87314e+03, atom= 130\n",
      "Step=  142, Dmax= 5.7e-03 nm, Epot= -7.53666e+04 Fmax= 4.23152e+03, atom= 130\n",
      "Step=  143, Dmax= 6.9e-03 nm, Epot= -7.53717e+04 Fmax= 5.47546e+03, atom= 130\n",
      "Step=  144, Dmax= 8.3e-03 nm, Epot= -7.53812e+04 Fmax= 6.20868e+03, atom= 130\n",
      "Step=  146, Dmax= 5.0e-03 nm, Epot= -7.54337e+04 Fmax= 8.95103e+02, atom= 130\n",
      "Step=  147, Dmax= 5.9e-03 nm, Epot= -7.54499e+04 Fmax= 7.52418e+03, atom= 130\n",
      "Step=  148, Dmax= 7.1e-03 nm, Epot= -7.55157e+04 Fmax= 2.65027e+03, atom= 130\n",
      "Step=  150, Dmax= 4.3e-03 nm, Epot= -7.55290e+04 Fmax= 3.40821e+03, atom= 130\n",
      "Step=  151, Dmax= 5.1e-03 nm, Epot= -7.55420e+04 Fmax= 3.85166e+03, atom= 130\n",
      "Step=  152, Dmax= 6.2e-03 nm, Epot= -7.55501e+04 Fmax= 4.87344e+03, atom= 130\n",
      "Step=  153, Dmax= 7.4e-03 nm, Epot= -7.55576e+04 Fmax= 5.57012e+03, atom= 130\n",
      "Step=  155, Dmax= 4.4e-03 nm, Epot= -7.56024e+04 Fmax= 6.20462e+02, atom= 130\n",
      "Step=  156, Dmax= 5.3e-03 nm, Epot= -7.56383e+04 Fmax= 6.93643e+03, atom= 130\n",
      "Step=  157, Dmax= 6.4e-03 nm, Epot= -7.57011e+04 Fmax= 2.02890e+03, atom= 130\n",
      "Step=  159, Dmax= 3.8e-03 nm, Epot= -7.57123e+04 Fmax= 3.37058e+03, atom= 130\n",
      "Step=  160, Dmax= 4.6e-03 nm, Epot= -7.57284e+04 Fmax= 3.12562e+03, atom= 130\n",
      "Step=  161, Dmax= 5.5e-03 nm, Epot= -7.57323e+04 Fmax= 4.66406e+03, atom= 130\n",
      "Step=  162, Dmax= 6.6e-03 nm, Epot= -7.57470e+04 Fmax= 4.69779e+03, atom= 130\n",
      "Step=  164, Dmax= 4.0e-03 nm, Epot= -7.57798e+04 Fmax= 9.83050e+02, atom= 130\n",
      "Step=  165, Dmax= 4.8e-03 nm, Epot= -7.57920e+04 Fmax= 5.77343e+03, atom= 130\n",
      "Step=  166, Dmax= 5.7e-03 nm, Epot= -7.58328e+04 Fmax= 2.37705e+03, atom= 130\n",
      "Step=  168, Dmax= 3.4e-03 nm, Epot= -7.58465e+04 Fmax= 2.46896e+03, atom= 130\n",
      "Step=  169, Dmax= 4.1e-03 nm, Epot= -7.58566e+04 Fmax= 3.35718e+03, atom= 130\n",
      "Step=  170, Dmax= 4.9e-03 nm, Epot= -7.58689e+04 Fmax= 3.63097e+03, atom= 130\n",
      "Step=  171, Dmax= 5.9e-03 nm, Epot= -7.58733e+04 Fmax= 4.74716e+03, atom= 130\n",
      "Step=  172, Dmax= 7.1e-03 nm, Epot= -7.58816e+04 Fmax= 5.32679e+03, atom= 130\n",
      "Step=  174, Dmax= 4.3e-03 nm, Epot= -7.59209e+04 Fmax= 7.90219e+02, atom= 130\n",
      "Step=  175, Dmax= 5.1e-03 nm, Epot= -7.59356e+04 Fmax= 6.46006e+03, atom= 130\n",
      "Step=  176, Dmax= 6.2e-03 nm, Epot= -7.59849e+04 Fmax= 2.30741e+03, atom= 130\n",
      "Step=  178, Dmax= 3.7e-03 nm, Epot= -7.59959e+04 Fmax= 2.91348e+03, atom= 130\n",
      "Step=  179, Dmax= 4.4e-03 nm, Epot= -7.60063e+04 Fmax= 3.35147e+03, atom= 130\n",
      "Step=  180, Dmax= 5.3e-03 nm, Epot= -7.60137e+04 Fmax= 4.16941e+03, atom= 130\n",
      "Step=  181, Dmax= 6.4e-03 nm, Epot= -7.60198e+04 Fmax= 4.84272e+03, atom= 130\n",
      "Step=  182, Dmax= 7.7e-03 nm, Epot= -7.60203e+04 Fmax= 5.99951e+03, atom= 130\n",
      "Step=  184, Dmax= 4.6e-03 nm, Epot= -7.60677e+04 Fmax= 5.88312e+02, atom= 130\n",
      "Step=  185, Dmax= 5.5e-03 nm, Epot= -7.60925e+04 Fmax= 7.16882e+03, atom= 130\n",
      "Step=  186, Dmax= 6.6e-03 nm, Epot= -7.61514e+04 Fmax= 2.25646e+03, atom= 130\n",
      "Step=  188, Dmax= 4.0e-03 nm, Epot= -7.61591e+04 Fmax= 3.37585e+03, atom= 130\n",
      "Step=  189, Dmax= 4.8e-03 nm, Epot= -7.61707e+04 Fmax= 3.36208e+03, atom= 130\n",
      "Step=  190, Dmax= 5.7e-03 nm, Epot= -7.61724e+04 Fmax= 4.73234e+03, atom= 130\n",
      "Step=  191, Dmax= 6.9e-03 nm, Epot= -7.61810e+04 Fmax= 4.96210e+03, atom= 130\n",
      "Step=  193, Dmax= 4.1e-03 nm, Epot= -7.62159e+04 Fmax= 7.86865e+02, atom= 130\n",
      "Step=  194, Dmax= 4.9e-03 nm, Epot= -7.62218e+04 Fmax= 6.19936e+03, atom= 130\n",
      "Step=  195, Dmax= 5.9e-03 nm, Epot= -7.62701e+04 Fmax= 2.11447e+03, atom= 130\n",
      "Step=  197, Dmax= 3.6e-03 nm, Epot= -7.62787e+04 Fmax= 2.91099e+03, atom= 130\n",
      "Step=  198, Dmax= 4.3e-03 nm, Epot= -7.62889e+04 Fmax= 3.11601e+03, atom= 130\n",
      "Step=  199, Dmax= 5.1e-03 nm, Epot= -7.62931e+04 Fmax= 4.11620e+03, atom= 130\n",
      "Step=  200, Dmax= 6.1e-03 nm, Epot= -7.63006e+04 Fmax= 4.56980e+03, atom= 130\n",
      "Step=  202, Dmax= 3.7e-03 nm, Epot= -7.63303e+04 Fmax= 6.99205e+02, atom= 130\n",
      "Step=  203, Dmax= 4.4e-03 nm, Epot= -7.63448e+04 Fmax= 5.54239e+03, atom= 130\n",
      "Step=  204, Dmax= 5.3e-03 nm, Epot= -7.63819e+04 Fmax= 2.01409e+03, atom= 130\n",
      "Step=  206, Dmax= 3.2e-03 nm, Epot= -7.63914e+04 Fmax= 2.48417e+03, atom= 130\n",
      "Step=  207, Dmax= 3.8e-03 nm, Epot= -7.64000e+04 Fmax= 2.92278e+03, atom= 130\n",
      "Step=  208, Dmax= 4.6e-03 nm, Epot= -7.64070e+04 Fmax= 3.55933e+03, atom= 130\n",
      "Step=  209, Dmax= 5.5e-03 nm, Epot= -7.64121e+04 Fmax= 4.21783e+03, atom= 130\n",
      "Step=  210, Dmax= 6.6e-03 nm, Epot= -7.64144e+04 Fmax= 5.12702e+03, atom= 130\n",
      "Step=  212, Dmax= 4.0e-03 nm, Epot= -7.64498e+04 Fmax= 5.45239e+02, atom= 130\n",
      "Step=  213, Dmax= 4.8e-03 nm, Epot= -7.64709e+04 Fmax= 6.13682e+03, atom= 130\n",
      "Step=  214, Dmax= 5.7e-03 nm, Epot= -7.65150e+04 Fmax= 1.98727e+03, atom= 130\n",
      "Step=  216, Dmax= 3.4e-03 nm, Epot= -7.65223e+04 Fmax= 2.86079e+03, atom= 130\n",
      "Step=  217, Dmax= 4.1e-03 nm, Epot= -7.65316e+04 Fmax= 2.95302e+03, atom= 130\n",
      "Step=  218, Dmax= 4.9e-03 nm, Epot= -7.65348e+04 Fmax= 4.02150e+03, atom= 130\n",
      "Step=  219, Dmax= 5.9e-03 nm, Epot= -7.65414e+04 Fmax= 4.34258e+03, atom= 130\n",
      "Step=  221, Dmax= 3.5e-03 nm, Epot= -7.65686e+04 Fmax= 6.21108e+02, atom= 130\n",
      "Step=  222, Dmax= 4.3e-03 nm, Epot= -7.65808e+04 Fmax= 5.42660e+03, atom= 130\n",
      "Step=  223, Dmax= 5.1e-03 nm, Epot= -7.66186e+04 Fmax= 1.74870e+03, atom= 130\n",
      "Step=  225, Dmax= 3.1e-03 nm, Epot= -7.66260e+04 Fmax= 2.58774e+03, atom= 130\n",
      "Step=  226, Dmax= 3.7e-03 nm, Epot= -7.66354e+04 Fmax= 2.60620e+03, atom= 130\n",
      "Step=  227, Dmax= 4.4e-03 nm, Epot= -7.66390e+04 Fmax= 3.63505e+03, atom= 130\n",
      "Step=  228, Dmax= 5.3e-03 nm, Epot= -7.66469e+04 Fmax= 3.85073e+03, atom= 130\n",
      "Step=  230, Dmax= 3.2e-03 nm, Epot= -7.66688e+04 Fmax= 6.87913e+02, atom= 130\n",
      "Step=  231, Dmax= 3.8e-03 nm, Epot= -7.66805e+04 Fmax= 4.68848e+03, atom= 130\n",
      "Step=  232, Dmax= 4.6e-03 nm, Epot= -7.67078e+04 Fmax= 1.82496e+03, atom= 130\n",
      "Step=  234, Dmax= 2.7e-03 nm, Epot= -7.67164e+04 Fmax= 2.04876e+03, atom= 130\n",
      "Step=  235, Dmax= 3.3e-03 nm, Epot= -7.67235e+04 Fmax= 2.61767e+03, atom= 130\n",
      "Step=  236, Dmax= 4.0e-03 nm, Epot= -7.67308e+04 Fmax= 2.96740e+03, atom= 130\n",
      "Step=  237, Dmax= 4.7e-03 nm, Epot= -7.67346e+04 Fmax= 3.74276e+03, atom= 130\n",
      "Step=  238, Dmax= 5.7e-03 nm, Epot= -7.67392e+04 Fmax= 4.30911e+03, atom= 130\n",
      "Step=  240, Dmax= 3.4e-03 nm, Epot= -7.67651e+04 Fmax= 5.75144e+02, atom= 130\n",
      "Step=  241, Dmax= 4.1e-03 nm, Epot= -7.67791e+04 Fmax= 5.18968e+03, atom= 130\n",
      "Step=  242, Dmax= 4.9e-03 nm, Epot= -7.68115e+04 Fmax= 1.81415e+03, atom= 130\n",
      "Step=  244, Dmax= 3.0e-03 nm, Epot= -7.68187e+04 Fmax= 2.35637e+03, atom= 130\n",
      "Step=  245, Dmax= 3.5e-03 nm, Epot= -7.68259e+04 Fmax= 2.65989e+03, atom= 130\n",
      "Step=  246, Dmax= 4.3e-03 nm, Epot= -7.68308e+04 Fmax= 3.34805e+03, atom= 130\n",
      "Step=  247, Dmax= 5.1e-03 nm, Epot= -7.68353e+04 Fmax= 3.86701e+03, atom= 130\n",
      "Step=  248, Dmax= 6.1e-03 nm, Epot= -7.68359e+04 Fmax= 4.79491e+03, atom= 130\n",
      "Step=  250, Dmax= 3.7e-03 nm, Epot= -7.68665e+04 Fmax= 4.61934e+02, atom= 130\n",
      "\n",
      "writing lowest energy coordinates.\n",
      "\n",
      "Steepest Descents converged to Fmax < 500 in 251 steps\n",
      "Potential Energy  = -7.6866508e+04\n",
      "Maximum force     =  4.6193433e+02 on atom 130\n",
      "Norm of force     =  3.5861932e+01\n",
      "\n",
      "GROMACS reminds you: \"Hangout In the Suburbs If You've Got the Guts\" (Urban Dance Squad)\n",
      "\n"
     ]
    }
   ],
   "source": [
    "# minimize rigid\n",
    "f3 = energy_minimize(integrator='steep',maxwarn=10, **f2)"
   ]
  },
  {
   "cell_type": "code",
   "execution_count": 14,
   "metadata": {
    "execution": {
     "iopub.execute_input": "2024-02-18T10:30:37.611634Z",
     "iopub.status.busy": "2024-02-18T10:30:37.611039Z",
     "iopub.status.idle": "2024-02-18T10:30:38.724831Z",
     "shell.execute_reply": "2024-02-18T10:30:38.724061Z",
     "shell.execute_reply.started": "2024-02-18T10:30:37.611601Z"
    }
   },
   "outputs": [
    {
     "name": "stderr",
     "output_type": "stream",
     "text": [
      "[dgx-master.technion.ac.il:3387214] PMIX ERROR: NO-PERMISSIONS in file dstore_base.c at line 237\n",
      "[dgx-master.technion.ac.il:3387214] PMIX ERROR: NO-PERMISSIONS in file dstore_base.c at line 237\n",
      "[dgx-master.technion.ac.il:3387214] PMIX ERROR: NO-PERMISSIONS in file dstore_base.c at line 246\n",
      "              :-) GROMACS - gmx make_ndx, 2020.6-plumed-2.8.0 (-:\n",
      "\n",
      "                            GROMACS is written by:\n",
      "     Emile Apol      Rossen Apostolov      Paul Bauer     Herman J.C. Berendsen\n",
      "    Par Bjelkmar      Christian Blau   Viacheslav Bolnykh     Kevin Boyd    \n",
      " Aldert van Buuren   Rudi van Drunen     Anton Feenstra       Alan Gray     \n",
      "  Gerrit Groenhof     Anca Hamuraru    Vincent Hindriksen  M. Eric Irrgang  \n",
      "  Aleksei Iupinov   Christoph Junghans     Joe Jordan     Dimitrios Karkoulis\n",
      "    Peter Kasson        Jiri Kraus      Carsten Kutzner      Per Larsson    \n",
      "  Justin A. Lemkul    Viveca Lindahl    Magnus Lundborg     Erik Marklund   \n",
      "    Pascal Merz     Pieter Meulenhoff    Teemu Murtola       Szilard Pall   \n",
      "    Sander Pronk      Roland Schulz      Michael Shirts    Alexey Shvetsov  \n",
      "   Alfons Sijbers     Peter Tieleman      Jon Vincent      Teemu Virolainen \n",
      " Christian Wennberg    Maarten Wolf      Artem Zhmurov   \n",
      "                           and the project leaders:\n",
      "        Mark Abraham, Berk Hess, Erik Lindahl, and David van der Spoel\n",
      "\n",
      "Copyright (c) 1991-2000, University of Groningen, The Netherlands.\n",
      "Copyright (c) 2001-2019, The GROMACS development team at\n",
      "Uppsala University, Stockholm University and\n",
      "the Royal Institute of Technology, Sweden.\n",
      "check out http://www.gromacs.org for more information.\n",
      "\n",
      "GROMACS is free software; you can redistribute it and/or modify it\n",
      "under the terms of the GNU Lesser General Public License\n",
      "as published by the Free Software Foundation; either version 2.1\n",
      "of the License, or (at your option) any later version.\n",
      "\n",
      "GROMACS:      gmx make_ndx, version 2020.6-plumed-2.8.0\n",
      "Executable:   /home/zadoki/miniconda3/envs/bpti/bin/gmx_mpi\n",
      "Data prefix:  /home/zadoki/miniconda3/envs/bpti\n",
      "Working dir:  /rg/mendels_prj/zadoki/chignolin_test/data/interim/YYDPESGTWY/state_folded/MD_POSRES\n",
      "Command line:\n",
      "  gmx_mpi make_ndx -f /rg/mendels_prj/zadoki/chignolin_test/data/interim/YYDPESGTWY/state_folded/em/em.pdb -o md.ndx\n",
      "\n",
      "\n",
      "Reading structure file\n",
      "\n",
      "GROMACS reminds you: \"Hangout In the Suburbs If You've Got the Guts\" (Urban Dance Squad)\n",
      "\n",
      "[dgx-master.technion.ac.il:3387313] PMIX ERROR: NO-PERMISSIONS in file dstore_base.c at line 237\n",
      "[dgx-master.technion.ac.il:3387313] PMIX ERROR: NO-PERMISSIONS in file dstore_base.c at line 237\n",
      "[dgx-master.technion.ac.il:3387313] PMIX ERROR: NO-PERMISSIONS in file dstore_base.c at line 246\n",
      "              :-) GROMACS - gmx make_ndx, 2020.6-plumed-2.8.0 (-:\n",
      "\n",
      "                            GROMACS is written by:\n",
      "     Emile Apol      Rossen Apostolov      Paul Bauer     Herman J.C. Berendsen\n",
      "    Par Bjelkmar      Christian Blau   Viacheslav Bolnykh     Kevin Boyd    \n",
      " Aldert van Buuren   Rudi van Drunen     Anton Feenstra       Alan Gray     \n",
      "  Gerrit Groenhof     Anca Hamuraru    Vincent Hindriksen  M. Eric Irrgang  \n",
      "  Aleksei Iupinov   Christoph Junghans     Joe Jordan     Dimitrios Karkoulis\n",
      "    Peter Kasson        Jiri Kraus      Carsten Kutzner      Per Larsson    \n",
      "  Justin A. Lemkul    Viveca Lindahl    Magnus Lundborg     Erik Marklund   \n",
      "    Pascal Merz     Pieter Meulenhoff    Teemu Murtola       Szilard Pall   \n",
      "    Sander Pronk      Roland Schulz      Michael Shirts    Alexey Shvetsov  \n",
      "   Alfons Sijbers     Peter Tieleman      Jon Vincent      Teemu Virolainen \n",
      " Christian Wennberg    Maarten Wolf      Artem Zhmurov   \n",
      "                           and the project leaders:\n",
      "        Mark Abraham, Berk Hess, Erik Lindahl, and David van der Spoel\n",
      "\n",
      "Copyright (c) 1991-2000, University of Groningen, The Netherlands.\n",
      "Copyright (c) 2001-2019, The GROMACS development team at\n",
      "Uppsala University, Stockholm University and\n",
      "the Royal Institute of Technology, Sweden.\n",
      "check out http://www.gromacs.org for more information.\n",
      "\n",
      "GROMACS is free software; you can redistribute it and/or modify it\n",
      "under the terms of the GNU Lesser General Public License\n",
      "as published by the Free Software Foundation; either version 2.1\n",
      "of the License, or (at your option) any later version.\n",
      "\n",
      "GROMACS:      gmx make_ndx, version 2020.6-plumed-2.8.0\n",
      "Executable:   /home/zadoki/miniconda3/envs/bpti/bin/gmx_mpi\n",
      "Data prefix:  /home/zadoki/miniconda3/envs/bpti\n",
      "Working dir:  /rg/mendels_prj/zadoki/chignolin_test/data/interim/YYDPESGTWY/state_folded/MD_POSRES\n",
      "Command line:\n",
      "  gmx_mpi make_ndx -f /rg/mendels_prj/zadoki/chignolin_test/data/interim/YYDPESGTWY/state_folded/em/em.pdb -n md.ndx -o md.ndx\n",
      "\n",
      "\n",
      "Reading structure file\n",
      "\n",
      "Back Off! I just backed up md.ndx to ./#md.ndx.1#\n",
      "\n",
      "GROMACS reminds you: \"If You Don't Like Cool Quotes Check Your GMXRC File\" (Your Sysadmin)\n",
      "\n",
      "[dgx-master.technion.ac.il:3387335] PMIX ERROR: NO-PERMISSIONS in file dstore_base.c at line 237\n",
      "[dgx-master.technion.ac.il:3387335] PMIX ERROR: NO-PERMISSIONS in file dstore_base.c at line 237\n",
      "[dgx-master.technion.ac.il:3387335] PMIX ERROR: NO-PERMISSIONS in file dstore_base.c at line 237\n",
      "[dgx-master.technion.ac.il:3387335] PMIX ERROR: NO-PERMISSIONS in file dstore_base.c at line 246\n",
      "/home/zadoki/miniconda3/envs/gromacs_plumed/lib/python3.9/site-packages/gromacs/setup.py:1116: AutoCorrectionWarning: Size of __main__ is only 3.3% of __environment__ so we use 'System' for T-coupling and ref_t = 300 K and tau_t = 0.1 1/ps (can be changed in mdp_parameters).\n",
      "\n",
      "  warnings.warn(wmsg, category=AutoCorrectionWarning)\n",
      "/home/zadoki/miniconda3/envs/gromacs_plumed/lib/python3.9/site-packages/gromacs/setup.py:781: UsageWarning: Unprocessed mdp option are interpreted as options for grompp:\n",
      "{'pp': 'processed.top', 'r': '/rg/mendels_prj/zadoki/chignolin_test/data/interim/YYDPESGTWY/state_folded/em/em.pdb', 'maxwarn': 10}\n",
      "  warnings.warn(wmsg, category=UsageWarning)\n",
      "               :-) GROMACS - gmx grompp, 2020.6-plumed-2.8.0 (-:\n",
      "\n",
      "                            GROMACS is written by:\n",
      "     Emile Apol      Rossen Apostolov      Paul Bauer     Herman J.C. Berendsen\n",
      "    Par Bjelkmar      Christian Blau   Viacheslav Bolnykh     Kevin Boyd    \n",
      " Aldert van Buuren   Rudi van Drunen     Anton Feenstra       Alan Gray     \n",
      "  Gerrit Groenhof     Anca Hamuraru    Vincent Hindriksen  M. Eric Irrgang  \n",
      "  Aleksei Iupinov   Christoph Junghans     Joe Jordan     Dimitrios Karkoulis\n",
      "    Peter Kasson        Jiri Kraus      Carsten Kutzner      Per Larsson    \n",
      "  Justin A. Lemkul    Viveca Lindahl    Magnus Lundborg     Erik Marklund   \n",
      "    Pascal Merz     Pieter Meulenhoff    Teemu Murtola       Szilard Pall   \n",
      "    Sander Pronk      Roland Schulz      Michael Shirts    Alexey Shvetsov  \n",
      "   Alfons Sijbers     Peter Tieleman      Jon Vincent      Teemu Virolainen \n",
      " Christian Wennberg    Maarten Wolf      Artem Zhmurov   \n",
      "                           and the project leaders:\n",
      "        Mark Abraham, Berk Hess, Erik Lindahl, and David van der Spoel\n",
      "\n",
      "Copyright (c) 1991-2000, University of Groningen, The Netherlands.\n",
      "Copyright (c) 2001-2019, The GROMACS development team at\n",
      "Uppsala University, Stockholm University and\n",
      "the Royal Institute of Technology, Sweden.\n",
      "check out http://www.gromacs.org for more information.\n",
      "\n",
      "GROMACS is free software; you can redistribute it and/or modify it\n",
      "under the terms of the GNU Lesser General Public License\n",
      "as published by the Free Software Foundation; either version 2.1\n",
      "of the License, or (at your option) any later version.\n",
      "\n",
      "GROMACS:      gmx grompp, version 2020.6-plumed-2.8.0\n",
      "Executable:   /home/zadoki/miniconda3/envs/bpti/bin/gmx_mpi\n",
      "Data prefix:  /home/zadoki/miniconda3/envs/bpti\n",
      "Working dir:  /rg/mendels_prj/zadoki/chignolin_test/data/interim/YYDPESGTWY/state_folded/MD_POSRES\n",
      "Command line:\n",
      "  gmx_mpi grompp -f md.mdp -p /rg/mendels_prj/zadoki/chignolin_test/data/interim/YYDPESGTWY/state_folded/top/system.top -c /rg/mendels_prj/zadoki/chignolin_test/data/interim/YYDPESGTWY/state_folded/em/em.pdb -n /rg/mendels_prj/zadoki/chignolin_test/data/interim/YYDPESGTWY/state_folded/MD_POSRES/md.ndx -o md.tpr -pp processed.top -r /rg/mendels_prj/zadoki/chignolin_test/data/interim/YYDPESGTWY/state_folded/em/em.pdb -maxwarn 10\n",
      "\n",
      "Ignoring obsolete mdp entry 'andersen_seed'\n",
      "Ignoring obsolete mdp entry 'optimize_fft'\n",
      "Ignoring obsolete mdp entry 'ns_type'\n",
      "Replacing old mdp entry 'nstxtcout' by 'nstxout-compressed'\n",
      "Replacing old mdp entry 'xtc-precision' by 'compressed-x-precision'\n",
      "\n",
      "NOTE 1 [file md.mdp]:\n",
      "  With Verlet lists the optimal nstlist is >= 10, with GPUs >= 20. Note\n",
      "  that with the Verlet scheme, nstlist has no effect on the accuracy of\n",
      "  your simulation.\n",
      "\n",
      "Setting the LD random seed to -276824833\n",
      "Generated 20503 of the 20503 non-bonded parameter combinations\n",
      "Generating 1-4 interactions: fudge = 1\n",
      "Generated 17396 of the 20503 1-4 parameter combinations\n",
      "Excluding 3 bonded neighbours molecule type 'Protein_chain_A'\n",
      "Excluding 2 bonded neighbours molecule type 'SOL'\n",
      "Excluding 1 bonded neighbours molecule type 'NA'\n",
      "Velocities were taken from a Maxwell distribution at 300 K\n",
      "The center of mass of the position restraint coord's is  1.886  1.913  1.887\n",
      "The center of mass of the position restraint coord's is  1.886  1.913  1.887\n",
      "Number of degrees of freedom in T-Coupling group System is 10291.00\n",
      "\n",
      "NOTE 2 [file md.mdp]:\n",
      "  Removing center of mass motion in the presence of position restraints\n",
      "  might cause artifacts. When you are using position restraints to\n",
      "  equilibrate a macro-molecule, the artifacts are usually negligible.\n",
      "\n",
      "Estimate for the relative computational load of the PME mesh part: 0.19\n",
      "\n",
      "There were 2 notes\n",
      "\n",
      "GROMACS reminds you: \"If You Don't Like Cool Quotes Check Your GMXRC File\" (Your Sysadmin)\n",
      "\n"
     ]
    },
    {
     "name": "stdout",
     "output_type": "stream",
     "text": [
      "turning H bonds into constraints...\n",
      "turning H bonds into constraints...\n",
      "turning H bonds into constraints...\n",
      "Determining Verlet buffer for a tolerance of 0.005 kJ/mol/ps at 300 K\n",
      "Calculated rlist for 1x1 atom pair-list as 1.008 nm, buffer size 0.008 nm\n",
      "Set rlist, assuming 4x4 atom pair-list, to 1.000 nm, buffer size 0.000 nm\n",
      "Note that mdrun will redetermine rlist based on the actual pair-list setup\n",
      "Calculating fourier grid dimensions for X Y Z\n",
      "Using a fourier grid of 32x32x32, spacing 0.118 0.118 0.118\n",
      "This run will generate roughly 60 Mb of data\n"
     ]
    },
    {
     "name": "stderr",
     "output_type": "stream",
     "text": [
      "[dgx-master.technion.ac.il:3387357] PMIX ERROR: NO-PERMISSIONS in file dstore_base.c at line 237\n",
      "[dgx-master.technion.ac.il:3387357] PMIX ERROR: NO-PERMISSIONS in file dstore_base.c at line 237\n",
      "[dgx-master.technion.ac.il:3387357] PMIX ERROR: NO-PERMISSIONS in file dstore_base.c at line 246\n"
     ]
    },
    {
     "data": {
      "text/plain": [
       "{'struct': '/rg/mendels_prj/zadoki/chignolin_test/data/interim/YYDPESGTWY/state_folded/MD_POSRES/md.gro',\n",
       " 'top': '/rg/mendels_prj/zadoki/chignolin_test/data/interim/YYDPESGTWY/state_folded/top/system.top',\n",
       " 'ndx': '/rg/mendels_prj/zadoki/chignolin_test/data/interim/YYDPESGTWY/state_folded/MD_POSRES/md.ndx',\n",
       " 'qscript': ['./local.sh'],\n",
       " 'mainselection': '\"Protein\"',\n",
       " 'deffnm': 'md',\n",
       " 'r': '/rg/mendels_prj/zadoki/chignolin_test/data/interim/YYDPESGTWY/state_folded/em/em.pdb',\n",
       " 'maxwarn': 10,\n",
       " 'nstxout': 100,\n",
       " 'nstvout': 0,\n",
       " 'nstenergy': 100,\n",
       " 'nstxtcout': 0,\n",
       " 'nsteps': 100000,\n",
       " 'nstfout': '0',\n",
       " 'nstlog': '500'}"
      ]
     },
     "execution_count": 14,
     "metadata": {},
     "output_type": "execute_result"
    }
   ],
   "source": [
    "# restrained md npt 20ns\n",
    "MD_restrained(r=str(fdir / 'em/em.pdb') , maxwarn=10, nstxout=NSTXOUT, nstvout=0, nstenergy=NSTENERGY, nstxtcout = 0, nsteps= nsteps_posres, **f3)"
   ]
  },
  {
   "cell_type": "code",
   "execution_count": 15,
   "metadata": {
    "execution": {
     "iopub.execute_input": "2024-02-14T08:54:27.989021Z",
     "iopub.status.busy": "2024-02-14T08:54:27.988472Z",
     "iopub.status.idle": "2024-02-14T08:54:27.992909Z",
     "shell.execute_reply": "2024-02-14T08:54:27.992162Z",
     "shell.execute_reply.started": "2024-02-14T08:54:27.988991Z"
    }
   },
   "outputs": [],
   "source": [
    "os.chdir(fdir / 'MD_POSRES')"
   ]
  },
  {
   "cell_type": "code",
   "execution_count": 16,
   "metadata": {
    "execution": {
     "iopub.execute_input": "2024-02-14T08:54:27.994555Z",
     "iopub.status.busy": "2024-02-14T08:54:27.994099Z",
     "iopub.status.idle": "2024-02-14T08:55:08.262453Z",
     "shell.execute_reply": "2024-02-14T08:55:08.261215Z",
     "shell.execute_reply.started": "2024-02-14T08:54:27.994522Z"
    }
   },
   "outputs": [
    {
     "name": "stderr",
     "output_type": "stream",
     "text": [
      "                :-) GROMACS - gmx mdrun, 2020.6-plumed-2.8.0 (-:\n",
      "\n",
      "                            GROMACS is written by:\n",
      "     Emile Apol      Rossen Apostolov      Paul Bauer     Herman J.C. Berendsen\n",
      "    Par Bjelkmar      Christian Blau   Viacheslav Bolnykh     Kevin Boyd    \n",
      " Aldert van Buuren   Rudi van Drunen     Anton Feenstra       Alan Gray     \n",
      "  Gerrit Groenhof     Anca Hamuraru    Vincent Hindriksen  M. Eric Irrgang  \n",
      "  Aleksei Iupinov   Christoph Junghans     Joe Jordan     Dimitrios Karkoulis\n",
      "    Peter Kasson        Jiri Kraus      Carsten Kutzner      Per Larsson    \n",
      "  Justin A. Lemkul    Viveca Lindahl    Magnus Lundborg     Erik Marklund   \n",
      "    Pascal Merz     Pieter Meulenhoff    Teemu Murtola       Szilard Pall   \n",
      "    Sander Pronk      Roland Schulz      Michael Shirts    Alexey Shvetsov  \n",
      "   Alfons Sijbers     Peter Tieleman      Jon Vincent      Teemu Virolainen \n",
      " Christian Wennberg    Maarten Wolf      Artem Zhmurov   \n",
      "                           and the project leaders:\n",
      "        Mark Abraham, Berk Hess, Erik Lindahl, and David van der Spoel\n",
      "\n",
      "Copyright (c) 1991-2000, University of Groningen, The Netherlands.\n",
      "Copyright (c) 2001-2019, The GROMACS development team at\n",
      "Uppsala University, Stockholm University and\n",
      "the Royal Institute of Technology, Sweden.\n",
      "check out http://www.gromacs.org for more information.\n",
      "\n",
      "GROMACS is free software; you can redistribute it and/or modify it\n",
      "under the terms of the GNU Lesser General Public License\n",
      "as published by the Free Software Foundation; either version 2.1\n",
      "of the License, or (at your option) any later version.\n",
      "\n",
      "GROMACS:      gmx mdrun, version 2020.6-plumed-2.8.0\n",
      "Executable:   /home/zadoki/miniconda3/envs/bpti/bin/gmx_mpi\n",
      "Data prefix:  /home/zadoki/miniconda3/envs/bpti\n",
      "Working dir:  /rg/mendels_prj/zadoki/chignolin_test/data/interim/GYDPENGTWG/state_folded/MD_POSRES\n",
      "Command line:\n",
      "  gmx_mpi mdrun -v -deffnm md -ntomp 8\n",
      "\n",
      "Compiled SIMD: SSE2, but for this host/run AVX_512 might be better (see log).\n",
      "The current CPU can measure timings more accurately than the code in\n",
      "gmx mdrun was configured to use. This might affect your simulation\n",
      "speed as accurate timings are needed for load-balancing.\n",
      "Please consider rebuilding gmx mdrun with the GMX_USE_RDTSCP=ON CMake option.\n",
      "Reading file md.tpr, VERSION 2020.6-plumed-2.8.0 (single precision)\n",
      "Changing nstlist from 5 to 50, rlist from 1 to 1.106\n",
      "\n",
      "\n",
      "Using 1 MPI process\n",
      "Using 8 OpenMP threads \n",
      "\n",
      "\n",
      "NOTE: The number of threads is not equal to the number of (logical) cores\n",
      "      and the -pin option is set to auto: will not pin threads to cores.\n",
      "      This can lead to significant performance degradation.\n",
      "      Consider using -pin on (and -pinoffset in case you run multiple jobs).\n",
      "starting mdrun 'Protein in water'\n",
      "10000 steps,     20.0 ps.\n",
      "step 9900, remaining wall clock time:     0 s          \n",
      "Writing final coordinates.\n",
      "step 10000, remaining wall clock time:     0 s          \n",
      "               Core t (s)   Wall t (s)        (%)\n",
      "       Time:      318.263       39.787      799.9\n",
      "                 (ns/day)    (hour/ns)\n",
      "Performance:       43.436        0.553\n",
      "\n",
      "GROMACS reminds you: \"Science progresses best when observations force us to alter our preconceptions.\" (Vera Rubin)\n",
      "\n"
     ]
    },
    {
     "data": {
      "text/plain": [
       "CompletedProcess(args='gmx_mpi mdrun  -v -deffnm md  -ntomp 8 ', returncode=0)"
      ]
     },
     "execution_count": 16,
     "metadata": {},
     "output_type": "execute_result"
    },
    {
     "name": "stderr",
     "output_type": "stream",
     "text": [
      "[dgx-master:2734797] PMIX ERROR: NO-PERMISSIONS in file dstore_base.c at line 237\n",
      "[dgx-master:2734797] PMIX ERROR: NO-PERMISSIONS in file dstore_base.c at line 246\n"
     ]
    }
   ],
   "source": [
    "subprocess.run('gmx_mpi mdrun  -v -deffnm md  -ntomp 8 ', shell=True )"
   ]
  },
  {
   "cell_type": "code",
   "execution_count": 17,
   "metadata": {
    "execution": {
     "iopub.execute_input": "2024-02-14T08:55:08.264046Z",
     "iopub.status.busy": "2024-02-14T08:55:08.263752Z",
     "iopub.status.idle": "2024-02-14T08:55:08.271166Z",
     "shell.execute_reply": "2024-02-14T08:55:08.268717Z",
     "shell.execute_reply.started": "2024-02-14T08:55:08.264017Z"
    }
   },
   "outputs": [],
   "source": [
    "os.chdir(fdir)"
   ]
  },
  {
   "cell_type": "code",
   "execution_count": 18,
   "metadata": {
    "execution": {
     "iopub.execute_input": "2024-02-14T08:55:08.272602Z",
     "iopub.status.busy": "2024-02-14T08:55:08.272111Z",
     "iopub.status.idle": "2024-02-14T08:55:09.347934Z",
     "shell.execute_reply": "2024-02-14T08:55:09.347103Z",
     "shell.execute_reply.started": "2024-02-14T08:55:08.272570Z"
    },
    "scrolled": true
   },
   "outputs": [
    {
     "name": "stderr",
     "output_type": "stream",
     "text": [
      "              :-) GROMACS - gmx make_ndx, 2020.6-plumed-2.8.0 (-:\n",
      "\n",
      "                            GROMACS is written by:\n",
      "     Emile Apol      Rossen Apostolov      Paul Bauer     Herman J.C. Berendsen\n",
      "    Par Bjelkmar      Christian Blau   Viacheslav Bolnykh     Kevin Boyd    \n",
      " Aldert van Buuren   Rudi van Drunen     Anton Feenstra       Alan Gray     \n",
      "  Gerrit Groenhof     Anca Hamuraru    Vincent Hindriksen  M. Eric Irrgang  \n",
      "  Aleksei Iupinov   Christoph Junghans     Joe Jordan     Dimitrios Karkoulis\n",
      "    Peter Kasson        Jiri Kraus      Carsten Kutzner      Per Larsson    \n",
      "  Justin A. Lemkul    Viveca Lindahl    Magnus Lundborg     Erik Marklund   \n",
      "    Pascal Merz     Pieter Meulenhoff    Teemu Murtola       Szilard Pall   \n",
      "    Sander Pronk      Roland Schulz      Michael Shirts    Alexey Shvetsov  \n",
      "   Alfons Sijbers     Peter Tieleman      Jon Vincent      Teemu Virolainen \n",
      " Christian Wennberg    Maarten Wolf      Artem Zhmurov   \n",
      "                           and the project leaders:\n",
      "        Mark Abraham, Berk Hess, Erik Lindahl, and David van der Spoel\n",
      "\n",
      "Copyright (c) 1991-2000, University of Groningen, The Netherlands.\n",
      "Copyright (c) 2001-2019, The GROMACS development team at\n",
      "Uppsala University, Stockholm University and\n",
      "the Royal Institute of Technology, Sweden.\n",
      "check out http://www.gromacs.org for more information.\n",
      "\n",
      "GROMACS is free software; you can redistribute it and/or modify it\n",
      "under the terms of the GNU Lesser General Public License\n",
      "as published by the Free Software Foundation; either version 2.1\n",
      "of the License, or (at your option) any later version.\n",
      "\n",
      "GROMACS:      gmx make_ndx, version 2020.6-plumed-2.8.0\n",
      "Executable:   /home/zadoki/miniconda3/envs/bpti/bin/gmx_mpi\n",
      "Data prefix:  /home/zadoki/miniconda3/envs/bpti\n",
      "Working dir:  /rg/mendels_prj/zadoki/chignolin_test/data/interim/GYDPENGTWG/state_folded/MD\n",
      "Command line:\n",
      "  gmx_mpi make_ndx -f /rg/mendels_prj/zadoki/chignolin_test/data/interim/GYDPENGTWG/state_folded/em/em.pdb -o md.ndx\n",
      "\n",
      "\n",
      "Reading structure file\n",
      "\n",
      "GROMACS reminds you: \"Science progresses best when observations force us to alter our preconceptions.\" (Vera Rubin)\n",
      "\n",
      "[dgx-master:2735811] PMIX ERROR: NO-PERMISSIONS in file dstore_base.c at line 237\n",
      "[dgx-master:2735811] PMIX ERROR: NO-PERMISSIONS in file dstore_base.c at line 246\n",
      "              :-) GROMACS - gmx make_ndx, 2020.6-plumed-2.8.0 (-:\n",
      "\n",
      "                            GROMACS is written by:\n",
      "     Emile Apol      Rossen Apostolov      Paul Bauer     Herman J.C. Berendsen\n",
      "    Par Bjelkmar      Christian Blau   Viacheslav Bolnykh     Kevin Boyd    \n",
      " Aldert van Buuren   Rudi van Drunen     Anton Feenstra       Alan Gray     \n",
      "  Gerrit Groenhof     Anca Hamuraru    Vincent Hindriksen  M. Eric Irrgang  \n",
      "  Aleksei Iupinov   Christoph Junghans     Joe Jordan     Dimitrios Karkoulis\n",
      "    Peter Kasson        Jiri Kraus      Carsten Kutzner      Per Larsson    \n",
      "  Justin A. Lemkul    Viveca Lindahl    Magnus Lundborg     Erik Marklund   \n",
      "    Pascal Merz     Pieter Meulenhoff    Teemu Murtola       Szilard Pall   \n",
      "    Sander Pronk      Roland Schulz      Michael Shirts    Alexey Shvetsov  \n",
      "   Alfons Sijbers     Peter Tieleman      Jon Vincent      Teemu Virolainen \n",
      " Christian Wennberg    Maarten Wolf      Artem Zhmurov   \n",
      "                           and the project leaders:\n",
      "        Mark Abraham, Berk Hess, Erik Lindahl, and David van der Spoel\n",
      "\n",
      "Copyright (c) 1991-2000, University of Groningen, The Netherlands.\n",
      "Copyright (c) 2001-2019, The GROMACS development team at\n",
      "Uppsala University, Stockholm University and\n",
      "the Royal Institute of Technology, Sweden.\n",
      "check out http://www.gromacs.org for more information.\n",
      "\n",
      "GROMACS is free software; you can redistribute it and/or modify it\n",
      "under the terms of the GNU Lesser General Public License\n",
      "as published by the Free Software Foundation; either version 2.1\n",
      "of the License, or (at your option) any later version.\n",
      "\n",
      "GROMACS:      gmx make_ndx, version 2020.6-plumed-2.8.0\n",
      "Executable:   /home/zadoki/miniconda3/envs/bpti/bin/gmx_mpi\n",
      "Data prefix:  /home/zadoki/miniconda3/envs/bpti\n",
      "Working dir:  /rg/mendels_prj/zadoki/chignolin_test/data/interim/GYDPENGTWG/state_folded/MD\n",
      "Command line:\n",
      "  gmx_mpi make_ndx -f /rg/mendels_prj/zadoki/chignolin_test/data/interim/GYDPENGTWG/state_folded/em/em.pdb -n md.ndx -o md.ndx\n",
      "\n",
      "\n",
      "Reading structure file\n",
      "\n",
      "Back Off! I just backed up md.ndx to ./#md.ndx.1#\n",
      "\n",
      "GROMACS reminds you: \"Science progresses best when observations force us to alter our preconceptions.\" (Vera Rubin)\n",
      "\n",
      "[dgx-master:2735848] PMIX ERROR: NO-PERMISSIONS in file dstore_base.c at line 237\n",
      "[dgx-master:2735848] PMIX ERROR: NO-PERMISSIONS in file dstore_base.c at line 237\n",
      "[dgx-master:2735848] PMIX ERROR: NO-PERMISSIONS in file dstore_base.c at line 246\n",
      "/home/zadoki/miniconda3/envs/gromacs_plumed/lib/python3.9/site-packages/gromacs/setup.py:1116: AutoCorrectionWarning: Size of __main__ is only 2.8% of __environment__ so we use 'System' for T-coupling and ref_t = 300 K and tau_t = 0.1 1/ps (can be changed in mdp_parameters).\n",
      "\n",
      "  warnings.warn(wmsg, category=AutoCorrectionWarning)\n",
      "/home/zadoki/miniconda3/envs/gromacs_plumed/lib/python3.9/site-packages/gromacs/setup.py:781: UsageWarning: Unprocessed mdp option are interpreted as options for grompp:\n",
      "{'pp': 'processed.top', 'r': '/rg/mendels_prj/zadoki/chignolin_test/data/interim/GYDPENGTWG/state_folded/MD_POSRES/md.tpr', 'maxwarn': 10}\n",
      "  warnings.warn(wmsg, category=UsageWarning)\n",
      "               :-) GROMACS - gmx grompp, 2020.6-plumed-2.8.0 (-:\n",
      "\n",
      "                            GROMACS is written by:\n",
      "     Emile Apol      Rossen Apostolov      Paul Bauer     Herman J.C. Berendsen\n",
      "    Par Bjelkmar      Christian Blau   Viacheslav Bolnykh     Kevin Boyd    \n",
      " Aldert van Buuren   Rudi van Drunen     Anton Feenstra       Alan Gray     \n",
      "  Gerrit Groenhof     Anca Hamuraru    Vincent Hindriksen  M. Eric Irrgang  \n",
      "  Aleksei Iupinov   Christoph Junghans     Joe Jordan     Dimitrios Karkoulis\n",
      "    Peter Kasson        Jiri Kraus      Carsten Kutzner      Per Larsson    \n",
      "  Justin A. Lemkul    Viveca Lindahl    Magnus Lundborg     Erik Marklund   \n",
      "    Pascal Merz     Pieter Meulenhoff    Teemu Murtola       Szilard Pall   \n",
      "    Sander Pronk      Roland Schulz      Michael Shirts    Alexey Shvetsov  \n",
      "   Alfons Sijbers     Peter Tieleman      Jon Vincent      Teemu Virolainen \n",
      " Christian Wennberg    Maarten Wolf      Artem Zhmurov   \n",
      "                           and the project leaders:\n",
      "        Mark Abraham, Berk Hess, Erik Lindahl, and David van der Spoel\n",
      "\n",
      "Copyright (c) 1991-2000, University of Groningen, The Netherlands.\n",
      "Copyright (c) 2001-2019, The GROMACS development team at\n",
      "Uppsala University, Stockholm University and\n",
      "the Royal Institute of Technology, Sweden.\n",
      "check out http://www.gromacs.org for more information.\n",
      "\n",
      "GROMACS is free software; you can redistribute it and/or modify it\n",
      "under the terms of the GNU Lesser General Public License\n",
      "as published by the Free Software Foundation; either version 2.1\n",
      "of the License, or (at your option) any later version.\n",
      "\n",
      "GROMACS:      gmx grompp, version 2020.6-plumed-2.8.0\n",
      "Executable:   /home/zadoki/miniconda3/envs/bpti/bin/gmx_mpi\n",
      "Data prefix:  /home/zadoki/miniconda3/envs/bpti\n",
      "Working dir:  /rg/mendels_prj/zadoki/chignolin_test/data/interim/GYDPENGTWG/state_folded/MD\n",
      "Command line:\n",
      "  gmx_mpi grompp -f md.mdp -p /rg/mendels_prj/zadoki/chignolin_test/data/interim/GYDPENGTWG/state_folded/top/system.top -c /rg/mendels_prj/zadoki/chignolin_test/data/interim/GYDPENGTWG/state_folded/em/em.pdb -n /rg/mendels_prj/zadoki/chignolin_test/data/interim/GYDPENGTWG/state_folded/MD/md.ndx -o md.tpr -pp processed.top -r /rg/mendels_prj/zadoki/chignolin_test/data/interim/GYDPENGTWG/state_folded/MD_POSRES/md.tpr -maxwarn 10\n",
      "\n",
      "Ignoring obsolete mdp entry 'andersen_seed'\n",
      "Ignoring obsolete mdp entry 'optimize_fft'\n",
      "Ignoring obsolete mdp entry 'ns_type'\n",
      "Replacing old mdp entry 'nstxtcout' by 'nstxout-compressed'\n",
      "Replacing old mdp entry 'xtc-precision' by 'compressed-x-precision'\n",
      "\n",
      "NOTE 1 [file md.mdp]:\n",
      "  With Verlet lists the optimal nstlist is >= 10, with GPUs >= 20. Note\n",
      "  that with the Verlet scheme, nstlist has no effect on the accuracy of\n",
      "  your simulation.\n",
      "\n",
      "\n",
      "WARNING 1 [file md.mdp]:\n",
      "  You are generating velocities so I am assuming you are equilibrating a\n",
      "  system. You are using Parrinello-Rahman pressure coupling, but this can\n",
      "  be unstable for equilibration. If your system crashes, try equilibrating\n",
      "  first with Berendsen pressure coupling. If you are not equilibrating the\n",
      "  system, you can probably ignore this warning.\n",
      "\n",
      "Setting the LD random seed to -1092178018\n",
      "Generated 20503 of the 20503 non-bonded parameter combinations\n",
      "Generating 1-4 interactions: fudge = 1\n",
      "Generated 17396 of the 20503 1-4 parameter combinations\n",
      "Excluding 3 bonded neighbours molecule type 'Protein_chain_A'\n",
      "Excluding 2 bonded neighbours molecule type 'SOL'\n",
      "Excluding 1 bonded neighbours molecule type 'NA'\n",
      "Velocities were taken from a Maxwell distribution at 300 K\n",
      "Number of degrees of freedom in T-Coupling group System is 10262.00\n",
      "Estimate for the relative computational load of the PME mesh part: 0.19\n",
      "\n",
      "There was 1 note\n",
      "\n",
      "There was 1 warning\n",
      "\n",
      "GROMACS reminds you: \"Never mind, death professor, your structure's fine\" (TV on the Radio)\n",
      "\n",
      "[dgx-master:2735874] PMIX ERROR: NO-PERMISSIONS in file dstore_base.c at line 237\n"
     ]
    },
    {
     "name": "stdout",
     "output_type": "stream",
     "text": [
      "turning H bonds into constraints...\n",
      "turning H bonds into constraints...\n",
      "turning H bonds into constraints...\n",
      "Determining Verlet buffer for a tolerance of 0.005 kJ/mol/ps at 300 K\n",
      "Calculated rlist for 1x1 atom pair-list as 1.008 nm, buffer size 0.008 nm\n",
      "Set rlist, assuming 4x4 atom pair-list, to 1.000 nm, buffer size 0.000 nm\n",
      "Note that mdrun will redetermine rlist based on the actual pair-list setup\n",
      "Calculating fourier grid dimensions for X Y Z\n",
      "Using a fourier grid of 32x32x32, spacing 0.118 0.118 0.118\n",
      "This run will generate roughly 1 Mb of data\n"
     ]
    },
    {
     "data": {
      "text/plain": [
       "{'struct': '/rg/mendels_prj/zadoki/chignolin_test/data/interim/GYDPENGTWG/state_folded/MD/md.gro',\n",
       " 'top': '/rg/mendels_prj/zadoki/chignolin_test/data/interim/GYDPENGTWG/state_folded/top/system.top',\n",
       " 'ndx': '/rg/mendels_prj/zadoki/chignolin_test/data/interim/GYDPENGTWG/state_folded/MD/md.ndx',\n",
       " 'qscript': ['./local.sh'],\n",
       " 'mainselection': '\"Protein\"',\n",
       " 'deffnm': 'md',\n",
       " 'r': '/rg/mendels_prj/zadoki/chignolin_test/data/interim/GYDPENGTWG/state_folded/MD_POSRES/md.tpr',\n",
       " 'maxwarn': 10,\n",
       " 'nstxout': 100,\n",
       " 'nstvout': 0,\n",
       " 'nstenergy': 100,\n",
       " 'nstxtcout': 0,\n",
       " 'nsteps': 1000}"
      ]
     },
     "execution_count": 18,
     "metadata": {},
     "output_type": "execute_result"
    }
   ],
   "source": [
    "MD(r=str(fdir / 'MD_POSRES/md.tpr') , maxwarn=10, nstxout=NSTXOUT, nstvout=0, nstenergy=NSTENERGY, nstxtcout = 0, nsteps= NSTEPS, **f3)"
   ]
  },
  {
   "cell_type": "markdown",
   "metadata": {},
   "source": [
    "##  make reference pdb for plumed - align on protein backbone"
   ]
  },
  {
   "cell_type": "code",
   "execution_count": 19,
   "metadata": {
    "execution": {
     "iopub.execute_input": "2024-02-14T08:55:09.349326Z",
     "iopub.status.busy": "2024-02-14T08:55:09.349038Z",
     "iopub.status.idle": "2024-02-14T08:55:09.429976Z",
     "shell.execute_reply": "2024-02-14T08:55:09.429020Z",
     "shell.execute_reply.started": "2024-02-14T08:55:09.349295Z"
    }
   },
   "outputs": [
    {
     "name": "stderr",
     "output_type": "stream",
     "text": [
      "[dgx-master:2735874] PMIX ERROR: NO-PERMISSIONS in file dstore_base.c at line 237\n",
      "[dgx-master:2735874] PMIX ERROR: NO-PERMISSIONS in file dstore_base.c at line 246\n",
      "/home/zadoki/miniconda3/envs/gromacs_plumed/lib/python3.9/site-packages/MDAnalysis/coordinates/PDB.py:1153: UserWarning: Found no information for attr: 'altLocs' Using default value of ' '\n",
      "  warnings.warn(\"Found no information for attr: '{}'\"\n",
      "/home/zadoki/miniconda3/envs/gromacs_plumed/lib/python3.9/site-packages/MDAnalysis/coordinates/PDB.py:1153: UserWarning: Found no information for attr: 'icodes' Using default value of ' '\n",
      "  warnings.warn(\"Found no information for attr: '{}'\"\n",
      "/home/zadoki/miniconda3/envs/gromacs_plumed/lib/python3.9/site-packages/MDAnalysis/coordinates/PDB.py:1153: UserWarning: Found no information for attr: 'record_types' Using default value of 'ATOM'\n",
      "  warnings.warn(\"Found no information for attr: '{}'\"\n",
      "/home/zadoki/miniconda3/envs/gromacs_plumed/lib/python3.9/site-packages/MDAnalysis/coordinates/PDB.py:1153: UserWarning: Found no information for attr: 'formalcharges' Using default value of '0'\n",
      "  warnings.warn(\"Found no information for attr: '{}'\"\n"
     ]
    }
   ],
   "source": [
    "\n",
    "# load traj\n",
    "u = mda.Universe(fdir / 'MD_POSRES/md.tpr', fdir / 'MD_POSRES/md.trr' )\n",
    "\n",
    "u.add_TopologyAttr('tempfactors')\n",
    "u.add_TopologyAttr('occupancy')\n",
    "\n",
    "# Select protein\n",
    "p = u.select_atoms('protein')\n",
    "\n",
    "u.trajectory[-1]\n",
    "\n",
    "# set attributes for RMSD and reference\n",
    "bb = p.select_atoms('backbone')\n",
    "\n",
    "\n",
    "bb.atoms.tempfactors = 1 \n",
    "bb.atoms.occupancies  =  1 \n",
    "\n",
    "# change some oxygen names\n",
    "\n",
    "p.select_atoms('name OT1').atoms.names = 'O'\n",
    "p.select_atoms('name OT2').atoms.names = 'OXT'\n",
    "#[atomselect top \"name OT1\"] set name O\n",
    "#[atomselect top \"name OT2\"] set name OXT\n",
    "\n",
    "\n",
    "\n",
    "# fix zero based resids\n",
    "p.residues.resids = p.residues.resids -1 \n",
    "\n",
    "# save pdb\n",
    "\n",
    "p.write(fdir / 'reference.pdb', bonds = None )"
   ]
  },
  {
   "cell_type": "code",
   "execution_count": 20,
   "metadata": {
    "execution": {
     "iopub.execute_input": "2024-02-14T08:55:09.431189Z",
     "iopub.status.busy": "2024-02-14T08:55:09.430899Z",
     "iopub.status.idle": "2024-02-14T08:55:09.441341Z",
     "shell.execute_reply": "2024-02-14T08:55:09.440709Z",
     "shell.execute_reply.started": "2024-02-14T08:55:09.431162Z"
    }
   },
   "outputs": [
    {
     "data": {
      "text/plain": [
       "'reference.pdb'"
      ]
     },
     "execution_count": 20,
     "metadata": {},
     "output_type": "execute_result"
    }
   ],
   "source": [
    "os.chdir(fdir / 'MD')\n",
    "shutil.copy2(fdir/ 'reference.pdb', 'reference.pdb')"
   ]
  },
  {
   "cell_type": "code",
   "execution_count": 21,
   "metadata": {
    "execution": {
     "iopub.execute_input": "2024-02-14T08:55:09.442390Z",
     "iopub.status.busy": "2024-02-14T08:55:09.442157Z",
     "iopub.status.idle": "2024-02-14T08:55:09.452034Z",
     "shell.execute_reply": "2024-02-14T08:55:09.451375Z",
     "shell.execute_reply.started": "2024-02-14T08:55:09.442367Z"
    }
   },
   "outputs": [],
   "source": [
    "# write plumed cv collection file\n",
    "with open('plumed.dat', 'w') as f:\n",
    "    print(\"\"\"\n",
    "    # vim:ft=plumed\n",
    "    # calculate  CVs for HLDA \n",
    "    MOLINFO STRUCTURE=reference.pdb MOLTYPE=protein\n",
    "    WHOLEMOLECULES RESIDUES=all MOLTYPE=protein\n",
    "    rmsd: RMSD REFERENCE=reference.pdb TYPE=OPTIMAL NOPBC\n",
    "    e2e: DISTANCE ATOMS=@N-0,@O-9 NOPBC\n",
    "    rg: GYRATION TYPE=RADIUS ATOMS=@back-0,@back-1,@back-2,@back-3,@back-4,@back-5,@back-6,@back-7,@back-8,@back-9 NOPBC\n",
    "\n",
    "    # dihedrals\n",
    "    psi0: TORSION ATOMS=@psi-0 NOPBC\n",
    "    phi1: TORSION ATOMS=@phi-1 NOPBC\n",
    "    psi1: TORSION ATOMS=@psi-1 NOPBC\n",
    "    phi2: TORSION ATOMS=@phi-2 NOPBC\n",
    "    psi2: TORSION ATOMS=@psi-2 NOPBC\n",
    "    phi3: TORSION ATOMS=@phi-3 NOPBC\n",
    "    psi3: TORSION ATOMS=@psi-3 NOPBC\n",
    "    phi4: TORSION ATOMS=@phi-4 NOPBC\n",
    "    psi4: TORSION ATOMS=@psi-4 NOPBC\n",
    "    phi5: TORSION ATOMS=@phi-5 NOPBC\n",
    "    psi5: TORSION ATOMS=@psi-5 NOPBC\n",
    "    phi6: TORSION ATOMS=@phi-6 NOPBC\n",
    "    psi6: TORSION ATOMS=@psi-6 NOPBC\n",
    "    phi7: TORSION ATOMS=@phi-7 NOPBC\n",
    "    psi7: TORSION ATOMS=@psi-7 NOPBC\n",
    "    phi8: TORSION ATOMS=@phi-8 NOPBC\n",
    "    psi8: TORSION ATOMS=@psi-8 NOPBC\n",
    "    phi9: TORSION ATOMS=@phi-9 NOPBC\n",
    "\n",
    "    \n",
    "    PRINT ...\n",
    "    ARG=rmsd,e2e,rg,psi0,phi1,psi1,phi2,psi2,phi3,psi3,phi4,psi4,phi5,psi5,phi6,psi6,phi7,psi7,phi8,psi8,phi9\n",
    "    FILE=COLVAR STRIDE=100\n",
    "    ... PRINT\n",
    "    \"\"\", file = f) "
   ]
  },
  {
   "cell_type": "code",
   "execution_count": 22,
   "metadata": {
    "execution": {
     "iopub.execute_input": "2024-02-14T08:55:09.457083Z",
     "iopub.status.busy": "2024-02-14T08:55:09.456822Z",
     "iopub.status.idle": "2024-02-14T08:55:14.179117Z",
     "shell.execute_reply": "2024-02-14T08:55:14.177962Z",
     "shell.execute_reply.started": "2024-02-14T08:55:09.457057Z"
    },
    "scrolled": true
   },
   "outputs": [
    {
     "name": "stderr",
     "output_type": "stream",
     "text": [
      "                :-) GROMACS - gmx mdrun, 2020.6-plumed-2.8.0 (-:\n",
      "\n",
      "                            GROMACS is written by:\n",
      "     Emile Apol      Rossen Apostolov      Paul Bauer     Herman J.C. Berendsen\n",
      "    Par Bjelkmar      Christian Blau   Viacheslav Bolnykh     Kevin Boyd    \n",
      " Aldert van Buuren   Rudi van Drunen     Anton Feenstra       Alan Gray     \n",
      "  Gerrit Groenhof     Anca Hamuraru    Vincent Hindriksen  M. Eric Irrgang  \n",
      "  Aleksei Iupinov   Christoph Junghans     Joe Jordan     Dimitrios Karkoulis\n",
      "    Peter Kasson        Jiri Kraus      Carsten Kutzner      Per Larsson    \n",
      "  Justin A. Lemkul    Viveca Lindahl    Magnus Lundborg     Erik Marklund   \n",
      "    Pascal Merz     Pieter Meulenhoff    Teemu Murtola       Szilard Pall   \n",
      "    Sander Pronk      Roland Schulz      Michael Shirts    Alexey Shvetsov  \n",
      "   Alfons Sijbers     Peter Tieleman      Jon Vincent      Teemu Virolainen \n",
      " Christian Wennberg    Maarten Wolf      Artem Zhmurov   \n",
      "                           and the project leaders:\n",
      "        Mark Abraham, Berk Hess, Erik Lindahl, and David van der Spoel\n",
      "\n",
      "Copyright (c) 1991-2000, University of Groningen, The Netherlands.\n",
      "Copyright (c) 2001-2019, The GROMACS development team at\n",
      "Uppsala University, Stockholm University and\n",
      "the Royal Institute of Technology, Sweden.\n",
      "check out http://www.gromacs.org for more information.\n",
      "\n",
      "GROMACS is free software; you can redistribute it and/or modify it\n",
      "under the terms of the GNU Lesser General Public License\n",
      "as published by the Free Software Foundation; either version 2.1\n",
      "of the License, or (at your option) any later version.\n",
      "\n",
      "GROMACS:      gmx mdrun, version 2020.6-plumed-2.8.0\n",
      "Executable:   /home/zadoki/miniconda3/envs/bpti/bin/gmx_mpi\n",
      "Data prefix:  /home/zadoki/miniconda3/envs/bpti\n",
      "Working dir:  /rg/mendels_prj/zadoki/chignolin_test/data/interim/GYDPENGTWG/state_folded/MD\n",
      "Command line:\n",
      "  gmx_mpi mdrun -v -deffnm md -cpi -plumed plumed.dat -c md.pdb -ntomp 8 -nsteps 1000\n",
      "\n",
      "+++ Loading the PLUMED kernel runtime +++\n",
      "+++ PLUMED_KERNEL=\"/home/zadoki/miniconda3/envs/bpti/lib/libplumedKernel.so\" +++\n",
      "+++ Loading the PLUMED kernel runtime +++\n",
      "+++ PLUMED_KERNEL=\"/home/zadoki/miniconda3/envs/bpti/lib/libplumedKernel.so\" +++\n",
      "Compiled SIMD: SSE2, but for this host/run AVX_512 might be better (see log).\n",
      "The current CPU can measure timings more accurately than the code in\n",
      "gmx mdrun was configured to use. This might affect your simulation\n",
      "speed as accurate timings are needed for load-balancing.\n",
      "Please consider rebuilding gmx mdrun with the GMX_USE_RDTSCP=ON CMake option.\n",
      "Reading file md.tpr, VERSION 2020.6-plumed-2.8.0 (single precision)\n",
      "\n",
      "Overriding nsteps with value passed on the command line: 1000 steps, 2 ps\n",
      "Changing nstlist from 5 to 50, rlist from 1 to 1.106\n",
      "\n",
      "\n",
      "Using 1 MPI process\n",
      "Using 8 OpenMP threads \n",
      "\n",
      "\n",
      "NOTE: The number of threads is not equal to the number of (logical) cores\n",
      "      and the -pin option is set to auto: will not pin threads to cores.\n",
      "      This can lead to significant performance degradation.\n",
      "      Consider using -pin on (and -pinoffset in case you run multiple jobs).\n",
      "starting mdrun 'Protein in water'\n",
      "1000 steps,      2.0 ps.\n",
      "step 900, remaining wall clock time:     0 s          \n",
      "Writing final coordinates.\n",
      "step 1000, remaining wall clock time:     0 s          \n",
      "               Core t (s)   Wall t (s)        (%)\n",
      "       Time:       33.113        4.143      799.3\n",
      "                 (ns/day)    (hour/ns)\n",
      "Performance:       41.752        0.575\n",
      "\n",
      "GROMACS reminds you: \"I can't go to a restaurant and order food because I keep looking at the fonts on the menu. Five minutes later I realize that it's also talking about food.\" (Donald Knuth)\n",
      "\n"
     ]
    },
    {
     "data": {
      "text/plain": [
       "CompletedProcess(args='gmx_mpi mdrun  -v -deffnm md -cpi -plumed plumed.dat  -c md.pdb -ntomp 8 -nsteps 1000 ', returncode=0)"
      ]
     },
     "execution_count": 22,
     "metadata": {},
     "output_type": "execute_result"
    }
   ],
   "source": [
    "subprocess.run('gmx_mpi mdrun  -v -deffnm md -cpi -plumed plumed.dat  -c md.pdb -ntomp 8 -nsteps {} '.format(NSTEPS), shell=True )"
   ]
  },
  {
   "cell_type": "code",
   "execution_count": 23,
   "metadata": {
    "execution": {
     "iopub.execute_input": "2024-02-14T08:55:14.180807Z",
     "iopub.status.busy": "2024-02-14T08:55:14.180500Z",
     "iopub.status.idle": "2024-02-14T08:55:14.215282Z",
     "shell.execute_reply": "2024-02-14T08:55:14.214164Z",
     "shell.execute_reply.started": "2024-02-14T08:55:14.180777Z"
    }
   },
   "outputs": [
    {
     "name": "stderr",
     "output_type": "stream",
     "text": [
      "[dgx-master:2735909] PMIX ERROR: NO-PERMISSIONS in file dstore_base.c at line 237\n",
      "[dgx-master:2735909] PMIX ERROR: NO-PERMISSIONS in file dstore_base.c at line 237\n",
      "[dgx-master:2735909] PMIX ERROR: NO-PERMISSIONS in file dstore_base.c at line 246\n"
     ]
    }
   ],
   "source": [
    "data = panedr.edr_to_df(str(fdir / 'MD/md.edr'))"
   ]
  },
  {
   "cell_type": "code",
   "execution_count": 24,
   "metadata": {
    "execution": {
     "iopub.execute_input": "2024-02-14T08:55:14.217298Z",
     "iopub.status.busy": "2024-02-14T08:55:14.216320Z",
     "iopub.status.idle": "2024-02-14T08:55:14.517258Z",
     "shell.execute_reply": "2024-02-14T08:55:14.516303Z",
     "shell.execute_reply.started": "2024-02-14T08:55:14.217269Z"
    }
   },
   "outputs": [
    {
     "data": {
      "text/plain": [
       "<Axes: xlabel='Time'>"
      ]
     },
     "execution_count": 24,
     "metadata": {},
     "output_type": "execute_result"
    },
    {
     "data": {
      "image/png": "[encoded data removed]",
      "text/plain": [
       "<Figure size 640x480 with 1 Axes>"
      ]
     },
     "metadata": {},
     "output_type": "display_data"
    }
   ],
   "source": [
    "\n",
    "data.iloc[:,:].plot(x='Time', y='Temperature')\n",
    "\n",
    "\n"
   ]
  },
  {
   "cell_type": "code",
   "execution_count": 25,
   "metadata": {
    "execution": {
     "iopub.execute_input": "2024-02-14T08:55:14.518457Z",
     "iopub.status.busy": "2024-02-14T08:55:14.518191Z",
     "iopub.status.idle": "2024-02-14T08:55:14.710511Z",
     "shell.execute_reply": "2024-02-14T08:55:14.709724Z",
     "shell.execute_reply.started": "2024-02-14T08:55:14.518431Z"
    }
   },
   "outputs": [
    {
     "data": {
      "text/plain": [
       "<Axes: xlabel='Time'>"
      ]
     },
     "execution_count": 25,
     "metadata": {},
     "output_type": "execute_result"
    },
    {
     "data": {
      "image/png": "[encoded data removed]",
      "text/plain": [
       "<Figure size 640x480 with 1 Axes>"
      ]
     },
     "metadata": {},
     "output_type": "display_data"
    }
   ],
   "source": [
    "data.iloc[:,:].plot(x='Time', y='Pressure')\n"
   ]
  },
  {
   "cell_type": "code",
   "execution_count": 26,
   "metadata": {
    "execution": {
     "iopub.execute_input": "2024-02-14T08:55:14.712464Z",
     "iopub.status.busy": "2024-02-14T08:55:14.711437Z",
     "iopub.status.idle": "2024-02-14T08:55:14.905488Z",
     "shell.execute_reply": "2024-02-14T08:55:14.904797Z",
     "shell.execute_reply.started": "2024-02-14T08:55:14.712438Z"
    }
   },
   "outputs": [
    {
     "data": {
      "text/plain": [
       "<Axes: xlabel='Time'>"
      ]
     },
     "execution_count": 26,
     "metadata": {},
     "output_type": "execute_result"
    },
    {
     "data": {
      "image/png": "[encoded data removed]",
      "text/plain": [
       "<Figure size 640x480 with 1 Axes>"
      ]
     },
     "metadata": {},
     "output_type": "display_data"
    }
   ],
   "source": [
    "data.iloc[:,:].plot(x='Time', y='Total Energy')\n"
   ]
  },
  {
   "cell_type": "code",
   "execution_count": 27,
   "metadata": {
    "execution": {
     "iopub.execute_input": "2024-02-14T08:55:14.906649Z",
     "iopub.status.busy": "2024-02-14T08:55:14.906404Z",
     "iopub.status.idle": "2024-02-14T08:55:15.108083Z",
     "shell.execute_reply": "2024-02-14T08:55:15.107260Z",
     "shell.execute_reply.started": "2024-02-14T08:55:14.906624Z"
    }
   },
   "outputs": [
    {
     "data": {
      "text/plain": [
       "<Axes: xlabel='Time'>"
      ]
     },
     "execution_count": 27,
     "metadata": {},
     "output_type": "execute_result"
    },
    {
     "data": {
      "image/png": "[encoded data removed]",
      "text/plain": [
       "<Figure size 640x480 with 1 Axes>"
      ]
     },
     "metadata": {},
     "output_type": "display_data"
    }
   ],
   "source": [
    "data.iloc[:,:].plot(x='Time', y='Potential')\n"
   ]
  },
  {
   "cell_type": "code",
   "execution_count": 28,
   "metadata": {
    "execution": {
     "iopub.execute_input": "2024-02-14T08:55:15.109450Z",
     "iopub.status.busy": "2024-02-14T08:55:15.109183Z",
     "iopub.status.idle": "2024-02-14T08:55:15.115330Z",
     "shell.execute_reply": "2024-02-14T08:55:15.114412Z",
     "shell.execute_reply.started": "2024-02-14T08:55:15.109424Z"
    }
   },
   "outputs": [
    {
     "data": {
      "text/plain": [
       "Index(['Time', 'Bond', 'U-B', 'Proper Dih.', 'Improper Dih.', 'CMAP Dih.',\n",
       "       'LJ-14', 'Coulomb-14', 'LJ (SR)', 'Disper. corr.', 'Coulomb (SR)',\n",
       "       'Coul. recip.', 'Potential', 'Kinetic En.', 'Total Energy',\n",
       "       'Conserved En.', 'Temperature', 'Pres. DC', 'Pressure', 'Constr. rmsd',\n",
       "       'Box-X', 'Box-Y', 'Box-Z', 'Volume', 'Density', 'pV', 'Enthalpy',\n",
       "       'Vir-XX', 'Vir-XY', 'Vir-XZ', 'Vir-YX', 'Vir-YY', 'Vir-YZ', 'Vir-ZX',\n",
       "       'Vir-ZY', 'Vir-ZZ', 'Pres-XX', 'Pres-XY', 'Pres-XZ', 'Pres-YX',\n",
       "       'Pres-YY', 'Pres-YZ', 'Pres-ZX', 'Pres-ZY', 'Pres-ZZ', '#Surf*SurfTen',\n",
       "       'Box-Vel-XX', 'Box-Vel-YY', 'Box-Vel-ZZ', 'T-System', 'Lamb-System'],\n",
       "      dtype='object')"
      ]
     },
     "execution_count": 28,
     "metadata": {},
     "output_type": "execute_result"
    }
   ],
   "source": [
    "data.columns"
   ]
  },
  {
   "cell_type": "code",
   "execution_count": 29,
   "metadata": {
    "execution": {
     "iopub.execute_input": "2024-02-14T08:55:15.116913Z",
     "iopub.status.busy": "2024-02-14T08:55:15.116258Z",
     "iopub.status.idle": "2024-02-14T08:55:46.864561Z",
     "shell.execute_reply": "2024-02-14T08:55:46.863623Z",
     "shell.execute_reply.started": "2024-02-14T08:55:15.116886Z"
    }
   },
   "outputs": [],
   "source": [
    "# bootstrapping averages for convergence\n",
    "dd = data[\"Potential\"].to_numpy()\n",
    "length = dd.shape[0]\n",
    "num_points = 1000\n",
    "num_straps = 10000\n",
    "bootstraps = np.zeros(num_straps)\n",
    "\n",
    "for i in range(num_straps) : \n",
    "    av = 0\n",
    "    av2 = 0 \n",
    "    for j in range(num_points) : av = av + dd[np.random.randint(0,length)]\n",
    "    \n",
    "    bootstraps[i] = (av / num_points)\n",
    " \n"
   ]
  },
  {
   "cell_type": "code",
   "execution_count": 30,
   "metadata": {
    "execution": {
     "iopub.execute_input": "2024-02-14T08:55:46.865952Z",
     "iopub.status.busy": "2024-02-14T08:55:46.865670Z",
     "iopub.status.idle": "2024-02-14T08:55:46.878898Z",
     "shell.execute_reply": "2024-02-14T08:55:46.878112Z",
     "shell.execute_reply.started": "2024-02-14T08:55:46.865925Z"
    }
   },
   "outputs": [
    {
     "data": {
      "text/plain": [
       "(-69725.62319192421, 8512.261392455557)"
      ]
     },
     "execution_count": 30,
     "metadata": {},
     "output_type": "execute_result"
    }
   ],
   "source": [
    "bootstraps.mean(), bootstraps.var()"
   ]
  },
  {
   "cell_type": "markdown",
   "metadata": {},
   "source": [
    "## Unfold protein"
   ]
  },
  {
   "cell_type": "code",
   "execution_count": 31,
   "metadata": {
    "execution": {
     "iopub.execute_input": "2024-02-14T08:55:46.880127Z",
     "iopub.status.busy": "2024-02-14T08:55:46.879858Z",
     "iopub.status.idle": "2024-02-14T08:55:46.885933Z",
     "shell.execute_reply": "2024-02-14T08:55:46.885202Z",
     "shell.execute_reply.started": "2024-02-14T08:55:46.880096Z"
    }
   },
   "outputs": [],
   "source": [
    "ufdir = base / 'data/interim' / mutate_name / 'state_unfolded'\n",
    "os.makedirs(str(ufdir), exist_ok=True)\n",
    "os.chdir(ufdir)"
   ]
  },
  {
   "cell_type": "code",
   "execution_count": 32,
   "metadata": {
    "execution": {
     "iopub.execute_input": "2024-02-14T08:55:46.887152Z",
     "iopub.status.busy": "2024-02-14T08:55:46.886911Z",
     "iopub.status.idle": "2024-02-14T08:55:46.901289Z",
     "shell.execute_reply": "2024-02-14T08:55:46.900603Z",
     "shell.execute_reply.started": "2024-02-14T08:55:46.887126Z"
    }
   },
   "outputs": [
    {
     "data": {
      "text/plain": [
       "'/rg/mendels_prj/zadoki/chignolin_test/data/interim/GYDPENGTWG/state_unfolded'"
      ]
     },
     "execution_count": 32,
     "metadata": {},
     "output_type": "execute_result"
    }
   ],
   "source": [
    "os.getcwd()"
   ]
  },
  {
   "cell_type": "code",
   "execution_count": 33,
   "metadata": {
    "execution": {
     "iopub.execute_input": "2024-02-14T08:55:46.902817Z",
     "iopub.status.busy": "2024-02-14T08:55:46.902232Z",
     "iopub.status.idle": "2024-02-14T08:55:48.187151Z",
     "shell.execute_reply": "2024-02-14T08:55:48.186459Z",
     "shell.execute_reply.started": "2024-02-14T08:55:46.902791Z"
    },
    "scrolled": true
   },
   "outputs": [
    {
     "name": "stderr",
     "output_type": "stream",
     "text": [
      "              :-) GROMACS - gmx make_ndx, 2020.6-plumed-2.8.0 (-:\n",
      "\n",
      "                            GROMACS is written by:\n",
      "     Emile Apol      Rossen Apostolov      Paul Bauer     Herman J.C. Berendsen\n",
      "    Par Bjelkmar      Christian Blau   Viacheslav Bolnykh     Kevin Boyd    \n",
      " Aldert van Buuren   Rudi van Drunen     Anton Feenstra       Alan Gray     \n",
      "  Gerrit Groenhof     Anca Hamuraru    Vincent Hindriksen  M. Eric Irrgang  \n",
      "  Aleksei Iupinov   Christoph Junghans     Joe Jordan     Dimitrios Karkoulis\n",
      "    Peter Kasson        Jiri Kraus      Carsten Kutzner      Per Larsson    \n",
      "  Justin A. Lemkul    Viveca Lindahl    Magnus Lundborg     Erik Marklund   \n",
      "    Pascal Merz     Pieter Meulenhoff    Teemu Murtola       Szilard Pall   \n",
      "    Sander Pronk      Roland Schulz      Michael Shirts    Alexey Shvetsov  \n",
      "   Alfons Sijbers     Peter Tieleman      Jon Vincent      Teemu Virolainen \n",
      " Christian Wennberg    Maarten Wolf      Artem Zhmurov   \n",
      "                           and the project leaders:\n",
      "        Mark Abraham, Berk Hess, Erik Lindahl, and David van der Spoel\n",
      "\n",
      "Copyright (c) 1991-2000, University of Groningen, The Netherlands.\n",
      "Copyright (c) 2001-2019, The GROMACS development team at\n",
      "Uppsala University, Stockholm University and\n",
      "the Royal Institute of Technology, Sweden.\n",
      "check out http://www.gromacs.org for more information.\n",
      "\n",
      "GROMACS is free software; you can redistribute it and/or modify it\n",
      "under the terms of the GNU Lesser General Public License\n",
      "as published by the Free Software Foundation; either version 2.1\n",
      "of the License, or (at your option) any later version.\n",
      "\n",
      "GROMACS:      gmx make_ndx, version 2020.6-plumed-2.8.0\n",
      "Executable:   /home/zadoki/miniconda3/envs/bpti/bin/gmx_mpi\n",
      "Data prefix:  /home/zadoki/miniconda3/envs/bpti\n",
      "Working dir:  /rg/mendels_prj/zadoki/chignolin_test/data/interim/GYDPENGTWG/state_unfolded/MD\n",
      "Command line:\n",
      "  gmx_mpi make_ndx -f /rg/mendels_prj/zadoki/chignolin_test/data/interim/GYDPENGTWG/state_folded/em/em.pdb -o md.ndx\n",
      "\n",
      "\n",
      "Reading structure file\n",
      "\n",
      "GROMACS reminds you: \"Everything Must Go\" (Red Hot Chili Peppers)\n",
      "\n",
      "[dgx-master:2741942] PMIX ERROR: NO-PERMISSIONS in file dstore_base.c at line 237\n",
      "[dgx-master:2741942] PMIX ERROR: NO-PERMISSIONS in file dstore_base.c at line 237\n",
      "[dgx-master:2741942] PMIX ERROR: NO-PERMISSIONS in file dstore_base.c at line 237\n",
      "[dgx-master:2741942] PMIX ERROR: NO-PERMISSIONS in file dstore_base.c at line 246\n",
      "              :-) GROMACS - gmx make_ndx, 2020.6-plumed-2.8.0 (-:\n",
      "\n",
      "                            GROMACS is written by:\n",
      "     Emile Apol      Rossen Apostolov      Paul Bauer     Herman J.C. Berendsen\n",
      "    Par Bjelkmar      Christian Blau   Viacheslav Bolnykh     Kevin Boyd    \n",
      " Aldert van Buuren   Rudi van Drunen     Anton Feenstra       Alan Gray     \n",
      "  Gerrit Groenhof     Anca Hamuraru    Vincent Hindriksen  M. Eric Irrgang  \n",
      "  Aleksei Iupinov   Christoph Junghans     Joe Jordan     Dimitrios Karkoulis\n",
      "    Peter Kasson        Jiri Kraus      Carsten Kutzner      Per Larsson    \n",
      "  Justin A. Lemkul    Viveca Lindahl    Magnus Lundborg     Erik Marklund   \n",
      "    Pascal Merz     Pieter Meulenhoff    Teemu Murtola       Szilard Pall   \n",
      "    Sander Pronk      Roland Schulz      Michael Shirts    Alexey Shvetsov  \n",
      "   Alfons Sijbers     Peter Tieleman      Jon Vincent      Teemu Virolainen \n",
      " Christian Wennberg    Maarten Wolf      Artem Zhmurov   \n",
      "                           and the project leaders:\n",
      "        Mark Abraham, Berk Hess, Erik Lindahl, and David van der Spoel\n",
      "\n",
      "Copyright (c) 1991-2000, University of Groningen, The Netherlands.\n",
      "Copyright (c) 2001-2019, The GROMACS development team at\n",
      "Uppsala University, Stockholm University and\n",
      "the Royal Institute of Technology, Sweden.\n",
      "check out http://www.gromacs.org for more information.\n",
      "\n",
      "GROMACS is free software; you can redistribute it and/or modify it\n",
      "under the terms of the GNU Lesser General Public License\n",
      "as published by the Free Software Foundation; either version 2.1\n",
      "of the License, or (at your option) any later version.\n",
      "\n",
      "GROMACS:      gmx make_ndx, version 2020.6-plumed-2.8.0\n",
      "Executable:   /home/zadoki/miniconda3/envs/bpti/bin/gmx_mpi\n",
      "Data prefix:  /home/zadoki/miniconda3/envs/bpti\n",
      "Working dir:  /rg/mendels_prj/zadoki/chignolin_test/data/interim/GYDPENGTWG/state_unfolded/MD\n",
      "Command line:\n",
      "  gmx_mpi make_ndx -f /rg/mendels_prj/zadoki/chignolin_test/data/interim/GYDPENGTWG/state_folded/em/em.pdb -n md.ndx -o md.ndx\n",
      "\n",
      "\n",
      "Reading structure file\n",
      "\n",
      "Back Off! I just backed up md.ndx to ./#md.ndx.1#\n",
      "\n",
      "GROMACS reminds you: \"Everything Must Go\" (Red Hot Chili Peppers)\n",
      "\n",
      "[dgx-master:2742021] PMIX ERROR: NO-PERMISSIONS in file dstore_base.c at line 237\n",
      "[dgx-master:2742021] PMIX ERROR: NO-PERMISSIONS in file dstore_base.c at line 246\n",
      "/home/zadoki/miniconda3/envs/gromacs_plumed/lib/python3.9/site-packages/gromacs/setup.py:1116: AutoCorrectionWarning: Size of __main__ is only 2.8% of __environment__ so we use 'System' for T-coupling and ref_t = 300 K and tau_t = 0.1 1/ps (can be changed in mdp_parameters).\n",
      "\n",
      "  warnings.warn(wmsg, category=AutoCorrectionWarning)\n",
      "/home/zadoki/miniconda3/envs/gromacs_plumed/lib/python3.9/site-packages/gromacs/setup.py:781: UsageWarning: Unprocessed mdp option are interpreted as options for grompp:\n",
      "{'pp': 'processed.top', 'r': '/rg/mendels_prj/zadoki/chignolin_test/data/interim/GYDPENGTWG/state_folded/MD_POSRES/md.tpr', 'maxwarn': 10}\n",
      "  warnings.warn(wmsg, category=UsageWarning)\n",
      "               :-) GROMACS - gmx grompp, 2020.6-plumed-2.8.0 (-:\n",
      "\n",
      "                            GROMACS is written by:\n",
      "     Emile Apol      Rossen Apostolov      Paul Bauer     Herman J.C. Berendsen\n",
      "    Par Bjelkmar      Christian Blau   Viacheslav Bolnykh     Kevin Boyd    \n",
      " Aldert van Buuren   Rudi van Drunen     Anton Feenstra       Alan Gray     \n",
      "  Gerrit Groenhof     Anca Hamuraru    Vincent Hindriksen  M. Eric Irrgang  \n",
      "  Aleksei Iupinov   Christoph Junghans     Joe Jordan     Dimitrios Karkoulis\n",
      "    Peter Kasson        Jiri Kraus      Carsten Kutzner      Per Larsson    \n",
      "  Justin A. Lemkul    Viveca Lindahl    Magnus Lundborg     Erik Marklund   \n",
      "    Pascal Merz     Pieter Meulenhoff    Teemu Murtola       Szilard Pall   \n",
      "    Sander Pronk      Roland Schulz      Michael Shirts    Alexey Shvetsov  \n",
      "   Alfons Sijbers     Peter Tieleman      Jon Vincent      Teemu Virolainen \n",
      " Christian Wennberg    Maarten Wolf      Artem Zhmurov   \n",
      "                           and the project leaders:\n",
      "        Mark Abraham, Berk Hess, Erik Lindahl, and David van der Spoel\n",
      "\n",
      "Copyright (c) 1991-2000, University of Groningen, The Netherlands.\n",
      "Copyright (c) 2001-2019, The GROMACS development team at\n",
      "Uppsala University, Stockholm University and\n",
      "the Royal Institute of Technology, Sweden.\n",
      "check out http://www.gromacs.org for more information.\n",
      "\n",
      "GROMACS is free software; you can redistribute it and/or modify it\n",
      "under the terms of the GNU Lesser General Public License\n",
      "as published by the Free Software Foundation; either version 2.1\n",
      "of the License, or (at your option) any later version.\n",
      "\n",
      "GROMACS:      gmx grompp, version 2020.6-plumed-2.8.0\n",
      "Executable:   /home/zadoki/miniconda3/envs/bpti/bin/gmx_mpi\n",
      "Data prefix:  /home/zadoki/miniconda3/envs/bpti\n",
      "Working dir:  /rg/mendels_prj/zadoki/chignolin_test/data/interim/GYDPENGTWG/state_unfolded/MD\n",
      "Command line:\n",
      "  gmx_mpi grompp -f md.mdp -p /rg/mendels_prj/zadoki/chignolin_test/data/interim/GYDPENGTWG/state_folded/top/system.top -c /rg/mendels_prj/zadoki/chignolin_test/data/interim/GYDPENGTWG/state_folded/em/em.pdb -n /rg/mendels_prj/zadoki/chignolin_test/data/interim/GYDPENGTWG/state_unfolded/MD/md.ndx -o md.tpr -pp processed.top -r /rg/mendels_prj/zadoki/chignolin_test/data/interim/GYDPENGTWG/state_folded/MD_POSRES/md.tpr -maxwarn 10\n",
      "\n",
      "Ignoring obsolete mdp entry 'andersen_seed'\n",
      "Ignoring obsolete mdp entry 'optimize_fft'\n",
      "Ignoring obsolete mdp entry 'ns_type'\n",
      "Replacing old mdp entry 'nstxtcout' by 'nstxout-compressed'\n",
      "Replacing old mdp entry 'xtc-precision' by 'compressed-x-precision'\n",
      "\n",
      "NOTE 1 [file md.mdp]:\n",
      "  With Verlet lists the optimal nstlist is >= 10, with GPUs >= 20. Note\n",
      "  that with the Verlet scheme, nstlist has no effect on the accuracy of\n",
      "  your simulation.\n",
      "\n",
      "\n",
      "WARNING 1 [file md.mdp]:\n",
      "  You are generating velocities so I am assuming you are equilibrating a\n",
      "  system. You are using Parrinello-Rahman pressure coupling, but this can\n",
      "  be unstable for equilibration. If your system crashes, try equilibrating\n",
      "  first with Berendsen pressure coupling. If you are not equilibrating the\n",
      "  system, you can probably ignore this warning.\n",
      "\n",
      "Setting the LD random seed to -1108642337\n",
      "Generated 20503 of the 20503 non-bonded parameter combinations\n",
      "Generating 1-4 interactions: fudge = 1\n",
      "Generated 17396 of the 20503 1-4 parameter combinations\n",
      "Excluding 3 bonded neighbours molecule type 'Protein_chain_A'\n",
      "Excluding 2 bonded neighbours molecule type 'SOL'\n",
      "Excluding 1 bonded neighbours molecule type 'NA'\n"
     ]
    },
    {
     "name": "stdout",
     "output_type": "stream",
     "text": [
      "turning H bonds into constraints...\n",
      "turning H bonds into constraints...\n",
      "turning H bonds into constraints...\n",
      "Determining Verlet buffer for a tolerance of 0.005 kJ/mol/ps at 300 K\n",
      "Calculated rlist for 1x1 atom pair-list as 1.008 nm, buffer size 0.008 nm\n",
      "Set rlist, assuming 4x4 atom pair-list, to 1.000 nm, buffer size 0.000 nm\n",
      "Note that mdrun will redetermine rlist based on the actual pair-list setup\n",
      "Calculating fourier grid dimensions for X Y Z\n",
      "Using a fourier grid of 32x32x32, spacing 0.118 0.118 0.118\n",
      "This run will generate roughly 6 Mb of data\n"
     ]
    },
    {
     "name": "stderr",
     "output_type": "stream",
     "text": [
      "Velocities were taken from a Maxwell distribution at 300 K\n",
      "Number of degrees of freedom in T-Coupling group System is 10262.00\n",
      "Estimate for the relative computational load of the PME mesh part: 0.19\n",
      "\n",
      "There was 1 note\n",
      "\n",
      "There was 1 warning\n",
      "\n",
      "GROMACS reminds you: \"Let's Go Hang Out In a Mall\" (LIVE)\n",
      "\n",
      "[dgx-master:2742094] PMIX ERROR: NO-PERMISSIONS in file dstore_base.c at line 237\n"
     ]
    },
    {
     "data": {
      "text/plain": [
       "{'struct': '/rg/mendels_prj/zadoki/chignolin_test/data/interim/GYDPENGTWG/state_unfolded/MD/md.gro',\n",
       " 'top': '/rg/mendels_prj/zadoki/chignolin_test/data/interim/GYDPENGTWG/state_folded/top/system.top',\n",
       " 'ndx': '/rg/mendels_prj/zadoki/chignolin_test/data/interim/GYDPENGTWG/state_unfolded/MD/md.ndx',\n",
       " 'qscript': ['./local.sh'],\n",
       " 'mainselection': '\"Protein\"',\n",
       " 'deffnm': 'md',\n",
       " 'r': '/rg/mendels_prj/zadoki/chignolin_test/data/interim/GYDPENGTWG/state_folded/MD_POSRES/md.tpr',\n",
       " 'maxwarn': 10,\n",
       " 'nstxout': 100,\n",
       " 'nstvout': 0,\n",
       " 'nstenergy': 100,\n",
       " 'nstxtcout': 0,\n",
       " 'nsteps': 10000}"
      ]
     },
     "execution_count": 33,
     "metadata": {},
     "output_type": "execute_result"
    },
    {
     "name": "stderr",
     "output_type": "stream",
     "text": [
      "[dgx-master:2742094] PMIX ERROR: NO-PERMISSIONS in file dstore_base.c at line 246\n"
     ]
    }
   ],
   "source": [
    "# copy some files\n",
    "MD(r=str(fdir / 'MD_POSRES/md.tpr') , maxwarn=10, nstxout=NSTXOUT, nstvout=0, nstenergy=NSTENERGY, nstxtcout = 0, nsteps= nsteps_strech, **f3)"
   ]
  },
  {
   "cell_type": "markdown",
   "metadata": {
    "execution": {
     "iopub.execute_input": "2024-01-28T11:04:05.782206Z",
     "iopub.status.busy": "2024-01-28T11:04:05.781484Z",
     "iopub.status.idle": "2024-01-28T11:04:05.787408Z",
     "shell.execute_reply": "2024-01-28T11:04:05.786542Z",
     "shell.execute_reply.started": "2024-01-28T11:04:05.782167Z"
    }
   },
   "source": [
    "# write plumed strech file"
   ]
  },
  {
   "cell_type": "code",
   "execution_count": 34,
   "metadata": {
    "execution": {
     "iopub.execute_input": "2024-02-14T08:55:48.188876Z",
     "iopub.status.busy": "2024-02-14T08:55:48.188316Z",
     "iopub.status.idle": "2024-02-14T08:55:48.198549Z",
     "shell.execute_reply": "2024-02-14T08:55:48.197784Z",
     "shell.execute_reply.started": "2024-02-14T08:55:48.188845Z"
    }
   },
   "outputs": [
    {
     "data": {
      "text/plain": [
       "PosixPath('/rg/mendels_prj/zadoki/chignolin_test/data/interim/GYDPENGTWG/state_unfolded/reference.pdb')"
      ]
     },
     "execution_count": 34,
     "metadata": {},
     "output_type": "execute_result"
    }
   ],
   "source": [
    "shutil.copy2(fdir/ 'reference.pdb', ufdir/ 'reference.pdb')"
   ]
  },
  {
   "cell_type": "code",
   "execution_count": 35,
   "metadata": {
    "execution": {
     "iopub.execute_input": "2024-02-14T08:55:48.200046Z",
     "iopub.status.busy": "2024-02-14T08:55:48.199555Z",
     "iopub.status.idle": "2024-02-14T08:55:48.209553Z",
     "shell.execute_reply": "2024-02-14T08:55:48.208841Z",
     "shell.execute_reply.started": "2024-02-14T08:55:48.200016Z"
    }
   },
   "outputs": [],
   "source": [
    "# use plumed to strech protein\n",
    "with open(ufdir / \"MD/plumed_strech.dat\",\"w\") as f:\n",
    "    print(\"\"\"# vim:ft=plumed\n",
    "# add a restraint to strech the protein into unfolded state\n",
    "MOLINFO STRUCTURE={}.pdb MOLTYPE=protein\n",
    "WHOLEMOLECULES RESIDUES=all MOLTYPE=protein\n",
    "rmsd: RMSD REFERENCE={}.pdb TYPE=OPTIMAL NOPBC\n",
    "e2e: DISTANCE ATOMS=@N-0,@C-9 NOPBC\n",
    "res: RESTRAINT ARG=e2e KAPPA=100 AT=2.5\n",
    "PRINT ARG=e2e,rmsd,res.bias FILE=COLVAR_STRECH STRIDE=10\n",
    "     \"\"\".format('reference','reference'),file=f)"
   ]
  },
  {
   "cell_type": "code",
   "execution_count": 36,
   "metadata": {
    "execution": {
     "iopub.execute_input": "2024-02-14T08:55:48.211042Z",
     "iopub.status.busy": "2024-02-14T08:55:48.210542Z",
     "iopub.status.idle": "2024-02-14T08:55:48.229240Z",
     "shell.execute_reply": "2024-02-14T08:55:48.228557Z",
     "shell.execute_reply.started": "2024-02-14T08:55:48.211014Z"
    }
   },
   "outputs": [
    {
     "data": {
      "text/plain": [
       "PosixPath('/rg/mendels_prj/zadoki/chignolin_test/data/interim/GYDPENGTWG/state_unfolded/MD/plumed.dat')"
      ]
     },
     "execution_count": 36,
     "metadata": {},
     "output_type": "execute_result"
    }
   ],
   "source": [
    "shutil.copy2(fdir/ 'reference.pdb', ufdir/ 'MD/reference.pdb')\n",
    "shutil.copy2(fdir/ 'MD/plumed.dat', ufdir/ 'MD/plumed.dat')"
   ]
  },
  {
   "cell_type": "code",
   "execution_count": 37,
   "metadata": {
    "execution": {
     "iopub.execute_input": "2024-02-14T08:55:48.230519Z",
     "iopub.status.busy": "2024-02-14T08:55:48.230260Z",
     "iopub.status.idle": "2024-02-14T08:55:48.234204Z",
     "shell.execute_reply": "2024-02-14T08:55:48.233442Z",
     "shell.execute_reply.started": "2024-02-14T08:55:48.230494Z"
    }
   },
   "outputs": [],
   "source": [
    "os.chdir(ufdir/'MD')"
   ]
  },
  {
   "cell_type": "code",
   "execution_count": 38,
   "metadata": {
    "execution": {
     "iopub.execute_input": "2024-02-14T08:55:48.235843Z",
     "iopub.status.busy": "2024-02-14T08:55:48.235248Z",
     "iopub.status.idle": "2024-02-14T08:55:48.268022Z",
     "shell.execute_reply": "2024-02-14T08:55:48.267044Z",
     "shell.execute_reply.started": "2024-02-14T08:55:48.235806Z"
    }
   },
   "outputs": [
    {
     "name": "stdout",
     "output_type": "stream",
     "text": [
      "CompletedProcess(args='rm -f \\\\#*; rm -fr bck.*', returncode=0)\n"
     ]
    }
   ],
   "source": [
    "clean()"
   ]
  },
  {
   "cell_type": "code",
   "execution_count": 39,
   "metadata": {
    "execution": {
     "iopub.execute_input": "2024-02-14T08:55:48.269675Z",
     "iopub.status.busy": "2024-02-14T08:55:48.269359Z",
     "iopub.status.idle": "2024-02-14T08:56:30.361818Z",
     "shell.execute_reply": "2024-02-14T08:56:30.359311Z",
     "shell.execute_reply.started": "2024-02-14T08:55:48.269642Z"
    }
   },
   "outputs": [
    {
     "name": "stderr",
     "output_type": "stream",
     "text": [
      "                :-) GROMACS - gmx mdrun, 2020.6-plumed-2.8.0 (-:\n",
      "\n",
      "                            GROMACS is written by:\n",
      "     Emile Apol      Rossen Apostolov      Paul Bauer     Herman J.C. Berendsen\n",
      "    Par Bjelkmar      Christian Blau   Viacheslav Bolnykh     Kevin Boyd    \n",
      " Aldert van Buuren   Rudi van Drunen     Anton Feenstra       Alan Gray     \n",
      "  Gerrit Groenhof     Anca Hamuraru    Vincent Hindriksen  M. Eric Irrgang  \n",
      "  Aleksei Iupinov   Christoph Junghans     Joe Jordan     Dimitrios Karkoulis\n",
      "    Peter Kasson        Jiri Kraus      Carsten Kutzner      Per Larsson    \n",
      "  Justin A. Lemkul    Viveca Lindahl    Magnus Lundborg     Erik Marklund   \n",
      "    Pascal Merz     Pieter Meulenhoff    Teemu Murtola       Szilard Pall   \n",
      "    Sander Pronk      Roland Schulz      Michael Shirts    Alexey Shvetsov  \n",
      "   Alfons Sijbers     Peter Tieleman      Jon Vincent      Teemu Virolainen \n",
      " Christian Wennberg    Maarten Wolf      Artem Zhmurov   \n",
      "                           and the project leaders:\n",
      "        Mark Abraham, Berk Hess, Erik Lindahl, and David van der Spoel\n",
      "\n",
      "Copyright (c) 1991-2000, University of Groningen, The Netherlands.\n",
      "Copyright (c) 2001-2019, The GROMACS development team at\n",
      "Uppsala University, Stockholm University and\n",
      "the Royal Institute of Technology, Sweden.\n",
      "check out http://www.gromacs.org for more information.\n",
      "\n",
      "GROMACS is free software; you can redistribute it and/or modify it\n",
      "under the terms of the GNU Lesser General Public License\n",
      "as published by the Free Software Foundation; either version 2.1\n",
      "of the License, or (at your option) any later version.\n",
      "\n",
      "GROMACS:      gmx mdrun, version 2020.6-plumed-2.8.0\n",
      "Executable:   /home/zadoki/miniconda3/envs/bpti/bin/gmx_mpi\n",
      "Data prefix:  /home/zadoki/miniconda3/envs/bpti\n",
      "Working dir:  /rg/mendels_prj/zadoki/chignolin_test/data/interim/GYDPENGTWG/state_unfolded/MD\n",
      "Command line:\n",
      "  gmx_mpi mdrun -v -deffnm md -plumed plumed_strech.dat -c md.pdb -ntomp 8\n",
      "\n",
      "+++ Loading the PLUMED kernel runtime +++\n",
      "+++ PLUMED_KERNEL=\"/home/zadoki/miniconda3/envs/bpti/lib/libplumedKernel.so\" +++\n",
      "+++ Loading the PLUMED kernel runtime +++\n",
      "+++ PLUMED_KERNEL=\"/home/zadoki/miniconda3/envs/bpti/lib/libplumedKernel.so\" +++\n",
      "Compiled SIMD: SSE2, but for this host/run AVX_512 might be better (see log).\n",
      "The current CPU can measure timings more accurately than the code in\n",
      "gmx mdrun was configured to use. This might affect your simulation\n",
      "speed as accurate timings are needed for load-balancing.\n",
      "Please consider rebuilding gmx mdrun with the GMX_USE_RDTSCP=ON CMake option.\n",
      "Reading file md.tpr, VERSION 2020.6-plumed-2.8.0 (single precision)\n",
      "Changing nstlist from 5 to 50, rlist from 1 to 1.106\n",
      "\n",
      "\n",
      "Using 1 MPI process\n",
      "Using 8 OpenMP threads \n",
      "\n",
      "\n",
      "NOTE: The number of threads is not equal to the number of (logical) cores\n",
      "      and the -pin option is set to auto: will not pin threads to cores.\n",
      "      This can lead to significant performance degradation.\n",
      "      Consider using -pin on (and -pinoffset in case you run multiple jobs).\n",
      "starting mdrun 'Protein in water'\n",
      "10000 steps,     20.0 ps.\n",
      "step 9900, remaining wall clock time:     0 s          \n",
      "Writing final coordinates.\n",
      "step 10000, remaining wall clock time:     0 s          \n",
      "               Core t (s)   Wall t (s)        (%)\n",
      "       Time:      332.492       41.565      799.9\n",
      "                 (ns/day)    (hour/ns)\n",
      "Performance:       41.578        0.577\n",
      "\n",
      "GROMACS reminds you: \"Screw a Lightbulb in your Head\" (Gogol Bordello)\n",
      "\n"
     ]
    },
    {
     "data": {
      "text/plain": [
       "CompletedProcess(args='gmx_mpi mdrun  -v -deffnm md -plumed plumed_strech.dat  -c md.pdb -ntomp 8 ', returncode=0)"
      ]
     },
     "execution_count": 39,
     "metadata": {},
     "output_type": "execute_result"
    },
    {
     "name": "stderr",
     "output_type": "stream",
     "text": [
      "[dgx-master:2742215] PMIX ERROR: NO-PERMISSIONS in file dstore_base.c at line 237\n",
      "[dgx-master:2742215] PMIX ERROR: NO-PERMISSIONS in file dstore_base.c at line 246\n"
     ]
    }
   ],
   "source": [
    "# Strech protein \n",
    "\n",
    "subprocess.run('gmx_mpi mdrun  -v -deffnm md -plumed plumed_strech.dat  -c md.pdb -ntomp 8 ', shell=True )"
   ]
  },
  {
   "cell_type": "code",
   "execution_count": 40,
   "metadata": {
    "execution": {
     "iopub.execute_input": "2024-02-14T08:56:30.364274Z",
     "iopub.status.busy": "2024-02-14T08:56:30.363970Z",
     "iopub.status.idle": "2024-02-14T08:56:31.043774Z",
     "shell.execute_reply": "2024-02-14T08:56:31.043046Z",
     "shell.execute_reply.started": "2024-02-14T08:56:30.364245Z"
    }
   },
   "outputs": [
    {
     "name": "stderr",
     "output_type": "stream",
     "text": [
      "+++ Loading the PLUMED kernel runtime +++\n",
      "+++ PLUMED_KERNEL=\"/home/zadoki/miniconda3/envs/gromacs_plumed/lib/libplumedKernel.so\" +++\n"
     ]
    },
    {
     "data": {
      "text/plain": [
       "<Axes: xlabel='time'>"
      ]
     },
     "execution_count": 40,
     "metadata": {},
     "output_type": "execute_result"
    },
    {
     "data": {
      "image/png": "[encoded data removed]",
      "text/plain": [
       "<Figure size 640x480 with 1 Axes>"
      ]
     },
     "metadata": {},
     "output_type": "display_data"
    },
    {
     "data": {
      "image/png": "[encoded data removed]",
      "text/plain": [
       "<Figure size 640x480 with 1 Axes>"
      ]
     },
     "metadata": {},
     "output_type": "display_data"
    },
    {
     "data": {
      "image/png": "[encoded data removed]",
      "text/plain": [
       "<Figure size 640x480 with 1 Axes>"
      ]
     },
     "metadata": {},
     "output_type": "display_data"
    }
   ],
   "source": [
    "data = plumed.read_as_pandas('COLVAR_STRECH')\n",
    "\n",
    "data.plot('time','e2e', label='e2e')\n",
    "data.plot('time','rmsd', label='rmsd')\n",
    "data.plot('time','res.bias', label='bias')"
   ]
  },
  {
   "cell_type": "code",
   "execution_count": 41,
   "metadata": {
    "execution": {
     "iopub.execute_input": "2024-02-14T08:56:31.044922Z",
     "iopub.status.busy": "2024-02-14T08:56:31.044666Z",
     "iopub.status.idle": "2024-02-14T08:56:35.699912Z",
     "shell.execute_reply": "2024-02-14T08:56:35.698956Z",
     "shell.execute_reply.started": "2024-02-14T08:56:31.044896Z"
    }
   },
   "outputs": [
    {
     "name": "stderr",
     "output_type": "stream",
     "text": [
      "                :-) GROMACS - gmx mdrun, 2020.6-plumed-2.8.0 (-:\n",
      "\n",
      "                            GROMACS is written by:\n",
      "     Emile Apol      Rossen Apostolov      Paul Bauer     Herman J.C. Berendsen\n",
      "    Par Bjelkmar      Christian Blau   Viacheslav Bolnykh     Kevin Boyd    \n",
      " Aldert van Buuren   Rudi van Drunen     Anton Feenstra       Alan Gray     \n",
      "  Gerrit Groenhof     Anca Hamuraru    Vincent Hindriksen  M. Eric Irrgang  \n",
      "  Aleksei Iupinov   Christoph Junghans     Joe Jordan     Dimitrios Karkoulis\n",
      "    Peter Kasson        Jiri Kraus      Carsten Kutzner      Per Larsson    \n",
      "  Justin A. Lemkul    Viveca Lindahl    Magnus Lundborg     Erik Marklund   \n",
      "    Pascal Merz     Pieter Meulenhoff    Teemu Murtola       Szilard Pall   \n",
      "    Sander Pronk      Roland Schulz      Michael Shirts    Alexey Shvetsov  \n",
      "   Alfons Sijbers     Peter Tieleman      Jon Vincent      Teemu Virolainen \n",
      " Christian Wennberg    Maarten Wolf      Artem Zhmurov   \n",
      "                           and the project leaders:\n",
      "        Mark Abraham, Berk Hess, Erik Lindahl, and David van der Spoel\n",
      "\n",
      "Copyright (c) 1991-2000, University of Groningen, The Netherlands.\n",
      "Copyright (c) 2001-2019, The GROMACS development team at\n",
      "Uppsala University, Stockholm University and\n",
      "the Royal Institute of Technology, Sweden.\n",
      "check out http://www.gromacs.org for more information.\n",
      "\n",
      "GROMACS is free software; you can redistribute it and/or modify it\n",
      "under the terms of the GNU Lesser General Public License\n",
      "as published by the Free Software Foundation; either version 2.1\n",
      "of the License, or (at your option) any later version.\n",
      "\n",
      "GROMACS:      gmx mdrun, version 2020.6-plumed-2.8.0\n",
      "Executable:   /home/zadoki/miniconda3/envs/bpti/bin/gmx_mpi\n",
      "Data prefix:  /home/zadoki/miniconda3/envs/bpti\n",
      "Working dir:  /rg/mendels_prj/zadoki/chignolin_test/data/interim/GYDPENGTWG/state_unfolded/MD\n",
      "Command line:\n",
      "  gmx_mpi mdrun -v -deffnm md -cpi -plumed plumed.dat -nsteps 1000 -c md.pdb -ntomp 8\n",
      "\n",
      "+++ Loading the PLUMED kernel runtime +++\n",
      "+++ PLUMED_KERNEL=\"/home/zadoki/miniconda3/envs/bpti/lib/libplumedKernel.so\" +++\n",
      "+++ Loading the PLUMED kernel runtime +++\n",
      "+++ PLUMED_KERNEL=\"/home/zadoki/miniconda3/envs/bpti/lib/libplumedKernel.so\" +++\n",
      "Compiled SIMD: SSE2, but for this host/run AVX_512 might be better (see log).\n",
      "The current CPU can measure timings more accurately than the code in\n",
      "gmx mdrun was configured to use. This might affect your simulation\n",
      "speed as accurate timings are needed for load-balancing.\n",
      "Please consider rebuilding gmx mdrun with the GMX_USE_RDTSCP=ON CMake option.\n",
      "Reading file md.tpr, VERSION 2020.6-plumed-2.8.0 (single precision)\n",
      "Overriding nsteps with value passed on the command line: 1000 steps, 2 ps\n",
      "Changing nstlist from 5 to 50, rlist from 1 to 1.109\n",
      "\n",
      "\n",
      "Using 1 MPI process\n",
      "Using 8 OpenMP threads \n",
      "\n",
      "\n",
      "NOTE: The number of threads is not equal to the number of (logical) cores\n",
      "      and the -pin option is set to auto: will not pin threads to cores.\n",
      "      This can lead to significant performance degradation.\n",
      "      Consider using -pin on (and -pinoffset in case you run multiple jobs).\n",
      "starting mdrun 'Protein in water'\n",
      "11000 steps,     22.0 ps (continuing from step 10000,     20.0 ps).\n",
      "step 10900, remaining wall clock time:     0 s          \n",
      "Writing final coordinates.\n",
      "\n",
      "Back Off! I just backed up md.pdb to ./#md.pdb.1#\n",
      "step 11000, remaining wall clock time:     0 s          \n",
      "               Core t (s)   Wall t (s)        (%)\n",
      "       Time:       32.960        4.125      799.0\n",
      "                 (ns/day)    (hour/ns)\n",
      "Performance:       41.933        0.572\n",
      "\n",
      "GROMACS reminds you: \"Scientists do not join hands every Sunday and sing \"Yes gravity is real! I know gravity is real! I will have faith! I believe in my heart that what goes up, up, up must come down, down, down. Amen!\" If they did, we would think they were pretty insecure about the concept.\" (Dan Barker)\n",
      "\n"
     ]
    },
    {
     "data": {
      "text/plain": [
       "CompletedProcess(args='gmx_mpi mdrun  -v -deffnm md -cpi  -plumed plumed.dat -nsteps 1000 -c md.pdb -ntomp 8', returncode=0)"
      ]
     },
     "execution_count": 41,
     "metadata": {},
     "output_type": "execute_result"
    }
   ],
   "source": [
    "# simulate and collect CVs\n",
    "\n",
    "\n",
    "subprocess.run('gmx_mpi mdrun  -v -deffnm md -cpi  -plumed plumed.dat -nsteps {} -c md.pdb -ntomp 8'.format(NSTEPS), shell=True )"
   ]
  },
  {
   "cell_type": "markdown",
   "metadata": {},
   "source": [
    "## visualize with nglview"
   ]
  },
  {
   "cell_type": "code",
   "execution_count": 42,
   "metadata": {
    "execution": {
     "iopub.execute_input": "2024-02-14T08:56:35.701469Z",
     "iopub.status.busy": "2024-02-14T08:56:35.701190Z",
     "iopub.status.idle": "2024-02-14T08:56:35.815118Z",
     "shell.execute_reply": "2024-02-14T08:56:35.814046Z",
     "shell.execute_reply.started": "2024-02-14T08:56:35.701441Z"
    }
   },
   "outputs": [
    {
     "name": "stderr",
     "output_type": "stream",
     "text": [
      "[dgx-master:2748703] PMIX ERROR: NO-PERMISSIONS in file dstore_base.c at line 237\n",
      "[dgx-master:2748703] PMIX ERROR: NO-PERMISSIONS in file dstore_base.c at line 246\n"
     ]
    }
   ],
   "source": [
    "os.chdir(ufdir/ 'MD')\n",
    "\n",
    "u = mda.Universe('md.tpr', 'md.trr')"
   ]
  },
  {
   "cell_type": "code",
   "execution_count": 43,
   "metadata": {
    "execution": {
     "iopub.execute_input": "2024-02-14T08:56:35.817098Z",
     "iopub.status.busy": "2024-02-14T08:56:35.816393Z",
     "iopub.status.idle": "2024-02-14T08:56:35.828429Z",
     "shell.execute_reply": "2024-02-14T08:56:35.827697Z",
     "shell.execute_reply.started": "2024-02-14T08:56:35.817067Z"
    }
   },
   "outputs": [
    {
     "data": {
      "text/plain": [
       "<AtomGroup with 5079 atoms>"
      ]
     },
     "execution_count": 43,
     "metadata": {},
     "output_type": "execute_result"
    }
   ],
   "source": [
    "u.trajectory.n_frames\n",
    "\n",
    "u.universe.residues[1000]\n",
    "\n",
    "prot = u.select_atoms(\"(protein and not type H) or (resname SOL within 2)\")\n",
    "\n",
    "prot"
   ]
  },
  {
   "cell_type": "code",
   "execution_count": 44,
   "metadata": {
    "execution": {
     "iopub.execute_input": "2024-02-14T08:56:35.829843Z",
     "iopub.status.busy": "2024-02-14T08:56:35.829568Z",
     "iopub.status.idle": "2024-02-14T08:56:36.893769Z",
     "shell.execute_reply": "2024-02-14T08:56:36.893077Z",
     "shell.execute_reply.started": "2024-02-14T08:56:35.829817Z"
    }
   },
   "outputs": [
    {
     "data": {
      "application/vnd.jupyter.widget-view+json": {
       "model_id": "ba83a8d7d9c14fbf86da90c0cb9c2a9b",
       "version_major": 2,
       "version_minor": 0
      },
      "text/plain": [
       "NGLWidget(max_frame=110)"
      ]
     },
     "metadata": {},
     "output_type": "display_data"
    }
   ],
   "source": [
    "view = nglview.show_mdanalysis(prot)\n",
    "view"
   ]
  },
  {
   "cell_type": "markdown",
   "metadata": {},
   "source": [
    "# Calculate HLDA CV"
   ]
  },
  {
   "cell_type": "markdown",
   "metadata": {},
   "source": [
    "## Let's see the states first"
   ]
  },
  {
   "cell_type": "code",
   "execution_count": 45,
   "metadata": {
    "execution": {
     "iopub.execute_input": "2024-02-14T08:56:36.894959Z",
     "iopub.status.busy": "2024-02-14T08:56:36.894704Z",
     "iopub.status.idle": "2024-02-14T08:56:37.736121Z",
     "shell.execute_reply": "2024-02-14T08:56:37.735282Z",
     "shell.execute_reply.started": "2024-02-14T08:56:36.894934Z"
    }
   },
   "outputs": [],
   "source": [
    "from harmonic_discriminant_analysis import HarmonicLinearDiscriminantAnalysis\n",
    "from sklearn.preprocessing import StandardScaler\n",
    "from sklearn.pipeline import Pipeline\n",
    "import seaborn as sns"
   ]
  },
  {
   "cell_type": "code",
   "execution_count": 46,
   "metadata": {
    "execution": {
     "iopub.execute_input": "2024-02-14T08:56:37.737532Z",
     "iopub.status.busy": "2024-02-14T08:56:37.737150Z",
     "iopub.status.idle": "2024-02-14T08:56:37.756408Z",
     "shell.execute_reply": "2024-02-14T08:56:37.755679Z",
     "shell.execute_reply.started": "2024-02-14T08:56:37.737500Z"
    }
   },
   "outputs": [
    {
     "name": "stderr",
     "output_type": "stream",
     "text": [
      "+++ Loading the PLUMED kernel runtime +++\n",
      "+++ PLUMED_KERNEL=\"/home/zadoki/miniconda3/envs/gromacs_plumed/lib/libplumedKernel.so\" +++\n",
      "+++ Loading the PLUMED kernel runtime +++\n",
      "+++ PLUMED_KERNEL=\"/home/zadoki/miniconda3/envs/gromacs_plumed/lib/libplumedKernel.so\" +++\n"
     ]
    }
   ],
   "source": [
    "data = pd.concat([\n",
    "    (plumed.read_as_pandas(str(fdir / 'MD/COLVAR'))).assign(state = 'folded'),\n",
    "    (plumed.read_as_pandas(str(ufdir / 'MD/COLVAR'))).assign(state = 'unfolded')]).reset_index(drop=True)"
   ]
  },
  {
   "cell_type": "code",
   "execution_count": 47,
   "metadata": {
    "execution": {
     "iopub.execute_input": "2024-02-14T08:56:37.757843Z",
     "iopub.status.busy": "2024-02-14T08:56:37.757345Z",
     "iopub.status.idle": "2024-02-14T08:56:38.180653Z",
     "shell.execute_reply": "2024-02-14T08:56:38.179933Z",
     "shell.execute_reply.started": "2024-02-14T08:56:37.757815Z"
    }
   },
   "outputs": [
    {
     "data": {
      "text/plain": [
       "<Axes: xlabel='time'>"
      ]
     },
     "execution_count": 47,
     "metadata": {},
     "output_type": "execute_result"
    },
    {
     "data": {
      "image/png": "[encoded data removed]",
      "text/plain": [
       "<Figure size 640x480 with 1 Axes>"
      ]
     },
     "metadata": {},
     "output_type": "display_data"
    },
    {
     "data": {
      "image/png": "[encoded data removed]",
      "text/plain": [
       "<Figure size 640x480 with 1 Axes>"
      ]
     },
     "metadata": {},
     "output_type": "display_data"
    }
   ],
   "source": [
    "data[data.state == 'folded'].plot('time','rmsd', label = 'folded')\n",
    "data[data.state == 'unfolded'].plot('time','rmsd', label = 'unfolded')"
   ]
  },
  {
   "cell_type": "code",
   "execution_count": 48,
   "metadata": {
    "execution": {
     "iopub.execute_input": "2024-02-14T08:56:38.181996Z",
     "iopub.status.busy": "2024-02-14T08:56:38.181726Z",
     "iopub.status.idle": "2024-02-14T08:56:38.589067Z",
     "shell.execute_reply": "2024-02-14T08:56:38.588261Z",
     "shell.execute_reply.started": "2024-02-14T08:56:38.181971Z"
    }
   },
   "outputs": [
    {
     "data": {
      "text/plain": [
       "<Axes: xlabel='time'>"
      ]
     },
     "execution_count": 48,
     "metadata": {},
     "output_type": "execute_result"
    },
    {
     "data": {
      "image/png": "[encoded data removed]",
      "text/plain": [
       "<Figure size 640x480 with 1 Axes>"
      ]
     },
     "metadata": {},
     "output_type": "display_data"
    },
    {
     "data": {
      "image/png": "[encoded data removed]",
      "text/plain": [
       "<Figure size 640x480 with 1 Axes>"
      ]
     },
     "metadata": {},
     "output_type": "display_data"
    }
   ],
   "source": [
    "data[data.state == 'folded'].plot('time','e2e', label = 'folded')\n",
    "data[data.state == 'unfolded'].plot('time','e2e', label = 'unfolded')"
   ]
  },
  {
   "cell_type": "code",
   "execution_count": 49,
   "metadata": {
    "execution": {
     "iopub.execute_input": "2024-02-14T08:56:38.590813Z",
     "iopub.status.busy": "2024-02-14T08:56:38.590009Z",
     "iopub.status.idle": "2024-02-14T08:56:38.807116Z",
     "shell.execute_reply": "2024-02-14T08:56:38.806437Z",
     "shell.execute_reply.started": "2024-02-14T08:56:38.590785Z"
    }
   },
   "outputs": [
    {
     "data": {
      "text/plain": [
       "<Axes: xlabel='e2e', ylabel='rmsd'>"
      ]
     },
     "execution_count": 49,
     "metadata": {},
     "output_type": "execute_result"
    },
    {
     "data": {
      "image/png": "[encoded data removed]",
      "text/plain": [
       "<Figure size 640x480 with 1 Axes>"
      ]
     },
     "metadata": {},
     "output_type": "display_data"
    }
   ],
   "source": [
    "data.plot('e2e','rmsd', kind='scatter')"
   ]
  },
  {
   "cell_type": "code",
   "execution_count": 50,
   "metadata": {
    "execution": {
     "iopub.execute_input": "2024-02-14T08:56:38.808638Z",
     "iopub.status.busy": "2024-02-14T08:56:38.808062Z",
     "iopub.status.idle": "2024-02-14T08:56:38.815995Z",
     "shell.execute_reply": "2024-02-14T08:56:38.815346Z",
     "shell.execute_reply.started": "2024-02-14T08:56:38.808607Z"
    }
   },
   "outputs": [],
   "source": [
    "X = data.iloc[:,data.columns.str.contains('^p')].copy(deep=True)\n",
    "y = data.state\n",
    "\n",
    "# apply unwrap \n",
    "X = X.apply(np.unwrap,)\n"
   ]
  },
  {
   "cell_type": "code",
   "execution_count": 51,
   "metadata": {
    "execution": {
     "iopub.execute_input": "2024-02-14T08:56:38.817385Z",
     "iopub.status.busy": "2024-02-14T08:56:38.816846Z",
     "iopub.status.idle": "2024-02-14T08:56:38.831241Z",
     "shell.execute_reply": "2024-02-14T08:56:38.830551Z",
     "shell.execute_reply.started": "2024-02-14T08:56:38.817360Z"
    }
   },
   "outputs": [],
   "source": [
    "hlda = HarmonicLinearDiscriminantAnalysis()"
   ]
  },
  {
   "cell_type": "code",
   "execution_count": 52,
   "metadata": {
    "execution": {
     "iopub.execute_input": "2024-02-14T08:56:38.832973Z",
     "iopub.status.busy": "2024-02-14T08:56:38.832286Z",
     "iopub.status.idle": "2024-02-14T08:56:38.866324Z",
     "shell.execute_reply": "2024-02-14T08:56:38.865592Z",
     "shell.execute_reply.started": "2024-02-14T08:56:38.832945Z"
    }
   },
   "outputs": [
    {
     "data": {
      "text/html": [
       "<style>#sk-container-id-1 {color: black;}#sk-container-id-1 pre{padding: 0;}#sk-container-id-1 div.sk-toggleable {background-color: white;}#sk-container-id-1 label.sk-toggleable__label {cursor: pointer;display: block;width: 100%;margin-bottom: 0;padding: 0.3em;box-sizing: border-box;text-align: center;}#sk-container-id-1 label.sk-toggleable__label-arrow:before {content: \"▸\";float: left;margin-right: 0.25em;color: #696969;}#sk-container-id-1 label.sk-toggleable__label-arrow:hover:before {color: black;}#sk-container-id-1 div.sk-estimator:hover label.sk-toggleable__label-arrow:before {color: black;}#sk-container-id-1 div.sk-toggleable__content {max-height: 0;max-width: 0;overflow: hidden;text-align: left;background-color: #f0f8ff;}#sk-container-id-1 div.sk-toggleable__content pre {margin: 0.2em;color: black;border-radius: 0.25em;background-color: #f0f8ff;}#sk-container-id-1 input.sk-toggleable__control:checked~div.sk-toggleable__content {max-height: 200px;max-width: 100%;overflow: auto;}#sk-container-id-1 input.sk-toggleable__control:checked~label.sk-toggleable__label-arrow:before {content: \"▾\";}#sk-container-id-1 div.sk-estimator input.sk-toggleable__control:checked~label.sk-toggleable__label {background-color: #d4ebff;}#sk-container-id-1 div.sk-label input.sk-toggleable__control:checked~label.sk-toggleable__label {background-color: #d4ebff;}#sk-container-id-1 input.sk-hidden--visually {border: 0;clip: rect(1px 1px 1px 1px);clip: rect(1px, 1px, 1px, 1px);height: 1px;margin: -1px;overflow: hidden;padding: 0;position: absolute;width: 1px;}#sk-container-id-1 div.sk-estimator {font-family: monospace;background-color: #f0f8ff;border: 1px dotted black;border-radius: 0.25em;box-sizing: border-box;margin-bottom: 0.5em;}#sk-container-id-1 div.sk-estimator:hover {background-color: #d4ebff;}#sk-container-id-1 div.sk-parallel-item::after {content: \"\";width: 100%;border-bottom: 1px solid gray;flex-grow: 1;}#sk-container-id-1 div.sk-label:hover label.sk-toggleable__label {background-color: #d4ebff;}#sk-container-id-1 div.sk-serial::before {content: \"\";position: absolute;border-left: 1px solid gray;box-sizing: border-box;top: 0;bottom: 0;left: 50%;z-index: 0;}#sk-container-id-1 div.sk-serial {display: flex;flex-direction: column;align-items: center;background-color: white;padding-right: 0.2em;padding-left: 0.2em;position: relative;}#sk-container-id-1 div.sk-item {position: relative;z-index: 1;}#sk-container-id-1 div.sk-parallel {display: flex;align-items: stretch;justify-content: center;background-color: white;position: relative;}#sk-container-id-1 div.sk-item::before, #sk-container-id-1 div.sk-parallel-item::before {content: \"\";position: absolute;border-left: 1px solid gray;box-sizing: border-box;top: 0;bottom: 0;left: 50%;z-index: -1;}#sk-container-id-1 div.sk-parallel-item {display: flex;flex-direction: column;z-index: 1;position: relative;background-color: white;}#sk-container-id-1 div.sk-parallel-item:first-child::after {align-self: flex-end;width: 50%;}#sk-container-id-1 div.sk-parallel-item:last-child::after {align-self: flex-start;width: 50%;}#sk-container-id-1 div.sk-parallel-item:only-child::after {width: 0;}#sk-container-id-1 div.sk-dashed-wrapped {border: 1px dashed gray;margin: 0 0.4em 0.5em 0.4em;box-sizing: border-box;padding-bottom: 0.4em;background-color: white;}#sk-container-id-1 div.sk-label label {font-family: monospace;font-weight: bold;display: inline-block;line-height: 1.2em;}#sk-container-id-1 div.sk-label-container {text-align: center;}#sk-container-id-1 div.sk-container {/* jupyter's `normalize.less` sets `[hidden] { display: none; }` but bootstrap.min.css set `[hidden] { display: none !important; }` so we also need the `!important` here to be able to override the default hidden behavior on the sphinx rendered scikit-learn.org. See: https://github.com/scikit-learn/scikit-learn/issues/21755 */display: inline-block !important;position: relative;}#sk-container-id-1 div.sk-text-repr-fallback {display: none;}</style><div id=\"sk-container-id-1\" class=\"sk-top-container\"><div class=\"sk-text-repr-fallback\"><pre>HarmonicLinearDiscriminantAnalysis()</pre><b>In a Jupyter environment, please rerun this cell to show the HTML representation or trust the notebook. <br />On GitHub, the HTML representation is unable to render, please try loading this page with nbviewer.org.</b></div><div class=\"sk-container\" hidden><div class=\"sk-item\"><div class=\"sk-estimator sk-toggleable\"><input class=\"sk-toggleable__control sk-hidden--visually\" id=\"sk-estimator-id-1\" type=\"checkbox\" checked><label for=\"sk-estimator-id-1\" class=\"sk-toggleable__label sk-toggleable__label-arrow\">HarmonicLinearDiscriminantAnalysis</label><div class=\"sk-toggleable__content\"><pre>HarmonicLinearDiscriminantAnalysis()</pre></div></div></div></div></div>"
      ],
      "text/plain": [
       "HarmonicLinearDiscriminantAnalysis()"
      ]
     },
     "execution_count": 52,
     "metadata": {},
     "output_type": "execute_result"
    }
   ],
   "source": [
    "hlda.fit(X,y)"
   ]
  },
  {
   "cell_type": "markdown",
   "metadata": {},
   "source": [
    "## Plot State separation"
   ]
  },
  {
   "cell_type": "code",
   "execution_count": 53,
   "metadata": {
    "execution": {
     "iopub.execute_input": "2024-02-14T08:56:38.867873Z",
     "iopub.status.busy": "2024-02-14T08:56:38.867250Z",
     "iopub.status.idle": "2024-02-14T08:56:39.061245Z",
     "shell.execute_reply": "2024-02-14T08:56:39.060476Z",
     "shell.execute_reply.started": "2024-02-14T08:56:38.867846Z"
    }
   },
   "outputs": [
    {
     "data": {
      "image/png": "[encoded data removed]",
      "text/plain": [
       "<Figure size 640x480 with 1 Axes>"
      ]
     },
     "metadata": {},
     "output_type": "display_data"
    }
   ],
   "source": [
    "plt.hist(hlda.transform(X)[y == 'folded'],  label = 'folded' )\n",
    "plt.hist(hlda.transform(X)[y == 'unfolded'], label = 'unfolded' )\n",
    "plt.legend()\n",
    "plt.show()"
   ]
  },
  {
   "cell_type": "code",
   "execution_count": 54,
   "metadata": {
    "execution": {
     "iopub.execute_input": "2024-02-14T08:56:39.062432Z",
     "iopub.status.busy": "2024-02-14T08:56:39.062155Z",
     "iopub.status.idle": "2024-02-14T08:56:39.067005Z",
     "shell.execute_reply": "2024-02-14T08:56:39.065591Z",
     "shell.execute_reply.started": "2024-02-14T08:56:39.062405Z"
    }
   },
   "outputs": [],
   "source": [
    "hlda_evects = (hlda.scalings_)[:,0]"
   ]
  },
  {
   "cell_type": "markdown",
   "metadata": {},
   "source": [
    "## Plot HLDA coefficients"
   ]
  },
  {
   "cell_type": "code",
   "execution_count": 55,
   "metadata": {
    "execution": {
     "iopub.execute_input": "2024-02-14T08:56:39.068489Z",
     "iopub.status.busy": "2024-02-14T08:56:39.067853Z",
     "iopub.status.idle": "2024-02-14T08:56:39.273325Z",
     "shell.execute_reply": "2024-02-14T08:56:39.272525Z",
     "shell.execute_reply.started": "2024-02-14T08:56:39.068464Z"
    }
   },
   "outputs": [
    {
     "data": {
      "image/png": "[encoded data removed]",
      "text/plain": [
       "<Figure size 640x480 with 1 Axes>"
      ]
     },
     "metadata": {},
     "output_type": "display_data"
    }
   ],
   "source": [
    "fig = plt.figure()\n",
    "sortx = np.argsort(np.abs(hlda_evects.flatten()),)[::-1]\n",
    "plt.bar(X.columns[sortx],hlda_evects.flatten()[sortx],align='center', width=0.7)\n",
    "plt.xticks(rotation=90,fontsize=6)\n",
    "plt.xlabel('CV')\n",
    "plt.ylabel('Coefficient Size')\n",
    "plt.show()"
   ]
  }
 ],
 "metadata": {
  "kernelspec": {
   "display_name": "Python [conda env:gromacs_plumed] *",
   "language": "python",
   "name": "conda-env-gromacs_plumed-py"
  },
  "language_info": {
   "codemirror_mode": {
    "name": "ipython",
    "version": 3
   },
   "file_extension": ".py",
   "mimetype": "text/x-python",
   "name": "python",
   "nbconvert_exporter": "python",
   "pygments_lexer": "ipython3",
   "version": "3.9.0"
  }
 },
 "nbformat": 4,
 "nbformat_minor": 4
}
