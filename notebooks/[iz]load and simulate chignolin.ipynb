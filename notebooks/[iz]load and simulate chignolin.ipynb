{
 "cells": [
  {
   "cell_type": "code",
   "execution_count": 1,
   "metadata": {
    "execution": {
     "iopub.execute_input": "2024-02-07T09:24:08.078155Z",
     "iopub.status.busy": "2024-02-07T09:24:08.077877Z",
     "iopub.status.idle": "2024-02-07T09:24:33.131345Z",
     "shell.execute_reply": "2024-02-07T09:24:33.130452Z",
     "shell.execute_reply.started": "2024-02-07T09:24:08.078115Z"
    }
   },
   "outputs": [
    {
     "data": {
      "application/vnd.jupyter.widget-view+json": {
       "model_id": "9fdfd5f28f0b46b2b036c0b2327ac345",
       "version_major": 2,
       "version_minor": 0
      },
      "text/plain": []
     },
     "metadata": {},
     "output_type": "display_data"
    },
    {
     "name": "stderr",
     "output_type": "stream",
     "text": [
      "[dgx-master:2415717] PMIX ERROR: NO-PERMISSIONS in file dstore_base.c at line 237\n",
      "[dgx-master:2415717] PMIX ERROR: NO-PERMISSIONS in file dstore_base.c at line 246\n"
     ]
    }
   ],
   "source": [
    "import plumed\n",
    "import numpy as np\n",
    "import pandas as pd\n",
    "import MDAnalysis as mda\n",
    "import nglview\n",
    "import os\n",
    "from pathlib import Path\n",
    "from psfgen import PsfGen\n",
    "import subprocess\n",
    "import gromacs\n",
    "import panedr\n",
    "from gromacs.setup import *\n",
    "\n",
    "import matplotlib.pyplot as plt\n",
    "\n",
    "import yaml\n",
    "\n"
   ]
  },
  {
   "cell_type": "code",
   "execution_count": 2,
   "metadata": {
    "execution": {
     "iopub.execute_input": "2024-02-07T09:24:35.991899Z",
     "iopub.status.busy": "2024-02-07T09:24:35.990991Z",
     "iopub.status.idle": "2024-02-07T09:24:35.997957Z",
     "shell.execute_reply": "2024-02-07T09:24:35.997132Z",
     "shell.execute_reply.started": "2024-02-07T09:24:35.991860Z"
    }
   },
   "outputs": [],
   "source": [
    "base  = Path(os.getcwd()).parent"
   ]
  },
  {
   "cell_type": "code",
   "execution_count": 3,
   "metadata": {
    "execution": {
     "iopub.execute_input": "2024-02-07T09:24:36.640530Z",
     "iopub.status.busy": "2024-02-07T09:24:36.639799Z",
     "iopub.status.idle": "2024-02-07T09:24:36.648730Z",
     "shell.execute_reply": "2024-02-07T09:24:36.647641Z",
     "shell.execute_reply.started": "2024-02-07T09:24:36.640495Z"
    }
   },
   "outputs": [
    {
     "data": {
      "text/plain": [
       "PosixPath('/rg/mendels_prj/zadoki/chignolin_test/src')"
      ]
     },
     "execution_count": 3,
     "metadata": {},
     "output_type": "execute_result"
    }
   ],
   "source": [
    "base / 'src'"
   ]
  },
  {
   "cell_type": "code",
   "execution_count": 4,
   "metadata": {
    "execution": {
     "iopub.execute_input": "2024-02-07T09:24:38.966711Z",
     "iopub.status.busy": "2024-02-07T09:24:38.965769Z",
     "iopub.status.idle": "2024-02-07T09:24:38.970506Z",
     "shell.execute_reply": "2024-02-07T09:24:38.969521Z",
     "shell.execute_reply.started": "2024-02-07T09:24:38.966676Z"
    }
   },
   "outputs": [],
   "source": [
    "import sys\n",
    "extra_path = str(base / 'src' )"
   ]
  },
  {
   "cell_type": "code",
   "execution_count": 5,
   "metadata": {
    "execution": {
     "iopub.execute_input": "2024-02-07T09:24:41.133627Z",
     "iopub.status.busy": "2024-02-07T09:24:41.132700Z",
     "iopub.status.idle": "2024-02-07T09:24:41.170058Z",
     "shell.execute_reply": "2024-02-07T09:24:41.169349Z",
     "shell.execute_reply.started": "2024-02-07T09:24:41.133590Z"
    }
   },
   "outputs": [],
   "source": [
    "if extra_path not in sys.path:\n",
    "    sys.path.append(extra_path)\n",
    "    \n",
    "from utils import clean, run_omp_slurm, run_mpi_slurm"
   ]
  },
  {
   "cell_type": "code",
   "execution_count": 7,
   "metadata": {
    "execution": {
     "iopub.execute_input": "2024-02-07T09:24:51.552750Z",
     "iopub.status.busy": "2024-02-07T09:24:51.552096Z",
     "iopub.status.idle": "2024-02-07T09:24:51.556569Z",
     "shell.execute_reply": "2024-02-07T09:24:51.555756Z",
     "shell.execute_reply.started": "2024-02-07T09:24:51.552716Z"
    }
   },
   "outputs": [],
   "source": [
    "# set some general constants\n",
    "NSTEPS = 100000\n",
    "NSTXOUT = 100\n",
    "TEMPERATURE = 340\n",
    "NSTENERGY=100"
   ]
  },
  {
   "cell_type": "markdown",
   "metadata": {},
   "source": [
    "## Simulate the starting position for chignolin"
   ]
  },
  {
   "cell_type": "markdown",
   "metadata": {},
   "source": [
    "## Folded state"
   ]
  },
  {
   "cell_type": "code",
   "execution_count": 8,
   "metadata": {
    "execution": {
     "iopub.execute_input": "2024-02-07T09:24:54.014459Z",
     "iopub.status.busy": "2024-02-07T09:24:54.013540Z",
     "iopub.status.idle": "2024-02-07T09:24:54.049253Z",
     "shell.execute_reply": "2024-02-07T09:24:54.048416Z",
     "shell.execute_reply.started": "2024-02-07T09:24:54.014423Z"
    }
   },
   "outputs": [],
   "source": [
    "# create pdb psf files\n",
    "\n",
    "gen = PsfGen(output=\"/dev/null\")  # Suppress output since there's too much\n",
    "#gen.read_topology('../data/top_all27_prot_lipid_na.inp')\n",
    "gen.read_topology(str(base / 'data/top_all27_prot_lipid_na.inp'))"
   ]
  },
  {
   "cell_type": "code",
   "execution_count": 9,
   "metadata": {
    "execution": {
     "iopub.execute_input": "2024-02-07T09:25:01.077830Z",
     "iopub.status.busy": "2024-02-07T09:25:01.077333Z",
     "iopub.status.idle": "2024-02-07T09:25:01.109768Z",
     "shell.execute_reply": "2024-02-07T09:25:01.108807Z",
     "shell.execute_reply.started": "2024-02-07T09:25:01.077791Z"
    }
   },
   "outputs": [],
   "source": [
    "gen.alias_atom(resname='ILE' , top_atomname='CD', pdb_atomname='CD1')\n",
    "gen.add_segment(segid=\"P\",\n",
    "                pdbfile=str(base / 'data/YYDPETGTWY.pdb'),\n",
    "                first='NTER',\n",
    "                last='CTER'\n",
    "                )\n",
    "gen.read_coords(segid=\"P\", filename=str(base / 'data/YYDPETGTWY.pdb'))\n",
    "gen.regenerate_resids()\n",
    "gen.regenerate_angles()\n",
    "gen.regenerate_dihedrals()\n",
    "gen.guess_coords()"
   ]
  },
  {
   "cell_type": "code",
   "execution_count": 10,
   "metadata": {
    "execution": {
     "iopub.execute_input": "2024-02-07T09:25:03.660953Z",
     "iopub.status.busy": "2024-02-07T09:25:03.660257Z",
     "iopub.status.idle": "2024-02-07T09:25:03.686834Z",
     "shell.execute_reply": "2024-02-07T09:25:03.686001Z",
     "shell.execute_reply.started": "2024-02-07T09:25:03.660920Z"
    }
   },
   "outputs": [],
   "source": [
    "# make folder\n",
    "fdir = base / 'data/interim/state_folded'\n",
    "os.makedirs(str(fdir), exist_ok=True)\n",
    "gen.write_pdb(str(fdir / 'cln025.pdb'))\n",
    "gen.write_psf(str(fdir / 'cln025.psf'))"
   ]
  },
  {
   "cell_type": "code",
   "execution_count": 11,
   "metadata": {
    "execution": {
     "iopub.execute_input": "2024-02-07T09:25:10.614476Z",
     "iopub.status.busy": "2024-02-07T09:25:10.613453Z",
     "iopub.status.idle": "2024-02-07T09:25:10.619303Z",
     "shell.execute_reply": "2024-02-07T09:25:10.617755Z",
     "shell.execute_reply.started": "2024-02-07T09:25:10.614415Z"
    }
   },
   "outputs": [],
   "source": [
    "# solvate and ionize \n",
    "os.chdir(fdir)"
   ]
  },
  {
   "cell_type": "code",
   "execution_count": 12,
   "metadata": {
    "execution": {
     "iopub.execute_input": "2024-02-07T09:25:12.056001Z",
     "iopub.status.busy": "2024-02-07T09:25:12.055266Z",
     "iopub.status.idle": "2024-02-07T09:25:16.325834Z",
     "shell.execute_reply": "2024-02-07T09:25:16.324354Z",
     "shell.execute_reply.started": "2024-02-07T09:25:12.055964Z"
    }
   },
   "outputs": [
    {
     "name": "stderr",
     "output_type": "stream",
     "text": [
      "               :-) GROMACS - gmx pdb2gmx, 2020.6-plumed-2.8.0 (-:\n",
      "\n",
      "                            GROMACS is written by:\n",
      "     Emile Apol      Rossen Apostolov      Paul Bauer     Herman J.C. Berendsen\n",
      "    Par Bjelkmar      Christian Blau   Viacheslav Bolnykh     Kevin Boyd    \n",
      " Aldert van Buuren   Rudi van Drunen     Anton Feenstra       Alan Gray     \n",
      "  Gerrit Groenhof     Anca Hamuraru    Vincent Hindriksen  M. Eric Irrgang  \n",
      "  Aleksei Iupinov   Christoph Junghans     Joe Jordan     Dimitrios Karkoulis\n",
      "    Peter Kasson        Jiri Kraus      Carsten Kutzner      Per Larsson    \n",
      "  Justin A. Lemkul    Viveca Lindahl    Magnus Lundborg     Erik Marklund   \n",
      "    Pascal Merz     Pieter Meulenhoff    Teemu Murtola       Szilard Pall   \n",
      "    Sander Pronk      Roland Schulz      Michael Shirts    Alexey Shvetsov  \n",
      "   Alfons Sijbers     Peter Tieleman      Jon Vincent      Teemu Virolainen \n",
      " Christian Wennberg    Maarten Wolf      Artem Zhmurov   \n",
      "                           and the project leaders:\n",
      "        Mark Abraham, Berk Hess, Erik Lindahl, and David van der Spoel\n",
      "\n",
      "Copyright (c) 1991-2000, University of Groningen, The Netherlands.\n",
      "Copyright (c) 2001-2019, The GROMACS development team at\n",
      "Uppsala University, Stockholm University and\n",
      "the Royal Institute of Technology, Sweden.\n",
      "check out http://www.gromacs.org for more information.\n",
      "\n",
      "GROMACS is free software; you can redistribute it and/or modify it\n",
      "under the terms of the GNU Lesser General Public License\n",
      "as published by the Free Software Foundation; either version 2.1\n",
      "of the License, or (at your option) any later version.\n",
      "\n",
      "GROMACS:      gmx pdb2gmx, version 2020.6-plumed-2.8.0\n",
      "Executable:   /home/zadoki/miniconda3/envs/bpti/bin/gmx_mpi\n",
      "Data prefix:  /home/zadoki/miniconda3/envs/bpti\n",
      "Working dir:  /rg/mendels_prj/zadoki/chignolin_test/data/interim/state_folded/top\n",
      "Command line:\n",
      "  gmx_mpi pdb2gmx -ignh -posrefc 50 -f /rg/mendels_prj/zadoki/chignolin_test/data/interim/state_folded/cln025.pdb -o protein_solvate.pdb -p system.top -i posres.itp -ff charmm27 -water tip3p\n",
      "\n",
      "Opening force field file /home/zadoki/miniconda3/envs/bpti/share/gromacs/top/charmm27.ff/aminoacids.r2b\n",
      "Opening force field file /home/zadoki/miniconda3/envs/bpti/share/gromacs/top/charmm27.ff/rna.r2b\n",
      "\n",
      "WARNING: there were 2 atoms with zero occupancy and 0 atoms with\n",
      "         occupancy unequal to one (out of 93 atoms). Check your pdb file.\n",
      "\n",
      "Opening force field file /home/zadoki/miniconda3/envs/bpti/share/gromacs/top/charmm27.ff/atomtypes.atp\n",
      "Opening force field file /home/zadoki/miniconda3/envs/bpti/share/gromacs/top/charmm27.ff/aminoacids.rtp\n",
      "Opening force field file /home/zadoki/miniconda3/envs/bpti/share/gromacs/top/charmm27.ff/dna.rtp\n",
      "Opening force field file /home/zadoki/miniconda3/envs/bpti/share/gromacs/top/charmm27.ff/lipids.rtp\n",
      "Opening force field file /home/zadoki/miniconda3/envs/bpti/share/gromacs/top/charmm27.ff/rna.rtp\n",
      "Opening force field file /home/zadoki/miniconda3/envs/bpti/share/gromacs/top/charmm27.ff/aminoacids.hdb\n",
      "Opening force field file /home/zadoki/miniconda3/envs/bpti/share/gromacs/top/charmm27.ff/dna.hdb\n",
      "Opening force field file /home/zadoki/miniconda3/envs/bpti/share/gromacs/top/charmm27.ff/lipids.hdb\n",
      "Opening force field file /home/zadoki/miniconda3/envs/bpti/share/gromacs/top/charmm27.ff/rna.hdb\n",
      "Opening force field file /home/zadoki/miniconda3/envs/bpti/share/gromacs/top/charmm27.ff/aminoacids.n.tdb\n",
      "Opening force field file /home/zadoki/miniconda3/envs/bpti/share/gromacs/top/charmm27.ff/dna.n.tdb\n",
      "Opening force field file /home/zadoki/miniconda3/envs/bpti/share/gromacs/top/charmm27.ff/rna.n.tdb\n",
      "Opening force field file /home/zadoki/miniconda3/envs/bpti/share/gromacs/top/charmm27.ff/aminoacids.c.tdb\n",
      "Opening force field file /home/zadoki/miniconda3/envs/bpti/share/gromacs/top/charmm27.ff/dna.c.tdb\n",
      "Opening force field file /home/zadoki/miniconda3/envs/bpti/share/gromacs/top/charmm27.ff/rna.c.tdb\n",
      "8 out of 8 lines of specbond.dat converted successfully\n",
      "Opening force field file /home/zadoki/miniconda3/envs/bpti/share/gromacs/top/charmm27.ff/aminoacids.arn\n",
      "Opening force field file /home/zadoki/miniconda3/envs/bpti/share/gromacs/top/charmm27.ff/dna.arn\n",
      "Opening force field file /home/zadoki/miniconda3/envs/bpti/share/gromacs/top/charmm27.ff/rna.arn\n",
      "Making bonds...\n",
      "Number of bonds was 171, now 171\n",
      "Generating angles, dihedrals and pairs...\n",
      "Before cleaning: 441 pairs\n",
      "Before cleaning: 451 dihedrals\n",
      "Keeping all generated dihedrals\n",
      "Making cmap torsions...\n",
      "There are    8 cmap torsion pairs\n",
      "There are  451 dihedrals,   21 impropers,  299 angles\n",
      "           429 pairs,      171 bonds and     0 virtual sites\n",
      "Total mass 1292.324 a.m.u.\n",
      "Total charge -2.000 e\n",
      "Writing topology\n",
      "\n",
      "Writing coordinate file...\n",
      "\n",
      "GROMACS reminds you: \"All I Ever Wanted Was Your Life\" (Red Hot Chili Peppers)\n",
      "\n"
     ]
    },
    {
     "name": "stdout",
     "output_type": "stream",
     "text": [
      "\n",
      "Using the Charmm27 force field in directory charmm27.ff\n",
      "\n",
      "going to rename charmm27.ff/aminoacids.r2b\n",
      "going to rename charmm27.ff/rna.r2b\n",
      "Reading /rg/mendels_prj/zadoki/chignolin_test/data/interim/state_folded/cln025.pdb...\n",
      "Read '', 93 atoms\n",
      "Analyzing pdb file\n",
      "Splitting chemical chains based on TER records or chain id changing.\n",
      "There are 1 chains and 0 blocks of water and 10 residues with 93 atoms\n",
      "\n",
      "  chain  #res #atoms\n",
      "  1 'A'    10     93  \n",
      "\n",
      "Reading residue database... (Charmm27)\n",
      "Processing chain 1 'A' (93 atoms, 10 residues)\n",
      "Identified residue TYR0 as a starting terminus.\n",
      "Identified residue TYR9 as a ending terminus.\n",
      "Start terminus TYR-0: NH3+\n",
      "End terminus TYR-9: COO-\n",
      "Checking for duplicate atoms....\n",
      "Generating any missing hydrogen atoms and/or adding termini.\n",
      "Now there are 10 residues with 166 atoms\n",
      "\t\t--------- PLEASE NOTE ------------\n",
      "You have successfully generated a topology from: /rg/mendels_prj/zadoki/chignolin_test/data/interim/state_folded/cln025.pdb.\n",
      "The Charmm27 force field and the tip3p water model are used.\n",
      "\t\t--------- ETON ESAELP ------------\n"
     ]
    },
    {
     "name": "stderr",
     "output_type": "stream",
     "text": [
      "[dgx-master:2419029] PMIX ERROR: NO-PERMISSIONS in file dstore_base.c at line 237\n",
      "[dgx-master:2419029] PMIX ERROR: NO-PERMISSIONS in file dstore_base.c at line 237\n",
      "[dgx-master:2419029] PMIX ERROR: NO-PERMISSIONS in file dstore_base.c at line 246\n",
      "              :-) GROMACS - gmx editconf, 2020.6-plumed-2.8.0 (-:\n",
      "\n",
      "                            GROMACS is written by:\n",
      "     Emile Apol      Rossen Apostolov      Paul Bauer     Herman J.C. Berendsen\n",
      "    Par Bjelkmar      Christian Blau   Viacheslav Bolnykh     Kevin Boyd    \n",
      " Aldert van Buuren   Rudi van Drunen     Anton Feenstra       Alan Gray     \n",
      "  Gerrit Groenhof     Anca Hamuraru    Vincent Hindriksen  M. Eric Irrgang  \n",
      "  Aleksei Iupinov   Christoph Junghans     Joe Jordan     Dimitrios Karkoulis\n",
      "    Peter Kasson        Jiri Kraus      Carsten Kutzner      Per Larsson    \n",
      "  Justin A. Lemkul    Viveca Lindahl    Magnus Lundborg     Erik Marklund   \n",
      "    Pascal Merz     Pieter Meulenhoff    Teemu Murtola       Szilard Pall   \n",
      "    Sander Pronk      Roland Schulz      Michael Shirts    Alexey Shvetsov  \n",
      "   Alfons Sijbers     Peter Tieleman      Jon Vincent      Teemu Virolainen \n",
      " Christian Wennberg    Maarten Wolf      Artem Zhmurov   \n",
      "                           and the project leaders:\n",
      "        Mark Abraham, Berk Hess, Erik Lindahl, and David van der Spoel\n",
      "\n",
      "Copyright (c) 1991-2000, University of Groningen, The Netherlands.\n",
      "Copyright (c) 2001-2019, The GROMACS development team at\n",
      "Uppsala University, Stockholm University and\n",
      "the Royal Institute of Technology, Sweden.\n",
      "check out http://www.gromacs.org for more information.\n",
      "\n",
      "GROMACS is free software; you can redistribute it and/or modify it\n",
      "under the terms of the GNU Lesser General Public License\n",
      "as published by the Free Software Foundation; either version 2.1\n",
      "of the License, or (at your option) any later version.\n",
      "\n",
      "GROMACS:      gmx editconf, version 2020.6-plumed-2.8.0\n",
      "Executable:   /home/zadoki/miniconda3/envs/bpti/bin/gmx_mpi\n",
      "Data prefix:  /home/zadoki/miniconda3/envs/bpti\n",
      "Working dir:  /rg/mendels_prj/zadoki/chignolin_test/data/interim/state_folded/solvate\n",
      "Command line:\n",
      "  gmx_mpi editconf -f /rg/mendels_prj/zadoki/chignolin_test/data/interim/state_folded/top/protein_solvate.pdb -o boxed.gro -bt cubic -d 1.0\n",
      "\n",
      "\n",
      "GROMACS reminds you: \"We think there is color, we think there is sweet, we think there is bitter, but in reality there are atoms and a void.\" (Democritus)\n",
      "\n",
      "[dgx-master:2419392] PMIX ERROR: NO-PERMISSIONS in file dstore_base.c at line 237\n",
      "[dgx-master:2419392] PMIX ERROR: NO-PERMISSIONS in file dstore_base.c at line 237\n",
      "[dgx-master:2419392] PMIX ERROR: NO-PERMISSIONS in file dstore_base.c at line 246\n"
     ]
    },
    {
     "name": "stdout",
     "output_type": "stream",
     "text": [
      "Note that major changes are planned in future for editconf, to improve usability and utility.\n",
      "Read 166 atoms\n",
      "No velocities found\n",
      "    system size :  1.619  1.509  1.306 (nm)\n",
      "    diameter    :  1.784               (nm)\n",
      "    center      :  0.013 -0.504 -0.632 (nm)\n",
      "    box vectors :  0.000  0.000  0.000 (nm)\n",
      "    box angles  :   0.00   0.00   0.00 (degrees)\n",
      "    box volume  :   0.00               (nm^3)\n",
      "    shift       :  1.878  2.396  2.524 (nm)\n",
      "new center      :  1.892  1.892  1.892 (nm)\n",
      "new box vectors :  3.784  3.784  3.784 (nm)\n",
      "new box angles  :  90.00  90.00  90.00 (degrees)\n",
      "new box volume  :  54.18               (nm^3)\n"
     ]
    },
    {
     "name": "stderr",
     "output_type": "stream",
     "text": [
      "               :-) GROMACS - gmx solvate, 2020.6-plumed-2.8.0 (-:\n",
      "\n",
      "                            GROMACS is written by:\n",
      "     Emile Apol      Rossen Apostolov      Paul Bauer     Herman J.C. Berendsen\n",
      "    Par Bjelkmar      Christian Blau   Viacheslav Bolnykh     Kevin Boyd    \n",
      " Aldert van Buuren   Rudi van Drunen     Anton Feenstra       Alan Gray     \n",
      "  Gerrit Groenhof     Anca Hamuraru    Vincent Hindriksen  M. Eric Irrgang  \n",
      "  Aleksei Iupinov   Christoph Junghans     Joe Jordan     Dimitrios Karkoulis\n",
      "    Peter Kasson        Jiri Kraus      Carsten Kutzner      Per Larsson    \n",
      "  Justin A. Lemkul    Viveca Lindahl    Magnus Lundborg     Erik Marklund   \n",
      "    Pascal Merz     Pieter Meulenhoff    Teemu Murtola       Szilard Pall   \n",
      "    Sander Pronk      Roland Schulz      Michael Shirts    Alexey Shvetsov  \n",
      "   Alfons Sijbers     Peter Tieleman      Jon Vincent      Teemu Virolainen \n",
      " Christian Wennberg    Maarten Wolf      Artem Zhmurov   \n",
      "                           and the project leaders:\n",
      "        Mark Abraham, Berk Hess, Erik Lindahl, and David van der Spoel\n",
      "\n",
      "Copyright (c) 1991-2000, University of Groningen, The Netherlands.\n",
      "Copyright (c) 2001-2019, The GROMACS development team at\n",
      "Uppsala University, Stockholm University and\n",
      "the Royal Institute of Technology, Sweden.\n",
      "check out http://www.gromacs.org for more information.\n",
      "\n",
      "GROMACS is free software; you can redistribute it and/or modify it\n",
      "under the terms of the GNU Lesser General Public License\n",
      "as published by the Free Software Foundation; either version 2.1\n",
      "of the License, or (at your option) any later version.\n",
      "\n",
      "GROMACS:      gmx solvate, version 2020.6-plumed-2.8.0\n",
      "Executable:   /home/zadoki/miniconda3/envs/bpti/bin/gmx_mpi\n",
      "Data prefix:  /home/zadoki/miniconda3/envs/bpti\n",
      "Working dir:  /rg/mendels_prj/zadoki/chignolin_test/data/interim/state_folded/solvate\n",
      "Command line:\n",
      "  gmx_mpi solvate -p /rg/mendels_prj/zadoki/chignolin_test/data/interim/state_folded/top/system.top -cp boxed.gro -cs spc216 -o solvated.gro\n",
      "\n",
      "Reading solute configuration\n",
      "Reading solvent configuration\n",
      "\n",
      "Initialising inter-atomic distances...\n",
      "Generating solvent configuration\n",
      "Will generate new solvent configuration of 3x3x3 boxes\n",
      "Solvent box contains 6921 atoms in 2307 residues\n",
      "Removed 1815 solvent atoms due to solvent-solvent overlap\n",
      "Removed 174 solvent atoms due to solute-solvent overlap\n",
      "Sorting configuration\n",
      "Found 1 molecule type:\n",
      "    SOL (   3 atoms):  1644 residues\n",
      "Generated solvent containing 4932 atoms in 1644 residues\n",
      "Writing generated configuration to solvated.gro\n",
      "\n",
      "Output configuration contains 5098 atoms in 1654 residues\n",
      "Volume                 :     54.1753 (nm^3)\n",
      "Density                :      949.58 (g/l)\n",
      "Number of solvent molecules:   1644   \n",
      "\n",
      "Processing topology\n",
      "\n",
      "Back Off! I just backed up /rg/mendels_prj/zadoki/chignolin_test/data/interim/state_folded/top/system.top to /rg/mendels_prj/zadoki/chignolin_test/data/interim/state_folded/top/#system.top.1#\n",
      "\n",
      "GROMACS reminds you: \"We think there is color, we think there is sweet, we think there is bitter, but in reality there are atoms and a void.\" (Democritus)\n",
      "\n"
     ]
    },
    {
     "name": "stdout",
     "output_type": "stream",
     "text": [
      "\n",
      "WARNING: Masses and atomic (Van der Waals) radii will be guessed\n",
      "         based on residue and atom names, since they could not be\n",
      "         definitively assigned from the information in your input\n",
      "         files. These guessed numbers might deviate from the mass\n",
      "         and radius of the atom type. Please check the output\n",
      "         files if necessary.\n",
      "\n",
      "NOTE: From version 5.0 gmx solvate uses the Van der Waals radii\n",
      "from the source below. This means the results may be different\n",
      "compared to previous GROMACS versions.\n",
      "\n",
      "++++ PLEASE READ AND CITE THE FOLLOWING REFERENCE ++++\n",
      "A. Bondi\n",
      "van der Waals Volumes and Radii\n",
      "J. Phys. Chem. 68 (1964) pp. 441-451\n",
      "-------- -------- --- Thank You --- -------- --------\n",
      "\n",
      "Adding line for 1644 solvent molecules with resname (SOL) to topology file (/rg/mendels_prj/zadoki/chignolin_test/data/interim/state_folded/top/system.top)\n"
     ]
    },
    {
     "name": "stderr",
     "output_type": "stream",
     "text": [
      "[dgx-master:2419527] PMIX ERROR: NO-PERMISSIONS in file dstore_base.c at line 237\n",
      "[dgx-master:2419527] PMIX ERROR: NO-PERMISSIONS in file dstore_base.c at line 237\n",
      "[dgx-master:2419527] PMIX ERROR: NO-PERMISSIONS in file dstore_base.c at line 246\n",
      "               :-) GROMACS - gmx genion, 2020.6-plumed-2.8.0 (-:\n",
      "\n",
      "                            GROMACS is written by:\n",
      "     Emile Apol      Rossen Apostolov      Paul Bauer     Herman J.C. Berendsen\n",
      "    Par Bjelkmar      Christian Blau   Viacheslav Bolnykh     Kevin Boyd    \n",
      " Aldert van Buuren   Rudi van Drunen     Anton Feenstra       Alan Gray     \n",
      "  Gerrit Groenhof     Anca Hamuraru    Vincent Hindriksen  M. Eric Irrgang  \n",
      "  Aleksei Iupinov   Christoph Junghans     Joe Jordan     Dimitrios Karkoulis\n",
      "    Peter Kasson        Jiri Kraus      Carsten Kutzner      Per Larsson    \n",
      "  Justin A. Lemkul    Viveca Lindahl    Magnus Lundborg     Erik Marklund   \n",
      "    Pascal Merz     Pieter Meulenhoff    Teemu Murtola       Szilard Pall   \n",
      "    Sander Pronk      Roland Schulz      Michael Shirts    Alexey Shvetsov  \n",
      "   Alfons Sijbers     Peter Tieleman      Jon Vincent      Teemu Virolainen \n",
      " Christian Wennberg    Maarten Wolf      Artem Zhmurov   \n",
      "                           and the project leaders:\n",
      "        Mark Abraham, Berk Hess, Erik Lindahl, and David van der Spoel\n",
      "\n",
      "Copyright (c) 1991-2000, University of Groningen, The Netherlands.\n",
      "Copyright (c) 2001-2019, The GROMACS development team at\n",
      "Uppsala University, Stockholm University and\n",
      "the Royal Institute of Technology, Sweden.\n",
      "check out http://www.gromacs.org for more information.\n",
      "\n",
      "GROMACS is free software; you can redistribute it and/or modify it\n",
      "under the terms of the GNU Lesser General Public License\n",
      "as published by the Free Software Foundation; either version 2.1\n",
      "of the License, or (at your option) any later version.\n",
      "\n",
      "GROMACS:      gmx genion, version 2020.6-plumed-2.8.0\n",
      "Executable:   /home/zadoki/miniconda3/envs/bpti/bin/gmx_mpi\n",
      "Data prefix:  /home/zadoki/miniconda3/envs/bpti\n",
      "Working dir:  /rg/mendels_prj/zadoki/chignolin_test/data/interim/state_folded/solvate\n",
      "Command line:\n",
      "  gmx_mpi genion -s topol.tpr -o ionized.gro -p /rg/mendels_prj/zadoki/chignolin_test/data/interim/state_folded/top/system.top -pname NA -nname CL -np 2 -nn 0\n",
      "\n",
      "Reading file topol.tpr, VERSION 2020.6-plumed-2.8.0 (single precision)\n",
      "Reading file topol.tpr, VERSION 2020.6-plumed-2.8.0 (single precision)\n",
      "Group     0 (         System) has  5098 elements\n",
      "Group     1 (        Protein) has   166 elements\n",
      "Group     2 (      Protein-H) has    93 elements\n",
      "Group     3 (        C-alpha) has    10 elements\n",
      "Group     4 (       Backbone) has    30 elements\n",
      "Group     5 (      MainChain) has    39 elements\n",
      "Group     6 (   MainChain+Cb) has    48 elements\n",
      "Group     7 (    MainChain+H) has    50 elements\n",
      "Group     8 (      SideChain) has   116 elements\n",
      "Group     9 (    SideChain-H) has    54 elements\n",
      "Group    10 (    Prot-Masses) has   166 elements\n",
      "Group    11 (    non-Protein) has  4932 elements\n",
      "Group    12 (          Water) has  4932 elements\n",
      "Group    13 (            SOL) has  4932 elements\n",
      "Group    14 (      non-Water) has   166 elements\n",
      "Select a group: Number of (3-atomic) solvent molecules: 1644\n",
      "\n",
      "Back Off! I just backed up /rg/mendels_prj/zadoki/chignolin_test/data/interim/state_folded/top/system.top to /rg/mendels_prj/zadoki/chignolin_test/data/interim/state_folded/top/#system.top.2#\n",
      "Using random seed -142741764.\n",
      "Replacing solvent molecule 182 (atom 712) with NA\n",
      "Replacing solvent molecule 89 (atom 433) with NA\n",
      "\n",
      "\n",
      "GROMACS reminds you: \"Aristotle maintained that women have fewer teeth than men; although he was twice married, it never occurred to him to verify this statement by examining his wives' mouths.\" (Bertrand Russell)\n",
      "\n",
      "[dgx-master:2419734] PMIX ERROR: NO-PERMISSIONS in file dstore_base.c at line 237\n",
      "[dgx-master:2419734] PMIX ERROR: NO-PERMISSIONS in file dstore_base.c at line 246\n"
     ]
    },
    {
     "name": "stdout",
     "output_type": "stream",
     "text": [
      "Will try to add 2 NA ions and 0 CL ions.\n",
      "Select a continuous group of solvent molecules\n",
      "Selected 13: 'SOL'\n",
      "\n",
      "Processing topology\n",
      "Replacing 2 solute molecules in topology file (/rg/mendels_prj/zadoki/chignolin_test/data/interim/state_folded/top/system.top)  by 2 NA and 0 CL ions.\n"
     ]
    },
    {
     "name": "stderr",
     "output_type": "stream",
     "text": [
      "              :-) GROMACS - gmx make_ndx, 2020.6-plumed-2.8.0 (-:\n",
      "\n",
      "                            GROMACS is written by:\n",
      "     Emile Apol      Rossen Apostolov      Paul Bauer     Herman J.C. Berendsen\n",
      "    Par Bjelkmar      Christian Blau   Viacheslav Bolnykh     Kevin Boyd    \n",
      " Aldert van Buuren   Rudi van Drunen     Anton Feenstra       Alan Gray     \n",
      "  Gerrit Groenhof     Anca Hamuraru    Vincent Hindriksen  M. Eric Irrgang  \n",
      "  Aleksei Iupinov   Christoph Junghans     Joe Jordan     Dimitrios Karkoulis\n",
      "    Peter Kasson        Jiri Kraus      Carsten Kutzner      Per Larsson    \n",
      "  Justin A. Lemkul    Viveca Lindahl    Magnus Lundborg     Erik Marklund   \n",
      "    Pascal Merz     Pieter Meulenhoff    Teemu Murtola       Szilard Pall   \n",
      "    Sander Pronk      Roland Schulz      Michael Shirts    Alexey Shvetsov  \n",
      "   Alfons Sijbers     Peter Tieleman      Jon Vincent      Teemu Virolainen \n",
      " Christian Wennberg    Maarten Wolf      Artem Zhmurov   \n",
      "                           and the project leaders:\n",
      "        Mark Abraham, Berk Hess, Erik Lindahl, and David van der Spoel\n",
      "\n",
      "Copyright (c) 1991-2000, University of Groningen, The Netherlands.\n",
      "Copyright (c) 2001-2019, The GROMACS development team at\n",
      "Uppsala University, Stockholm University and\n",
      "the Royal Institute of Technology, Sweden.\n",
      "check out http://www.gromacs.org for more information.\n",
      "\n",
      "GROMACS is free software; you can redistribute it and/or modify it\n",
      "under the terms of the GNU Lesser General Public License\n",
      "as published by the Free Software Foundation; either version 2.1\n",
      "of the License, or (at your option) any later version.\n",
      "\n",
      "GROMACS:      gmx make_ndx, version 2020.6-plumed-2.8.0\n",
      "Executable:   /home/zadoki/miniconda3/envs/bpti/bin/gmx_mpi\n",
      "Data prefix:  /home/zadoki/miniconda3/envs/bpti\n",
      "Working dir:  /rg/mendels_prj/zadoki/chignolin_test/data/interim/state_folded/solvate\n",
      "Command line:\n",
      "  gmx_mpi make_ndx -f ionized.tpr -o main.ndx\n",
      "\n",
      "\n",
      "Reading structure file\n",
      "Reading file ionized.tpr, VERSION 2020.6-plumed-2.8.0 (single precision)\n",
      "Reading file ionized.tpr, VERSION 2020.6-plumed-2.8.0 (single precision)\n",
      "\n",
      "GROMACS reminds you: \"Why is it that programmers always confuse Halloween with Christmas? Because 31 OCT = 25 DEC.\" (Anonymous)\n",
      "\n",
      "[dgx-master:2419849] PMIX ERROR: NO-PERMISSIONS in file dstore_base.c at line 237\n",
      "[dgx-master:2419849] PMIX ERROR: NO-PERMISSIONS in file dstore_base.c at line 237\n",
      "[dgx-master:2419849] PMIX ERROR: NO-PERMISSIONS in file dstore_base.c at line 246\n",
      "              :-) GROMACS - gmx make_ndx, 2020.6-plumed-2.8.0 (-:\n",
      "\n",
      "                            GROMACS is written by:\n",
      "     Emile Apol      Rossen Apostolov      Paul Bauer     Herman J.C. Berendsen\n",
      "    Par Bjelkmar      Christian Blau   Viacheslav Bolnykh     Kevin Boyd    \n",
      " Aldert van Buuren   Rudi van Drunen     Anton Feenstra       Alan Gray     \n",
      "  Gerrit Groenhof     Anca Hamuraru    Vincent Hindriksen  M. Eric Irrgang  \n",
      "  Aleksei Iupinov   Christoph Junghans     Joe Jordan     Dimitrios Karkoulis\n",
      "    Peter Kasson        Jiri Kraus      Carsten Kutzner      Per Larsson    \n",
      "  Justin A. Lemkul    Viveca Lindahl    Magnus Lundborg     Erik Marklund   \n",
      "    Pascal Merz     Pieter Meulenhoff    Teemu Murtola       Szilard Pall   \n",
      "    Sander Pronk      Roland Schulz      Michael Shirts    Alexey Shvetsov  \n",
      "   Alfons Sijbers     Peter Tieleman      Jon Vincent      Teemu Virolainen \n",
      " Christian Wennberg    Maarten Wolf      Artem Zhmurov   \n",
      "                           and the project leaders:\n",
      "        Mark Abraham, Berk Hess, Erik Lindahl, and David van der Spoel\n",
      "\n",
      "Copyright (c) 1991-2000, University of Groningen, The Netherlands.\n",
      "Copyright (c) 2001-2019, The GROMACS development team at\n",
      "Uppsala University, Stockholm University and\n",
      "the Royal Institute of Technology, Sweden.\n",
      "check out http://www.gromacs.org for more information.\n",
      "\n",
      "GROMACS is free software; you can redistribute it and/or modify it\n",
      "under the terms of the GNU Lesser General Public License\n",
      "as published by the Free Software Foundation; either version 2.1\n",
      "of the License, or (at your option) any later version.\n",
      "\n",
      "GROMACS:      gmx make_ndx, version 2020.6-plumed-2.8.0\n",
      "Executable:   /home/zadoki/miniconda3/envs/bpti/bin/gmx_mpi\n",
      "Data prefix:  /home/zadoki/miniconda3/envs/bpti\n",
      "Working dir:  /rg/mendels_prj/zadoki/chignolin_test/data/interim/state_folded/solvate\n",
      "Command line:\n",
      "  gmx_mpi make_ndx -f ionized.tpr -n main.ndx -o main.ndx\n",
      "\n",
      "\n",
      "Reading structure file\n",
      "Reading file ionized.tpr, VERSION 2020.6-plumed-2.8.0 (single precision)\n",
      "Reading file ionized.tpr, VERSION 2020.6-plumed-2.8.0 (single precision)\n",
      "\n",
      "Back Off! I just backed up main.ndx to ./#main.ndx.1#\n",
      "\n",
      "GROMACS reminds you: \"Why is it that programmers always confuse Halloween with Christmas? Because 31 OCT = 25 DEC.\" (Anonymous)\n",
      "\n",
      "[dgx-master:2419872] PMIX ERROR: NO-PERMISSIONS in file dstore_base.c at line 237\n",
      "[dgx-master:2419872] PMIX ERROR: NO-PERMISSIONS in file dstore_base.c at line 246\n"
     ]
    },
    {
     "name": "stdout",
     "output_type": "stream",
     "text": [
      "Note that major changes are planned in future for trjconv, to improve usability and utility.\n",
      "Select group for centering\n",
      "Selected 18: '__main__'\n",
      "Select group for output\n",
      "Selected 0: 'System'\n"
     ]
    },
    {
     "name": "stderr",
     "output_type": "stream",
     "text": [
      "               :-) GROMACS - gmx trjconv, 2020.6-plumed-2.8.0 (-:\n",
      "\n",
      "                            GROMACS is written by:\n",
      "     Emile Apol      Rossen Apostolov      Paul Bauer     Herman J.C. Berendsen\n",
      "    Par Bjelkmar      Christian Blau   Viacheslav Bolnykh     Kevin Boyd    \n",
      " Aldert van Buuren   Rudi van Drunen     Anton Feenstra       Alan Gray     \n",
      "  Gerrit Groenhof     Anca Hamuraru    Vincent Hindriksen  M. Eric Irrgang  \n",
      "  Aleksei Iupinov   Christoph Junghans     Joe Jordan     Dimitrios Karkoulis\n",
      "    Peter Kasson        Jiri Kraus      Carsten Kutzner      Per Larsson    \n",
      "  Justin A. Lemkul    Viveca Lindahl    Magnus Lundborg     Erik Marklund   \n",
      "    Pascal Merz     Pieter Meulenhoff    Teemu Murtola       Szilard Pall   \n",
      "    Sander Pronk      Roland Schulz      Michael Shirts    Alexey Shvetsov  \n",
      "   Alfons Sijbers     Peter Tieleman      Jon Vincent      Teemu Virolainen \n",
      " Christian Wennberg    Maarten Wolf      Artem Zhmurov   \n",
      "                           and the project leaders:\n",
      "        Mark Abraham, Berk Hess, Erik Lindahl, and David van der Spoel\n",
      "\n",
      "Copyright (c) 1991-2000, University of Groningen, The Netherlands.\n",
      "Copyright (c) 2001-2019, The GROMACS development team at\n",
      "Uppsala University, Stockholm University and\n",
      "the Royal Institute of Technology, Sweden.\n",
      "check out http://www.gromacs.org for more information.\n",
      "\n",
      "GROMACS is free software; you can redistribute it and/or modify it\n",
      "under the terms of the GNU Lesser General Public License\n",
      "as published by the Free Software Foundation; either version 2.1\n",
      "of the License, or (at your option) any later version.\n",
      "\n",
      "GROMACS:      gmx trjconv, version 2020.6-plumed-2.8.0\n",
      "Executable:   /home/zadoki/miniconda3/envs/bpti/bin/gmx_mpi\n",
      "Data prefix:  /home/zadoki/miniconda3/envs/bpti\n",
      "Working dir:  /rg/mendels_prj/zadoki/chignolin_test/data/interim/state_folded/solvate\n",
      "Command line:\n",
      "  gmx_mpi trjconv -ur compact -center -boxcenter tric -pbc mol -f ionized.gro -s ionized.tpr -o compact.pdb -n main.ndx\n",
      "\n",
      "Will write pdb: Protein data bank file\n",
      "Reading file ionized.tpr, VERSION 2020.6-plumed-2.8.0 (single precision)\n",
      "Reading file ionized.tpr, VERSION 2020.6-plumed-2.8.0 (single precision)\n",
      "Group     0 (         System) has  5094 elements\n",
      "Group     1 (        Protein) has   166 elements\n",
      "Group     2 (      Protein-H) has    93 elements\n",
      "Group     3 (        C-alpha) has    10 elements\n",
      "Group     4 (       Backbone) has    30 elements\n",
      "Group     5 (      MainChain) has    39 elements\n",
      "Group     6 (   MainChain+Cb) has    48 elements\n",
      "Group     7 (    MainChain+H) has    50 elements\n",
      "Group     8 (      SideChain) has   116 elements\n",
      "Group     9 (    SideChain-H) has    54 elements\n",
      "Group    10 (    Prot-Masses) has   166 elements\n",
      "Group    11 (    non-Protein) has  4928 elements\n",
      "Group    12 (          Water) has  4926 elements\n",
      "Group    13 (            SOL) has  4926 elements\n",
      "Group    14 (      non-Water) has   168 elements\n",
      "Group    15 (            Ion) has     2 elements\n",
      "Group    16 (             NA) has     2 elements\n",
      "Group    17 ( Water_and_ions) has  4928 elements\n",
      "Group    18 (       __main__) has   166 elements\n",
      "Group    19 (__environment__) has  4928 elements\n",
      "Select a group: Group     0 (         System) has  5094 elements\n",
      "Group     1 (        Protein) has   166 elements\n",
      "Group     2 (      Protein-H) has    93 elements\n",
      "Group     3 (        C-alpha) has    10 elements\n",
      "Group     4 (       Backbone) has    30 elements\n",
      "Group     5 (      MainChain) has    39 elements\n",
      "Group     6 (   MainChain+Cb) has    48 elements\n",
      "Group     7 (    MainChain+H) has    50 elements\n",
      "Group     8 (      SideChain) has   116 elements\n",
      "Group     9 (    SideChain-H) has    54 elements\n",
      "Group    10 (    Prot-Masses) has   166 elements\n",
      "Group    11 (    non-Protein) has  4928 elements\n",
      "Group    12 (          Water) has  4926 elements\n",
      "Group    13 (            SOL) has  4926 elements\n",
      "Group    14 (      non-Water) has   168 elements\n",
      "Group    15 (            Ion) has     2 elements\n",
      "Group    16 (             NA) has     2 elements\n",
      "Group    17 ( Water_and_ions) has  4928 elements\n",
      "Group    18 (       __main__) has   166 elements\n",
      "Group    19 (__environment__) has  4928 elements\n",
      "Select a group: Reading frames from gro file 'Protein in water', 5094 atoms.\n",
      "Reading frame       0 time    0.000   \n",
      "Precision of ionized.gro is 0.001 (nm)\n",
      "Last frame          0 time    0.000   \n",
      "\n",
      "\n",
      "GROMACS reminds you: \"Sacrifices must be made\" (Otto Lilienthal, dying after having crashed with his glider in 1896)\n",
      "\n"
     ]
    }
   ],
   "source": [
    "# original topology ff \n",
    "f1 = topology(protein='protein_solvate', struct='cln025.pdb',  ff='charmm27', water='tip3p', ignh=True, posrefc=50)\n",
    "# solvate and ionize\n",
    "f2 = solvate(boxtype='cubic',distance=1.0, water='tip3p', **f1)"
   ]
  },
  {
   "cell_type": "code",
   "execution_count": 13,
   "metadata": {
    "execution": {
     "iopub.execute_input": "2024-02-07T09:25:16.328644Z",
     "iopub.status.busy": "2024-02-07T09:25:16.327979Z",
     "iopub.status.idle": "2024-02-07T09:25:22.167629Z",
     "shell.execute_reply": "2024-02-07T09:25:22.164915Z",
     "shell.execute_reply.started": "2024-02-07T09:25:16.328595Z"
    }
   },
   "outputs": [
    {
     "name": "stderr",
     "output_type": "stream",
     "text": [
      "[dgx-master:2419904] PMIX ERROR: NO-PERMISSIONS in file dstore_base.c at line 237\n",
      "[dgx-master:2419904] PMIX ERROR: NO-PERMISSIONS in file dstore_base.c at line 246\n",
      "/home/zadoki/miniconda3/envs/gromacs_plumed/lib/python3.9/site-packages/gromacs/setup.py:781: UsageWarning: Unprocessed mdp option are interpreted as options for grompp:\n",
      "{'maxwarn': 10, 'pp': 'processed.top'}\n",
      "  warnings.warn(wmsg, category=UsageWarning)\n",
      "               :-) GROMACS - gmx grompp, 2020.6-plumed-2.8.0 (-:\n",
      "\n",
      "                            GROMACS is written by:\n",
      "     Emile Apol      Rossen Apostolov      Paul Bauer     Herman J.C. Berendsen\n",
      "    Par Bjelkmar      Christian Blau   Viacheslav Bolnykh     Kevin Boyd    \n",
      " Aldert van Buuren   Rudi van Drunen     Anton Feenstra       Alan Gray     \n",
      "  Gerrit Groenhof     Anca Hamuraru    Vincent Hindriksen  M. Eric Irrgang  \n",
      "  Aleksei Iupinov   Christoph Junghans     Joe Jordan     Dimitrios Karkoulis\n",
      "    Peter Kasson        Jiri Kraus      Carsten Kutzner      Per Larsson    \n",
      "  Justin A. Lemkul    Viveca Lindahl    Magnus Lundborg     Erik Marklund   \n",
      "    Pascal Merz     Pieter Meulenhoff    Teemu Murtola       Szilard Pall   \n",
      "    Sander Pronk      Roland Schulz      Michael Shirts    Alexey Shvetsov  \n",
      "   Alfons Sijbers     Peter Tieleman      Jon Vincent      Teemu Virolainen \n",
      " Christian Wennberg    Maarten Wolf      Artem Zhmurov   \n",
      "                           and the project leaders:\n",
      "        Mark Abraham, Berk Hess, Erik Lindahl, and David van der Spoel\n",
      "\n",
      "Copyright (c) 1991-2000, University of Groningen, The Netherlands.\n",
      "Copyright (c) 2001-2019, The GROMACS development team at\n",
      "Uppsala University, Stockholm University and\n",
      "the Royal Institute of Technology, Sweden.\n",
      "check out http://www.gromacs.org for more information.\n",
      "\n",
      "GROMACS is free software; you can redistribute it and/or modify it\n",
      "under the terms of the GNU Lesser General Public License\n",
      "as published by the Free Software Foundation; either version 2.1\n",
      "of the License, or (at your option) any later version.\n",
      "\n",
      "GROMACS:      gmx grompp, version 2020.6-plumed-2.8.0\n",
      "Executable:   /home/zadoki/miniconda3/envs/bpti/bin/gmx_mpi\n",
      "Data prefix:  /home/zadoki/miniconda3/envs/bpti\n",
      "Working dir:  /rg/mendels_prj/zadoki/chignolin_test/data/interim/state_folded/em\n",
      "Command line:\n",
      "  gmx_mpi grompp -f em.mdp -o em.tpr -c /rg/mendels_prj/zadoki/chignolin_test/data/interim/state_folded/solvate/ionized.gro -r /rg/mendels_prj/zadoki/chignolin_test/data/interim/state_folded/solvate/ionized.gro -p /rg/mendels_prj/zadoki/chignolin_test/data/interim/state_folded/top/system.top -maxwarn 10 -pp processed.top\n",
      "\n",
      "Ignoring obsolete mdp entry 'cpp'\n",
      "Ignoring obsolete mdp entry 'optimize_fft'\n",
      "Ignoring obsolete mdp entry 'ns_type'\n",
      "\n",
      "NOTE 1 [file em.mdp]:\n",
      "  Replacing vdwtype=Shift by the equivalent combination of vdwtype=Cut-off\n",
      "  and vdw_modifier=Force-switch\n",
      "\n",
      "\n",
      "NOTE 2 [file em.mdp]:\n",
      "  nstcomm < nstcalcenergy defeats the purpose of nstcalcenergy, setting\n",
      "  nstcomm to nstcalcenergy\n",
      "\n",
      "Setting the LD random seed to -550306786\n",
      "Generated 20503 of the 20503 non-bonded parameter combinations\n",
      "Generating 1-4 interactions: fudge = 1\n",
      "Generated 17396 of the 20503 1-4 parameter combinations\n",
      "Excluding 3 bonded neighbours molecule type 'Protein_chain_A'\n",
      "Excluding 2 bonded neighbours molecule type 'SOL'\n",
      "Excluding 1 bonded neighbours molecule type 'NA'\n",
      "\n",
      "WARNING 1 [file system.top, line 1629]:\n",
      "  The following macros were defined in the 'define' mdp field with the -D\n",
      "  prefix, but were not used in the topology:\n",
      "      FLEXSPC\n",
      "  If you haven't made a spelling error, either use the macro you defined,\n",
      "  or don't define the macro\n",
      "\n",
      "Number of degrees of freedom in T-Coupling group rest is 10353.00\n",
      "\n",
      "NOTE 3 [file em.mdp]:\n",
      "  Removing center of mass motion in the presence of position restraints\n",
      "  might cause artifacts. When you are using position restraints to\n",
      "  equilibrate a macro-molecule, the artifacts are usually negligible.\n",
      "\n",
      "Estimate for the relative computational load of the PME mesh part: 0.17\n",
      "\n",
      "There were 3 notes\n",
      "\n",
      "There was 1 warning\n",
      "\n",
      "GROMACS reminds you: \"Sacrifices must be made\" (Otto Lilienthal, dying after having crashed with his glider in 1896)\n",
      "\n",
      "[dgx-master:2420019] PMIX ERROR: NO-PERMISSIONS in file dstore_base.c at line 237\n",
      "/home/zadoki/miniconda3/envs/gromacs_plumed/lib/python3.9/site-packages/gromacs/run.py:445: AutoCorrectionWarning: No 'mdrun_d' binary found so trying 'mdrun' instead.\n",
      "(Note that energy minimization runs better with mdrun_d.)\n",
      "  warnings.warn(wmsg, category=AutoCorrectionWarning)\n",
      "[dgx-master:2420019] PMIX ERROR: NO-PERMISSIONS in file dstore_base.c at line 246\n"
     ]
    },
    {
     "name": "stdout",
     "output_type": "stream",
     "text": [
      "Analysing residue names:\n",
      "There are:    10    Protein residues\n",
      "There are:  1642      Water residues\n",
      "There are:     2        Ion residues\n",
      "Analysing Protein...\n",
      "Analysing residues not classified as Protein/DNA/RNA/Water and splitting into groups...\n",
      "Calculating fourier grid dimensions for X Y Z\n",
      "Using a fourier grid of 32x32x32, spacing 0.118 0.118 0.118\n",
      "This run will generate roughly 0 Mb of data\n"
     ]
    },
    {
     "name": "stderr",
     "output_type": "stream",
     "text": [
      "                :-) GROMACS - gmx mdrun, 2020.6-plumed-2.8.0 (-:\n",
      "\n",
      "                            GROMACS is written by:\n",
      "     Emile Apol      Rossen Apostolov      Paul Bauer     Herman J.C. Berendsen\n",
      "    Par Bjelkmar      Christian Blau   Viacheslav Bolnykh     Kevin Boyd    \n",
      " Aldert van Buuren   Rudi van Drunen     Anton Feenstra       Alan Gray     \n",
      "  Gerrit Groenhof     Anca Hamuraru    Vincent Hindriksen  M. Eric Irrgang  \n",
      "  Aleksei Iupinov   Christoph Junghans     Joe Jordan     Dimitrios Karkoulis\n",
      "    Peter Kasson        Jiri Kraus      Carsten Kutzner      Per Larsson    \n",
      "  Justin A. Lemkul    Viveca Lindahl    Magnus Lundborg     Erik Marklund   \n",
      "    Pascal Merz     Pieter Meulenhoff    Teemu Murtola       Szilard Pall   \n",
      "    Sander Pronk      Roland Schulz      Michael Shirts    Alexey Shvetsov  \n",
      "   Alfons Sijbers     Peter Tieleman      Jon Vincent      Teemu Virolainen \n",
      " Christian Wennberg    Maarten Wolf      Artem Zhmurov   \n",
      "                           and the project leaders:\n",
      "        Mark Abraham, Berk Hess, Erik Lindahl, and David van der Spoel\n",
      "\n",
      "Copyright (c) 1991-2000, University of Groningen, The Netherlands.\n",
      "Copyright (c) 2001-2019, The GROMACS development team at\n",
      "Uppsala University, Stockholm University and\n",
      "the Royal Institute of Technology, Sweden.\n",
      "check out http://www.gromacs.org for more information.\n",
      "\n",
      "GROMACS is free software; you can redistribute it and/or modify it\n",
      "under the terms of the GNU Lesser General Public License\n",
      "as published by the Free Software Foundation; either version 2.1\n",
      "of the License, or (at your option) any later version.\n",
      "\n",
      "GROMACS:      gmx mdrun, version 2020.6-plumed-2.8.0\n",
      "Executable:   /home/zadoki/miniconda3/envs/bpti/bin/gmx_mpi\n",
      "Data prefix:  /home/zadoki/miniconda3/envs/bpti\n",
      "Working dir:  /rg/mendels_prj/zadoki/chignolin_test/data/interim/state_folded/em\n",
      "Command line:\n",
      "  gmx_mpi mdrun -v -stepout 10 -deffnm em -c em.pdb\n",
      "\n",
      "Compiled SIMD: SSE2, but for this host/run AVX_512 might be better (see log).\n",
      "The current CPU can measure timings more accurately than the code in\n",
      "gmx mdrun was configured to use. This might affect your simulation\n",
      "speed as accurate timings are needed for load-balancing.\n",
      "Please consider rebuilding gmx mdrun with the GMX_USE_RDTSCP=ON CMake option.\n",
      "Reading file em.tpr, VERSION 2020.6-plumed-2.8.0 (single precision)\n",
      "\n",
      "Using 1 MPI process\n",
      "Using 16 OpenMP threads \n",
      "\n",
      "\n",
      "Steepest Descents:\n",
      "   Tolerance (Fmax)   =  5.00000e+02\n",
      "   Number of steps    =         1000\n",
      "Step=    0, Dmax= 1.0e-02 nm, Epot= -5.76524e+04 Fmax= 1.39350e+05, atom= 13\n",
      "Step=    1, Dmax= 1.0e-02 nm, Epot= -5.96594e+04 Fmax= 4.26824e+04, atom= 13\n",
      "Step=    2, Dmax= 1.2e-02 nm, Epot= -6.15404e+04 Fmax= 1.45617e+04, atom= 995\n",
      "Step=    3, Dmax= 1.4e-02 nm, Epot= -6.34893e+04 Fmax= 6.30586e+03, atom= 995\n",
      "Step=    4, Dmax= 1.7e-02 nm, Epot= -6.51437e+04 Fmax= 5.28860e+03, atom= 105\n",
      "Step=    5, Dmax= 2.1e-02 nm, Epot= -6.59768e+04 Fmax= 2.06004e+04, atom= 105\n",
      "Step=    6, Dmax= 2.5e-02 nm, Epot= -6.66729e+04 Fmax= 1.25844e+04, atom= 105\n",
      "Step=    7, Dmax= 3.0e-02 nm, Epot= -6.66994e+04 Fmax= 2.67384e+04, atom= 105\n",
      "Step=    8, Dmax= 3.6e-02 nm, Epot= -6.71901e+04 Fmax= 2.15227e+04, atom= 105\n",
      "Step=   10, Dmax= 2.1e-02 nm, Epot= -6.77232e+04 Fmax= 7.18587e+03, atom= 105\n",
      "Step=   12, Dmax= 1.3e-02 nm, Epot= -6.79812e+04 Fmax= 1.03880e+04, atom= 105\n",
      "Step=   13, Dmax= 1.5e-02 nm, Epot= -6.82135e+04 Fmax= 1.01571e+04, atom= 105\n",
      "Step=   14, Dmax= 1.9e-02 nm, Epot= -6.83694e+04 Fmax= 1.49727e+04, atom= 105\n",
      "Step=   15, Dmax= 2.2e-02 nm, Epot= -6.85668e+04 Fmax= 1.47486e+04, atom= 105\n",
      "Step=   17, Dmax= 1.3e-02 nm, Epot= -6.88881e+04 Fmax= 3.24630e+03, atom= 105\n",
      "Step=   18, Dmax= 1.6e-02 nm, Epot= -6.91453e+04 Fmax= 1.77615e+04, atom= 105\n",
      "Step=   19, Dmax= 1.9e-02 nm, Epot= -6.95302e+04 Fmax= 8.10680e+03, atom= 105\n",
      "Step=   21, Dmax= 1.2e-02 nm, Epot= -6.96819e+04 Fmax= 7.29491e+03, atom= 105\n",
      "Step=   22, Dmax= 1.4e-02 nm, Epot= -6.97626e+04 Fmax= 1.14108e+04, atom= 105\n",
      "Step=   23, Dmax= 1.7e-02 nm, Epot= -6.98963e+04 Fmax= 1.08127e+04, atom= 105\n",
      "Step=   25, Dmax= 1.0e-02 nm, Epot= -7.01341e+04 Fmax= 2.60951e+03, atom= 105\n",
      "Step=   26, Dmax= 1.2e-02 nm, Epot= -7.02191e+04 Fmax= 1.31824e+04, atom= 105\n",
      "Step=   27, Dmax= 1.4e-02 nm, Epot= -7.05387e+04 Fmax= 6.13636e+03, atom= 105\n",
      "Step=   29, Dmax= 8.6e-03 nm, Epot= -7.06501e+04 Fmax= 5.65254e+03, atom= 133\n",
      "Step=   30, Dmax= 1.0e-02 nm, Epot= -7.06939e+04 Fmax= 9.07007e+03, atom= 133\n",
      "Step=   31, Dmax= 1.2e-02 nm, Epot= -7.08133e+04 Fmax= 8.44566e+03, atom= 133\n",
      "Step=   33, Dmax= 7.5e-03 nm, Epot= -7.09939e+04 Fmax= 1.89540e+03, atom= 133\n",
      "Step=   34, Dmax= 8.9e-03 nm, Epot= -7.11262e+04 Fmax= 1.05375e+04, atom= 133\n",
      "Step=   35, Dmax= 1.1e-02 nm, Epot= -7.13351e+04 Fmax= 4.43974e+03, atom= 133\n",
      "Step=   37, Dmax= 6.4e-03 nm, Epot= -7.14173e+04 Fmax= 4.63714e+03, atom= 133\n",
      "Step=   38, Dmax= 7.7e-03 nm, Epot= -7.14886e+04 Fmax= 6.31351e+03, atom= 133\n",
      "Step=   39, Dmax= 9.3e-03 nm, Epot= -7.15610e+04 Fmax= 6.74230e+03, atom= 133\n",
      "Step=   40, Dmax= 1.1e-02 nm, Epot= -7.16069e+04 Fmax= 9.03646e+03, atom= 133\n",
      "Step=   41, Dmax= 1.3e-02 nm, Epot= -7.16626e+04 Fmax= 9.73802e+03, atom= 133\n",
      "Step=   42, Dmax= 1.6e-02 nm, Epot= -7.16644e+04 Fmax= 1.30062e+04, atom= 133\n",
      "Step=   43, Dmax= 1.9e-02 nm, Epot= -7.16897e+04 Fmax= 1.39714e+04, atom= 133\n",
      "Step=   45, Dmax= 1.2e-02 nm, Epot= -7.19779e+04 Fmax= 1.80296e+03, atom= 133\n",
      "Step=   47, Dmax= 6.9e-03 nm, Epot= -7.20797e+04 Fmax= 8.02129e+03, atom= 133\n",
      "Step=   48, Dmax= 8.3e-03 nm, Epot= -7.21922e+04 Fmax= 3.65775e+03, atom= 133\n",
      "Step=   49, Dmax= 1.0e-02 nm, Epot= -7.21992e+04 Fmax= 1.01286e+04, atom= 133\n",
      "Step=   50, Dmax= 1.2e-02 nm, Epot= -7.23244e+04 Fmax= 6.61086e+03, atom= 133\n",
      "Step=   52, Dmax= 7.2e-03 nm, Epot= -7.24052e+04 Fmax= 3.60292e+03, atom= 133\n",
      "Step=   53, Dmax= 8.6e-03 nm, Epot= -7.24313e+04 Fmax= 8.65667e+03, atom= 133\n",
      "Step=   54, Dmax= 1.0e-02 nm, Epot= -7.25210e+04 Fmax= 5.99226e+03, atom= 133\n",
      "Step=   56, Dmax= 6.2e-03 nm, Epot= -7.25952e+04 Fmax= 2.67165e+03, atom= 133\n",
      "Step=   57, Dmax= 7.4e-03 nm, Epot= -7.26368e+04 Fmax= 7.73077e+03, atom= 133\n",
      "Step=   58, Dmax= 8.9e-03 nm, Epot= -7.27243e+04 Fmax= 4.78890e+03, atom= 133\n",
      "Step=   60, Dmax= 5.4e-03 nm, Epot= -7.27817e+04 Fmax= 2.81609e+03, atom= 133\n",
      "Step=   61, Dmax= 6.4e-03 nm, Epot= -7.28261e+04 Fmax= 6.30855e+03, atom= 133\n",
      "Step=   62, Dmax= 7.7e-03 nm, Epot= -7.28885e+04 Fmax= 4.61254e+03, atom= 133\n",
      "Step=   63, Dmax= 9.3e-03 nm, Epot= -7.28984e+04 Fmax= 8.55367e+03, atom= 133\n",
      "Step=   64, Dmax= 1.1e-02 nm, Epot= -7.29634e+04 Fmax= 7.15160e+03, atom= 133\n",
      "Step=   66, Dmax= 6.7e-03 nm, Epot= -7.30487e+04 Fmax= 2.12119e+03, atom= 133\n",
      "Step=   67, Dmax= 8.0e-03 nm, Epot= -7.30753e+04 Fmax= 9.04953e+03, atom= 133\n",
      "Step=   68, Dmax= 9.6e-03 nm, Epot= -7.31843e+04 Fmax= 4.36569e+03, atom= 133\n",
      "Step=   70, Dmax= 5.8e-03 nm, Epot= -7.32294e+04 Fmax= 3.78363e+03, atom= 133\n",
      "Step=   71, Dmax= 6.9e-03 nm, Epot= -7.32592e+04 Fmax= 6.00404e+03, atom= 133\n",
      "Step=   72, Dmax= 8.3e-03 nm, Epot= -7.33022e+04 Fmax= 5.70315e+03, atom= 133\n",
      "Step=   73, Dmax= 1.0e-02 nm, Epot= -7.33104e+04 Fmax= 8.40944e+03, atom= 133\n",
      "Step=   74, Dmax= 1.2e-02 nm, Epot= -7.33460e+04 Fmax= 8.42098e+03, atom= 133\n",
      "Step=   76, Dmax= 7.2e-03 nm, Epot= -7.34510e+04 Fmax= 1.50376e+03, atom= 133\n",
      "Step=   77, Dmax= 8.6e-03 nm, Epot= -7.34739e+04 Fmax= 1.05145e+04, atom= 133\n",
      "Step=   78, Dmax= 1.0e-02 nm, Epot= -7.36164e+04 Fmax= 3.86963e+03, atom= 133\n",
      "Step=   80, Dmax= 6.2e-03 nm, Epot= -7.36466e+04 Fmax= 4.84549e+03, atom= 133\n",
      "Step=   81, Dmax= 7.4e-03 nm, Epot= -7.36761e+04 Fmax= 5.65016e+03, atom= 133\n",
      "Step=   82, Dmax= 8.9e-03 nm, Epot= -7.36953e+04 Fmax= 6.89266e+03, atom= 133\n",
      "Step=   83, Dmax= 1.1e-02 nm, Epot= -7.37123e+04 Fmax= 8.23220e+03, atom= 133\n",
      "Step=   85, Dmax= 6.4e-03 nm, Epot= -7.38067e+04 Fmax= 9.90200e+02, atom= 133\n",
      "Step=   86, Dmax= 7.7e-03 nm, Epot= -7.38814e+04 Fmax= 9.90733e+03, atom= 133\n",
      "Step=   87, Dmax= 9.2e-03 nm, Epot= -7.39971e+04 Fmax= 3.27869e+03, atom= 133\n",
      "Step=   89, Dmax= 5.5e-03 nm, Epot= -7.40227e+04 Fmax= 4.57276e+03, atom= 133\n",
      "Step=   90, Dmax= 6.7e-03 nm, Epot= -7.40506e+04 Fmax= 4.81103e+03, atom= 133\n",
      "Step=   91, Dmax= 8.0e-03 nm, Epot= -7.40651e+04 Fmax= 6.48283e+03, atom= 133\n",
      "Step=   92, Dmax= 9.6e-03 nm, Epot= -7.40856e+04 Fmax= 7.01690e+03, atom= 133\n",
      "Step=   94, Dmax= 5.7e-03 nm, Epot= -7.41593e+04 Fmax= 9.63373e+02, atom= 133\n",
      "Step=   95, Dmax= 6.9e-03 nm, Epot= -7.42125e+04 Fmax= 8.74704e+03, atom= 133\n",
      "Step=   96, Dmax= 8.3e-03 nm, Epot= -7.43141e+04 Fmax= 2.81640e+03, atom= 133\n",
      "Step=   98, Dmax= 5.0e-03 nm, Epot= -7.43364e+04 Fmax= 4.16863e+03, atom= 133\n",
      "Step=   99, Dmax= 6.0e-03 nm, Epot= -7.43631e+04 Fmax= 4.23579e+03, atom= 133\n",
      "Step=  100, Dmax= 7.2e-03 nm, Epot= -7.43750e+04 Fmax= 5.83073e+03, atom= 133\n",
      "Step=  101, Dmax= 8.6e-03 nm, Epot= -7.43970e+04 Fmax= 6.28026e+03, atom= 133\n",
      "Step=  103, Dmax= 5.2e-03 nm, Epot= -7.44556e+04 Fmax= 1.08843e+03, atom= 133\n",
      "Step=  104, Dmax= 6.2e-03 nm, Epot= -7.44929e+04 Fmax= 7.65153e+03, atom= 133\n",
      "Step=  105, Dmax= 7.4e-03 nm, Epot= -7.45651e+04 Fmax= 2.90825e+03, atom= 133\n",
      "Step=  107, Dmax= 4.4e-03 nm, Epot= -7.45881e+04 Fmax= 3.36305e+03, atom= 133\n",
      "Step=  108, Dmax= 5.3e-03 nm, Epot= -7.46077e+04 Fmax= 4.16731e+03, atom= 133\n",
      "Step=  109, Dmax= 6.4e-03 nm, Epot= -7.46265e+04 Fmax= 4.87277e+03, atom= 133\n",
      "Step=  110, Dmax= 7.7e-03 nm, Epot= -7.46380e+04 Fmax= 5.95659e+03, atom= 133\n",
      "Step=  111, Dmax= 9.2e-03 nm, Epot= -7.46481e+04 Fmax= 7.07679e+03, atom= 133\n",
      "Step=  113, Dmax= 5.5e-03 nm, Epot= -7.47168e+04 Fmax= 8.61520e+02, atom= 133\n",
      "Step=  114, Dmax= 6.6e-03 nm, Epot= -7.47602e+04 Fmax= 8.50080e+03, atom= 133\n",
      "Step=  115, Dmax= 8.0e-03 nm, Epot= -7.48449e+04 Fmax= 2.85753e+03, atom= 133\n",
      "Step=  117, Dmax= 4.8e-03 nm, Epot= -7.48623e+04 Fmax= 3.90461e+03, atom= 133\n",
      "Step=  118, Dmax= 5.7e-03 nm, Epot= -7.48812e+04 Fmax= 4.19473e+03, atom= 133\n",
      "Step=  119, Dmax= 6.9e-03 nm, Epot= -7.48910e+04 Fmax= 5.53562e+03, atom= 133\n",
      "Step=  120, Dmax= 8.3e-03 nm, Epot= -7.49039e+04 Fmax= 6.11489e+03, atom= 133\n",
      "Step=  122, Dmax= 5.0e-03 nm, Epot= -7.49588e+04 Fmax= 7.79526e+02, atom= 133\n",
      "Step=  123, Dmax= 6.0e-03 nm, Epot= -7.49984e+04 Fmax= 7.63410e+03, atom= 133\n",
      "Step=  124, Dmax= 7.1e-03 nm, Epot= -7.50749e+04 Fmax= 2.34878e+03, atom= 133\n",
      "Step=  126, Dmax= 4.3e-03 nm, Epot= -7.50903e+04 Fmax= 3.68125e+03, atom= 133\n",
      "Step=  127, Dmax= 5.1e-03 nm, Epot= -7.51103e+04 Fmax= 3.56075e+03, atom= 133\n",
      "Step=  128, Dmax= 6.2e-03 nm, Epot= -7.51171e+04 Fmax= 5.12868e+03, atom= 133\n",
      "Step=  129, Dmax= 7.4e-03 nm, Epot= -7.51348e+04 Fmax= 5.30800e+03, atom= 133\n",
      "Step=  131, Dmax= 4.4e-03 nm, Epot= -7.51768e+04 Fmax= 1.03618e+03, atom= 133\n",
      "Step=  132, Dmax= 5.3e-03 nm, Epot= -7.51972e+04 Fmax= 6.48651e+03, atom= 133\n",
      "Step=  133, Dmax= 6.4e-03 nm, Epot= -7.52490e+04 Fmax= 2.61168e+03, atom= 133\n",
      "Step=  135, Dmax= 3.8e-03 nm, Epot= -7.52664e+04 Fmax= 2.78914e+03, atom= 133\n",
      "Step=  136, Dmax= 4.6e-03 nm, Epot= -7.52798e+04 Fmax= 3.71039e+03, atom= 133\n",
      "Step=  137, Dmax= 5.5e-03 nm, Epot= -7.52950e+04 Fmax= 4.07796e+03, atom= 133\n",
      "Step=  138, Dmax= 6.6e-03 nm, Epot= -7.53013e+04 Fmax= 5.26660e+03, atom= 133\n",
      "Step=  139, Dmax= 8.0e-03 nm, Epot= -7.53115e+04 Fmax= 5.96227e+03, atom= 133\n",
      "Step=  141, Dmax= 4.8e-03 nm, Epot= -7.53608e+04 Fmax= 8.68673e+02, atom= 133\n",
      "Step=  142, Dmax= 5.7e-03 nm, Epot= -7.53813e+04 Fmax= 7.20163e+03, atom= 133\n",
      "Step=  143, Dmax= 6.9e-03 nm, Epot= -7.54425e+04 Fmax= 2.58520e+03, atom= 133\n",
      "Step=  145, Dmax= 4.1e-03 nm, Epot= -7.54563e+04 Fmax= 3.23210e+03, atom= 133\n",
      "Step=  146, Dmax= 5.0e-03 nm, Epot= -7.54691e+04 Fmax= 3.75604e+03, atom= 133\n",
      "Step=  147, Dmax= 5.9e-03 nm, Epot= -7.54787e+04 Fmax= 4.62492e+03, atom= 133\n",
      "Step=  148, Dmax= 7.1e-03 nm, Epot= -7.54856e+04 Fmax= 5.42515e+03, atom= 133\n",
      "Step=  149, Dmax= 8.6e-03 nm, Epot= -7.54869e+04 Fmax= 6.65823e+03, atom= 133\n",
      "Step=  151, Dmax= 5.1e-03 nm, Epot= -7.55452e+04 Fmax= 6.98092e+02, atom= 133\n",
      "Step=  152, Dmax= 6.2e-03 nm, Epot= -7.55701e+04 Fmax= 7.94064e+03, atom= 133\n",
      "Step=  153, Dmax= 7.4e-03 nm, Epot= -7.56418e+04 Fmax= 2.58202e+03, atom= 133\n",
      "Step=  155, Dmax= 4.4e-03 nm, Epot= -7.56516e+04 Fmax= 3.68975e+03, atom= 133\n",
      "Step=  156, Dmax= 5.3e-03 nm, Epot= -7.56647e+04 Fmax= 3.82453e+03, atom= 133\n",
      "Step=  157, Dmax= 6.4e-03 nm, Epot= -7.56677e+04 Fmax= 5.19413e+03, atom= 133\n",
      "Step=  158, Dmax= 7.7e-03 nm, Epot= -7.56762e+04 Fmax= 5.61481e+03, atom= 133\n",
      "Step=  160, Dmax= 4.6e-03 nm, Epot= -7.57206e+04 Fmax= 7.83308e+02, atom= 133\n",
      "Step=  161, Dmax= 5.5e-03 nm, Epot= -7.57311e+04 Fmax= 7.02678e+03, atom= 133\n",
      "Step=  162, Dmax= 6.6e-03 nm, Epot= -7.57934e+04 Fmax= 2.23103e+03, atom= 133\n",
      "Step=  164, Dmax= 4.0e-03 nm, Epot= -7.58028e+04 Fmax= 3.36933e+03, atom= 133\n",
      "Step=  165, Dmax= 4.8e-03 nm, Epot= -7.58164e+04 Fmax= 3.34324e+03, atom= 133\n",
      "Step=  166, Dmax= 5.7e-03 nm, Epot= -7.58192e+04 Fmax= 4.71951e+03, atom= 133\n",
      "Step=  167, Dmax= 6.9e-03 nm, Epot= -7.58306e+04 Fmax= 4.95519e+03, atom= 133\n",
      "Step=  169, Dmax= 4.1e-03 nm, Epot= -7.58654e+04 Fmax= 9.24178e+02, atom= 133\n",
      "Step=  170, Dmax= 4.9e-03 nm, Epot= -7.58740e+04 Fmax= 6.03548e+03, atom= 133\n",
      "Step=  171, Dmax= 5.9e-03 nm, Epot= -7.59172e+04 Fmax= 2.39709e+03, atom= 133\n",
      "Step=  173, Dmax= 3.6e-03 nm, Epot= -7.59292e+04 Fmax= 2.60858e+03, atom= 133\n",
      "Step=  174, Dmax= 4.3e-03 nm, Epot= -7.59379e+04 Fmax= 3.42132e+03, atom= 133\n",
      "Step=  175, Dmax= 5.1e-03 nm, Epot= -7.59481e+04 Fmax= 3.79694e+03, atom= 133\n",
      "Step=  176, Dmax= 6.2e-03 nm, Epot= -7.59510e+04 Fmax= 4.87188e+03, atom= 133\n",
      "Step=  177, Dmax= 7.4e-03 nm, Epot= -7.59569e+04 Fmax= 5.53561e+03, atom= 133\n",
      "Step=  179, Dmax= 4.4e-03 nm, Epot= -7.59980e+04 Fmax= 7.93215e+02, atom= 133\n",
      "Step=  180, Dmax= 5.3e-03 nm, Epot= -7.60058e+04 Fmax= 6.67331e+03, atom= 133\n",
      "Step=  181, Dmax= 6.4e-03 nm, Epot= -7.60571e+04 Fmax= 2.39615e+03, atom= 133\n",
      "Step=  183, Dmax= 3.8e-03 nm, Epot= -7.60666e+04 Fmax= 2.99400e+03, atom= 133\n",
      "Step=  184, Dmax= 4.6e-03 nm, Epot= -7.60754e+04 Fmax= 3.48819e+03, atom= 133\n",
      "Step=  185, Dmax= 5.5e-03 nm, Epot= -7.60815e+04 Fmax= 4.27804e+03, atom= 133\n",
      "Step=  186, Dmax= 6.6e-03 nm, Epot= -7.60852e+04 Fmax= 5.04355e+03, atom= 133\n",
      "Step=  188, Dmax= 4.0e-03 nm, Epot= -7.61211e+04 Fmax= 4.78542e+02, atom= 133\n",
      "\n",
      "writing lowest energy coordinates.\n",
      "\n",
      "Steepest Descents converged to Fmax < 500 in 189 steps\n",
      "Potential Energy  = -7.6121086e+04\n",
      "Maximum force     =  4.7854163e+02 on atom 133\n",
      "Norm of force     =  4.1707854e+01\n",
      "\n",
      "GROMACS reminds you: \"FORTRAN was the language of choice for the same reason that three-legged races are popular.\" (Ken Thompson)\n",
      "\n",
      "[dgx-master:2420314] PMIX ERROR: NO-PERMISSIONS in file dstore_base.c at line 237\n"
     ]
    }
   ],
   "source": [
    "# minimize rigid\n",
    "f3 = energy_minimize(integrator='steep',maxwarn=10, **f2)"
   ]
  },
  {
   "cell_type": "code",
   "execution_count": 14,
   "metadata": {
    "execution": {
     "iopub.execute_input": "2024-02-07T09:25:22.169527Z",
     "iopub.status.busy": "2024-02-07T09:25:22.169138Z",
     "iopub.status.idle": "2024-02-07T09:25:23.264706Z",
     "shell.execute_reply": "2024-02-07T09:25:23.263812Z",
     "shell.execute_reply.started": "2024-02-07T09:25:22.169486Z"
    }
   },
   "outputs": [
    {
     "name": "stderr",
     "output_type": "stream",
     "text": [
      "[dgx-master:2420314] PMIX ERROR: NO-PERMISSIONS in file dstore_base.c at line 237\n",
      "[dgx-master:2420314] PMIX ERROR: NO-PERMISSIONS in file dstore_base.c at line 246\n",
      "              :-) GROMACS - gmx make_ndx, 2020.6-plumed-2.8.0 (-:\n",
      "\n",
      "                            GROMACS is written by:\n",
      "     Emile Apol      Rossen Apostolov      Paul Bauer     Herman J.C. Berendsen\n",
      "    Par Bjelkmar      Christian Blau   Viacheslav Bolnykh     Kevin Boyd    \n",
      " Aldert van Buuren   Rudi van Drunen     Anton Feenstra       Alan Gray     \n",
      "  Gerrit Groenhof     Anca Hamuraru    Vincent Hindriksen  M. Eric Irrgang  \n",
      "  Aleksei Iupinov   Christoph Junghans     Joe Jordan     Dimitrios Karkoulis\n",
      "    Peter Kasson        Jiri Kraus      Carsten Kutzner      Per Larsson    \n",
      "  Justin A. Lemkul    Viveca Lindahl    Magnus Lundborg     Erik Marklund   \n",
      "    Pascal Merz     Pieter Meulenhoff    Teemu Murtola       Szilard Pall   \n",
      "    Sander Pronk      Roland Schulz      Michael Shirts    Alexey Shvetsov  \n",
      "   Alfons Sijbers     Peter Tieleman      Jon Vincent      Teemu Virolainen \n",
      " Christian Wennberg    Maarten Wolf      Artem Zhmurov   \n",
      "                           and the project leaders:\n",
      "        Mark Abraham, Berk Hess, Erik Lindahl, and David van der Spoel\n",
      "\n",
      "Copyright (c) 1991-2000, University of Groningen, The Netherlands.\n",
      "Copyright (c) 2001-2019, The GROMACS development team at\n",
      "Uppsala University, Stockholm University and\n",
      "the Royal Institute of Technology, Sweden.\n",
      "check out http://www.gromacs.org for more information.\n",
      "\n",
      "GROMACS is free software; you can redistribute it and/or modify it\n",
      "under the terms of the GNU Lesser General Public License\n",
      "as published by the Free Software Foundation; either version 2.1\n",
      "of the License, or (at your option) any later version.\n",
      "\n",
      "GROMACS:      gmx make_ndx, version 2020.6-plumed-2.8.0\n",
      "Executable:   /home/zadoki/miniconda3/envs/bpti/bin/gmx_mpi\n",
      "Data prefix:  /home/zadoki/miniconda3/envs/bpti\n",
      "Working dir:  /rg/mendels_prj/zadoki/chignolin_test/data/interim/state_folded/MD_POSRES\n",
      "Command line:\n",
      "  gmx_mpi make_ndx -f /rg/mendels_prj/zadoki/chignolin_test/data/interim/state_folded/em/em.pdb -o md.ndx\n",
      "\n",
      "\n",
      "Reading structure file\n",
      "\n",
      "GROMACS reminds you: \"FORTRAN was the language of choice for the same reason that three-legged races are popular.\" (Ken Thompson)\n",
      "\n",
      "[dgx-master:2421684] PMIX ERROR: NO-PERMISSIONS in file dstore_base.c at line 237\n",
      "[dgx-master:2421684] PMIX ERROR: NO-PERMISSIONS in file dstore_base.c at line 237\n",
      "[dgx-master:2421684] PMIX ERROR: NO-PERMISSIONS in file dstore_base.c at line 246\n",
      "              :-) GROMACS - gmx make_ndx, 2020.6-plumed-2.8.0 (-:\n",
      "\n",
      "                            GROMACS is written by:\n",
      "     Emile Apol      Rossen Apostolov      Paul Bauer     Herman J.C. Berendsen\n",
      "    Par Bjelkmar      Christian Blau   Viacheslav Bolnykh     Kevin Boyd    \n",
      " Aldert van Buuren   Rudi van Drunen     Anton Feenstra       Alan Gray     \n",
      "  Gerrit Groenhof     Anca Hamuraru    Vincent Hindriksen  M. Eric Irrgang  \n",
      "  Aleksei Iupinov   Christoph Junghans     Joe Jordan     Dimitrios Karkoulis\n",
      "    Peter Kasson        Jiri Kraus      Carsten Kutzner      Per Larsson    \n",
      "  Justin A. Lemkul    Viveca Lindahl    Magnus Lundborg     Erik Marklund   \n",
      "    Pascal Merz     Pieter Meulenhoff    Teemu Murtola       Szilard Pall   \n",
      "    Sander Pronk      Roland Schulz      Michael Shirts    Alexey Shvetsov  \n",
      "   Alfons Sijbers     Peter Tieleman      Jon Vincent      Teemu Virolainen \n",
      " Christian Wennberg    Maarten Wolf      Artem Zhmurov   \n",
      "                           and the project leaders:\n",
      "        Mark Abraham, Berk Hess, Erik Lindahl, and David van der Spoel\n",
      "\n",
      "Copyright (c) 1991-2000, University of Groningen, The Netherlands.\n",
      "Copyright (c) 2001-2019, The GROMACS development team at\n",
      "Uppsala University, Stockholm University and\n",
      "the Royal Institute of Technology, Sweden.\n",
      "check out http://www.gromacs.org for more information.\n",
      "\n",
      "GROMACS is free software; you can redistribute it and/or modify it\n",
      "under the terms of the GNU Lesser General Public License\n",
      "as published by the Free Software Foundation; either version 2.1\n",
      "of the License, or (at your option) any later version.\n",
      "\n",
      "GROMACS:      gmx make_ndx, version 2020.6-plumed-2.8.0\n",
      "Executable:   /home/zadoki/miniconda3/envs/bpti/bin/gmx_mpi\n",
      "Data prefix:  /home/zadoki/miniconda3/envs/bpti\n",
      "Working dir:  /rg/mendels_prj/zadoki/chignolin_test/data/interim/state_folded/MD_POSRES\n",
      "Command line:\n",
      "  gmx_mpi make_ndx -f /rg/mendels_prj/zadoki/chignolin_test/data/interim/state_folded/em/em.pdb -n md.ndx -o md.ndx\n",
      "\n",
      "\n",
      "Reading structure file\n",
      "\n",
      "Back Off! I just backed up md.ndx to ./#md.ndx.1#\n",
      "\n",
      "GROMACS reminds you: \"FORTRAN was the language of choice for the same reason that three-legged races are popular.\" (Ken Thompson)\n",
      "\n",
      "[dgx-master:2421759] PMIX ERROR: NO-PERMISSIONS in file dstore_base.c at line 237\n",
      "[dgx-master:2421759] PMIX ERROR: NO-PERMISSIONS in file dstore_base.c at line 246\n",
      "/home/zadoki/miniconda3/envs/gromacs_plumed/lib/python3.9/site-packages/gromacs/setup.py:1116: AutoCorrectionWarning: Size of __main__ is only 3.4% of __environment__ so we use 'System' for T-coupling and ref_t = 300 K and tau_t = 0.1 1/ps (can be changed in mdp_parameters).\n",
      "\n",
      "  warnings.warn(wmsg, category=AutoCorrectionWarning)\n",
      "/home/zadoki/miniconda3/envs/gromacs_plumed/lib/python3.9/site-packages/gromacs/setup.py:781: UsageWarning: Unprocessed mdp option are interpreted as options for grompp:\n",
      "{'pp': 'processed.top', 'r': '/rg/mendels_prj/zadoki/chignolin_test/data/interim/state_folded/em/em.pdb', 'maxwarn': 10}\n",
      "  warnings.warn(wmsg, category=UsageWarning)\n",
      "               :-) GROMACS - gmx grompp, 2020.6-plumed-2.8.0 (-:\n",
      "\n",
      "                            GROMACS is written by:\n",
      "     Emile Apol      Rossen Apostolov      Paul Bauer     Herman J.C. Berendsen\n",
      "    Par Bjelkmar      Christian Blau   Viacheslav Bolnykh     Kevin Boyd    \n",
      " Aldert van Buuren   Rudi van Drunen     Anton Feenstra       Alan Gray     \n",
      "  Gerrit Groenhof     Anca Hamuraru    Vincent Hindriksen  M. Eric Irrgang  \n",
      "  Aleksei Iupinov   Christoph Junghans     Joe Jordan     Dimitrios Karkoulis\n",
      "    Peter Kasson        Jiri Kraus      Carsten Kutzner      Per Larsson    \n",
      "  Justin A. Lemkul    Viveca Lindahl    Magnus Lundborg     Erik Marklund   \n",
      "    Pascal Merz     Pieter Meulenhoff    Teemu Murtola       Szilard Pall   \n",
      "    Sander Pronk      Roland Schulz      Michael Shirts    Alexey Shvetsov  \n",
      "   Alfons Sijbers     Peter Tieleman      Jon Vincent      Teemu Virolainen \n",
      " Christian Wennberg    Maarten Wolf      Artem Zhmurov   \n",
      "                           and the project leaders:\n",
      "        Mark Abraham, Berk Hess, Erik Lindahl, and David van der Spoel\n",
      "\n",
      "Copyright (c) 1991-2000, University of Groningen, The Netherlands.\n",
      "Copyright (c) 2001-2019, The GROMACS development team at\n",
      "Uppsala University, Stockholm University and\n",
      "the Royal Institute of Technology, Sweden.\n",
      "check out http://www.gromacs.org for more information.\n",
      "\n",
      "GROMACS is free software; you can redistribute it and/or modify it\n",
      "under the terms of the GNU Lesser General Public License\n",
      "as published by the Free Software Foundation; either version 2.1\n",
      "of the License, or (at your option) any later version.\n",
      "\n",
      "GROMACS:      gmx grompp, version 2020.6-plumed-2.8.0\n",
      "Executable:   /home/zadoki/miniconda3/envs/bpti/bin/gmx_mpi\n",
      "Data prefix:  /home/zadoki/miniconda3/envs/bpti\n",
      "Working dir:  /rg/mendels_prj/zadoki/chignolin_test/data/interim/state_folded/MD_POSRES\n",
      "Command line:\n",
      "  gmx_mpi grompp -f md.mdp -p /rg/mendels_prj/zadoki/chignolin_test/data/interim/state_folded/top/system.top -c /rg/mendels_prj/zadoki/chignolin_test/data/interim/state_folded/em/em.pdb -n /rg/mendels_prj/zadoki/chignolin_test/data/interim/state_folded/MD_POSRES/md.ndx -o md.tpr -pp processed.top -r /rg/mendels_prj/zadoki/chignolin_test/data/interim/state_folded/em/em.pdb -maxwarn 10\n",
      "\n",
      "Ignoring obsolete mdp entry 'andersen_seed'\n",
      "Ignoring obsolete mdp entry 'optimize_fft'\n",
      "Ignoring obsolete mdp entry 'ns_type'\n",
      "Replacing old mdp entry 'nstxtcout' by 'nstxout-compressed'\n",
      "Replacing old mdp entry 'xtc-precision' by 'compressed-x-precision'\n",
      "\n",
      "NOTE 1 [file md.mdp]:\n",
      "  With Verlet lists the optimal nstlist is >= 10, with GPUs >= 20. Note\n",
      "  that with the Verlet scheme, nstlist has no effect on the accuracy of\n",
      "  your simulation.\n",
      "\n",
      "Setting the LD random seed to -19672082\n",
      "Generated 20503 of the 20503 non-bonded parameter combinations\n",
      "Generating 1-4 interactions: fudge = 1\n",
      "Generated 17396 of the 20503 1-4 parameter combinations\n",
      "Excluding 3 bonded neighbours molecule type 'Protein_chain_A'\n",
      "Excluding 2 bonded neighbours molecule type 'SOL'\n",
      "Excluding 1 bonded neighbours molecule type 'NA'\n",
      "Velocities were taken from a Maxwell distribution at 300 K\n",
      "The center of mass of the position restraint coord's is  1.884  1.907  1.885\n",
      "The center of mass of the position restraint coord's is  1.884  1.907  1.885\n",
      "Number of degrees of freedom in T-Coupling group System is 10280.00\n",
      "\n",
      "NOTE 2 [file md.mdp]:\n",
      "  Removing center of mass motion in the presence of position restraints\n",
      "  might cause artifacts. When you are using position restraints to\n",
      "  equilibrate a macro-molecule, the artifacts are usually negligible.\n",
      "\n",
      "Estimate for the relative computational load of the PME mesh part: 0.19\n",
      "\n",
      "There were 2 notes\n",
      "\n",
      "GROMACS reminds you: \"If it weren't for C, we'd all be programming in BASI and OBOL.\" (Anonymous)\n",
      "\n"
     ]
    },
    {
     "name": "stdout",
     "output_type": "stream",
     "text": [
      "turning H bonds into constraints...\n",
      "turning H bonds into constraints...\n",
      "turning H bonds into constraints...\n",
      "Determining Verlet buffer for a tolerance of 0.005 kJ/mol/ps at 300 K\n",
      "Calculated rlist for 1x1 atom pair-list as 1.008 nm, buffer size 0.008 nm\n",
      "Set rlist, assuming 4x4 atom pair-list, to 1.000 nm, buffer size 0.000 nm\n",
      "Note that mdrun will redetermine rlist based on the actual pair-list setup\n",
      "Calculating fourier grid dimensions for X Y Z\n",
      "Using a fourier grid of 32x32x32, spacing 0.118 0.118 0.118\n",
      "This run will generate roughly 60 Mb of data\n"
     ]
    },
    {
     "name": "stderr",
     "output_type": "stream",
     "text": [
      "[dgx-master:2421849] PMIX ERROR: NO-PERMISSIONS in file dstore_base.c at line 237\n",
      "[dgx-master:2421849] PMIX ERROR: NO-PERMISSIONS in file dstore_base.c at line 237\n",
      "[dgx-master:2421849] PMIX ERROR: NO-PERMISSIONS in file dstore_base.c at line 246\n"
     ]
    },
    {
     "data": {
      "text/plain": [
       "{'struct': '/rg/mendels_prj/zadoki/chignolin_test/data/interim/state_folded/MD_POSRES/md.gro',\n",
       " 'top': '/rg/mendels_prj/zadoki/chignolin_test/data/interim/state_folded/top/system.top',\n",
       " 'ndx': '/rg/mendels_prj/zadoki/chignolin_test/data/interim/state_folded/MD_POSRES/md.ndx',\n",
       " 'qscript': ['./local.sh'],\n",
       " 'mainselection': '\"Protein\"',\n",
       " 'deffnm': 'md',\n",
       " 'r': '/rg/mendels_prj/zadoki/chignolin_test/data/interim/state_folded/em/em.pdb',\n",
       " 'maxwarn': 10,\n",
       " 'nstxout': 100,\n",
       " 'nstvout': 0,\n",
       " 'nstenergy': 100,\n",
       " 'nstxtcout': 0,\n",
       " 'nsteps': 100000,\n",
       " 'nstfout': '0',\n",
       " 'nstlog': '500'}"
      ]
     },
     "execution_count": 14,
     "metadata": {},
     "output_type": "execute_result"
    }
   ],
   "source": [
    "# restrained md npt 20ns\n",
    "MD_restrained(r=str(fdir / 'em/em.pdb') , maxwarn=10, nstxout=NSTXOUT, nstvout=0, nstenergy=NSTENERGY, nstxtcout = 0, nsteps= NSTEPS, **f3)"
   ]
  },
  {
   "cell_type": "code",
   "execution_count": 15,
   "metadata": {
    "execution": {
     "iopub.execute_input": "2024-02-07T09:25:23.266928Z",
     "iopub.status.busy": "2024-02-07T09:25:23.266523Z",
     "iopub.status.idle": "2024-02-07T09:25:23.271116Z",
     "shell.execute_reply": "2024-02-07T09:25:23.270316Z",
     "shell.execute_reply.started": "2024-02-07T09:25:23.266896Z"
    }
   },
   "outputs": [],
   "source": [
    "os.chdir(fdir / 'MD_POSRES')"
   ]
  },
  {
   "cell_type": "code",
   "execution_count": 16,
   "metadata": {
    "execution": {
     "iopub.execute_input": "2024-02-07T09:25:23.272542Z",
     "iopub.status.busy": "2024-02-07T09:25:23.272088Z",
     "iopub.status.idle": "2024-02-07T09:32:13.956314Z",
     "shell.execute_reply": "2024-02-07T09:32:13.954498Z",
     "shell.execute_reply.started": "2024-02-07T09:25:23.272511Z"
    }
   },
   "outputs": [
    {
     "name": "stderr",
     "output_type": "stream",
     "text": [
      "                :-) GROMACS - gmx mdrun, 2020.6-plumed-2.8.0 (-:\n",
      "\n",
      "                            GROMACS is written by:\n",
      "     Emile Apol      Rossen Apostolov      Paul Bauer     Herman J.C. Berendsen\n",
      "    Par Bjelkmar      Christian Blau   Viacheslav Bolnykh     Kevin Boyd    \n",
      " Aldert van Buuren   Rudi van Drunen     Anton Feenstra       Alan Gray     \n",
      "  Gerrit Groenhof     Anca Hamuraru    Vincent Hindriksen  M. Eric Irrgang  \n",
      "  Aleksei Iupinov   Christoph Junghans     Joe Jordan     Dimitrios Karkoulis\n",
      "    Peter Kasson        Jiri Kraus      Carsten Kutzner      Per Larsson    \n",
      "  Justin A. Lemkul    Viveca Lindahl    Magnus Lundborg     Erik Marklund   \n",
      "    Pascal Merz     Pieter Meulenhoff    Teemu Murtola       Szilard Pall   \n",
      "    Sander Pronk      Roland Schulz      Michael Shirts    Alexey Shvetsov  \n",
      "   Alfons Sijbers     Peter Tieleman      Jon Vincent      Teemu Virolainen \n",
      " Christian Wennberg    Maarten Wolf      Artem Zhmurov   \n",
      "                           and the project leaders:\n",
      "        Mark Abraham, Berk Hess, Erik Lindahl, and David van der Spoel\n",
      "\n",
      "Copyright (c) 1991-2000, University of Groningen, The Netherlands.\n",
      "Copyright (c) 2001-2019, The GROMACS development team at\n",
      "Uppsala University, Stockholm University and\n",
      "the Royal Institute of Technology, Sweden.\n",
      "check out http://www.gromacs.org for more information.\n",
      "\n",
      "GROMACS is free software; you can redistribute it and/or modify it\n",
      "under the terms of the GNU Lesser General Public License\n",
      "as published by the Free Software Foundation; either version 2.1\n",
      "of the License, or (at your option) any later version.\n",
      "\n",
      "GROMACS:      gmx mdrun, version 2020.6-plumed-2.8.0\n",
      "Executable:   /home/zadoki/miniconda3/envs/bpti/bin/gmx_mpi\n",
      "Data prefix:  /home/zadoki/miniconda3/envs/bpti\n",
      "Working dir:  /rg/mendels_prj/zadoki/chignolin_test/data/interim/state_folded/MD_POSRES\n",
      "Command line:\n",
      "  gmx_mpi mdrun -v -deffnm md -ntomp 8\n",
      "\n",
      "Compiled SIMD: SSE2, but for this host/run AVX_512 might be better (see log).\n",
      "The current CPU can measure timings more accurately than the code in\n",
      "gmx mdrun was configured to use. This might affect your simulation\n",
      "speed as accurate timings are needed for load-balancing.\n",
      "Please consider rebuilding gmx mdrun with the GMX_USE_RDTSCP=ON CMake option.\n",
      "Reading file md.tpr, VERSION 2020.6-plumed-2.8.0 (single precision)\n",
      "Changing nstlist from 5 to 50, rlist from 1 to 1.106\n",
      "\n",
      "\n",
      "Using 1 MPI process\n",
      "Using 8 OpenMP threads \n",
      "\n",
      "\n",
      "NOTE: The number of threads is not equal to the number of (logical) cores\n",
      "      and the -pin option is set to auto: will not pin threads to cores.\n",
      "      This can lead to significant performance degradation.\n",
      "      Consider using -pin on (and -pinoffset in case you run multiple jobs).\n",
      "starting mdrun 'Protein in water'\n",
      "100000 steps,    200.0 ps.\n",
      "step 99900, remaining wall clock time:     0 s          \n",
      "Writing final coordinates.\n",
      "step 100000, remaining wall clock time:     0 s          \n",
      "               Core t (s)   Wall t (s)        (%)\n",
      "       Time:     3281.444      410.184      800.0\n",
      "                 (ns/day)    (hour/ns)\n",
      "Performance:       42.128        0.570\n",
      "\n",
      "GROMACS reminds you: \"I Feel a Great Disturbance in the Force\" (The Emperor Strikes Back)\n",
      "\n"
     ]
    },
    {
     "data": {
      "text/plain": [
       "CompletedProcess(args='gmx_mpi mdrun  -v -deffnm md  -ntomp 8 ', returncode=0)"
      ]
     },
     "execution_count": 16,
     "metadata": {},
     "output_type": "execute_result"
    },
    {
     "name": "stderr",
     "output_type": "stream",
     "text": [
      "[dgx-master:2421988] PMIX ERROR: NO-PERMISSIONS in file dstore_base.c at line 237\n",
      "[dgx-master:2421988] PMIX ERROR: NO-PERMISSIONS in file dstore_base.c at line 237\n",
      "[dgx-master:2421988] PMIX ERROR: NO-PERMISSIONS in file dstore_base.c at line 246\n"
     ]
    }
   ],
   "source": [
    "subprocess.run('gmx_mpi mdrun  -v -deffnm md  -ntomp 8 ', shell=True )"
   ]
  },
  {
   "cell_type": "code",
   "execution_count": 17,
   "metadata": {
    "execution": {
     "iopub.execute_input": "2024-02-07T09:32:13.957742Z",
     "iopub.status.busy": "2024-02-07T09:32:13.957361Z",
     "iopub.status.idle": "2024-02-07T09:32:13.963085Z",
     "shell.execute_reply": "2024-02-07T09:32:13.962187Z",
     "shell.execute_reply.started": "2024-02-07T09:32:13.957703Z"
    }
   },
   "outputs": [],
   "source": [
    "os.chdir(fdir)"
   ]
  },
  {
   "cell_type": "code",
   "execution_count": 18,
   "metadata": {
    "execution": {
     "iopub.execute_input": "2024-02-07T09:32:13.965291Z",
     "iopub.status.busy": "2024-02-07T09:32:13.964474Z",
     "iopub.status.idle": "2024-02-07T09:32:14.930412Z",
     "shell.execute_reply": "2024-02-07T09:32:14.929551Z",
     "shell.execute_reply.started": "2024-02-07T09:32:13.965261Z"
    },
    "scrolled": true
   },
   "outputs": [
    {
     "name": "stderr",
     "output_type": "stream",
     "text": [
      "              :-) GROMACS - gmx make_ndx, 2020.6-plumed-2.8.0 (-:\n",
      "\n",
      "                            GROMACS is written by:\n",
      "     Emile Apol      Rossen Apostolov      Paul Bauer     Herman J.C. Berendsen\n",
      "    Par Bjelkmar      Christian Blau   Viacheslav Bolnykh     Kevin Boyd    \n",
      " Aldert van Buuren   Rudi van Drunen     Anton Feenstra       Alan Gray     \n",
      "  Gerrit Groenhof     Anca Hamuraru    Vincent Hindriksen  M. Eric Irrgang  \n",
      "  Aleksei Iupinov   Christoph Junghans     Joe Jordan     Dimitrios Karkoulis\n",
      "    Peter Kasson        Jiri Kraus      Carsten Kutzner      Per Larsson    \n",
      "  Justin A. Lemkul    Viveca Lindahl    Magnus Lundborg     Erik Marklund   \n",
      "    Pascal Merz     Pieter Meulenhoff    Teemu Murtola       Szilard Pall   \n",
      "    Sander Pronk      Roland Schulz      Michael Shirts    Alexey Shvetsov  \n",
      "   Alfons Sijbers     Peter Tieleman      Jon Vincent      Teemu Virolainen \n",
      " Christian Wennberg    Maarten Wolf      Artem Zhmurov   \n",
      "                           and the project leaders:\n",
      "        Mark Abraham, Berk Hess, Erik Lindahl, and David van der Spoel\n",
      "\n",
      "Copyright (c) 1991-2000, University of Groningen, The Netherlands.\n",
      "Copyright (c) 2001-2019, The GROMACS development team at\n",
      "Uppsala University, Stockholm University and\n",
      "the Royal Institute of Technology, Sweden.\n",
      "check out http://www.gromacs.org for more information.\n",
      "\n",
      "GROMACS is free software; you can redistribute it and/or modify it\n",
      "under the terms of the GNU Lesser General Public License\n",
      "as published by the Free Software Foundation; either version 2.1\n",
      "of the License, or (at your option) any later version.\n",
      "\n",
      "GROMACS:      gmx make_ndx, version 2020.6-plumed-2.8.0\n",
      "Executable:   /home/zadoki/miniconda3/envs/bpti/bin/gmx_mpi\n",
      "Data prefix:  /home/zadoki/miniconda3/envs/bpti\n",
      "Working dir:  /rg/mendels_prj/zadoki/chignolin_test/data/interim/state_folded/MD\n",
      "Command line:\n",
      "  gmx_mpi make_ndx -f /rg/mendels_prj/zadoki/chignolin_test/data/interim/state_folded/em/em.pdb -o md.ndx\n",
      "\n",
      "\n",
      "Reading structure file\n",
      "\n",
      "GROMACS reminds you: \"There is no such thing as free energy. Anyone who advocates it does not know what he is talking about.\" (Alireza Haghighat)\n",
      "\n",
      "[dgx-master:2460012] PMIX ERROR: NO-PERMISSIONS in file dstore_base.c at line 237\n",
      "[dgx-master:2460012] PMIX ERROR: NO-PERMISSIONS in file dstore_base.c at line 246\n",
      "              :-) GROMACS - gmx make_ndx, 2020.6-plumed-2.8.0 (-:\n",
      "\n",
      "                            GROMACS is written by:\n",
      "     Emile Apol      Rossen Apostolov      Paul Bauer     Herman J.C. Berendsen\n",
      "    Par Bjelkmar      Christian Blau   Viacheslav Bolnykh     Kevin Boyd    \n",
      " Aldert van Buuren   Rudi van Drunen     Anton Feenstra       Alan Gray     \n",
      "  Gerrit Groenhof     Anca Hamuraru    Vincent Hindriksen  M. Eric Irrgang  \n",
      "  Aleksei Iupinov   Christoph Junghans     Joe Jordan     Dimitrios Karkoulis\n",
      "    Peter Kasson        Jiri Kraus      Carsten Kutzner      Per Larsson    \n",
      "  Justin A. Lemkul    Viveca Lindahl    Magnus Lundborg     Erik Marklund   \n",
      "    Pascal Merz     Pieter Meulenhoff    Teemu Murtola       Szilard Pall   \n",
      "    Sander Pronk      Roland Schulz      Michael Shirts    Alexey Shvetsov  \n",
      "   Alfons Sijbers     Peter Tieleman      Jon Vincent      Teemu Virolainen \n",
      " Christian Wennberg    Maarten Wolf      Artem Zhmurov   \n",
      "                           and the project leaders:\n",
      "        Mark Abraham, Berk Hess, Erik Lindahl, and David van der Spoel\n",
      "\n",
      "Copyright (c) 1991-2000, University of Groningen, The Netherlands.\n",
      "Copyright (c) 2001-2019, The GROMACS development team at\n",
      "Uppsala University, Stockholm University and\n",
      "the Royal Institute of Technology, Sweden.\n",
      "check out http://www.gromacs.org for more information.\n",
      "\n",
      "GROMACS is free software; you can redistribute it and/or modify it\n",
      "under the terms of the GNU Lesser General Public License\n",
      "as published by the Free Software Foundation; either version 2.1\n",
      "of the License, or (at your option) any later version.\n",
      "\n",
      "GROMACS:      gmx make_ndx, version 2020.6-plumed-2.8.0\n",
      "Executable:   /home/zadoki/miniconda3/envs/bpti/bin/gmx_mpi\n",
      "Data prefix:  /home/zadoki/miniconda3/envs/bpti\n",
      "Working dir:  /rg/mendels_prj/zadoki/chignolin_test/data/interim/state_folded/MD\n",
      "Command line:\n",
      "  gmx_mpi make_ndx -f /rg/mendels_prj/zadoki/chignolin_test/data/interim/state_folded/em/em.pdb -n md.ndx -o md.ndx\n",
      "\n",
      "\n",
      "Reading structure file\n",
      "\n",
      "Back Off! I just backed up md.ndx to ./#md.ndx.1#\n",
      "\n",
      "GROMACS reminds you: \"There is no such thing as free energy. Anyone who advocates it does not know what he is talking about.\" (Alireza Haghighat)\n",
      "\n",
      "[dgx-master:2460035] PMIX ERROR: NO-PERMISSIONS in file dstore_base.c at line 237\n",
      "[dgx-master:2460035] PMIX ERROR: NO-PERMISSIONS in file dstore_base.c at line 246\n",
      "/home/zadoki/miniconda3/envs/gromacs_plumed/lib/python3.9/site-packages/gromacs/setup.py:1116: AutoCorrectionWarning: Size of __main__ is only 3.4% of __environment__ so we use 'System' for T-coupling and ref_t = 300 K and tau_t = 0.1 1/ps (can be changed in mdp_parameters).\n",
      "\n",
      "  warnings.warn(wmsg, category=AutoCorrectionWarning)\n",
      "/home/zadoki/miniconda3/envs/gromacs_plumed/lib/python3.9/site-packages/gromacs/setup.py:781: UsageWarning: Unprocessed mdp option are interpreted as options for grompp:\n",
      "{'pp': 'processed.top', 'r': '/rg/mendels_prj/zadoki/chignolin_test/data/interim/state_folded/MD_POSRES/md.tpr', 'maxwarn': 10}\n",
      "  warnings.warn(wmsg, category=UsageWarning)\n",
      "               :-) GROMACS - gmx grompp, 2020.6-plumed-2.8.0 (-:\n",
      "\n",
      "                            GROMACS is written by:\n",
      "     Emile Apol      Rossen Apostolov      Paul Bauer     Herman J.C. Berendsen\n",
      "    Par Bjelkmar      Christian Blau   Viacheslav Bolnykh     Kevin Boyd    \n",
      " Aldert van Buuren   Rudi van Drunen     Anton Feenstra       Alan Gray     \n",
      "  Gerrit Groenhof     Anca Hamuraru    Vincent Hindriksen  M. Eric Irrgang  \n",
      "  Aleksei Iupinov   Christoph Junghans     Joe Jordan     Dimitrios Karkoulis\n",
      "    Peter Kasson        Jiri Kraus      Carsten Kutzner      Per Larsson    \n",
      "  Justin A. Lemkul    Viveca Lindahl    Magnus Lundborg     Erik Marklund   \n",
      "    Pascal Merz     Pieter Meulenhoff    Teemu Murtola       Szilard Pall   \n",
      "    Sander Pronk      Roland Schulz      Michael Shirts    Alexey Shvetsov  \n",
      "   Alfons Sijbers     Peter Tieleman      Jon Vincent      Teemu Virolainen \n",
      " Christian Wennberg    Maarten Wolf      Artem Zhmurov   \n",
      "                           and the project leaders:\n",
      "        Mark Abraham, Berk Hess, Erik Lindahl, and David van der Spoel\n",
      "\n",
      "Copyright (c) 1991-2000, University of Groningen, The Netherlands.\n",
      "Copyright (c) 2001-2019, The GROMACS development team at\n",
      "Uppsala University, Stockholm University and\n",
      "the Royal Institute of Technology, Sweden.\n",
      "check out http://www.gromacs.org for more information.\n",
      "\n",
      "GROMACS is free software; you can redistribute it and/or modify it\n",
      "under the terms of the GNU Lesser General Public License\n",
      "as published by the Free Software Foundation; either version 2.1\n",
      "of the License, or (at your option) any later version.\n",
      "\n",
      "GROMACS:      gmx grompp, version 2020.6-plumed-2.8.0\n",
      "Executable:   /home/zadoki/miniconda3/envs/bpti/bin/gmx_mpi\n",
      "Data prefix:  /home/zadoki/miniconda3/envs/bpti\n",
      "Working dir:  /rg/mendels_prj/zadoki/chignolin_test/data/interim/state_folded/MD\n",
      "Command line:\n",
      "  gmx_mpi grompp -f md.mdp -p /rg/mendels_prj/zadoki/chignolin_test/data/interim/state_folded/top/system.top -c /rg/mendels_prj/zadoki/chignolin_test/data/interim/state_folded/em/em.pdb -n /rg/mendels_prj/zadoki/chignolin_test/data/interim/state_folded/MD/md.ndx -o md.tpr -pp processed.top -r /rg/mendels_prj/zadoki/chignolin_test/data/interim/state_folded/MD_POSRES/md.tpr -maxwarn 10\n",
      "\n",
      "Ignoring obsolete mdp entry 'andersen_seed'\n",
      "Ignoring obsolete mdp entry 'optimize_fft'\n",
      "Ignoring obsolete mdp entry 'ns_type'\n",
      "Replacing old mdp entry 'nstxtcout' by 'nstxout-compressed'\n",
      "Replacing old mdp entry 'xtc-precision' by 'compressed-x-precision'\n",
      "\n",
      "NOTE 1 [file md.mdp]:\n",
      "  With Verlet lists the optimal nstlist is >= 10, with GPUs >= 20. Note\n",
      "  that with the Verlet scheme, nstlist has no effect on the accuracy of\n",
      "  your simulation.\n",
      "\n",
      "\n",
      "WARNING 1 [file md.mdp]:\n",
      "  You are generating velocities so I am assuming you are equilibrating a\n",
      "  system. You are using Parrinello-Rahman pressure coupling, but this can\n",
      "  be unstable for equilibration. If your system crashes, try equilibrating\n",
      "  first with Berendsen pressure coupling. If you are not equilibrating the\n",
      "  system, you can probably ignore this warning.\n",
      "\n",
      "Setting the LD random seed to -5411473\n",
      "Generated 20503 of the 20503 non-bonded parameter combinations\n",
      "Generating 1-4 interactions: fudge = 1\n",
      "Generated 17396 of the 20503 1-4 parameter combinations\n",
      "Excluding 3 bonded neighbours molecule type 'Protein_chain_A'\n",
      "Excluding 2 bonded neighbours molecule type 'SOL'\n",
      "Excluding 1 bonded neighbours molecule type 'NA'\n",
      "Velocities were taken from a Maxwell distribution at 300 K\n",
      "Number of degrees of freedom in T-Coupling group System is 10280.00\n",
      "Estimate for the relative computational load of the PME mesh part: 0.19\n",
      "\n",
      "There was 1 note\n",
      "\n",
      "There was 1 warning\n",
      "\n",
      "GROMACS reminds you: \"There is no such thing as free energy. Anyone who advocates it does not know what he is talking about.\" (Alireza Haghighat)\n",
      "\n"
     ]
    },
    {
     "name": "stdout",
     "output_type": "stream",
     "text": [
      "turning H bonds into constraints...\n",
      "turning H bonds into constraints...\n",
      "turning H bonds into constraints...\n",
      "Determining Verlet buffer for a tolerance of 0.005 kJ/mol/ps at 300 K\n",
      "Calculated rlist for 1x1 atom pair-list as 1.008 nm, buffer size 0.008 nm\n",
      "Set rlist, assuming 4x4 atom pair-list, to 1.000 nm, buffer size 0.000 nm\n",
      "Note that mdrun will redetermine rlist based on the actual pair-list setup\n",
      "Calculating fourier grid dimensions for X Y Z\n",
      "Using a fourier grid of 32x32x32, spacing 0.118 0.118 0.118\n",
      "This run will generate roughly 60 Mb of data\n"
     ]
    },
    {
     "data": {
      "text/plain": [
       "{'struct': '/rg/mendels_prj/zadoki/chignolin_test/data/interim/state_folded/MD/md.gro',\n",
       " 'top': '/rg/mendels_prj/zadoki/chignolin_test/data/interim/state_folded/top/system.top',\n",
       " 'ndx': '/rg/mendels_prj/zadoki/chignolin_test/data/interim/state_folded/MD/md.ndx',\n",
       " 'qscript': ['./local.sh'],\n",
       " 'mainselection': '\"Protein\"',\n",
       " 'deffnm': 'md',\n",
       " 'r': '/rg/mendels_prj/zadoki/chignolin_test/data/interim/state_folded/MD_POSRES/md.tpr',\n",
       " 'maxwarn': 10,\n",
       " 'nstxout': 100,\n",
       " 'nstvout': 0,\n",
       " 'nstenergy': 100,\n",
       " 'nstxtcout': 0,\n",
       " 'nsteps': 100000}"
      ]
     },
     "execution_count": 18,
     "metadata": {},
     "output_type": "execute_result"
    },
    {
     "name": "stderr",
     "output_type": "stream",
     "text": [
      "[dgx-master:2460064] PMIX ERROR: NO-PERMISSIONS in file dstore_base.c at line 237\n",
      "[dgx-master:2460064] PMIX ERROR: NO-PERMISSIONS in file dstore_base.c at line 246\n"
     ]
    }
   ],
   "source": [
    "MD(r=str(fdir / 'MD_POSRES/md.tpr') , maxwarn=10, nstxout=NSTXOUT, nstvout=0, nstenergy=NSTENERGY, nstxtcout = 0, nsteps= NSTEPS, **f3)"
   ]
  },
  {
   "cell_type": "markdown",
   "metadata": {},
   "source": [
    "##  make reference pdb for plumed - align on protein backbone"
   ]
  },
  {
   "cell_type": "code",
   "execution_count": 20,
   "metadata": {
    "execution": {
     "iopub.execute_input": "2024-02-07T09:43:04.725964Z",
     "iopub.status.busy": "2024-02-07T09:43:04.725050Z",
     "iopub.status.idle": "2024-02-07T09:43:05.179496Z",
     "shell.execute_reply": "2024-02-07T09:43:05.178418Z",
     "shell.execute_reply.started": "2024-02-07T09:43:04.725929Z"
    }
   },
   "outputs": [
    {
     "name": "stderr",
     "output_type": "stream",
     "text": [
      "/home/zadoki/miniconda3/envs/gromacs_plumed/lib/python3.9/site-packages/MDAnalysis/coordinates/PDB.py:1153: UserWarning: Found no information for attr: 'altLocs' Using default value of ' '\n",
      "  warnings.warn(\"Found no information for attr: '{}'\"\n",
      "/home/zadoki/miniconda3/envs/gromacs_plumed/lib/python3.9/site-packages/MDAnalysis/coordinates/PDB.py:1153: UserWarning: Found no information for attr: 'icodes' Using default value of ' '\n",
      "  warnings.warn(\"Found no information for attr: '{}'\"\n",
      "/home/zadoki/miniconda3/envs/gromacs_plumed/lib/python3.9/site-packages/MDAnalysis/coordinates/PDB.py:1153: UserWarning: Found no information for attr: 'record_types' Using default value of 'ATOM'\n",
      "  warnings.warn(\"Found no information for attr: '{}'\"\n",
      "/home/zadoki/miniconda3/envs/gromacs_plumed/lib/python3.9/site-packages/MDAnalysis/coordinates/PDB.py:1153: UserWarning: Found no information for attr: 'formalcharges' Using default value of '0'\n",
      "  warnings.warn(\"Found no information for attr: '{}'\"\n"
     ]
    }
   ],
   "source": [
    "\n",
    "# load traj\n",
    "u = mda.Universe(fdir / 'MD_POSRES/md.tpr', fdir / 'MD_POSRES/md.trr' )\n",
    "\n",
    "u.add_TopologyAttr('tempfactors')\n",
    "u.add_TopologyAttr('occupancy')\n",
    "\n",
    "# Select protein\n",
    "p = u.select_atoms('protein')\n",
    "\n",
    "u.trajectory[-1]\n",
    "\n",
    "# set attributes for RMSD and reference\n",
    "bb = p.select_atoms('backbone')\n",
    "\n",
    "\n",
    "bb.atoms.tempfactors = 1 \n",
    "bb.atoms.occupancies  =  1 \n",
    "\n",
    "# change some oxygen names\n",
    "\n",
    "p.select_atoms('name OT1').atoms.names = 'O'\n",
    "p.select_atoms('name OT2').atoms.names = 'OXT'\n",
    "#[atomselect top \"name OT1\"] set name O\n",
    "#[atomselect top \"name OT2\"] set name OXT\n",
    "\n",
    "\n",
    "\n",
    "# fix zero based resids\n",
    "p.residues.resids = p.residues.resids -1 \n",
    "\n",
    "# save pdb\n",
    "\n",
    "p.write(fdir / 'reference.pdb', bonds = None )"
   ]
  },
  {
   "cell_type": "code",
   "execution_count": 21,
   "metadata": {
    "execution": {
     "iopub.execute_input": "2024-02-07T09:43:15.461360Z",
     "iopub.status.busy": "2024-02-07T09:43:15.460436Z",
     "iopub.status.idle": "2024-02-07T09:43:15.470706Z",
     "shell.execute_reply": "2024-02-07T09:43:15.470001Z",
     "shell.execute_reply.started": "2024-02-07T09:43:15.461311Z"
    }
   },
   "outputs": [
    {
     "data": {
      "text/plain": [
       "'reference.pdb'"
      ]
     },
     "execution_count": 21,
     "metadata": {},
     "output_type": "execute_result"
    }
   ],
   "source": [
    "os.chdir(fdir / 'MD')\n",
    "shutil.copy2(fdir/ 'reference.pdb', 'reference.pdb')"
   ]
  },
  {
   "cell_type": "code",
   "execution_count": 22,
   "metadata": {
    "execution": {
     "iopub.execute_input": "2024-02-07T09:43:18.370826Z",
     "iopub.status.busy": "2024-02-07T09:43:18.370058Z",
     "iopub.status.idle": "2024-02-07T09:43:18.377591Z",
     "shell.execute_reply": "2024-02-07T09:43:18.376733Z",
     "shell.execute_reply.started": "2024-02-07T09:43:18.370792Z"
    }
   },
   "outputs": [],
   "source": [
    "# write plumed cv collection file\n",
    "with open('plumed.dat', 'w') as f:\n",
    "    print(\"\"\"\n",
    "    # vim:ft=plumed\n",
    "    # calculate  CVs for HLDA \n",
    "    MOLINFO STRUCTURE=reference.pdb MOLTYPE=protein\n",
    "    WHOLEMOLECULES RESIDUES=all MOLTYPE=protein\n",
    "    rmsd: RMSD REFERENCE=reference.pdb TYPE=OPTIMAL NOPBC\n",
    "    e2e: DISTANCE ATOMS=@N-0,@O-9 NOPBC\n",
    "    rg: GYRATION TYPE=RADIUS ATOMS=@back-0,@back-1,@back-2,@back-3,@back-4,@back-5,@back-6,@back-7,@back-8,@back-9 NOPBC\n",
    "\n",
    "    # dihedrals\n",
    "    psi0: TORSION ATOMS=@psi-0 NOPBC\n",
    "    phi1: TORSION ATOMS=@phi-1 NOPBC\n",
    "    psi1: TORSION ATOMS=@psi-1 NOPBC\n",
    "    phi2: TORSION ATOMS=@phi-2 NOPBC\n",
    "    psi2: TORSION ATOMS=@psi-2 NOPBC\n",
    "    phi3: TORSION ATOMS=@phi-3 NOPBC\n",
    "    psi3: TORSION ATOMS=@psi-3 NOPBC\n",
    "    phi4: TORSION ATOMS=@phi-4 NOPBC\n",
    "    psi4: TORSION ATOMS=@psi-4 NOPBC\n",
    "    phi5: TORSION ATOMS=@phi-5 NOPBC\n",
    "    psi5: TORSION ATOMS=@psi-5 NOPBC\n",
    "    phi6: TORSION ATOMS=@phi-6 NOPBC\n",
    "    psi6: TORSION ATOMS=@psi-6 NOPBC\n",
    "    phi7: TORSION ATOMS=@phi-7 NOPBC\n",
    "    psi7: TORSION ATOMS=@psi-7 NOPBC\n",
    "    phi8: TORSION ATOMS=@phi-8 NOPBC\n",
    "    psi8: TORSION ATOMS=@psi-8 NOPBC\n",
    "    phi9: TORSION ATOMS=@phi-9 NOPBC\n",
    "\n",
    "    \n",
    "    PRINT ...\n",
    "    ARG=rmsd,e2e,rg,psi0,phi1,psi1,phi2,psi2,phi3,psi3,phi4,psi4,phi5,psi5,phi6,psi6,phi7,psi7,phi8,psi8,phi9\n",
    "    FILE=COLVAR STRIDE=100\n",
    "    ... PRINT\n",
    "    \"\"\", file = f) "
   ]
  },
  {
   "cell_type": "code",
   "execution_count": 23,
   "metadata": {
    "execution": {
     "iopub.execute_input": "2024-02-07T09:43:24.788640Z",
     "iopub.status.busy": "2024-02-07T09:43:24.787746Z",
     "iopub.status.idle": "2024-02-07T09:50:27.629373Z",
     "shell.execute_reply": "2024-02-07T09:50:27.627699Z",
     "shell.execute_reply.started": "2024-02-07T09:43:24.788600Z"
    },
    "scrolled": true
   },
   "outputs": [
    {
     "name": "stderr",
     "output_type": "stream",
     "text": [
      "                :-) GROMACS - gmx mdrun, 2020.6-plumed-2.8.0 (-:\n",
      "\n",
      "                            GROMACS is written by:\n",
      "     Emile Apol      Rossen Apostolov      Paul Bauer     Herman J.C. Berendsen\n",
      "    Par Bjelkmar      Christian Blau   Viacheslav Bolnykh     Kevin Boyd    \n",
      " Aldert van Buuren   Rudi van Drunen     Anton Feenstra       Alan Gray     \n",
      "  Gerrit Groenhof     Anca Hamuraru    Vincent Hindriksen  M. Eric Irrgang  \n",
      "  Aleksei Iupinov   Christoph Junghans     Joe Jordan     Dimitrios Karkoulis\n",
      "    Peter Kasson        Jiri Kraus      Carsten Kutzner      Per Larsson    \n",
      "  Justin A. Lemkul    Viveca Lindahl    Magnus Lundborg     Erik Marklund   \n",
      "    Pascal Merz     Pieter Meulenhoff    Teemu Murtola       Szilard Pall   \n",
      "    Sander Pronk      Roland Schulz      Michael Shirts    Alexey Shvetsov  \n",
      "   Alfons Sijbers     Peter Tieleman      Jon Vincent      Teemu Virolainen \n",
      " Christian Wennberg    Maarten Wolf      Artem Zhmurov   \n",
      "                           and the project leaders:\n",
      "        Mark Abraham, Berk Hess, Erik Lindahl, and David van der Spoel\n",
      "\n",
      "Copyright (c) 1991-2000, University of Groningen, The Netherlands.\n",
      "Copyright (c) 2001-2019, The GROMACS development team at\n",
      "Uppsala University, Stockholm University and\n",
      "the Royal Institute of Technology, Sweden.\n",
      "check out http://www.gromacs.org for more information.\n",
      "\n",
      "GROMACS is free software; you can redistribute it and/or modify it\n",
      "under the terms of the GNU Lesser General Public License\n",
      "as published by the Free Software Foundation; either version 2.1\n",
      "of the License, or (at your option) any later version.\n",
      "\n",
      "GROMACS:      gmx mdrun, version 2020.6-plumed-2.8.0\n",
      "Executable:   /home/zadoki/miniconda3/envs/bpti/bin/gmx_mpi\n",
      "Data prefix:  /home/zadoki/miniconda3/envs/bpti\n",
      "Working dir:  /rg/mendels_prj/zadoki/chignolin_test/data/interim/state_folded/MD\n",
      "Command line:\n",
      "  gmx_mpi mdrun -v -deffnm md -cpi -plumed plumed.dat -c md.pdb -ntomp 8 -nsteps 100000\n",
      "\n",
      "+++ Loading the PLUMED kernel runtime +++\n",
      "+++ PLUMED_KERNEL=\"/home/zadoki/miniconda3/envs/bpti/lib/libplumedKernel.so\" +++\n",
      "+++ Loading the PLUMED kernel runtime +++\n",
      "+++ PLUMED_KERNEL=\"/home/zadoki/miniconda3/envs/bpti/lib/libplumedKernel.so\" +++\n",
      "Compiled SIMD: SSE2, but for this host/run AVX_512 might be better (see log).\n",
      "The current CPU can measure timings more accurately than the code in\n",
      "gmx mdrun was configured to use. This might affect your simulation\n",
      "speed as accurate timings are needed for load-balancing.\n",
      "Please consider rebuilding gmx mdrun with the GMX_USE_RDTSCP=ON CMake option.\n",
      "Reading file md.tpr, VERSION 2020.6-plumed-2.8.0 (single precision)\n",
      "\n",
      "Overriding nsteps with value passed on the command line: 100000 steps, 200 ps\n",
      "Changing nstlist from 5 to 50, rlist from 1 to 1.106\n",
      "\n",
      "\n",
      "Using 1 MPI process\n",
      "Using 8 OpenMP threads \n",
      "\n",
      "\n",
      "NOTE: The number of threads is not equal to the number of (logical) cores\n",
      "      and the -pin option is set to auto: will not pin threads to cores.\n",
      "      This can lead to significant performance degradation.\n",
      "      Consider using -pin on (and -pinoffset in case you run multiple jobs).\n",
      "starting mdrun 'Protein in water'\n",
      "100000 steps,    200.0 ps.\n",
      "step 99900, remaining wall clock time:     0 s          \n",
      "Writing final coordinates.\n",
      "step 100000, remaining wall clock time:     0 s          \n",
      "               Core t (s)   Wall t (s)        (%)\n",
      "       Time:     3372.626      421.583      800.0\n",
      "                 (ns/day)    (hour/ns)\n",
      "Performance:       40.989        0.586\n",
      "\n",
      "GROMACS reminds you: \"No great discovery was ever made without a bold guess.\" (Marie Curie)\n",
      "\n"
     ]
    },
    {
     "data": {
      "text/plain": [
       "CompletedProcess(args='gmx_mpi mdrun  -v -deffnm md -cpi -plumed plumed.dat  -c md.pdb -ntomp 8 -nsteps 100000 ', returncode=0)"
      ]
     },
     "execution_count": 23,
     "metadata": {},
     "output_type": "execute_result"
    },
    {
     "name": "stderr",
     "output_type": "stream",
     "text": [
      "[dgx-master:2469828] PMIX ERROR: NO-PERMISSIONS in file dstore_base.c at line 237\n"
     ]
    }
   ],
   "source": [
    "subprocess.run('gmx_mpi mdrun  -v -deffnm md -cpi -plumed plumed.dat  -c md.pdb -ntomp 8 -nsteps 100000 ', shell=True )"
   ]
  },
  {
   "cell_type": "code",
   "execution_count": 24,
   "metadata": {
    "execution": {
     "iopub.execute_input": "2024-02-07T09:50:27.631168Z",
     "iopub.status.busy": "2024-02-07T09:50:27.630893Z",
     "iopub.status.idle": "2024-02-07T09:50:27.880384Z",
     "shell.execute_reply": "2024-02-07T09:50:27.879534Z",
     "shell.execute_reply.started": "2024-02-07T09:50:27.631138Z"
    }
   },
   "outputs": [
    {
     "name": "stderr",
     "output_type": "stream",
     "text": [
      "[dgx-master:2469828] PMIX ERROR: NO-PERMISSIONS in file dstore_base.c at line 237\n",
      "[dgx-master:2469828] PMIX ERROR: NO-PERMISSIONS in file dstore_base.c at line 246\n"
     ]
    }
   ],
   "source": [
    "data = panedr.edr_to_df(str(fdir / 'MD/md.edr'))"
   ]
  },
  {
   "cell_type": "code",
   "execution_count": 25,
   "metadata": {
    "execution": {
     "iopub.execute_input": "2024-02-07T09:50:27.881672Z",
     "iopub.status.busy": "2024-02-07T09:50:27.881388Z",
     "iopub.status.idle": "2024-02-07T09:50:28.539155Z",
     "shell.execute_reply": "2024-02-07T09:50:28.538405Z",
     "shell.execute_reply.started": "2024-02-07T09:50:27.881645Z"
    }
   },
   "outputs": [
    {
     "data": {
      "text/plain": [
       "<Axes: xlabel='Time'>"
      ]
     },
     "execution_count": 25,
     "metadata": {},
     "output_type": "execute_result"
    },
    {
     "data": {
      "image/png": "[encoded data removed]",
      "text/plain": [
       "<Figure size 640x480 with 1 Axes>"
      ]
     },
     "metadata": {},
     "output_type": "display_data"
    }
   ],
   "source": [
    "\n",
    "data.iloc[10:,:].plot(x='Time', y='Temperature')\n",
    "\n",
    "\n"
   ]
  },
  {
   "cell_type": "code",
   "execution_count": 26,
   "metadata": {
    "execution": {
     "iopub.execute_input": "2024-02-07T09:50:28.541599Z",
     "iopub.status.busy": "2024-02-07T09:50:28.540998Z",
     "iopub.status.idle": "2024-02-07T09:50:28.773484Z",
     "shell.execute_reply": "2024-02-07T09:50:28.772759Z",
     "shell.execute_reply.started": "2024-02-07T09:50:28.541568Z"
    }
   },
   "outputs": [
    {
     "data": {
      "text/plain": [
       "<Axes: xlabel='Time'>"
      ]
     },
     "execution_count": 26,
     "metadata": {},
     "output_type": "execute_result"
    },
    {
     "data": {
      "image/png": "[encoded data removed]",
      "text/plain": [
       "<Figure size 640x480 with 1 Axes>"
      ]
     },
     "metadata": {},
     "output_type": "display_data"
    }
   ],
   "source": [
    "data.iloc[10:,:].plot(x='Time', y='Pressure')\n"
   ]
  },
  {
   "cell_type": "code",
   "execution_count": 27,
   "metadata": {
    "execution": {
     "iopub.execute_input": "2024-02-07T09:50:28.775190Z",
     "iopub.status.busy": "2024-02-07T09:50:28.774508Z",
     "iopub.status.idle": "2024-02-07T09:50:29.042223Z",
     "shell.execute_reply": "2024-02-07T09:50:29.041283Z",
     "shell.execute_reply.started": "2024-02-07T09:50:28.775158Z"
    }
   },
   "outputs": [
    {
     "data": {
      "text/plain": [
       "<Axes: xlabel='Time'>"
      ]
     },
     "execution_count": 27,
     "metadata": {},
     "output_type": "execute_result"
    },
    {
     "data": {
      "image/png": "[encoded data removed]",
      "text/plain": [
       "<Figure size 640x480 with 1 Axes>"
      ]
     },
     "metadata": {},
     "output_type": "display_data"
    }
   ],
   "source": [
    "data.iloc[10:,:].plot(x='Time', y='Total Energy')\n"
   ]
  },
  {
   "cell_type": "code",
   "execution_count": 28,
   "metadata": {
    "execution": {
     "iopub.execute_input": "2024-02-07T09:50:29.044019Z",
     "iopub.status.busy": "2024-02-07T09:50:29.043337Z",
     "iopub.status.idle": "2024-02-07T09:50:29.301406Z",
     "shell.execute_reply": "2024-02-07T09:50:29.300619Z",
     "shell.execute_reply.started": "2024-02-07T09:50:29.043987Z"
    }
   },
   "outputs": [
    {
     "data": {
      "text/plain": [
       "<Axes: xlabel='Time'>"
      ]
     },
     "execution_count": 28,
     "metadata": {},
     "output_type": "execute_result"
    },
    {
     "data": {
      "image/png": "[encoded data removed]",
      "text/plain": [
       "<Figure size 640x480 with 1 Axes>"
      ]
     },
     "metadata": {},
     "output_type": "display_data"
    }
   ],
   "source": [
    "data.iloc[10:,:].plot(x='Time', y='Potential')\n"
   ]
  },
  {
   "cell_type": "code",
   "execution_count": 29,
   "metadata": {
    "execution": {
     "iopub.execute_input": "2024-02-07T09:50:29.302796Z",
     "iopub.status.busy": "2024-02-07T09:50:29.302501Z",
     "iopub.status.idle": "2024-02-07T09:50:29.308663Z",
     "shell.execute_reply": "2024-02-07T09:50:29.307750Z",
     "shell.execute_reply.started": "2024-02-07T09:50:29.302768Z"
    }
   },
   "outputs": [
    {
     "data": {
      "text/plain": [
       "Index(['Time', 'Bond', 'U-B', 'Proper Dih.', 'Improper Dih.', 'CMAP Dih.',\n",
       "       'LJ-14', 'Coulomb-14', 'LJ (SR)', 'Disper. corr.', 'Coulomb (SR)',\n",
       "       'Coul. recip.', 'Potential', 'Kinetic En.', 'Total Energy',\n",
       "       'Conserved En.', 'Temperature', 'Pres. DC', 'Pressure', 'Constr. rmsd',\n",
       "       'Box-X', 'Box-Y', 'Box-Z', 'Volume', 'Density', 'pV', 'Enthalpy',\n",
       "       'Vir-XX', 'Vir-XY', 'Vir-XZ', 'Vir-YX', 'Vir-YY', 'Vir-YZ', 'Vir-ZX',\n",
       "       'Vir-ZY', 'Vir-ZZ', 'Pres-XX', 'Pres-XY', 'Pres-XZ', 'Pres-YX',\n",
       "       'Pres-YY', 'Pres-YZ', 'Pres-ZX', 'Pres-ZY', 'Pres-ZZ', '#Surf*SurfTen',\n",
       "       'Box-Vel-XX', 'Box-Vel-YY', 'Box-Vel-ZZ', 'T-System', 'Lamb-System'],\n",
       "      dtype='object')"
      ]
     },
     "execution_count": 29,
     "metadata": {},
     "output_type": "execute_result"
    }
   ],
   "source": [
    "data.columns"
   ]
  },
  {
   "cell_type": "code",
   "execution_count": 30,
   "metadata": {
    "execution": {
     "iopub.execute_input": "2024-02-07T09:50:29.310120Z",
     "iopub.status.busy": "2024-02-07T09:50:29.309546Z",
     "iopub.status.idle": "2024-02-07T09:51:03.008255Z",
     "shell.execute_reply": "2024-02-07T09:51:03.007430Z",
     "shell.execute_reply.started": "2024-02-07T09:50:29.310093Z"
    }
   },
   "outputs": [],
   "source": [
    "# bootstrapping averages for convergence\n",
    "dd = data[\"Potential\"].to_numpy()\n",
    "length = dd.shape[0]\n",
    "num_points = 1000\n",
    "num_straps = 10000\n",
    "bootstraps = np.zeros(num_straps)\n",
    "\n",
    "for i in range(num_straps) : \n",
    "    av = 0\n",
    "    av2 = 0 \n",
    "    for j in range(num_points) : av = av + dd[np.random.randint(0,length)]\n",
    "    \n",
    "    bootstraps[i] = (av / num_points)\n",
    " \n"
   ]
  },
  {
   "cell_type": "code",
   "execution_count": 31,
   "metadata": {
    "execution": {
     "iopub.execute_input": "2024-02-07T09:51:03.009853Z",
     "iopub.status.busy": "2024-02-07T09:51:03.009562Z",
     "iopub.status.idle": "2024-02-07T09:51:03.015556Z",
     "shell.execute_reply": "2024-02-07T09:51:03.014833Z",
     "shell.execute_reply.started": "2024-02-07T09:51:03.009820Z"
    }
   },
   "outputs": [
    {
     "data": {
      "text/plain": [
       "(-67876.82261711718, 164.67346084420672)"
      ]
     },
     "execution_count": 31,
     "metadata": {},
     "output_type": "execute_result"
    }
   ],
   "source": [
    "bootstraps.mean(), bootstraps.var()"
   ]
  },
  {
   "cell_type": "markdown",
   "metadata": {},
   "source": [
    "## Unfold protein"
   ]
  },
  {
   "cell_type": "code",
   "execution_count": 32,
   "metadata": {
    "execution": {
     "iopub.execute_input": "2024-02-07T10:33:03.273483Z",
     "iopub.status.busy": "2024-02-07T10:33:03.272561Z",
     "iopub.status.idle": "2024-02-07T10:33:03.277960Z",
     "shell.execute_reply": "2024-02-07T10:33:03.277286Z",
     "shell.execute_reply.started": "2024-02-07T10:33:03.273445Z"
    }
   },
   "outputs": [],
   "source": [
    "ufdir = base / 'data/interim/state_unfolded'\n",
    "os.makedirs(str(ufdir), exist_ok=True)\n",
    "os.chdir(ufdir)"
   ]
  },
  {
   "cell_type": "code",
   "execution_count": 43,
   "metadata": {
    "execution": {
     "iopub.execute_input": "2024-02-07T10:35:07.722068Z",
     "iopub.status.busy": "2024-02-07T10:35:07.721233Z",
     "iopub.status.idle": "2024-02-07T10:35:07.728169Z",
     "shell.execute_reply": "2024-02-07T10:35:07.727075Z",
     "shell.execute_reply.started": "2024-02-07T10:35:07.722030Z"
    }
   },
   "outputs": [
    {
     "data": {
      "text/plain": [
       "'/rg/mendels_prj/zadoki/chignolin_test/data/interim/state_unfolded/MD'"
      ]
     },
     "execution_count": 43,
     "metadata": {},
     "output_type": "execute_result"
    }
   ],
   "source": [
    "os.getcwd()"
   ]
  },
  {
   "cell_type": "code",
   "execution_count": 34,
   "metadata": {
    "execution": {
     "iopub.execute_input": "2024-02-07T10:33:11.554465Z",
     "iopub.status.busy": "2024-02-07T10:33:11.553763Z",
     "iopub.status.idle": "2024-02-07T10:33:13.246976Z",
     "shell.execute_reply": "2024-02-07T10:33:13.246190Z",
     "shell.execute_reply.started": "2024-02-07T10:33:11.554427Z"
    },
    "scrolled": true
   },
   "outputs": [
    {
     "name": "stderr",
     "output_type": "stream",
     "text": [
      "              :-) GROMACS - gmx make_ndx, 2020.6-plumed-2.8.0 (-:\n",
      "\n",
      "                            GROMACS is written by:\n",
      "     Emile Apol      Rossen Apostolov      Paul Bauer     Herman J.C. Berendsen\n",
      "    Par Bjelkmar      Christian Blau   Viacheslav Bolnykh     Kevin Boyd    \n",
      " Aldert van Buuren   Rudi van Drunen     Anton Feenstra       Alan Gray     \n",
      "  Gerrit Groenhof     Anca Hamuraru    Vincent Hindriksen  M. Eric Irrgang  \n",
      "  Aleksei Iupinov   Christoph Junghans     Joe Jordan     Dimitrios Karkoulis\n",
      "    Peter Kasson        Jiri Kraus      Carsten Kutzner      Per Larsson    \n",
      "  Justin A. Lemkul    Viveca Lindahl    Magnus Lundborg     Erik Marklund   \n",
      "    Pascal Merz     Pieter Meulenhoff    Teemu Murtola       Szilard Pall   \n",
      "    Sander Pronk      Roland Schulz      Michael Shirts    Alexey Shvetsov  \n",
      "   Alfons Sijbers     Peter Tieleman      Jon Vincent      Teemu Virolainen \n",
      " Christian Wennberg    Maarten Wolf      Artem Zhmurov   \n",
      "                           and the project leaders:\n",
      "        Mark Abraham, Berk Hess, Erik Lindahl, and David van der Spoel\n",
      "\n",
      "Copyright (c) 1991-2000, University of Groningen, The Netherlands.\n",
      "Copyright (c) 2001-2019, The GROMACS development team at\n",
      "Uppsala University, Stockholm University and\n",
      "the Royal Institute of Technology, Sweden.\n",
      "check out http://www.gromacs.org for more information.\n",
      "\n",
      "GROMACS is free software; you can redistribute it and/or modify it\n",
      "under the terms of the GNU Lesser General Public License\n",
      "as published by the Free Software Foundation; either version 2.1\n",
      "of the License, or (at your option) any later version.\n",
      "\n",
      "GROMACS:      gmx make_ndx, version 2020.6-plumed-2.8.0\n",
      "Executable:   /home/zadoki/miniconda3/envs/bpti/bin/gmx_mpi\n",
      "Data prefix:  /home/zadoki/miniconda3/envs/bpti\n",
      "Working dir:  /rg/mendels_prj/zadoki/chignolin_test/data/interim/state_unfolded/MD\n",
      "Command line:\n",
      "  gmx_mpi make_ndx -f /rg/mendels_prj/zadoki/chignolin_test/data/interim/state_folded/em/em.pdb -o md.ndx\n",
      "\n",
      "\n",
      "Reading structure file\n",
      "\n",
      "GROMACS reminds you: \"I Am a Poor Lonesome Cowboy\" (Lucky Luke)\n",
      "\n",
      "[dgx-master:2585302] PMIX ERROR: NO-PERMISSIONS in file dstore_base.c at line 237\n",
      "[dgx-master:2585302] PMIX ERROR: NO-PERMISSIONS in file dstore_base.c at line 237\n",
      "[dgx-master:2585302] PMIX ERROR: NO-PERMISSIONS in file dstore_base.c at line 237\n",
      "[dgx-master:2585302] PMIX ERROR: NO-PERMISSIONS in file dstore_base.c at line 246\n",
      "              :-) GROMACS - gmx make_ndx, 2020.6-plumed-2.8.0 (-:\n",
      "\n",
      "                            GROMACS is written by:\n",
      "     Emile Apol      Rossen Apostolov      Paul Bauer     Herman J.C. Berendsen\n",
      "    Par Bjelkmar      Christian Blau   Viacheslav Bolnykh     Kevin Boyd    \n",
      " Aldert van Buuren   Rudi van Drunen     Anton Feenstra       Alan Gray     \n",
      "  Gerrit Groenhof     Anca Hamuraru    Vincent Hindriksen  M. Eric Irrgang  \n",
      "  Aleksei Iupinov   Christoph Junghans     Joe Jordan     Dimitrios Karkoulis\n",
      "    Peter Kasson        Jiri Kraus      Carsten Kutzner      Per Larsson    \n",
      "  Justin A. Lemkul    Viveca Lindahl    Magnus Lundborg     Erik Marklund   \n",
      "    Pascal Merz     Pieter Meulenhoff    Teemu Murtola       Szilard Pall   \n",
      "    Sander Pronk      Roland Schulz      Michael Shirts    Alexey Shvetsov  \n",
      "   Alfons Sijbers     Peter Tieleman      Jon Vincent      Teemu Virolainen \n",
      " Christian Wennberg    Maarten Wolf      Artem Zhmurov   \n",
      "                           and the project leaders:\n",
      "        Mark Abraham, Berk Hess, Erik Lindahl, and David van der Spoel\n",
      "\n",
      "Copyright (c) 1991-2000, University of Groningen, The Netherlands.\n",
      "Copyright (c) 2001-2019, The GROMACS development team at\n",
      "Uppsala University, Stockholm University and\n",
      "the Royal Institute of Technology, Sweden.\n",
      "check out http://www.gromacs.org for more information.\n",
      "\n",
      "GROMACS is free software; you can redistribute it and/or modify it\n",
      "under the terms of the GNU Lesser General Public License\n",
      "as published by the Free Software Foundation; either version 2.1\n",
      "of the License, or (at your option) any later version.\n",
      "\n",
      "GROMACS:      gmx make_ndx, version 2020.6-plumed-2.8.0\n",
      "Executable:   /home/zadoki/miniconda3/envs/bpti/bin/gmx_mpi\n",
      "Data prefix:  /home/zadoki/miniconda3/envs/bpti\n",
      "Working dir:  /rg/mendels_prj/zadoki/chignolin_test/data/interim/state_unfolded/MD\n",
      "Command line:\n",
      "  gmx_mpi make_ndx -f /rg/mendels_prj/zadoki/chignolin_test/data/interim/state_folded/em/em.pdb -n md.ndx -o md.ndx\n",
      "\n",
      "\n",
      "Reading structure file\n",
      "\n",
      "Back Off! I just backed up md.ndx to ./#md.ndx.1#\n",
      "\n",
      "GROMACS reminds you: \"I Am a Poor Lonesome Cowboy\" (Lucky Luke)\n",
      "\n",
      "[dgx-master:2585334] PMIX ERROR: NO-PERMISSIONS in file dstore_base.c at line 237\n",
      "[dgx-master:2585334] PMIX ERROR: NO-PERMISSIONS in file dstore_base.c at line 237\n",
      "[dgx-master:2585334] PMIX ERROR: NO-PERMISSIONS in file dstore_base.c at line 246\n",
      "/home/zadoki/miniconda3/envs/gromacs_plumed/lib/python3.9/site-packages/gromacs/setup.py:1116: AutoCorrectionWarning: Size of __main__ is only 3.4% of __environment__ so we use 'System' for T-coupling and ref_t = 300 K and tau_t = 0.1 1/ps (can be changed in mdp_parameters).\n",
      "\n",
      "  warnings.warn(wmsg, category=AutoCorrectionWarning)\n",
      "/home/zadoki/miniconda3/envs/gromacs_plumed/lib/python3.9/site-packages/gromacs/setup.py:781: UsageWarning: Unprocessed mdp option are interpreted as options for grompp:\n",
      "{'pp': 'processed.top', 'r': '/rg/mendels_prj/zadoki/chignolin_test/data/interim/state_folded/MD_POSRES/md.tpr', 'maxwarn': 10}\n",
      "  warnings.warn(wmsg, category=UsageWarning)\n",
      "               :-) GROMACS - gmx grompp, 2020.6-plumed-2.8.0 (-:\n",
      "\n",
      "                            GROMACS is written by:\n",
      "     Emile Apol      Rossen Apostolov      Paul Bauer     Herman J.C. Berendsen\n",
      "    Par Bjelkmar      Christian Blau   Viacheslav Bolnykh     Kevin Boyd    \n",
      " Aldert van Buuren   Rudi van Drunen     Anton Feenstra       Alan Gray     \n",
      "  Gerrit Groenhof     Anca Hamuraru    Vincent Hindriksen  M. Eric Irrgang  \n",
      "  Aleksei Iupinov   Christoph Junghans     Joe Jordan     Dimitrios Karkoulis\n",
      "    Peter Kasson        Jiri Kraus      Carsten Kutzner      Per Larsson    \n",
      "  Justin A. Lemkul    Viveca Lindahl    Magnus Lundborg     Erik Marklund   \n",
      "    Pascal Merz     Pieter Meulenhoff    Teemu Murtola       Szilard Pall   \n",
      "    Sander Pronk      Roland Schulz      Michael Shirts    Alexey Shvetsov  \n",
      "   Alfons Sijbers     Peter Tieleman      Jon Vincent      Teemu Virolainen \n",
      " Christian Wennberg    Maarten Wolf      Artem Zhmurov   \n",
      "                           and the project leaders:\n",
      "        Mark Abraham, Berk Hess, Erik Lindahl, and David van der Spoel\n",
      "\n",
      "Copyright (c) 1991-2000, University of Groningen, The Netherlands.\n",
      "Copyright (c) 2001-2019, The GROMACS development team at\n",
      "Uppsala University, Stockholm University and\n",
      "the Royal Institute of Technology, Sweden.\n",
      "check out http://www.gromacs.org for more information.\n",
      "\n",
      "GROMACS is free software; you can redistribute it and/or modify it\n",
      "under the terms of the GNU Lesser General Public License\n",
      "as published by the Free Software Foundation; either version 2.1\n",
      "of the License, or (at your option) any later version.\n",
      "\n",
      "GROMACS:      gmx grompp, version 2020.6-plumed-2.8.0\n",
      "Executable:   /home/zadoki/miniconda3/envs/bpti/bin/gmx_mpi\n",
      "Data prefix:  /home/zadoki/miniconda3/envs/bpti\n",
      "Working dir:  /rg/mendels_prj/zadoki/chignolin_test/data/interim/state_unfolded/MD\n",
      "Command line:\n",
      "  gmx_mpi grompp -f md.mdp -p /rg/mendels_prj/zadoki/chignolin_test/data/interim/state_folded/top/system.top -c /rg/mendels_prj/zadoki/chignolin_test/data/interim/state_folded/em/em.pdb -n /rg/mendels_prj/zadoki/chignolin_test/data/interim/state_unfolded/MD/md.ndx -o md.tpr -pp processed.top -r /rg/mendels_prj/zadoki/chignolin_test/data/interim/state_folded/MD_POSRES/md.tpr -maxwarn 10\n",
      "\n",
      "Ignoring obsolete mdp entry 'andersen_seed'\n",
      "Ignoring obsolete mdp entry 'optimize_fft'\n",
      "Ignoring obsolete mdp entry 'ns_type'\n",
      "Replacing old mdp entry 'nstxtcout' by 'nstxout-compressed'\n",
      "Replacing old mdp entry 'xtc-precision' by 'compressed-x-precision'\n",
      "\n",
      "NOTE 1 [file md.mdp]:\n",
      "  With Verlet lists the optimal nstlist is >= 10, with GPUs >= 20. Note\n",
      "  that with the Verlet scheme, nstlist has no effect on the accuracy of\n",
      "  your simulation.\n",
      "\n",
      "\n",
      "WARNING 1 [file md.mdp]:\n",
      "  You are generating velocities so I am assuming you are equilibrating a\n",
      "  system. You are using Parrinello-Rahman pressure coupling, but this can\n",
      "  be unstable for equilibration. If your system crashes, try equilibrating\n",
      "  first with Berendsen pressure coupling. If you are not equilibrating the\n",
      "  system, you can probably ignore this warning.\n",
      "\n",
      "Setting the LD random seed to -883164430\n",
      "Generated 20503 of the 20503 non-bonded parameter combinations\n",
      "Generating 1-4 interactions: fudge = 1\n",
      "Generated 17396 of the 20503 1-4 parameter combinations\n",
      "Excluding 3 bonded neighbours molecule type 'Protein_chain_A'\n",
      "Excluding 2 bonded neighbours molecule type 'SOL'\n",
      "Excluding 1 bonded neighbours molecule type 'NA'\n",
      "Velocities were taken from a Maxwell distribution at 300 K\n",
      "Number of degrees of freedom in T-Coupling group System is 10280.00\n",
      "Estimate for the relative computational load of the PME mesh part: 0.19\n",
      "\n",
      "There was 1 note\n",
      "\n",
      "There was 1 warning\n",
      "\n",
      "GROMACS reminds you: \"By denying scientific principles, one may maintain any paradox.\" (Galileo Galilei)\n",
      "\n"
     ]
    },
    {
     "name": "stdout",
     "output_type": "stream",
     "text": [
      "turning H bonds into constraints...\n",
      "turning H bonds into constraints...\n",
      "turning H bonds into constraints...\n",
      "Determining Verlet buffer for a tolerance of 0.005 kJ/mol/ps at 300 K\n",
      "Calculated rlist for 1x1 atom pair-list as 1.008 nm, buffer size 0.008 nm\n",
      "Set rlist, assuming 4x4 atom pair-list, to 1.000 nm, buffer size 0.000 nm\n",
      "Note that mdrun will redetermine rlist based on the actual pair-list setup\n",
      "Calculating fourier grid dimensions for X Y Z\n",
      "Using a fourier grid of 32x32x32, spacing 0.118 0.118 0.118\n",
      "This run will generate roughly 60 Mb of data\n"
     ]
    },
    {
     "data": {
      "text/plain": [
       "{'struct': '/rg/mendels_prj/zadoki/chignolin_test/data/interim/state_unfolded/MD/md.gro',\n",
       " 'top': '/rg/mendels_prj/zadoki/chignolin_test/data/interim/state_folded/top/system.top',\n",
       " 'ndx': '/rg/mendels_prj/zadoki/chignolin_test/data/interim/state_unfolded/MD/md.ndx',\n",
       " 'qscript': ['./local.sh'],\n",
       " 'mainselection': '\"Protein\"',\n",
       " 'deffnm': 'md',\n",
       " 'r': '/rg/mendels_prj/zadoki/chignolin_test/data/interim/state_folded/MD_POSRES/md.tpr',\n",
       " 'maxwarn': 10,\n",
       " 'nstxout': 100,\n",
       " 'nstvout': 0,\n",
       " 'nstenergy': 100,\n",
       " 'nstxtcout': 0,\n",
       " 'nsteps': 100000}"
      ]
     },
     "execution_count": 34,
     "metadata": {},
     "output_type": "execute_result"
    },
    {
     "name": "stderr",
     "output_type": "stream",
     "text": [
      "[dgx-master:2585360] PMIX ERROR: NO-PERMISSIONS in file dstore_base.c at line 237\n",
      "[dgx-master:2585360] PMIX ERROR: NO-PERMISSIONS in file dstore_base.c at line 246\n"
     ]
    }
   ],
   "source": [
    "# copy some files\n",
    "MD(r=str(fdir / 'MD_POSRES/md.tpr') , maxwarn=10, nstxout=NSTXOUT, nstvout=0, nstenergy=NSTENERGY, nstxtcout = 0, nsteps= NSTEPS, **f3)"
   ]
  },
  {
   "cell_type": "markdown",
   "metadata": {
    "execution": {
     "iopub.execute_input": "2024-01-28T10:45:38.481827Z",
     "iopub.status.busy": "2024-01-28T10:45:38.480880Z",
     "iopub.status.idle": "2024-01-28T10:45:38.489374Z",
     "shell.execute_reply": "2024-01-28T10:45:38.488609Z",
     "shell.execute_reply.started": "2024-01-28T10:45:38.481793Z"
    }
   },
   "source": []
  },
  {
   "cell_type": "markdown",
   "metadata": {
    "execution": {
     "iopub.execute_input": "2024-01-28T11:04:05.782206Z",
     "iopub.status.busy": "2024-01-28T11:04:05.781484Z",
     "iopub.status.idle": "2024-01-28T11:04:05.787408Z",
     "shell.execute_reply": "2024-01-28T11:04:05.786542Z",
     "shell.execute_reply.started": "2024-01-28T11:04:05.782167Z"
    }
   },
   "source": [
    "# write plumed strech file"
   ]
  },
  {
   "cell_type": "code",
   "execution_count": 35,
   "metadata": {
    "execution": {
     "iopub.execute_input": "2024-02-07T10:33:25.610000Z",
     "iopub.status.busy": "2024-02-07T10:33:25.609097Z",
     "iopub.status.idle": "2024-02-07T10:33:25.619181Z",
     "shell.execute_reply": "2024-02-07T10:33:25.618468Z",
     "shell.execute_reply.started": "2024-02-07T10:33:25.609960Z"
    }
   },
   "outputs": [
    {
     "data": {
      "text/plain": [
       "PosixPath('/rg/mendels_prj/zadoki/chignolin_test/data/interim/state_unfolded/reference.pdb')"
      ]
     },
     "execution_count": 35,
     "metadata": {},
     "output_type": "execute_result"
    }
   ],
   "source": [
    "shutil.copy2(fdir/ 'reference.pdb', ufdir/ 'reference.pdb')"
   ]
  },
  {
   "cell_type": "code",
   "execution_count": 44,
   "metadata": {
    "execution": {
     "iopub.execute_input": "2024-02-07T10:35:29.497326Z",
     "iopub.status.busy": "2024-02-07T10:35:29.496670Z",
     "iopub.status.idle": "2024-02-07T10:35:29.502855Z",
     "shell.execute_reply": "2024-02-07T10:35:29.501991Z",
     "shell.execute_reply.started": "2024-02-07T10:35:29.497289Z"
    }
   },
   "outputs": [],
   "source": [
    "# use plumed to strech protein\n",
    "with open(ufdir / \"MD/plumed_strech.dat\",\"w\") as f:\n",
    "    print(\"\"\"# vim:ft=plumed\n",
    "# add a restraint to strech the protein into unfolded state\n",
    "MOLINFO STRUCTURE={}.pdb MOLTYPE=protein\n",
    "WHOLEMOLECULES RESIDUES=all MOLTYPE=protein\n",
    "rmsd: RMSD REFERENCE={}.pdb TYPE=OPTIMAL NOPBC\n",
    "e2e: DISTANCE ATOMS=@N-0,@C-9 NOPBC\n",
    "res: RESTRAINT ARG=e2e KAPPA=100 AT=2.5\n",
    "PRINT ARG=e2e,rmsd,res.bias FILE=COLVAR_STRECH STRIDE=10\n",
    "     \"\"\".format('reference','reference'),file=f)"
   ]
  },
  {
   "cell_type": "code",
   "execution_count": null,
   "metadata": {
    "execution": {
     "iopub.status.busy": "2024-02-07T10:35:00.297139Z",
     "iopub.status.idle": "2024-02-07T10:35:00.298793Z",
     "shell.execute_reply": "2024-02-07T10:35:00.298634Z",
     "shell.execute_reply.started": "2024-02-07T10:35:00.298618Z"
    }
   },
   "outputs": [],
   "source": [
    "shutil.copy2(fdir/ 'reference.pdb', ufdir/ 'MD/reference.pdb')\n",
    "shutil.copy2(fdir/ 'MD/plumed.dat', ufdir/ 'MD/plumed.dat')"
   ]
  },
  {
   "cell_type": "code",
   "execution_count": 45,
   "metadata": {
    "execution": {
     "iopub.execute_input": "2024-02-07T10:35:36.613353Z",
     "iopub.status.busy": "2024-02-07T10:35:36.612492Z",
     "iopub.status.idle": "2024-02-07T10:35:36.616939Z",
     "shell.execute_reply": "2024-02-07T10:35:36.616106Z",
     "shell.execute_reply.started": "2024-02-07T10:35:36.613313Z"
    }
   },
   "outputs": [],
   "source": [
    "os.chdir(ufdir/'MD')"
   ]
  },
  {
   "cell_type": "code",
   "execution_count": 46,
   "metadata": {
    "execution": {
     "iopub.execute_input": "2024-02-07T10:35:37.623482Z",
     "iopub.status.busy": "2024-02-07T10:35:37.622651Z",
     "iopub.status.idle": "2024-02-07T10:35:37.647006Z",
     "shell.execute_reply": "2024-02-07T10:35:37.646044Z",
     "shell.execute_reply.started": "2024-02-07T10:35:37.623447Z"
    }
   },
   "outputs": [
    {
     "name": "stdout",
     "output_type": "stream",
     "text": [
      "CompletedProcess(args='rm -f \\\\#*; rm -fr bck.*', returncode=0)\n"
     ]
    }
   ],
   "source": [
    "clean()"
   ]
  },
  {
   "cell_type": "code",
   "execution_count": 47,
   "metadata": {
    "execution": {
     "iopub.execute_input": "2024-02-07T10:35:39.078174Z",
     "iopub.status.busy": "2024-02-07T10:35:39.077210Z",
     "iopub.status.idle": "2024-02-07T10:41:13.177989Z",
     "shell.execute_reply": "2024-02-07T10:41:13.176895Z",
     "shell.execute_reply.started": "2024-02-07T10:35:39.078123Z"
    }
   },
   "outputs": [
    {
     "name": "stderr",
     "output_type": "stream",
     "text": [
      "                :-) GROMACS - gmx mdrun, 2020.6-plumed-2.8.0 (-:\n",
      "\n",
      "                            GROMACS is written by:\n",
      "     Emile Apol      Rossen Apostolov      Paul Bauer     Herman J.C. Berendsen\n",
      "    Par Bjelkmar      Christian Blau   Viacheslav Bolnykh     Kevin Boyd    \n",
      " Aldert van Buuren   Rudi van Drunen     Anton Feenstra       Alan Gray     \n",
      "  Gerrit Groenhof     Anca Hamuraru    Vincent Hindriksen  M. Eric Irrgang  \n",
      "  Aleksei Iupinov   Christoph Junghans     Joe Jordan     Dimitrios Karkoulis\n",
      "    Peter Kasson        Jiri Kraus      Carsten Kutzner      Per Larsson    \n",
      "  Justin A. Lemkul    Viveca Lindahl    Magnus Lundborg     Erik Marklund   \n",
      "    Pascal Merz     Pieter Meulenhoff    Teemu Murtola       Szilard Pall   \n",
      "    Sander Pronk      Roland Schulz      Michael Shirts    Alexey Shvetsov  \n",
      "   Alfons Sijbers     Peter Tieleman      Jon Vincent      Teemu Virolainen \n",
      " Christian Wennberg    Maarten Wolf      Artem Zhmurov   \n",
      "                           and the project leaders:\n",
      "        Mark Abraham, Berk Hess, Erik Lindahl, and David van der Spoel\n",
      "\n",
      "Copyright (c) 1991-2000, University of Groningen, The Netherlands.\n",
      "Copyright (c) 2001-2019, The GROMACS development team at\n",
      "Uppsala University, Stockholm University and\n",
      "the Royal Institute of Technology, Sweden.\n",
      "check out http://www.gromacs.org for more information.\n",
      "\n",
      "GROMACS is free software; you can redistribute it and/or modify it\n",
      "under the terms of the GNU Lesser General Public License\n",
      "as published by the Free Software Foundation; either version 2.1\n",
      "of the License, or (at your option) any later version.\n",
      "\n",
      "GROMACS:      gmx mdrun, version 2020.6-plumed-2.8.0\n",
      "Executable:   /home/zadoki/miniconda3/envs/bpti/bin/gmx_mpi\n",
      "Data prefix:  /home/zadoki/miniconda3/envs/bpti\n",
      "Working dir:  /rg/mendels_prj/zadoki/chignolin_test/data/interim/state_unfolded/MD\n",
      "Command line:\n",
      "  gmx_mpi mdrun -v -deffnm md -cpi -plumed plumed_strech.dat -nsteps 100000 -c md.pdb -ntomp 8\n",
      "\n",
      "+++ Loading the PLUMED kernel runtime +++\n",
      "+++ PLUMED_KERNEL=\"/home/zadoki/miniconda3/envs/bpti/lib/libplumedKernel.so\" +++\n",
      "+++ Loading the PLUMED kernel runtime +++\n",
      "+++ PLUMED_KERNEL=\"/home/zadoki/miniconda3/envs/bpti/lib/libplumedKernel.so\" +++\n",
      "Compiled SIMD: SSE2, but for this host/run AVX_512 might be better (see log).\n",
      "The current CPU can measure timings more accurately than the code in\n",
      "gmx mdrun was configured to use. This might affect your simulation\n",
      "speed as accurate timings are needed for load-balancing.\n",
      "Please consider rebuilding gmx mdrun with the GMX_USE_RDTSCP=ON CMake option.\n",
      "Reading file md.tpr, VERSION 2020.6-plumed-2.8.0 (single precision)\n",
      "Overriding nsteps with value passed on the command line: 100000 steps, 200 ps\n",
      "Changing nstlist from 5 to 50, rlist from 1 to 1.109\n",
      "\n",
      "\n",
      "Using 1 MPI process\n",
      "Using 8 OpenMP threads \n",
      "\n",
      "\n",
      "NOTE: The number of threads is not equal to the number of (logical) cores\n",
      "      and the -pin option is set to auto: will not pin threads to cores.\n",
      "      This can lead to significant performance degradation.\n",
      "      Consider using -pin on (and -pinoffset in case you run multiple jobs).\n",
      "starting mdrun 'Protein in water'\n",
      "119900 steps,    239.8 ps (continuing from step 19900,     39.8 ps).\n",
      "step 119800, remaining wall clock time:     0 s          \n",
      "Writing final coordinates.\n",
      "step 119900, remaining wall clock time:     0 s          \n",
      "               Core t (s)   Wall t (s)        (%)\n",
      "       Time:     2664.704      333.091      800.0\n",
      "                 (ns/day)    (hour/ns)\n",
      "Performance:       51.878        0.463\n",
      "\n",
      "GROMACS reminds you: \"Never measure the height of a mountain until you have reached the top. Then you will see how low it was.\" (Dag Hammarskjold)\n",
      "\n"
     ]
    },
    {
     "data": {
      "text/plain": [
       "CompletedProcess(args='gmx_mpi mdrun  -v -deffnm md -cpi -plumed plumed_strech.dat -nsteps 100000 -c md.pdb -ntomp 8 ', returncode=0)"
      ]
     },
     "execution_count": 47,
     "metadata": {},
     "output_type": "execute_result"
    },
    {
     "name": "stderr",
     "output_type": "stream",
     "text": [
      "[dgx-master:2587324] PMIX ERROR: NO-PERMISSIONS in file dstore_base.c at line 237\n",
      "[dgx-master:2587324] PMIX ERROR: NO-PERMISSIONS in file dstore_base.c at line 246\n"
     ]
    }
   ],
   "source": [
    "# Strech protein \n",
    "\n",
    "subprocess.run('gmx_mpi mdrun  -v -deffnm md -cpi -plumed plumed_strech.dat -nsteps 100000 -c md.pdb -ntomp 8 ', shell=True )"
   ]
  },
  {
   "cell_type": "code",
   "execution_count": 48,
   "metadata": {
    "execution": {
     "iopub.execute_input": "2024-02-07T10:41:13.180628Z",
     "iopub.status.busy": "2024-02-07T10:41:13.179899Z",
     "iopub.status.idle": "2024-02-07T10:41:13.812260Z",
     "shell.execute_reply": "2024-02-07T10:41:13.811512Z",
     "shell.execute_reply.started": "2024-02-07T10:41:13.180595Z"
    }
   },
   "outputs": [
    {
     "name": "stderr",
     "output_type": "stream",
     "text": [
      "+++ Loading the PLUMED kernel runtime +++\n",
      "+++ PLUMED_KERNEL=\"/home/zadoki/miniconda3/envs/gromacs_plumed/lib/libplumedKernel.so\" +++\n"
     ]
    },
    {
     "data": {
      "text/plain": [
       "<Axes: xlabel='time'>"
      ]
     },
     "execution_count": 48,
     "metadata": {},
     "output_type": "execute_result"
    },
    {
     "data": {
      "image/png": "[encoded data removed]",
      "text/plain": [
       "<Figure size 640x480 with 1 Axes>"
      ]
     },
     "metadata": {},
     "output_type": "display_data"
    },
    {
     "data": {
      "image/png": "[encoded data removed]",
      "text/plain": [
       "<Figure size 640x480 with 1 Axes>"
      ]
     },
     "metadata": {},
     "output_type": "display_data"
    },
    {
     "data": {
      "image/png": "[encoded data removed]",
      "text/plain": [
       "<Figure size 640x480 with 1 Axes>"
      ]
     },
     "metadata": {},
     "output_type": "display_data"
    }
   ],
   "source": [
    "data = plumed.read_as_pandas('COLVAR_STRECH')\n",
    "\n",
    "data.plot('time','e2e', label='e2e')\n",
    "data.plot('time','rmsd', label='rmsd')\n",
    "data.plot('time','res.bias', label='bias')"
   ]
  },
  {
   "cell_type": "code",
   "execution_count": 49,
   "metadata": {
    "execution": {
     "iopub.execute_input": "2024-02-07T10:51:41.163449Z",
     "iopub.status.busy": "2024-02-07T10:51:41.162554Z",
     "iopub.status.idle": "2024-02-07T10:57:25.692028Z",
     "shell.execute_reply": "2024-02-07T10:57:25.691025Z",
     "shell.execute_reply.started": "2024-02-07T10:51:41.163415Z"
    }
   },
   "outputs": [
    {
     "name": "stderr",
     "output_type": "stream",
     "text": [
      "                :-) GROMACS - gmx mdrun, 2020.6-plumed-2.8.0 (-:\n",
      "\n",
      "                            GROMACS is written by:\n",
      "     Emile Apol      Rossen Apostolov      Paul Bauer     Herman J.C. Berendsen\n",
      "    Par Bjelkmar      Christian Blau   Viacheslav Bolnykh     Kevin Boyd    \n",
      " Aldert van Buuren   Rudi van Drunen     Anton Feenstra       Alan Gray     \n",
      "  Gerrit Groenhof     Anca Hamuraru    Vincent Hindriksen  M. Eric Irrgang  \n",
      "  Aleksei Iupinov   Christoph Junghans     Joe Jordan     Dimitrios Karkoulis\n",
      "    Peter Kasson        Jiri Kraus      Carsten Kutzner      Per Larsson    \n",
      "  Justin A. Lemkul    Viveca Lindahl    Magnus Lundborg     Erik Marklund   \n",
      "    Pascal Merz     Pieter Meulenhoff    Teemu Murtola       Szilard Pall   \n",
      "    Sander Pronk      Roland Schulz      Michael Shirts    Alexey Shvetsov  \n",
      "   Alfons Sijbers     Peter Tieleman      Jon Vincent      Teemu Virolainen \n",
      " Christian Wennberg    Maarten Wolf      Artem Zhmurov   \n",
      "                           and the project leaders:\n",
      "        Mark Abraham, Berk Hess, Erik Lindahl, and David van der Spoel\n",
      "\n",
      "Copyright (c) 1991-2000, University of Groningen, The Netherlands.\n",
      "Copyright (c) 2001-2019, The GROMACS development team at\n",
      "Uppsala University, Stockholm University and\n",
      "the Royal Institute of Technology, Sweden.\n",
      "check out http://www.gromacs.org for more information.\n",
      "\n",
      "GROMACS is free software; you can redistribute it and/or modify it\n",
      "under the terms of the GNU Lesser General Public License\n",
      "as published by the Free Software Foundation; either version 2.1\n",
      "of the License, or (at your option) any later version.\n",
      "\n",
      "GROMACS:      gmx mdrun, version 2020.6-plumed-2.8.0\n",
      "Executable:   /home/zadoki/miniconda3/envs/bpti/bin/gmx_mpi\n",
      "Data prefix:  /home/zadoki/miniconda3/envs/bpti\n",
      "Working dir:  /rg/mendels_prj/zadoki/chignolin_test/data/interim/state_unfolded/MD\n",
      "Command line:\n",
      "  gmx_mpi mdrun -v -deffnm md -cpi -plumed plumed.dat -nsteps 100000 -c md.pdb -ntomp 8\n",
      "\n",
      "+++ Loading the PLUMED kernel runtime +++\n",
      "+++ PLUMED_KERNEL=\"/home/zadoki/miniconda3/envs/bpti/lib/libplumedKernel.so\" +++\n",
      "+++ Loading the PLUMED kernel runtime +++\n",
      "+++ PLUMED_KERNEL=\"/home/zadoki/miniconda3/envs/bpti/lib/libplumedKernel.so\" +++\n",
      "Compiled SIMD: SSE2, but for this host/run AVX_512 might be better (see log).\n",
      "The current CPU can measure timings more accurately than the code in\n",
      "gmx mdrun was configured to use. This might affect your simulation\n",
      "speed as accurate timings are needed for load-balancing.\n",
      "Please consider rebuilding gmx mdrun with the GMX_USE_RDTSCP=ON CMake option.\n",
      "Reading file md.tpr, VERSION 2020.6-plumed-2.8.0 (single precision)\n",
      "Overriding nsteps with value passed on the command line: 100000 steps, 200 ps\n",
      "Changing nstlist from 5 to 50, rlist from 1 to 1.109\n",
      "\n",
      "\n",
      "Using 1 MPI process\n",
      "Using 8 OpenMP threads \n",
      "\n",
      "\n",
      "NOTE: The number of threads is not equal to the number of (logical) cores\n",
      "      and the -pin option is set to auto: will not pin threads to cores.\n",
      "      This can lead to significant performance degradation.\n",
      "      Consider using -pin on (and -pinoffset in case you run multiple jobs).\n",
      "starting mdrun 'Protein in water'\n",
      "219900 steps,    439.8 ps (continuing from step 119900,    239.8 ps).\n",
      "step 219800, remaining wall clock time:     0 s          \n",
      "Writing final coordinates.\n",
      "\n",
      "Back Off! I just backed up md.pdb to ./#md.pdb.1#\n",
      "step 219900, remaining wall clock time:     0 s          \n",
      "               Core t (s)   Wall t (s)        (%)\n",
      "       Time:     2751.849      343.984      800.0\n",
      "                 (ns/day)    (hour/ns)\n",
      "Performance:       50.235        0.478\n",
      "\n",
      "GROMACS reminds you: \"Computer system analysis is like child-rearing; you can do grievous damage, but you cannot ensure success.\" (Tom DeMarcho)\n",
      "\n"
     ]
    },
    {
     "data": {
      "text/plain": [
       "CompletedProcess(args='gmx_mpi mdrun  -v -deffnm md -cpi -plumed plumed.dat -nsteps 100000 -c md.pdb -ntomp 8 ', returncode=0)"
      ]
     },
     "execution_count": 49,
     "metadata": {},
     "output_type": "execute_result"
    },
    {
     "name": "stderr",
     "output_type": "stream",
     "text": [
      "[dgx-master:2599774] PMIX ERROR: NO-PERMISSIONS in file dstore_base.c at line 237\n",
      "[dgx-master:2599774] PMIX ERROR: NO-PERMISSIONS in file dstore_base.c at line 246\n"
     ]
    }
   ],
   "source": [
    "# simulate and collect CVs\n",
    "\n",
    "\n",
    "subprocess.run('gmx_mpi mdrun  -v -deffnm md -cpi -plumed plumed.dat -nsteps 100000 -c md.pdb -ntomp 8 ', shell=True )"
   ]
  },
  {
   "cell_type": "markdown",
   "metadata": {},
   "source": [
    "## visualize with nglview"
   ]
  },
  {
   "cell_type": "code",
   "execution_count": 50,
   "metadata": {
    "execution": {
     "iopub.execute_input": "2024-02-07T10:57:25.694474Z",
     "iopub.status.busy": "2024-02-07T10:57:25.694166Z",
     "iopub.status.idle": "2024-02-07T10:57:25.776691Z",
     "shell.execute_reply": "2024-02-07T10:57:25.775966Z",
     "shell.execute_reply.started": "2024-02-07T10:57:25.694444Z"
    }
   },
   "outputs": [],
   "source": [
    "os.chdir(fdir/ 'MD_POSRES')\n",
    "\n",
    "u = mda.Universe('md.gro', 'md.trr')"
   ]
  },
  {
   "cell_type": "code",
   "execution_count": 51,
   "metadata": {
    "execution": {
     "iopub.execute_input": "2024-02-07T10:57:25.778235Z",
     "iopub.status.busy": "2024-02-07T10:57:25.777898Z",
     "iopub.status.idle": "2024-02-07T10:57:25.789712Z",
     "shell.execute_reply": "2024-02-07T10:57:25.789081Z",
     "shell.execute_reply.started": "2024-02-07T10:57:25.778207Z"
    }
   },
   "outputs": [
    {
     "data": {
      "text/plain": [
       "<AtomGroup with 5019 atoms>"
      ]
     },
     "execution_count": 51,
     "metadata": {},
     "output_type": "execute_result"
    }
   ],
   "source": [
    "u.trajectory.n_frames\n",
    "\n",
    "u.universe.residues[1000]\n",
    "\n",
    "prot = u.select_atoms(\"(protein and not type H) or (resname SOL within 2)\")\n",
    "\n",
    "prot"
   ]
  },
  {
   "cell_type": "code",
   "execution_count": 52,
   "metadata": {
    "execution": {
     "iopub.execute_input": "2024-02-07T10:57:25.791826Z",
     "iopub.status.busy": "2024-02-07T10:57:25.791251Z",
     "iopub.status.idle": "2024-02-07T10:57:25.941328Z",
     "shell.execute_reply": "2024-02-07T10:57:25.940655Z",
     "shell.execute_reply.started": "2024-02-07T10:57:25.791797Z"
    }
   },
   "outputs": [
    {
     "data": {
      "application/vnd.jupyter.widget-view+json": {
       "model_id": "0a10a0f92018420abc6666b61311eefd",
       "version_major": 2,
       "version_minor": 0
      },
      "text/plain": [
       "NGLWidget(max_frame=1000)"
      ]
     },
     "metadata": {},
     "output_type": "display_data"
    }
   ],
   "source": [
    "view = nglview.show_mdanalysis(prot)\n",
    "view"
   ]
  },
  {
   "cell_type": "markdown",
   "metadata": {},
   "source": [
    "# Calculate HLDA CV"
   ]
  },
  {
   "cell_type": "markdown",
   "metadata": {},
   "source": [
    "## Let's see the states first"
   ]
  },
  {
   "cell_type": "code",
   "execution_count": 53,
   "metadata": {
    "execution": {
     "iopub.execute_input": "2024-02-07T10:57:25.942909Z",
     "iopub.status.busy": "2024-02-07T10:57:25.942261Z",
     "iopub.status.idle": "2024-02-07T10:57:29.390809Z",
     "shell.execute_reply": "2024-02-07T10:57:29.390019Z",
     "shell.execute_reply.started": "2024-02-07T10:57:25.942880Z"
    }
   },
   "outputs": [],
   "source": [
    "from harmonic_discriminant_analysis import HarmonicLinearDiscriminantAnalysis\n",
    "from sklearn.preprocessing import StandardScaler\n",
    "from sklearn.pipeline import Pipeline\n",
    "import seaborn as sns"
   ]
  },
  {
   "cell_type": "code",
   "execution_count": 54,
   "metadata": {
    "execution": {
     "iopub.execute_input": "2024-02-07T10:57:29.392205Z",
     "iopub.status.busy": "2024-02-07T10:57:29.391830Z",
     "iopub.status.idle": "2024-02-07T10:57:29.423878Z",
     "shell.execute_reply": "2024-02-07T10:57:29.423166Z",
     "shell.execute_reply.started": "2024-02-07T10:57:29.392178Z"
    }
   },
   "outputs": [
    {
     "name": "stderr",
     "output_type": "stream",
     "text": [
      "+++ Loading the PLUMED kernel runtime +++\n",
      "+++ PLUMED_KERNEL=\"/home/zadoki/miniconda3/envs/gromacs_plumed/lib/libplumedKernel.so\" +++\n",
      "+++ Loading the PLUMED kernel runtime +++\n",
      "+++ PLUMED_KERNEL=\"/home/zadoki/miniconda3/envs/gromacs_plumed/lib/libplumedKernel.so\" +++\n"
     ]
    }
   ],
   "source": [
    "data = pd.concat([\n",
    "    (plumed.read_as_pandas(str(fdir / 'MD/COLVAR'))).assign(state = 'folded'),\n",
    "    (plumed.read_as_pandas(str(ufdir / 'MD/COLVAR'))).assign(state = 'unfolded')]).reset_index(drop=True)"
   ]
  },
  {
   "cell_type": "code",
   "execution_count": 55,
   "metadata": {
    "execution": {
     "iopub.execute_input": "2024-02-07T10:57:29.425516Z",
     "iopub.status.busy": "2024-02-07T10:57:29.424861Z",
     "iopub.status.idle": "2024-02-07T10:57:29.836011Z",
     "shell.execute_reply": "2024-02-07T10:57:29.835114Z",
     "shell.execute_reply.started": "2024-02-07T10:57:29.425486Z"
    }
   },
   "outputs": [
    {
     "data": {
      "text/plain": [
       "<Axes: xlabel='time'>"
      ]
     },
     "execution_count": 55,
     "metadata": {},
     "output_type": "execute_result"
    },
    {
     "data": {
      "image/png": "[encoded data removed]",
      "text/plain": [
       "<Figure size 640x480 with 1 Axes>"
      ]
     },
     "metadata": {},
     "output_type": "display_data"
    },
    {
     "data": {
      "image/png": "[encoded data removed]",
      "text/plain": [
       "<Figure size 640x480 with 1 Axes>"
      ]
     },
     "metadata": {},
     "output_type": "display_data"
    }
   ],
   "source": [
    "data[data.state == 'folded'].plot('time','rmsd', label = 'folded')\n",
    "data[data.state == 'unfolded'].plot('time','rmsd', label = 'unfolded')"
   ]
  },
  {
   "cell_type": "code",
   "execution_count": 56,
   "metadata": {
    "execution": {
     "iopub.execute_input": "2024-02-07T10:57:29.837971Z",
     "iopub.status.busy": "2024-02-07T10:57:29.837320Z",
     "iopub.status.idle": "2024-02-07T10:57:30.230833Z",
     "shell.execute_reply": "2024-02-07T10:57:30.230042Z",
     "shell.execute_reply.started": "2024-02-07T10:57:29.837941Z"
    }
   },
   "outputs": [
    {
     "data": {
      "text/plain": [
       "<Axes: xlabel='time'>"
      ]
     },
     "execution_count": 56,
     "metadata": {},
     "output_type": "execute_result"
    },
    {
     "data": {
      "image/png": "[encoded data removed]",
      "text/plain": [
       "<Figure size 640x480 with 1 Axes>"
      ]
     },
     "metadata": {},
     "output_type": "display_data"
    },
    {
     "data": {
      "image/png": "[encoded data removed]",
      "text/plain": [
       "<Figure size 640x480 with 1 Axes>"
      ]
     },
     "metadata": {},
     "output_type": "display_data"
    }
   ],
   "source": [
    "data[data.state == 'folded'].plot('time','e2e', label = 'folded')\n",
    "data[data.state == 'unfolded'].plot('time','e2e', label = 'unfolded')"
   ]
  },
  {
   "cell_type": "code",
   "execution_count": 57,
   "metadata": {
    "execution": {
     "iopub.execute_input": "2024-02-07T10:57:30.232537Z",
     "iopub.status.busy": "2024-02-07T10:57:30.232178Z",
     "iopub.status.idle": "2024-02-07T10:57:30.479454Z",
     "shell.execute_reply": "2024-02-07T10:57:30.478773Z",
     "shell.execute_reply.started": "2024-02-07T10:57:30.232510Z"
    }
   },
   "outputs": [
    {
     "data": {
      "text/plain": [
       "<Axes: xlabel='e2e', ylabel='rmsd'>"
      ]
     },
     "execution_count": 57,
     "metadata": {},
     "output_type": "execute_result"
    },
    {
     "data": {
      "image/png": "[encoded data removed]",
      "text/plain": [
       "<Figure size 640x480 with 1 Axes>"
      ]
     },
     "metadata": {},
     "output_type": "display_data"
    }
   ],
   "source": [
    "data.plot('e2e','rmsd', kind='scatter')"
   ]
  },
  {
   "cell_type": "code",
   "execution_count": 58,
   "metadata": {
    "execution": {
     "iopub.execute_input": "2024-02-07T10:57:30.481960Z",
     "iopub.status.busy": "2024-02-07T10:57:30.481542Z",
     "iopub.status.idle": "2024-02-07T10:57:30.492360Z",
     "shell.execute_reply": "2024-02-07T10:57:30.491563Z",
     "shell.execute_reply.started": "2024-02-07T10:57:30.481932Z"
    }
   },
   "outputs": [],
   "source": [
    "X = data.iloc[:,data.columns.str.contains('^p')].copy(deep=True)\n",
    "y = data.state\n",
    "\n",
    "# apply unwrap \n",
    "X = X.apply(np.unwrap,)\n"
   ]
  },
  {
   "cell_type": "code",
   "execution_count": 59,
   "metadata": {
    "execution": {
     "iopub.execute_input": "2024-02-07T10:57:30.494128Z",
     "iopub.status.busy": "2024-02-07T10:57:30.493377Z",
     "iopub.status.idle": "2024-02-07T10:57:30.497326Z",
     "shell.execute_reply": "2024-02-07T10:57:30.496732Z",
     "shell.execute_reply.started": "2024-02-07T10:57:30.494096Z"
    }
   },
   "outputs": [],
   "source": [
    "hlda = HarmonicLinearDiscriminantAnalysis()"
   ]
  },
  {
   "cell_type": "code",
   "execution_count": 60,
   "metadata": {
    "execution": {
     "iopub.execute_input": "2024-02-07T10:57:30.498620Z",
     "iopub.status.busy": "2024-02-07T10:57:30.498113Z",
     "iopub.status.idle": "2024-02-07T10:57:30.533437Z",
     "shell.execute_reply": "2024-02-07T10:57:30.532808Z",
     "shell.execute_reply.started": "2024-02-07T10:57:30.498593Z"
    }
   },
   "outputs": [
    {
     "data": {
      "text/html": [
       "<style>#sk-container-id-1 {color: black;}#sk-container-id-1 pre{padding: 0;}#sk-container-id-1 div.sk-toggleable {background-color: white;}#sk-container-id-1 label.sk-toggleable__label {cursor: pointer;display: block;width: 100%;margin-bottom: 0;padding: 0.3em;box-sizing: border-box;text-align: center;}#sk-container-id-1 label.sk-toggleable__label-arrow:before {content: \"▸\";float: left;margin-right: 0.25em;color: #696969;}#sk-container-id-1 label.sk-toggleable__label-arrow:hover:before {color: black;}#sk-container-id-1 div.sk-estimator:hover label.sk-toggleable__label-arrow:before {color: black;}#sk-container-id-1 div.sk-toggleable__content {max-height: 0;max-width: 0;overflow: hidden;text-align: left;background-color: #f0f8ff;}#sk-container-id-1 div.sk-toggleable__content pre {margin: 0.2em;color: black;border-radius: 0.25em;background-color: #f0f8ff;}#sk-container-id-1 input.sk-toggleable__control:checked~div.sk-toggleable__content {max-height: 200px;max-width: 100%;overflow: auto;}#sk-container-id-1 input.sk-toggleable__control:checked~label.sk-toggleable__label-arrow:before {content: \"▾\";}#sk-container-id-1 div.sk-estimator input.sk-toggleable__control:checked~label.sk-toggleable__label {background-color: #d4ebff;}#sk-container-id-1 div.sk-label input.sk-toggleable__control:checked~label.sk-toggleable__label {background-color: #d4ebff;}#sk-container-id-1 input.sk-hidden--visually {border: 0;clip: rect(1px 1px 1px 1px);clip: rect(1px, 1px, 1px, 1px);height: 1px;margin: -1px;overflow: hidden;padding: 0;position: absolute;width: 1px;}#sk-container-id-1 div.sk-estimator {font-family: monospace;background-color: #f0f8ff;border: 1px dotted black;border-radius: 0.25em;box-sizing: border-box;margin-bottom: 0.5em;}#sk-container-id-1 div.sk-estimator:hover {background-color: #d4ebff;}#sk-container-id-1 div.sk-parallel-item::after {content: \"\";width: 100%;border-bottom: 1px solid gray;flex-grow: 1;}#sk-container-id-1 div.sk-label:hover label.sk-toggleable__label {background-color: #d4ebff;}#sk-container-id-1 div.sk-serial::before {content: \"\";position: absolute;border-left: 1px solid gray;box-sizing: border-box;top: 0;bottom: 0;left: 50%;z-index: 0;}#sk-container-id-1 div.sk-serial {display: flex;flex-direction: column;align-items: center;background-color: white;padding-right: 0.2em;padding-left: 0.2em;position: relative;}#sk-container-id-1 div.sk-item {position: relative;z-index: 1;}#sk-container-id-1 div.sk-parallel {display: flex;align-items: stretch;justify-content: center;background-color: white;position: relative;}#sk-container-id-1 div.sk-item::before, #sk-container-id-1 div.sk-parallel-item::before {content: \"\";position: absolute;border-left: 1px solid gray;box-sizing: border-box;top: 0;bottom: 0;left: 50%;z-index: -1;}#sk-container-id-1 div.sk-parallel-item {display: flex;flex-direction: column;z-index: 1;position: relative;background-color: white;}#sk-container-id-1 div.sk-parallel-item:first-child::after {align-self: flex-end;width: 50%;}#sk-container-id-1 div.sk-parallel-item:last-child::after {align-self: flex-start;width: 50%;}#sk-container-id-1 div.sk-parallel-item:only-child::after {width: 0;}#sk-container-id-1 div.sk-dashed-wrapped {border: 1px dashed gray;margin: 0 0.4em 0.5em 0.4em;box-sizing: border-box;padding-bottom: 0.4em;background-color: white;}#sk-container-id-1 div.sk-label label {font-family: monospace;font-weight: bold;display: inline-block;line-height: 1.2em;}#sk-container-id-1 div.sk-label-container {text-align: center;}#sk-container-id-1 div.sk-container {/* jupyter's `normalize.less` sets `[hidden] { display: none; }` but bootstrap.min.css set `[hidden] { display: none !important; }` so we also need the `!important` here to be able to override the default hidden behavior on the sphinx rendered scikit-learn.org. See: https://github.com/scikit-learn/scikit-learn/issues/21755 */display: inline-block !important;position: relative;}#sk-container-id-1 div.sk-text-repr-fallback {display: none;}</style><div id=\"sk-container-id-1\" class=\"sk-top-container\"><div class=\"sk-text-repr-fallback\"><pre>HarmonicLinearDiscriminantAnalysis()</pre><b>In a Jupyter environment, please rerun this cell to show the HTML representation or trust the notebook. <br />On GitHub, the HTML representation is unable to render, please try loading this page with nbviewer.org.</b></div><div class=\"sk-container\" hidden><div class=\"sk-item\"><div class=\"sk-estimator sk-toggleable\"><input class=\"sk-toggleable__control sk-hidden--visually\" id=\"sk-estimator-id-1\" type=\"checkbox\" checked><label for=\"sk-estimator-id-1\" class=\"sk-toggleable__label sk-toggleable__label-arrow\">HarmonicLinearDiscriminantAnalysis</label><div class=\"sk-toggleable__content\"><pre>HarmonicLinearDiscriminantAnalysis()</pre></div></div></div></div></div>"
      ],
      "text/plain": [
       "HarmonicLinearDiscriminantAnalysis()"
      ]
     },
     "execution_count": 60,
     "metadata": {},
     "output_type": "execute_result"
    }
   ],
   "source": [
    "hlda.fit(X,y)"
   ]
  },
  {
   "cell_type": "markdown",
   "metadata": {},
   "source": [
    "## Plot State separation"
   ]
  },
  {
   "cell_type": "code",
   "execution_count": 61,
   "metadata": {
    "execution": {
     "iopub.execute_input": "2024-02-07T10:57:30.534901Z",
     "iopub.status.busy": "2024-02-07T10:57:30.534262Z",
     "iopub.status.idle": "2024-02-07T10:57:30.726751Z",
     "shell.execute_reply": "2024-02-07T10:57:30.725917Z",
     "shell.execute_reply.started": "2024-02-07T10:57:30.534873Z"
    }
   },
   "outputs": [
    {
     "data": {
      "image/png": "[encoded data removed]",
      "text/plain": [
       "<Figure size 640x480 with 1 Axes>"
      ]
     },
     "metadata": {},
     "output_type": "display_data"
    }
   ],
   "source": [
    "plt.hist(hlda.transform(X)[y == 'folded'],  label = 'folded' )\n",
    "plt.hist(hlda.transform(X)[y == 'unfolded'], label = 'unfolded' )\n",
    "plt.legend()\n",
    "plt.show()"
   ]
  },
  {
   "cell_type": "code",
   "execution_count": 62,
   "metadata": {
    "execution": {
     "iopub.execute_input": "2024-02-07T10:57:30.728126Z",
     "iopub.status.busy": "2024-02-07T10:57:30.727594Z",
     "iopub.status.idle": "2024-02-07T10:57:30.731310Z",
     "shell.execute_reply": "2024-02-07T10:57:30.730698Z",
     "shell.execute_reply.started": "2024-02-07T10:57:30.728096Z"
    }
   },
   "outputs": [],
   "source": [
    "hlda_evects = (hlda.scalings_)[:,0]"
   ]
  },
  {
   "cell_type": "markdown",
   "metadata": {},
   "source": [
    "## Plot HLDA coefficients"
   ]
  },
  {
   "cell_type": "code",
   "execution_count": 63,
   "metadata": {
    "execution": {
     "iopub.execute_input": "2024-02-07T10:57:30.732575Z",
     "iopub.status.busy": "2024-02-07T10:57:30.732096Z",
     "iopub.status.idle": "2024-02-07T10:57:30.939707Z",
     "shell.execute_reply": "2024-02-07T10:57:30.939055Z",
     "shell.execute_reply.started": "2024-02-07T10:57:30.732543Z"
    }
   },
   "outputs": [
    {
     "data": {
      "image/png": "[encoded data removed]",
      "text/plain": [
       "<Figure size 640x480 with 1 Axes>"
      ]
     },
     "metadata": {},
     "output_type": "display_data"
    }
   ],
   "source": [
    "fig = plt.figure()\n",
    "sortx = np.argsort(np.abs(hlda_evects.flatten()),)[::-1]\n",
    "plt.bar(X.columns[sortx],hlda_evects.flatten()[sortx],align='center', width=0.7)\n",
    "plt.xticks(rotation=90,fontsize=6)\n",
    "plt.xlabel('CV')\n",
    "plt.ylabel('Coefficient Size')\n",
    "plt.show()"
   ]
  },
  {
   "cell_type": "code",
   "execution_count": 279,
   "metadata": {
    "execution": {
     "iopub.execute_input": "2024-01-28T16:11:32.225179Z",
     "iopub.status.busy": "2024-01-28T16:11:32.224248Z",
     "iopub.status.idle": "2024-01-28T16:11:32.254851Z",
     "shell.execute_reply": "2024-01-28T16:11:32.254117Z",
     "shell.execute_reply.started": "2024-01-28T16:11:32.225140Z"
    }
   },
   "outputs": [
    {
     "data": {
      "text/html": [
       "<div>\n",
       "<style scoped>\n",
       "    .dataframe tbody tr th:only-of-type {\n",
       "        vertical-align: middle;\n",
       "    }\n",
       "\n",
       "    .dataframe tbody tr th {\n",
       "        vertical-align: top;\n",
       "    }\n",
       "\n",
       "    .dataframe thead th {\n",
       "        text-align: right;\n",
       "    }\n",
       "</style>\n",
       "<table border=\"1\" class=\"dataframe\">\n",
       "  <thead>\n",
       "    <tr style=\"text-align: right;\">\n",
       "      <th></th>\n",
       "      <th>psi0</th>\n",
       "      <th>phi1</th>\n",
       "      <th>psi1</th>\n",
       "      <th>phi2</th>\n",
       "      <th>psi2</th>\n",
       "      <th>phi3</th>\n",
       "      <th>psi3</th>\n",
       "      <th>phi4</th>\n",
       "      <th>psi4</th>\n",
       "      <th>phi5</th>\n",
       "      <th>psi5</th>\n",
       "      <th>phi6</th>\n",
       "      <th>psi6</th>\n",
       "      <th>phi7</th>\n",
       "      <th>psi7</th>\n",
       "      <th>phi8</th>\n",
       "      <th>psi8</th>\n",
       "      <th>phi9</th>\n",
       "    </tr>\n",
       "  </thead>\n",
       "  <tbody>\n",
       "    <tr>\n",
       "      <th>0</th>\n",
       "      <td>2.749702</td>\n",
       "      <td>-2.242637</td>\n",
       "      <td>2.658459</td>\n",
       "      <td>-2.188176</td>\n",
       "      <td>2.016950</td>\n",
       "      <td>-1.288156</td>\n",
       "      <td>-0.591754</td>\n",
       "      <td>-1.312058</td>\n",
       "      <td>-0.703593</td>\n",
       "      <td>-1.117966</td>\n",
       "      <td>-0.780469</td>\n",
       "      <td>1.556576</td>\n",
       "      <td>0.343489</td>\n",
       "      <td>-2.254260</td>\n",
       "      <td>2.280863</td>\n",
       "      <td>-1.498666</td>\n",
       "      <td>2.336230</td>\n",
       "      <td>-2.211412</td>\n",
       "    </tr>\n",
       "    <tr>\n",
       "      <th>1</th>\n",
       "      <td>2.749702</td>\n",
       "      <td>-2.242637</td>\n",
       "      <td>2.658459</td>\n",
       "      <td>-2.188176</td>\n",
       "      <td>2.016950</td>\n",
       "      <td>-1.288156</td>\n",
       "      <td>-0.591754</td>\n",
       "      <td>-1.312058</td>\n",
       "      <td>-0.703593</td>\n",
       "      <td>-1.117966</td>\n",
       "      <td>-0.780469</td>\n",
       "      <td>1.556576</td>\n",
       "      <td>0.343489</td>\n",
       "      <td>-2.254260</td>\n",
       "      <td>2.280863</td>\n",
       "      <td>-1.498666</td>\n",
       "      <td>2.336230</td>\n",
       "      <td>-2.211412</td>\n",
       "    </tr>\n",
       "    <tr>\n",
       "      <th>2</th>\n",
       "      <td>2.636976</td>\n",
       "      <td>-2.517376</td>\n",
       "      <td>2.260525</td>\n",
       "      <td>-1.668674</td>\n",
       "      <td>1.802831</td>\n",
       "      <td>-0.885256</td>\n",
       "      <td>-0.653945</td>\n",
       "      <td>-1.229083</td>\n",
       "      <td>-0.690082</td>\n",
       "      <td>-1.382004</td>\n",
       "      <td>-0.657003</td>\n",
       "      <td>1.614021</td>\n",
       "      <td>0.257214</td>\n",
       "      <td>-2.150707</td>\n",
       "      <td>2.322592</td>\n",
       "      <td>-1.550487</td>\n",
       "      <td>2.277426</td>\n",
       "      <td>-2.064406</td>\n",
       "    </tr>\n",
       "    <tr>\n",
       "      <th>3</th>\n",
       "      <td>2.354747</td>\n",
       "      <td>-1.876856</td>\n",
       "      <td>2.377024</td>\n",
       "      <td>-1.896052</td>\n",
       "      <td>1.912665</td>\n",
       "      <td>-1.197385</td>\n",
       "      <td>-0.489393</td>\n",
       "      <td>-1.505275</td>\n",
       "      <td>-0.684306</td>\n",
       "      <td>-1.135979</td>\n",
       "      <td>-0.869354</td>\n",
       "      <td>1.474898</td>\n",
       "      <td>0.710015</td>\n",
       "      <td>-2.400015</td>\n",
       "      <td>2.390991</td>\n",
       "      <td>-1.717850</td>\n",
       "      <td>2.058383</td>\n",
       "      <td>-1.708951</td>\n",
       "    </tr>\n",
       "    <tr>\n",
       "      <th>4</th>\n",
       "      <td>2.399571</td>\n",
       "      <td>-2.048053</td>\n",
       "      <td>2.305231</td>\n",
       "      <td>-1.685700</td>\n",
       "      <td>1.877134</td>\n",
       "      <td>-0.864409</td>\n",
       "      <td>-0.865824</td>\n",
       "      <td>-1.169526</td>\n",
       "      <td>-0.640873</td>\n",
       "      <td>-1.189918</td>\n",
       "      <td>-0.739637</td>\n",
       "      <td>1.434113</td>\n",
       "      <td>0.430941</td>\n",
       "      <td>-2.021765</td>\n",
       "      <td>2.166227</td>\n",
       "      <td>-1.524409</td>\n",
       "      <td>2.498458</td>\n",
       "      <td>-2.221239</td>\n",
       "    </tr>\n",
       "    <tr>\n",
       "      <th>...</th>\n",
       "      <td>...</td>\n",
       "      <td>...</td>\n",
       "      <td>...</td>\n",
       "      <td>...</td>\n",
       "      <td>...</td>\n",
       "      <td>...</td>\n",
       "      <td>...</td>\n",
       "      <td>...</td>\n",
       "      <td>...</td>\n",
       "      <td>...</td>\n",
       "      <td>...</td>\n",
       "      <td>...</td>\n",
       "      <td>...</td>\n",
       "      <td>...</td>\n",
       "      <td>...</td>\n",
       "      <td>...</td>\n",
       "      <td>...</td>\n",
       "      <td>...</td>\n",
       "    </tr>\n",
       "    <tr>\n",
       "      <th>1998</th>\n",
       "      <td>2.356830</td>\n",
       "      <td>-2.227537</td>\n",
       "      <td>2.260025</td>\n",
       "      <td>-1.466320</td>\n",
       "      <td>1.934913</td>\n",
       "      <td>-1.315226</td>\n",
       "      <td>-0.263490</td>\n",
       "      <td>-1.262185</td>\n",
       "      <td>-0.932233</td>\n",
       "      <td>-1.735316</td>\n",
       "      <td>0.110323</td>\n",
       "      <td>-0.929475</td>\n",
       "      <td>-3.471983</td>\n",
       "      <td>-1.545596</td>\n",
       "      <td>2.123954</td>\n",
       "      <td>-2.472719</td>\n",
       "      <td>2.326599</td>\n",
       "      <td>-1.638868</td>\n",
       "    </tr>\n",
       "    <tr>\n",
       "      <th>1999</th>\n",
       "      <td>2.471449</td>\n",
       "      <td>-2.358560</td>\n",
       "      <td>2.342184</td>\n",
       "      <td>-1.404628</td>\n",
       "      <td>1.891486</td>\n",
       "      <td>-1.335202</td>\n",
       "      <td>-0.217832</td>\n",
       "      <td>-1.374527</td>\n",
       "      <td>-0.730784</td>\n",
       "      <td>-1.820728</td>\n",
       "      <td>-0.091078</td>\n",
       "      <td>-0.902650</td>\n",
       "      <td>-3.551254</td>\n",
       "      <td>-1.866050</td>\n",
       "      <td>2.162134</td>\n",
       "      <td>-2.441748</td>\n",
       "      <td>2.778185</td>\n",
       "      <td>-1.930857</td>\n",
       "    </tr>\n",
       "    <tr>\n",
       "      <th>2000</th>\n",
       "      <td>2.439969</td>\n",
       "      <td>-2.419794</td>\n",
       "      <td>2.089294</td>\n",
       "      <td>-1.088311</td>\n",
       "      <td>2.346976</td>\n",
       "      <td>-1.521531</td>\n",
       "      <td>-0.227706</td>\n",
       "      <td>-1.602230</td>\n",
       "      <td>-0.771052</td>\n",
       "      <td>-1.776424</td>\n",
       "      <td>0.066199</td>\n",
       "      <td>-1.275761</td>\n",
       "      <td>-3.457116</td>\n",
       "      <td>-1.873783</td>\n",
       "      <td>1.979497</td>\n",
       "      <td>-2.231807</td>\n",
       "      <td>2.618710</td>\n",
       "      <td>-1.854226</td>\n",
       "    </tr>\n",
       "    <tr>\n",
       "      <th>2001</th>\n",
       "      <td>1.981917</td>\n",
       "      <td>-2.182109</td>\n",
       "      <td>2.085243</td>\n",
       "      <td>-1.237715</td>\n",
       "      <td>2.440467</td>\n",
       "      <td>-1.477725</td>\n",
       "      <td>-0.464173</td>\n",
       "      <td>-1.340960</td>\n",
       "      <td>-0.728781</td>\n",
       "      <td>-1.811188</td>\n",
       "      <td>-0.177124</td>\n",
       "      <td>-0.705686</td>\n",
       "      <td>-3.799368</td>\n",
       "      <td>-1.789423</td>\n",
       "      <td>2.293403</td>\n",
       "      <td>-2.660915</td>\n",
       "      <td>2.539506</td>\n",
       "      <td>-1.860147</td>\n",
       "    </tr>\n",
       "    <tr>\n",
       "      <th>2002</th>\n",
       "      <td>2.639220</td>\n",
       "      <td>-2.430141</td>\n",
       "      <td>2.343646</td>\n",
       "      <td>-1.485555</td>\n",
       "      <td>2.053140</td>\n",
       "      <td>-1.297194</td>\n",
       "      <td>-0.309175</td>\n",
       "      <td>-1.258130</td>\n",
       "      <td>-0.898760</td>\n",
       "      <td>-1.868704</td>\n",
       "      <td>-0.032821</td>\n",
       "      <td>-0.815401</td>\n",
       "      <td>-3.627029</td>\n",
       "      <td>-1.895112</td>\n",
       "      <td>2.005403</td>\n",
       "      <td>-2.359952</td>\n",
       "      <td>2.971459</td>\n",
       "      <td>-2.177916</td>\n",
       "    </tr>\n",
       "  </tbody>\n",
       "</table>\n",
       "<p>2003 rows × 18 columns</p>\n",
       "</div>"
      ],
      "text/plain": [
       "          psi0      phi1      psi1      phi2      psi2      phi3      psi3  \\\n",
       "0     2.749702 -2.242637  2.658459 -2.188176  2.016950 -1.288156 -0.591754   \n",
       "1     2.749702 -2.242637  2.658459 -2.188176  2.016950 -1.288156 -0.591754   \n",
       "2     2.636976 -2.517376  2.260525 -1.668674  1.802831 -0.885256 -0.653945   \n",
       "3     2.354747 -1.876856  2.377024 -1.896052  1.912665 -1.197385 -0.489393   \n",
       "4     2.399571 -2.048053  2.305231 -1.685700  1.877134 -0.864409 -0.865824   \n",
       "...        ...       ...       ...       ...       ...       ...       ...   \n",
       "1998  2.356830 -2.227537  2.260025 -1.466320  1.934913 -1.315226 -0.263490   \n",
       "1999  2.471449 -2.358560  2.342184 -1.404628  1.891486 -1.335202 -0.217832   \n",
       "2000  2.439969 -2.419794  2.089294 -1.088311  2.346976 -1.521531 -0.227706   \n",
       "2001  1.981917 -2.182109  2.085243 -1.237715  2.440467 -1.477725 -0.464173   \n",
       "2002  2.639220 -2.430141  2.343646 -1.485555  2.053140 -1.297194 -0.309175   \n",
       "\n",
       "          phi4      psi4      phi5      psi5      phi6      psi6      phi7  \\\n",
       "0    -1.312058 -0.703593 -1.117966 -0.780469  1.556576  0.343489 -2.254260   \n",
       "1    -1.312058 -0.703593 -1.117966 -0.780469  1.556576  0.343489 -2.254260   \n",
       "2    -1.229083 -0.690082 -1.382004 -0.657003  1.614021  0.257214 -2.150707   \n",
       "3    -1.505275 -0.684306 -1.135979 -0.869354  1.474898  0.710015 -2.400015   \n",
       "4    -1.169526 -0.640873 -1.189918 -0.739637  1.434113  0.430941 -2.021765   \n",
       "...        ...       ...       ...       ...       ...       ...       ...   \n",
       "1998 -1.262185 -0.932233 -1.735316  0.110323 -0.929475 -3.471983 -1.545596   \n",
       "1999 -1.374527 -0.730784 -1.820728 -0.091078 -0.902650 -3.551254 -1.866050   \n",
       "2000 -1.602230 -0.771052 -1.776424  0.066199 -1.275761 -3.457116 -1.873783   \n",
       "2001 -1.340960 -0.728781 -1.811188 -0.177124 -0.705686 -3.799368 -1.789423   \n",
       "2002 -1.258130 -0.898760 -1.868704 -0.032821 -0.815401 -3.627029 -1.895112   \n",
       "\n",
       "          psi7      phi8      psi8      phi9  \n",
       "0     2.280863 -1.498666  2.336230 -2.211412  \n",
       "1     2.280863 -1.498666  2.336230 -2.211412  \n",
       "2     2.322592 -1.550487  2.277426 -2.064406  \n",
       "3     2.390991 -1.717850  2.058383 -1.708951  \n",
       "4     2.166227 -1.524409  2.498458 -2.221239  \n",
       "...        ...       ...       ...       ...  \n",
       "1998  2.123954 -2.472719  2.326599 -1.638868  \n",
       "1999  2.162134 -2.441748  2.778185 -1.930857  \n",
       "2000  1.979497 -2.231807  2.618710 -1.854226  \n",
       "2001  2.293403 -2.660915  2.539506 -1.860147  \n",
       "2002  2.005403 -2.359952  2.971459 -2.177916  \n",
       "\n",
       "[2003 rows x 18 columns]"
      ]
     },
     "execution_count": 279,
     "metadata": {},
     "output_type": "execute_result"
    }
   ],
   "source": [
    "X = data.iloc[:,data.columns.str.contains('^p|e2e')].copy(deep=True)\n",
    "y = data.state\n",
    "\n",
    "# apply unwrap \n",
    "X.iloc[:,X.columns.str.contains('^p')].apply(np.unwrap)\n"
   ]
  },
  {
   "cell_type": "code",
   "execution_count": 281,
   "metadata": {
    "execution": {
     "iopub.execute_input": "2024-01-28T16:11:42.324164Z",
     "iopub.status.busy": "2024-01-28T16:11:42.323286Z",
     "iopub.status.idle": "2024-01-28T16:11:42.327916Z",
     "shell.execute_reply": "2024-01-28T16:11:42.327203Z",
     "shell.execute_reply.started": "2024-01-28T16:11:42.324118Z"
    }
   },
   "outputs": [],
   "source": [
    "shlda = Pipeline([('scaler', StandardScaler()), ('hlda', HarmonicLinearDiscriminantAnalysis())])"
   ]
  },
  {
   "cell_type": "code",
   "execution_count": 282,
   "metadata": {
    "execution": {
     "iopub.execute_input": "2024-01-28T16:11:42.855702Z",
     "iopub.status.busy": "2024-01-28T16:11:42.854952Z",
     "iopub.status.idle": "2024-01-28T16:11:42.878387Z",
     "shell.execute_reply": "2024-01-28T16:11:42.877544Z",
     "shell.execute_reply.started": "2024-01-28T16:11:42.855661Z"
    }
   },
   "outputs": [
    {
     "data": {
      "text/html": [
       "<style>#sk-container-id-7 {color: black;}#sk-container-id-7 pre{padding: 0;}#sk-container-id-7 div.sk-toggleable {background-color: white;}#sk-container-id-7 label.sk-toggleable__label {cursor: pointer;display: block;width: 100%;margin-bottom: 0;padding: 0.3em;box-sizing: border-box;text-align: center;}#sk-container-id-7 label.sk-toggleable__label-arrow:before {content: \"▸\";float: left;margin-right: 0.25em;color: #696969;}#sk-container-id-7 label.sk-toggleable__label-arrow:hover:before {color: black;}#sk-container-id-7 div.sk-estimator:hover label.sk-toggleable__label-arrow:before {color: black;}#sk-container-id-7 div.sk-toggleable__content {max-height: 0;max-width: 0;overflow: hidden;text-align: left;background-color: #f0f8ff;}#sk-container-id-7 div.sk-toggleable__content pre {margin: 0.2em;color: black;border-radius: 0.25em;background-color: #f0f8ff;}#sk-container-id-7 input.sk-toggleable__control:checked~div.sk-toggleable__content {max-height: 200px;max-width: 100%;overflow: auto;}#sk-container-id-7 input.sk-toggleable__control:checked~label.sk-toggleable__label-arrow:before {content: \"▾\";}#sk-container-id-7 div.sk-estimator input.sk-toggleable__control:checked~label.sk-toggleable__label {background-color: #d4ebff;}#sk-container-id-7 div.sk-label input.sk-toggleable__control:checked~label.sk-toggleable__label {background-color: #d4ebff;}#sk-container-id-7 input.sk-hidden--visually {border: 0;clip: rect(1px 1px 1px 1px);clip: rect(1px, 1px, 1px, 1px);height: 1px;margin: -1px;overflow: hidden;padding: 0;position: absolute;width: 1px;}#sk-container-id-7 div.sk-estimator {font-family: monospace;background-color: #f0f8ff;border: 1px dotted black;border-radius: 0.25em;box-sizing: border-box;margin-bottom: 0.5em;}#sk-container-id-7 div.sk-estimator:hover {background-color: #d4ebff;}#sk-container-id-7 div.sk-parallel-item::after {content: \"\";width: 100%;border-bottom: 1px solid gray;flex-grow: 1;}#sk-container-id-7 div.sk-label:hover label.sk-toggleable__label {background-color: #d4ebff;}#sk-container-id-7 div.sk-serial::before {content: \"\";position: absolute;border-left: 1px solid gray;box-sizing: border-box;top: 0;bottom: 0;left: 50%;z-index: 0;}#sk-container-id-7 div.sk-serial {display: flex;flex-direction: column;align-items: center;background-color: white;padding-right: 0.2em;padding-left: 0.2em;position: relative;}#sk-container-id-7 div.sk-item {position: relative;z-index: 1;}#sk-container-id-7 div.sk-parallel {display: flex;align-items: stretch;justify-content: center;background-color: white;position: relative;}#sk-container-id-7 div.sk-item::before, #sk-container-id-7 div.sk-parallel-item::before {content: \"\";position: absolute;border-left: 1px solid gray;box-sizing: border-box;top: 0;bottom: 0;left: 50%;z-index: -1;}#sk-container-id-7 div.sk-parallel-item {display: flex;flex-direction: column;z-index: 1;position: relative;background-color: white;}#sk-container-id-7 div.sk-parallel-item:first-child::after {align-self: flex-end;width: 50%;}#sk-container-id-7 div.sk-parallel-item:last-child::after {align-self: flex-start;width: 50%;}#sk-container-id-7 div.sk-parallel-item:only-child::after {width: 0;}#sk-container-id-7 div.sk-dashed-wrapped {border: 1px dashed gray;margin: 0 0.4em 0.5em 0.4em;box-sizing: border-box;padding-bottom: 0.4em;background-color: white;}#sk-container-id-7 div.sk-label label {font-family: monospace;font-weight: bold;display: inline-block;line-height: 1.2em;}#sk-container-id-7 div.sk-label-container {text-align: center;}#sk-container-id-7 div.sk-container {/* jupyter's `normalize.less` sets `[hidden] { display: none; }` but bootstrap.min.css set `[hidden] { display: none !important; }` so we also need the `!important` here to be able to override the default hidden behavior on the sphinx rendered scikit-learn.org. See: https://github.com/scikit-learn/scikit-learn/issues/21755 */display: inline-block !important;position: relative;}#sk-container-id-7 div.sk-text-repr-fallback {display: none;}</style><div id=\"sk-container-id-7\" class=\"sk-top-container\"><div class=\"sk-text-repr-fallback\"><pre>Pipeline(steps=[(&#x27;scaler&#x27;, StandardScaler()),\n",
       "                (&#x27;hlda&#x27;, HarmonicLinearDiscriminantAnalysis())])</pre><b>In a Jupyter environment, please rerun this cell to show the HTML representation or trust the notebook. <br />On GitHub, the HTML representation is unable to render, please try loading this page with nbviewer.org.</b></div><div class=\"sk-container\" hidden><div class=\"sk-item sk-dashed-wrapped\"><div class=\"sk-label-container\"><div class=\"sk-label sk-toggleable\"><input class=\"sk-toggleable__control sk-hidden--visually\" id=\"sk-estimator-id-9\" type=\"checkbox\" ><label for=\"sk-estimator-id-9\" class=\"sk-toggleable__label sk-toggleable__label-arrow\">Pipeline</label><div class=\"sk-toggleable__content\"><pre>Pipeline(steps=[(&#x27;scaler&#x27;, StandardScaler()),\n",
       "                (&#x27;hlda&#x27;, HarmonicLinearDiscriminantAnalysis())])</pre></div></div></div><div class=\"sk-serial\"><div class=\"sk-item\"><div class=\"sk-estimator sk-toggleable\"><input class=\"sk-toggleable__control sk-hidden--visually\" id=\"sk-estimator-id-10\" type=\"checkbox\" ><label for=\"sk-estimator-id-10\" class=\"sk-toggleable__label sk-toggleable__label-arrow\">StandardScaler</label><div class=\"sk-toggleable__content\"><pre>StandardScaler()</pre></div></div></div><div class=\"sk-item\"><div class=\"sk-estimator sk-toggleable\"><input class=\"sk-toggleable__control sk-hidden--visually\" id=\"sk-estimator-id-11\" type=\"checkbox\" ><label for=\"sk-estimator-id-11\" class=\"sk-toggleable__label sk-toggleable__label-arrow\">HarmonicLinearDiscriminantAnalysis</label><div class=\"sk-toggleable__content\"><pre>HarmonicLinearDiscriminantAnalysis()</pre></div></div></div></div></div></div></div>"
      ],
      "text/plain": [
       "Pipeline(steps=[('scaler', StandardScaler()),\n",
       "                ('hlda', HarmonicLinearDiscriminantAnalysis())])"
      ]
     },
     "execution_count": 282,
     "metadata": {},
     "output_type": "execute_result"
    }
   ],
   "source": [
    "shlda.fit(X,y)"
   ]
  },
  {
   "cell_type": "code",
   "execution_count": 283,
   "metadata": {
    "execution": {
     "iopub.execute_input": "2024-01-28T16:11:43.915260Z",
     "iopub.status.busy": "2024-01-28T16:11:43.914375Z",
     "iopub.status.idle": "2024-01-28T16:11:44.106027Z",
     "shell.execute_reply": "2024-01-28T16:11:44.105188Z",
     "shell.execute_reply.started": "2024-01-28T16:11:43.915216Z"
    }
   },
   "outputs": [
    {
     "data": {
      "image/png": "[encoded data removed]",
      "text/plain": [
       "<Figure size 640x480 with 1 Axes>"
      ]
     },
     "metadata": {},
     "output_type": "display_data"
    }
   ],
   "source": [
    "plt.hist(shlda.transform(X)[y == 'folded'],  label = 'folded' )\n",
    "plt.hist(shlda.transform(X)[y == 'unfolded'], label = 'unfolded' )\n",
    "plt.legend()\n",
    "plt.show()"
   ]
  },
  {
   "cell_type": "code",
   "execution_count": 284,
   "metadata": {
    "execution": {
     "iopub.execute_input": "2024-01-28T16:11:49.905973Z",
     "iopub.status.busy": "2024-01-28T16:11:49.905115Z",
     "iopub.status.idle": "2024-01-28T16:11:49.909881Z",
     "shell.execute_reply": "2024-01-28T16:11:49.909157Z",
     "shell.execute_reply.started": "2024-01-28T16:11:49.905933Z"
    }
   },
   "outputs": [],
   "source": [
    "hlda_evects = (shlda[-1].scalings_)[:,0]"
   ]
  },
  {
   "cell_type": "code",
   "execution_count": 285,
   "metadata": {
    "execution": {
     "iopub.execute_input": "2024-01-28T16:11:50.484460Z",
     "iopub.status.busy": "2024-01-28T16:11:50.483474Z",
     "iopub.status.idle": "2024-01-28T16:11:51.790091Z",
     "shell.execute_reply": "2024-01-28T16:11:51.789302Z",
     "shell.execute_reply.started": "2024-01-28T16:11:50.484425Z"
    }
   },
   "outputs": [
    {
     "data": {
      "image/png": "[encoded data removed]",
      "text/plain": [
       "<Figure size 640x480 with 1 Axes>"
      ]
     },
     "metadata": {},
     "output_type": "display_data"
    }
   ],
   "source": [
    "fig = plt.figure()\n",
    "sortx = np.argsort(np.abs(hlda_evects.flatten()),)[::-1]\n",
    "plt.bar(X.columns[sortx],hlda_evects.flatten()[sortx],align='center', width=0.7)\n",
    "plt.xticks(rotation=90,fontsize=6)\n",
    "plt.xlabel('CV')\n",
    "plt.ylabel('Coefficient Size')\n",
    "plt.show()"
   ]
  },
  {
   "cell_type": "markdown",
   "metadata": {},
   "source": [
    "# Mutate Chignolin"
   ]
  },
  {
   "cell_type": "code",
   "execution_count": 68,
   "metadata": {
    "execution": {
     "iopub.execute_input": "2024-02-07T11:02:41.540774Z",
     "iopub.status.busy": "2024-02-07T11:02:41.539870Z",
     "iopub.status.idle": "2024-02-07T11:02:41.545699Z",
     "shell.execute_reply": "2024-02-07T11:02:41.544674Z",
     "shell.execute_reply.started": "2024-02-07T11:02:41.540734Z"
    }
   },
   "outputs": [],
   "source": [
    "gen.delete_atoms(segid='P')"
   ]
  },
  {
   "cell_type": "code",
   "execution_count": 69,
   "metadata": {
    "execution": {
     "iopub.execute_input": "2024-02-07T11:02:44.754838Z",
     "iopub.status.busy": "2024-02-07T11:02:44.753946Z",
     "iopub.status.idle": "2024-02-07T11:02:44.767377Z",
     "shell.execute_reply": "2024-02-07T11:02:44.766537Z",
     "shell.execute_reply.started": "2024-02-07T11:02:44.754802Z"
    }
   },
   "outputs": [],
   "source": [
    "# create pdb psf files\n",
    "\n",
    "gen = PsfGen(output=\"/dev/null\")  # Suppress output since there's too much\n",
    "#gen.read_topology('../data/top_all27_prot_lipid_na.inp')\n",
    "gen.read_topology(str(base / 'data/top_all27_prot_lipid_na.inp'))"
   ]
  },
  {
   "cell_type": "code",
   "execution_count": 70,
   "metadata": {
    "execution": {
     "iopub.execute_input": "2024-02-07T11:02:48.404342Z",
     "iopub.status.busy": "2024-02-07T11:02:48.403427Z",
     "iopub.status.idle": "2024-02-07T11:02:48.411278Z",
     "shell.execute_reply": "2024-02-07T11:02:48.410471Z",
     "shell.execute_reply.started": "2024-02-07T11:02:48.404303Z"
    }
   },
   "outputs": [],
   "source": [
    "# create mutation at the 6th residue 'GLY' -> 'PRO'\n",
    "gen.alias_atom(resname='ILE' , top_atomname='CD', pdb_atomname='CD1')\n",
    "gen.add_segment(segid=\"P\",\n",
    "                pdbfile=str(base / 'data/YYDPETGTWY.pdb'),\n",
    "                first='NTER',\n",
    "                last='CTER',\n",
    "                mutate=[(\"5\",\"SER\")])\n",
    "gen.read_coords(segid=\"P\", filename=str(base / 'data/YYDPETGTWY.pdb'))\n",
    "gen.regenerate_resids()\n",
    "gen.regenerate_angles()\n",
    "gen.regenerate_dihedrals()\n",
    "gen.guess_coords()"
   ]
  },
  {
   "cell_type": "code",
   "execution_count": 71,
   "metadata": {
    "execution": {
     "iopub.execute_input": "2024-02-07T11:04:48.668483Z",
     "iopub.status.busy": "2024-02-07T11:04:48.668092Z",
     "iopub.status.idle": "2024-02-07T11:04:48.692632Z",
     "shell.execute_reply": "2024-02-07T11:04:48.691511Z",
     "shell.execute_reply.started": "2024-02-07T11:04:48.668447Z"
    }
   },
   "outputs": [],
   "source": [
    "# make folder\n",
    "mutdir = base / 'data/interim/YYDPESGTWY'\n",
    "os.makedirs(str(mutdir), exist_ok=True)\n",
    "gen.write_pdb(str(mutdir / 'YYDPESGTWY.pdb'))\n",
    "gen.write_psf(str(mutdir / 'YYDPESGTWY.psf'))"
   ]
  },
  {
   "cell_type": "markdown",
   "metadata": {},
   "source": [
    "# Start from the new PDB/PSF files"
   ]
  },
  {
   "cell_type": "code",
   "execution_count": null,
   "metadata": {},
   "outputs": [],
   "source": []
  }
 ],
 "metadata": {
  "kernelspec": {
   "display_name": "Python [conda env:gromacs_plumed] *",
   "language": "python",
   "name": "conda-env-gromacs_plumed-py"
  },
  "language_info": {
   "codemirror_mode": {
    "name": "ipython",
    "version": 3
   },
   "file_extension": ".py",
   "mimetype": "text/x-python",
   "name": "python",
   "nbconvert_exporter": "python",
   "pygments_lexer": "ipython3",
   "version": "3.9.0"
  }
 },
 "nbformat": 4,
 "nbformat_minor": 4
}
