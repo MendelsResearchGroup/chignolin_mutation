{
 "cells": [
  {
   "cell_type": "code",
   "execution_count": 1,
   "metadata": {
    "execution": {
     "iopub.execute_input": "2024-02-14T08:54:12.628744Z",
     "iopub.status.busy": "2024-02-14T08:54:12.627063Z",
     "iopub.status.idle": "2024-02-14T08:54:17.785019Z",
     "shell.execute_reply": "2024-02-14T08:54:17.784216Z",
     "shell.execute_reply.started": "2024-02-14T08:54:12.627291Z"
    }
   },
   "outputs": [
    {
     "data": {
      "application/vnd.jupyter.widget-view+json": {
       "model_id": "bd7201097fd548caab4b8581640472dd",
       "version_major": 2,
       "version_minor": 0
      },
      "text/plain": []
     },
     "metadata": {},
     "output_type": "display_data"
    },
    {
     "name": "stderr",
     "output_type": "stream",
     "text": [
      "[dgx-master:2734163] PMIX ERROR: NO-PERMISSIONS in file dstore_base.c at line 237\n",
      "[dgx-master:2734163] PMIX ERROR: NO-PERMISSIONS in file dstore_base.c at line 246\n"
     ]
    }
   ],
   "source": [
    "import plumed\n",
    "import numpy as np\n",
    "import pandas as pd\n",
    "import MDAnalysis as mda\n",
    "import nglview\n",
    "import os\n",
    "from pathlib import Path\n",
    "from psfgen import PsfGen\n",
    "import subprocess\n",
    "import gromacs\n",
    "import panedr\n",
    "from gromacs.setup import *\n",
    "\n",
    "import matplotlib.pyplot as plt\n",
    "\n",
    "import yaml\n",
    "\n"
   ]
  },
  {
   "cell_type": "code",
   "execution_count": 2,
   "metadata": {
    "execution": {
     "iopub.execute_input": "2024-02-14T08:54:17.787710Z",
     "iopub.status.busy": "2024-02-14T08:54:17.786832Z",
     "iopub.status.idle": "2024-02-14T08:54:17.791513Z",
     "shell.execute_reply": "2024-02-14T08:54:17.790820Z",
     "shell.execute_reply.started": "2024-02-14T08:54:17.787678Z"
    }
   },
   "outputs": [],
   "source": [
    "base  = Path(os.getcwd()).parent"
   ]
  },
  {
   "cell_type": "code",
   "execution_count": 3,
   "metadata": {
    "execution": {
     "iopub.execute_input": "2024-02-14T08:54:17.792585Z",
     "iopub.status.busy": "2024-02-14T08:54:17.792358Z",
     "iopub.status.idle": "2024-02-14T08:54:17.804832Z",
     "shell.execute_reply": "2024-02-14T08:54:17.803458Z",
     "shell.execute_reply.started": "2024-02-14T08:54:17.792562Z"
    }
   },
   "outputs": [],
   "source": [
    "import sys\n",
    "extra_path = str(base / 'src' )"
   ]
  },
  {
   "cell_type": "code",
   "execution_count": 4,
   "metadata": {
    "execution": {
     "iopub.execute_input": "2024-02-14T08:54:17.806372Z",
     "iopub.status.busy": "2024-02-14T08:54:17.805900Z",
     "iopub.status.idle": "2024-02-14T08:54:17.819559Z",
     "shell.execute_reply": "2024-02-14T08:54:17.818910Z",
     "shell.execute_reply.started": "2024-02-14T08:54:17.806346Z"
    }
   },
   "outputs": [],
   "source": [
    "if extra_path not in sys.path:\n",
    "    sys.path.append(extra_path)\n",
    "    \n",
    "from utils import clean, run_omp_slurm, run_mpi_slurm"
   ]
  },
  {
   "cell_type": "code",
   "execution_count": 5,
   "metadata": {
    "execution": {
     "iopub.execute_input": "2024-02-14T08:54:17.820904Z",
     "iopub.status.busy": "2024-02-14T08:54:17.820407Z",
     "iopub.status.idle": "2024-02-14T08:54:17.831379Z",
     "shell.execute_reply": "2024-02-14T08:54:17.830736Z",
     "shell.execute_reply.started": "2024-02-14T08:54:17.820879Z"
    }
   },
   "outputs": [],
   "source": [
    "# set some general constants\n",
    "NSTEPS = 1000000\n",
    "NSTXOUT = 100\n",
    "TEMPERATURE = 340\n",
    "NSTENERGY=100\n",
    "\n",
    "# set timers to strech and posres runs\n",
    "\n",
    "nsteps_strech = 100000\n",
    "nsteps_posres = 100000\n",
    "\n",
    "\n",
    "# YYDPETGTWY -> GYDPETGTWG\n",
    "# set some mutation and file/folder names \n",
    "\n",
    "mutate = []\n",
    "\n",
    "mutate_name = 'YYDPENGTWY'\n"
   ]
  },
  {
   "cell_type": "markdown",
   "metadata": {},
   "source": [
    "## Simulate the starting position for chignolin"
   ]
  },
  {
   "cell_type": "markdown",
   "metadata": {},
   "source": [
    "## Folded state"
   ]
  },
  {
   "cell_type": "code",
   "execution_count": 6,
   "metadata": {
    "execution": {
     "iopub.execute_input": "2024-02-14T08:54:17.832798Z",
     "iopub.status.busy": "2024-02-14T08:54:17.832208Z",
     "iopub.status.idle": "2024-02-14T08:54:17.853267Z",
     "shell.execute_reply": "2024-02-14T08:54:17.852521Z",
     "shell.execute_reply.started": "2024-02-14T08:54:17.832772Z"
    }
   },
   "outputs": [],
   "source": [
    "# create pdb psf files\n",
    "\n",
    "gen = PsfGen(output=\"/dev/null\")  # Suppress output since there's too much\n",
    "#gen.read_topology('../data/top_all27_prot_lipid_na.inp')\n",
    "gen.read_topology(str(base / 'data/top_all27_prot_lipid_na.inp'))"
   ]
  },
  {
   "cell_type": "code",
   "execution_count": 7,
   "metadata": {
    "execution": {
     "iopub.execute_input": "2024-02-14T08:54:17.855972Z",
     "iopub.status.busy": "2024-02-14T08:54:17.855468Z",
     "iopub.status.idle": "2024-02-14T08:54:17.864665Z",
     "shell.execute_reply": "2024-02-14T08:54:17.864016Z",
     "shell.execute_reply.started": "2024-02-14T08:54:17.855946Z"
    }
   },
   "outputs": [],
   "source": [
    "gen.alias_atom(resname='ILE' , top_atomname='CD', pdb_atomname='CD1')\n",
    "gen.add_segment(segid=\"P\",\n",
    "                pdbfile=str(base / 'data/YYDPETGTWY.pdb'),\n",
    "                first='NTER',\n",
    "                last='CTER',\n",
    "                mutate= mutate\n",
    "                )\n",
    "gen.read_coords(segid=\"P\", filename=str(base / 'data/YYDPETGTWY.pdb'))\n",
    "gen.regenerate_resids()\n",
    "gen.regenerate_angles()\n",
    "gen.regenerate_dihedrals()\n",
    "gen.guess_coords()"
   ]
  },
  {
   "cell_type": "code",
   "execution_count": 8,
   "metadata": {
    "execution": {
     "iopub.execute_input": "2024-02-14T08:54:17.865910Z",
     "iopub.status.busy": "2024-02-14T08:54:17.865681Z",
     "iopub.status.idle": "2024-02-14T08:54:17.880403Z",
     "shell.execute_reply": "2024-02-14T08:54:17.879693Z",
     "shell.execute_reply.started": "2024-02-14T08:54:17.865887Z"
    }
   },
   "outputs": [],
   "source": [
    "# make folder\n",
    "fdir = base / 'data/interim' / mutate_name / 'state_folded'"
   ]
  },
  {
   "cell_type": "code",
   "execution_count": 9,
   "metadata": {
    "execution": {
     "iopub.execute_input": "2024-02-14T08:54:17.881873Z",
     "iopub.status.busy": "2024-02-14T08:54:17.881280Z",
     "iopub.status.idle": "2024-02-14T08:54:17.896462Z",
     "shell.execute_reply": "2024-02-14T08:54:17.895586Z",
     "shell.execute_reply.started": "2024-02-14T08:54:17.881848Z"
    }
   },
   "outputs": [],
   "source": [
    "os.makedirs(str(fdir), exist_ok=True)"
   ]
  },
  {
   "cell_type": "code",
   "execution_count": 10,
   "metadata": {
    "execution": {
     "iopub.execute_input": "2024-02-14T08:54:17.898125Z",
     "iopub.status.busy": "2024-02-14T08:54:17.897403Z",
     "iopub.status.idle": "2024-02-14T08:54:17.914688Z",
     "shell.execute_reply": "2024-02-14T08:54:17.913996Z",
     "shell.execute_reply.started": "2024-02-14T08:54:17.898100Z"
    }
   },
   "outputs": [],
   "source": [
    "gen.write_pdb(str(fdir / str(mutate_name + '.pdb')))\n",
    "gen.write_psf(str(fdir / str(mutate_name + '.psf')))"
   ]
  },
  {
   "cell_type": "code",
   "execution_count": 11,
   "metadata": {
    "execution": {
     "iopub.execute_input": "2024-02-14T08:54:17.916114Z",
     "iopub.status.busy": "2024-02-14T08:54:17.915578Z",
     "iopub.status.idle": "2024-02-14T08:54:17.929241Z",
     "shell.execute_reply": "2024-02-14T08:54:17.928305Z",
     "shell.execute_reply.started": "2024-02-14T08:54:17.916089Z"
    }
   },
   "outputs": [],
   "source": [
    "# solvate and ionize \n",
    "os.chdir(fdir)"
   ]
  },
  {
   "cell_type": "code",
   "execution_count": 12,
   "metadata": {
    "execution": {
     "iopub.execute_input": "2024-02-14T08:54:17.930842Z",
     "iopub.status.busy": "2024-02-14T08:54:17.930124Z",
     "iopub.status.idle": "2024-02-14T08:54:20.776014Z",
     "shell.execute_reply": "2024-02-14T08:54:20.775089Z",
     "shell.execute_reply.started": "2024-02-14T08:54:17.930815Z"
    }
   },
   "outputs": [
    {
     "name": "stderr",
     "output_type": "stream",
     "text": [
      "               :-) GROMACS - gmx pdb2gmx, 2020.6-plumed-2.8.0 (-:\n",
      "\n",
      "                            GROMACS is written by:\n",
      "     Emile Apol      Rossen Apostolov      Paul Bauer     Herman J.C. Berendsen\n",
      "    Par Bjelkmar      Christian Blau   Viacheslav Bolnykh     Kevin Boyd    \n",
      " Aldert van Buuren   Rudi van Drunen     Anton Feenstra       Alan Gray     \n",
      "  Gerrit Groenhof     Anca Hamuraru    Vincent Hindriksen  M. Eric Irrgang  \n",
      "  Aleksei Iupinov   Christoph Junghans     Joe Jordan     Dimitrios Karkoulis\n",
      "    Peter Kasson        Jiri Kraus      Carsten Kutzner      Per Larsson    \n",
      "  Justin A. Lemkul    Viveca Lindahl    Magnus Lundborg     Erik Marklund   \n",
      "    Pascal Merz     Pieter Meulenhoff    Teemu Murtola       Szilard Pall   \n",
      "    Sander Pronk      Roland Schulz      Michael Shirts    Alexey Shvetsov  \n",
      "   Alfons Sijbers     Peter Tieleman      Jon Vincent      Teemu Virolainen \n",
      " Christian Wennberg    Maarten Wolf      Artem Zhmurov   \n",
      "                           and the project leaders:\n",
      "        Mark Abraham, Berk Hess, Erik Lindahl, and David van der Spoel\n",
      "\n",
      "Copyright (c) 1991-2000, University of Groningen, The Netherlands.\n",
      "Copyright (c) 2001-2019, The GROMACS development team at\n",
      "Uppsala University, Stockholm University and\n",
      "the Royal Institute of Technology, Sweden.\n",
      "check out http://www.gromacs.org for more information.\n",
      "\n",
      "GROMACS is free software; you can redistribute it and/or modify it\n",
      "under the terms of the GNU Lesser General Public License\n",
      "as published by the Free Software Foundation; either version 2.1\n",
      "of the License, or (at your option) any later version.\n",
      "\n",
      "GROMACS:      gmx pdb2gmx, version 2020.6-plumed-2.8.0\n",
      "Executable:   /home/zadoki/miniconda3/envs/bpti/bin/gmx_mpi\n",
      "Data prefix:  /home/zadoki/miniconda3/envs/bpti\n",
      "Working dir:  /rg/mendels_prj/zadoki/chignolin_test/data/interim/GYDPENGTWG/state_folded/top\n",
      "Command line:\n",
      "  gmx_mpi pdb2gmx -ignh -posrefc 50 -f /rg/mendels_prj/zadoki/chignolin_test/data/interim/GYDPENGTWG/state_folded/GYDPENGTWG.pdb -o protein_solvate.pdb -p system.top -i posres.itp -ff charmm27 -water tip3p\n",
      "\n",
      "Opening force field file /home/zadoki/miniconda3/envs/bpti/share/gromacs/top/charmm27.ff/aminoacids.r2b\n",
      "Opening force field file /home/zadoki/miniconda3/envs/bpti/share/gromacs/top/charmm27.ff/rna.r2b\n",
      "\n",
      "WARNING: there were 2 atoms with zero occupancy and 0 atoms with\n",
      "         occupancy unequal to one (out of 77 atoms). Check your pdb file.\n",
      "\n",
      "Opening force field file /home/zadoki/miniconda3/envs/bpti/share/gromacs/top/charmm27.ff/atomtypes.atp\n",
      "Opening force field file /home/zadoki/miniconda3/envs/bpti/share/gromacs/top/charmm27.ff/aminoacids.rtp\n",
      "Opening force field file /home/zadoki/miniconda3/envs/bpti/share/gromacs/top/charmm27.ff/dna.rtp\n",
      "Opening force field file /home/zadoki/miniconda3/envs/bpti/share/gromacs/top/charmm27.ff/lipids.rtp\n",
      "Opening force field file /home/zadoki/miniconda3/envs/bpti/share/gromacs/top/charmm27.ff/rna.rtp\n",
      "Opening force field file /home/zadoki/miniconda3/envs/bpti/share/gromacs/top/charmm27.ff/aminoacids.hdb\n",
      "Opening force field file /home/zadoki/miniconda3/envs/bpti/share/gromacs/top/charmm27.ff/dna.hdb\n",
      "Opening force field file /home/zadoki/miniconda3/envs/bpti/share/gromacs/top/charmm27.ff/lipids.hdb\n",
      "Opening force field file /home/zadoki/miniconda3/envs/bpti/share/gromacs/top/charmm27.ff/rna.hdb\n",
      "Opening force field file /home/zadoki/miniconda3/envs/bpti/share/gromacs/top/charmm27.ff/aminoacids.n.tdb\n",
      "Opening force field file /home/zadoki/miniconda3/envs/bpti/share/gromacs/top/charmm27.ff/dna.n.tdb\n",
      "Opening force field file /home/zadoki/miniconda3/envs/bpti/share/gromacs/top/charmm27.ff/rna.n.tdb\n",
      "Opening force field file /home/zadoki/miniconda3/envs/bpti/share/gromacs/top/charmm27.ff/aminoacids.c.tdb\n",
      "Opening force field file /home/zadoki/miniconda3/envs/bpti/share/gromacs/top/charmm27.ff/dna.c.tdb\n",
      "Opening force field file /home/zadoki/miniconda3/envs/bpti/share/gromacs/top/charmm27.ff/rna.c.tdb\n",
      "8 out of 8 lines of specbond.dat converted successfully\n",
      "Opening force field file /home/zadoki/miniconda3/envs/bpti/share/gromacs/top/charmm27.ff/aminoacids.arn\n",
      "Opening force field file /home/zadoki/miniconda3/envs/bpti/share/gromacs/top/charmm27.ff/dna.arn\n",
      "Opening force field file /home/zadoki/miniconda3/envs/bpti/share/gromacs/top/charmm27.ff/rna.arn\n",
      "Making bonds...\n",
      "Number of bonds was 141, now 141\n",
      "Generating angles, dihedrals and pairs...\n",
      "Before cleaning: 359 pairs\n",
      "Before cleaning: 369 dihedrals\n",
      "Keeping all generated dihedrals\n",
      "Making cmap torsions...\n",
      "There are    8 cmap torsion pairs\n",
      "There are  369 dihedrals,   21 impropers,  249 angles\n",
      "           353 pairs,      141 bonds and     0 virtual sites\n",
      "Total mass 1080.076 a.m.u.\n",
      "Total charge -2.000 e\n",
      "Writing topology\n",
      "\n",
      "Writing coordinate file...\n",
      "\n",
      "GROMACS reminds you: \"I used to be blond and stupid, but now I dyed it black\" (Miss Li)\n",
      "\n",
      "[dgx-master:2734244] PMIX ERROR: NO-PERMISSIONS in file dstore_base.c at line 237\n",
      "[dgx-master:2734244] PMIX ERROR: NO-PERMISSIONS in file dstore_base.c at line 246\n"
     ]
    },
    {
     "name": "stdout",
     "output_type": "stream",
     "text": [
      "\n",
      "Using the Charmm27 force field in directory charmm27.ff\n",
      "\n",
      "going to rename charmm27.ff/aminoacids.r2b\n",
      "going to rename charmm27.ff/rna.r2b\n",
      "Reading /rg/mendels_prj/zadoki/chignolin_test/data/interim/GYDPENGTWG/state_folded/GYDPENGTWG.pdb...\n",
      "Read '', 77 atoms\n",
      "Analyzing pdb file\n",
      "Splitting chemical chains based on TER records or chain id changing.\n",
      "There are 1 chains and 0 blocks of water and 10 residues with 77 atoms\n",
      "\n",
      "  chain  #res #atoms\n",
      "  1 'A'    10     77  \n",
      "\n",
      "Reading residue database... (Charmm27)\n",
      "Processing chain 1 'A' (77 atoms, 10 residues)\n",
      "Identified residue GLY0 as a starting terminus.\n",
      "Identified residue GLY9 as a ending terminus.\n",
      "Start terminus GLY-0: GLY-NH3+\n",
      "End terminus GLY-9: COO-\n",
      "Checking for duplicate atoms....\n",
      "Generating any missing hydrogen atoms and/or adding termini.\n",
      "Now there are 10 residues with 138 atoms\n",
      "\t\t--------- PLEASE NOTE ------------\n",
      "You have successfully generated a topology from: /rg/mendels_prj/zadoki/chignolin_test/data/interim/GYDPENGTWG/state_folded/GYDPENGTWG.pdb.\n",
      "The Charmm27 force field and the tip3p water model are used.\n",
      "\t\t--------- ETON ESAELP ------------\n"
     ]
    },
    {
     "name": "stderr",
     "output_type": "stream",
     "text": [
      "              :-) GROMACS - gmx editconf, 2020.6-plumed-2.8.0 (-:\n",
      "\n",
      "                            GROMACS is written by:\n",
      "     Emile Apol      Rossen Apostolov      Paul Bauer     Herman J.C. Berendsen\n",
      "    Par Bjelkmar      Christian Blau   Viacheslav Bolnykh     Kevin Boyd    \n",
      " Aldert van Buuren   Rudi van Drunen     Anton Feenstra       Alan Gray     \n",
      "  Gerrit Groenhof     Anca Hamuraru    Vincent Hindriksen  M. Eric Irrgang  \n",
      "  Aleksei Iupinov   Christoph Junghans     Joe Jordan     Dimitrios Karkoulis\n",
      "    Peter Kasson        Jiri Kraus      Carsten Kutzner      Per Larsson    \n",
      "  Justin A. Lemkul    Viveca Lindahl    Magnus Lundborg     Erik Marklund   \n",
      "    Pascal Merz     Pieter Meulenhoff    Teemu Murtola       Szilard Pall   \n",
      "    Sander Pronk      Roland Schulz      Michael Shirts    Alexey Shvetsov  \n",
      "   Alfons Sijbers     Peter Tieleman      Jon Vincent      Teemu Virolainen \n",
      " Christian Wennberg    Maarten Wolf      Artem Zhmurov   \n",
      "                           and the project leaders:\n",
      "        Mark Abraham, Berk Hess, Erik Lindahl, and David van der Spoel\n",
      "\n",
      "Copyright (c) 1991-2000, University of Groningen, The Netherlands.\n",
      "Copyright (c) 2001-2019, The GROMACS development team at\n",
      "Uppsala University, Stockholm University and\n",
      "the Royal Institute of Technology, Sweden.\n",
      "check out http://www.gromacs.org for more information.\n",
      "\n",
      "GROMACS is free software; you can redistribute it and/or modify it\n",
      "under the terms of the GNU Lesser General Public License\n",
      "as published by the Free Software Foundation; either version 2.1\n",
      "of the License, or (at your option) any later version.\n",
      "\n",
      "GROMACS:      gmx editconf, version 2020.6-plumed-2.8.0\n",
      "Executable:   /home/zadoki/miniconda3/envs/bpti/bin/gmx_mpi\n",
      "Data prefix:  /home/zadoki/miniconda3/envs/bpti\n",
      "Working dir:  /rg/mendels_prj/zadoki/chignolin_test/data/interim/GYDPENGTWG/state_folded/solvate\n",
      "Command line:\n",
      "  gmx_mpi editconf -f /rg/mendels_prj/zadoki/chignolin_test/data/interim/GYDPENGTWG/state_folded/top/protein_solvate.pdb -o boxed.gro -bt cubic -d 1.0\n",
      "\n",
      "\n",
      "GROMACS reminds you: \"I used to be blond and stupid, but now I dyed it black\" (Miss Li)\n",
      "\n",
      "[dgx-master:2734272] PMIX ERROR: NO-PERMISSIONS in file dstore_base.c at line 237\n",
      "[dgx-master:2734272] PMIX ERROR: NO-PERMISSIONS in file dstore_base.c at line 237\n",
      "[dgx-master:2734272] PMIX ERROR: NO-PERMISSIONS in file dstore_base.c at line 246\n"
     ]
    },
    {
     "name": "stdout",
     "output_type": "stream",
     "text": [
      "Note that major changes are planned in future for editconf, to improve usability and utility.\n",
      "Read 138 atoms\n",
      "No velocities found\n",
      "    system size :  1.619  1.509  1.178 (nm)\n",
      "    diameter    :  1.784               (nm)\n",
      "    center      :  0.057 -0.428 -0.672 (nm)\n",
      "    box vectors :  0.000  0.000  0.000 (nm)\n",
      "    box angles  :   0.00   0.00   0.00 (degrees)\n",
      "    box volume  :   0.00               (nm^3)\n",
      "    shift       :  1.835  2.320  2.564 (nm)\n",
      "new center      :  1.892  1.892  1.892 (nm)\n",
      "new box vectors :  3.784  3.784  3.784 (nm)\n",
      "new box angles  :  90.00  90.00  90.00 (degrees)\n",
      "new box volume  :  54.18               (nm^3)\n",
      "\n",
      "WARNING: Masses and atomic (Van der Waals) radii will be guessed\n",
      "         based on residue and atom names, since they could not be\n",
      "         definitively assigned from the information in your input\n",
      "         files. These guessed numbers might deviate from the mass\n",
      "         and radius of the atom type. Please check the output\n",
      "         files if necessary.\n",
      "\n",
      "NOTE: From version 5.0 gmx solvate uses the Van der Waals radii\n",
      "from the source below. This means the results may be different\n",
      "compared to previous GROMACS versions.\n",
      "\n",
      "++++ PLEASE READ AND CITE THE FOLLOWING REFERENCE ++++\n",
      "A. Bondi\n",
      "van der Waals Volumes and Radii\n",
      "J. Phys. Chem. 68 (1964) pp. 441-451\n",
      "-------- -------- --- Thank You --- -------- --------\n",
      "\n"
     ]
    },
    {
     "name": "stderr",
     "output_type": "stream",
     "text": [
      "               :-) GROMACS - gmx solvate, 2020.6-plumed-2.8.0 (-:\n",
      "\n",
      "                            GROMACS is written by:\n",
      "     Emile Apol      Rossen Apostolov      Paul Bauer     Herman J.C. Berendsen\n",
      "    Par Bjelkmar      Christian Blau   Viacheslav Bolnykh     Kevin Boyd    \n",
      " Aldert van Buuren   Rudi van Drunen     Anton Feenstra       Alan Gray     \n",
      "  Gerrit Groenhof     Anca Hamuraru    Vincent Hindriksen  M. Eric Irrgang  \n",
      "  Aleksei Iupinov   Christoph Junghans     Joe Jordan     Dimitrios Karkoulis\n",
      "    Peter Kasson        Jiri Kraus      Carsten Kutzner      Per Larsson    \n",
      "  Justin A. Lemkul    Viveca Lindahl    Magnus Lundborg     Erik Marklund   \n",
      "    Pascal Merz     Pieter Meulenhoff    Teemu Murtola       Szilard Pall   \n",
      "    Sander Pronk      Roland Schulz      Michael Shirts    Alexey Shvetsov  \n",
      "   Alfons Sijbers     Peter Tieleman      Jon Vincent      Teemu Virolainen \n",
      " Christian Wennberg    Maarten Wolf      Artem Zhmurov   \n",
      "                           and the project leaders:\n",
      "        Mark Abraham, Berk Hess, Erik Lindahl, and David van der Spoel\n",
      "\n",
      "Copyright (c) 1991-2000, University of Groningen, The Netherlands.\n",
      "Copyright (c) 2001-2019, The GROMACS development team at\n",
      "Uppsala University, Stockholm University and\n",
      "the Royal Institute of Technology, Sweden.\n",
      "check out http://www.gromacs.org for more information.\n",
      "\n",
      "GROMACS is free software; you can redistribute it and/or modify it\n",
      "under the terms of the GNU Lesser General Public License\n",
      "as published by the Free Software Foundation; either version 2.1\n",
      "of the License, or (at your option) any later version.\n",
      "\n",
      "GROMACS:      gmx solvate, version 2020.6-plumed-2.8.0\n",
      "Executable:   /home/zadoki/miniconda3/envs/bpti/bin/gmx_mpi\n",
      "Data prefix:  /home/zadoki/miniconda3/envs/bpti\n",
      "Working dir:  /rg/mendels_prj/zadoki/chignolin_test/data/interim/GYDPENGTWG/state_folded/solvate\n",
      "Command line:\n",
      "  gmx_mpi solvate -p /rg/mendels_prj/zadoki/chignolin_test/data/interim/GYDPENGTWG/state_folded/top/system.top -cp boxed.gro -cs spc216 -o solvated.gro\n",
      "\n",
      "Reading solute configuration\n",
      "Reading solvent configuration\n",
      "\n",
      "Initialising inter-atomic distances...\n",
      "Generating solvent configuration\n",
      "Will generate new solvent configuration of 3x3x3 boxes\n",
      "Solvent box contains 6921 atoms in 2307 residues\n",
      "Removed 1815 solvent atoms due to solvent-solvent overlap\n",
      "Removed 147 solvent atoms due to solute-solvent overlap\n",
      "Sorting configuration\n",
      "Found 1 molecule type:\n",
      "    SOL (   3 atoms):  1653 residues\n",
      "Generated solvent containing 4959 atoms in 1653 residues\n",
      "Writing generated configuration to solvated.gro\n",
      "\n",
      "Output configuration contains 5097 atoms in 1663 residues\n",
      "Volume                 :     54.1753 (nm^3)\n",
      "Density                :     947.612 (g/l)\n",
      "Number of solvent molecules:   1653   \n",
      "\n",
      "Processing topology\n",
      "\n",
      "Back Off! I just backed up /rg/mendels_prj/zadoki/chignolin_test/data/interim/GYDPENGTWG/state_folded/top/system.top to /rg/mendels_prj/zadoki/chignolin_test/data/interim/GYDPENGTWG/state_folded/top/#system.top.1#\n",
      "\n",
      "GROMACS reminds you: \"I used to be blond and stupid, but now I dyed it black\" (Miss Li)\n",
      "\n",
      "[dgx-master:2734301] PMIX ERROR: NO-PERMISSIONS in file dstore_base.c at line 237\n",
      "[dgx-master:2734301] PMIX ERROR: NO-PERMISSIONS in file dstore_base.c at line 237\n",
      "[dgx-master:2734301] PMIX ERROR: NO-PERMISSIONS in file dstore_base.c at line 246\n"
     ]
    },
    {
     "name": "stdout",
     "output_type": "stream",
     "text": [
      "Adding line for 1653 solvent molecules with resname (SOL) to topology file (/rg/mendels_prj/zadoki/chignolin_test/data/interim/GYDPENGTWG/state_folded/top/system.top)\n"
     ]
    },
    {
     "name": "stderr",
     "output_type": "stream",
     "text": [
      "               :-) GROMACS - gmx genion, 2020.6-plumed-2.8.0 (-:\n",
      "\n",
      "                            GROMACS is written by:\n",
      "     Emile Apol      Rossen Apostolov      Paul Bauer     Herman J.C. Berendsen\n",
      "    Par Bjelkmar      Christian Blau   Viacheslav Bolnykh     Kevin Boyd    \n",
      " Aldert van Buuren   Rudi van Drunen     Anton Feenstra       Alan Gray     \n",
      "  Gerrit Groenhof     Anca Hamuraru    Vincent Hindriksen  M. Eric Irrgang  \n",
      "  Aleksei Iupinov   Christoph Junghans     Joe Jordan     Dimitrios Karkoulis\n",
      "    Peter Kasson        Jiri Kraus      Carsten Kutzner      Per Larsson    \n",
      "  Justin A. Lemkul    Viveca Lindahl    Magnus Lundborg     Erik Marklund   \n",
      "    Pascal Merz     Pieter Meulenhoff    Teemu Murtola       Szilard Pall   \n",
      "    Sander Pronk      Roland Schulz      Michael Shirts    Alexey Shvetsov  \n",
      "   Alfons Sijbers     Peter Tieleman      Jon Vincent      Teemu Virolainen \n",
      " Christian Wennberg    Maarten Wolf      Artem Zhmurov   \n",
      "                           and the project leaders:\n",
      "        Mark Abraham, Berk Hess, Erik Lindahl, and David van der Spoel\n",
      "\n",
      "Copyright (c) 1991-2000, University of Groningen, The Netherlands.\n",
      "Copyright (c) 2001-2019, The GROMACS development team at\n",
      "Uppsala University, Stockholm University and\n",
      "the Royal Institute of Technology, Sweden.\n",
      "check out http://www.gromacs.org for more information.\n",
      "\n",
      "GROMACS is free software; you can redistribute it and/or modify it\n",
      "under the terms of the GNU Lesser General Public License\n",
      "as published by the Free Software Foundation; either version 2.1\n",
      "of the License, or (at your option) any later version.\n",
      "\n",
      "GROMACS:      gmx genion, version 2020.6-plumed-2.8.0\n",
      "Executable:   /home/zadoki/miniconda3/envs/bpti/bin/gmx_mpi\n",
      "Data prefix:  /home/zadoki/miniconda3/envs/bpti\n",
      "Working dir:  /rg/mendels_prj/zadoki/chignolin_test/data/interim/GYDPENGTWG/state_folded/solvate\n",
      "Command line:\n",
      "  gmx_mpi genion -s topol.tpr -o ionized.gro -p /rg/mendels_prj/zadoki/chignolin_test/data/interim/GYDPENGTWG/state_folded/top/system.top -pname NA -nname CL -np 2 -nn 0\n",
      "\n",
      "Reading file topol.tpr, VERSION 2020.6-plumed-2.8.0 (single precision)\n",
      "Reading file topol.tpr, VERSION 2020.6-plumed-2.8.0 (single precision)\n",
      "Group     0 (         System) has  5097 elements\n",
      "Group     1 (        Protein) has   138 elements\n",
      "Group     2 (      Protein-H) has    77 elements\n",
      "Group     3 (        C-alpha) has    10 elements\n",
      "Group     4 (       Backbone) has    30 elements\n",
      "Group     5 (      MainChain) has    39 elements\n",
      "Group     6 (   MainChain+Cb) has    46 elements\n",
      "Group     7 (    MainChain+H) has    50 elements\n",
      "Group     8 (      SideChain) has    88 elements\n",
      "Group     9 (    SideChain-H) has    38 elements\n",
      "Group    10 (    Prot-Masses) has   138 elements\n",
      "Group    11 (    non-Protein) has  4959 elements\n",
      "Group    12 (          Water) has  4959 elements\n",
      "Group    13 (            SOL) has  4959 elements\n",
      "Group    14 (      non-Water) has   138 elements\n",
      "Select a group: Number of (3-atomic) solvent molecules: 1653\n",
      "\n",
      "Back Off! I just backed up /rg/mendels_prj/zadoki/chignolin_test/data/interim/GYDPENGTWG/state_folded/top/system.top to /rg/mendels_prj/zadoki/chignolin_test/data/interim/GYDPENGTWG/state_folded/top/#system.top.2#\n",
      "Using random seed -20725767.\n",
      "Replacing solvent molecule 359 (atom 1215) with NA\n",
      "Replacing solvent molecule 872 (atom 2754) with NA\n",
      "\n",
      "\n",
      "GROMACS reminds you: \"Teaching quantum computing is like teaching computer science at Hogwarts.\" (Thomas Sterling, ISC2018 keynote)\n",
      "\n",
      "[dgx-master:2734357] PMIX ERROR: NO-PERMISSIONS in file dstore_base.c at line 237\n",
      "[dgx-master:2734357] PMIX ERROR: NO-PERMISSIONS in file dstore_base.c at line 246\n"
     ]
    },
    {
     "name": "stdout",
     "output_type": "stream",
     "text": [
      "Will try to add 2 NA ions and 0 CL ions.\n",
      "Select a continuous group of solvent molecules\n",
      "Selected 13: 'SOL'\n",
      "\n",
      "Processing topology\n",
      "Replacing 2 solute molecules in topology file (/rg/mendels_prj/zadoki/chignolin_test/data/interim/GYDPENGTWG/state_folded/top/system.top)  by 2 NA and 0 CL ions.\n"
     ]
    },
    {
     "name": "stderr",
     "output_type": "stream",
     "text": [
      "              :-) GROMACS - gmx make_ndx, 2020.6-plumed-2.8.0 (-:\n",
      "\n",
      "                            GROMACS is written by:\n",
      "     Emile Apol      Rossen Apostolov      Paul Bauer     Herman J.C. Berendsen\n",
      "    Par Bjelkmar      Christian Blau   Viacheslav Bolnykh     Kevin Boyd    \n",
      " Aldert van Buuren   Rudi van Drunen     Anton Feenstra       Alan Gray     \n",
      "  Gerrit Groenhof     Anca Hamuraru    Vincent Hindriksen  M. Eric Irrgang  \n",
      "  Aleksei Iupinov   Christoph Junghans     Joe Jordan     Dimitrios Karkoulis\n",
      "    Peter Kasson        Jiri Kraus      Carsten Kutzner      Per Larsson    \n",
      "  Justin A. Lemkul    Viveca Lindahl    Magnus Lundborg     Erik Marklund   \n",
      "    Pascal Merz     Pieter Meulenhoff    Teemu Murtola       Szilard Pall   \n",
      "    Sander Pronk      Roland Schulz      Michael Shirts    Alexey Shvetsov  \n",
      "   Alfons Sijbers     Peter Tieleman      Jon Vincent      Teemu Virolainen \n",
      " Christian Wennberg    Maarten Wolf      Artem Zhmurov   \n",
      "                           and the project leaders:\n",
      "        Mark Abraham, Berk Hess, Erik Lindahl, and David van der Spoel\n",
      "\n",
      "Copyright (c) 1991-2000, University of Groningen, The Netherlands.\n",
      "Copyright (c) 2001-2019, The GROMACS development team at\n",
      "Uppsala University, Stockholm University and\n",
      "the Royal Institute of Technology, Sweden.\n",
      "check out http://www.gromacs.org for more information.\n",
      "\n",
      "GROMACS is free software; you can redistribute it and/or modify it\n",
      "under the terms of the GNU Lesser General Public License\n",
      "as published by the Free Software Foundation; either version 2.1\n",
      "of the License, or (at your option) any later version.\n",
      "\n",
      "GROMACS:      gmx make_ndx, version 2020.6-plumed-2.8.0\n",
      "Executable:   /home/zadoki/miniconda3/envs/bpti/bin/gmx_mpi\n",
      "Data prefix:  /home/zadoki/miniconda3/envs/bpti\n",
      "Working dir:  /rg/mendels_prj/zadoki/chignolin_test/data/interim/GYDPENGTWG/state_folded/solvate\n",
      "Command line:\n",
      "  gmx_mpi make_ndx -f ionized.tpr -o main.ndx\n",
      "\n",
      "\n",
      "Reading structure file\n",
      "Reading file ionized.tpr, VERSION 2020.6-plumed-2.8.0 (single precision)\n",
      "Reading file ionized.tpr, VERSION 2020.6-plumed-2.8.0 (single precision)\n",
      "\n",
      "GROMACS reminds you: \"It Costs Too Much If It Costs a Lot\" (Magnapop)\n",
      "\n",
      "[dgx-master:2734417] PMIX ERROR: NO-PERMISSIONS in file dstore_base.c at line 237\n",
      "[dgx-master:2734417] PMIX ERROR: NO-PERMISSIONS in file dstore_base.c at line 246\n",
      "              :-) GROMACS - gmx make_ndx, 2020.6-plumed-2.8.0 (-:\n",
      "\n",
      "                            GROMACS is written by:\n",
      "     Emile Apol      Rossen Apostolov      Paul Bauer     Herman J.C. Berendsen\n",
      "    Par Bjelkmar      Christian Blau   Viacheslav Bolnykh     Kevin Boyd    \n",
      " Aldert van Buuren   Rudi van Drunen     Anton Feenstra       Alan Gray     \n",
      "  Gerrit Groenhof     Anca Hamuraru    Vincent Hindriksen  M. Eric Irrgang  \n",
      "  Aleksei Iupinov   Christoph Junghans     Joe Jordan     Dimitrios Karkoulis\n",
      "    Peter Kasson        Jiri Kraus      Carsten Kutzner      Per Larsson    \n",
      "  Justin A. Lemkul    Viveca Lindahl    Magnus Lundborg     Erik Marklund   \n",
      "    Pascal Merz     Pieter Meulenhoff    Teemu Murtola       Szilard Pall   \n",
      "    Sander Pronk      Roland Schulz      Michael Shirts    Alexey Shvetsov  \n",
      "   Alfons Sijbers     Peter Tieleman      Jon Vincent      Teemu Virolainen \n",
      " Christian Wennberg    Maarten Wolf      Artem Zhmurov   \n",
      "                           and the project leaders:\n",
      "        Mark Abraham, Berk Hess, Erik Lindahl, and David van der Spoel\n",
      "\n",
      "Copyright (c) 1991-2000, University of Groningen, The Netherlands.\n",
      "Copyright (c) 2001-2019, The GROMACS development team at\n",
      "Uppsala University, Stockholm University and\n",
      "the Royal Institute of Technology, Sweden.\n",
      "check out http://www.gromacs.org for more information.\n",
      "\n",
      "GROMACS is free software; you can redistribute it and/or modify it\n",
      "under the terms of the GNU Lesser General Public License\n",
      "as published by the Free Software Foundation; either version 2.1\n",
      "of the License, or (at your option) any later version.\n",
      "\n",
      "GROMACS:      gmx make_ndx, version 2020.6-plumed-2.8.0\n",
      "Executable:   /home/zadoki/miniconda3/envs/bpti/bin/gmx_mpi\n",
      "Data prefix:  /home/zadoki/miniconda3/envs/bpti\n",
      "Working dir:  /rg/mendels_prj/zadoki/chignolin_test/data/interim/GYDPENGTWG/state_folded/solvate\n",
      "Command line:\n",
      "  gmx_mpi make_ndx -f ionized.tpr -n main.ndx -o main.ndx\n",
      "\n",
      "\n",
      "Reading structure file\n",
      "Reading file ionized.tpr, VERSION 2020.6-plumed-2.8.0 (single precision)\n",
      "Reading file ionized.tpr, VERSION 2020.6-plumed-2.8.0 (single precision)\n",
      "\n",
      "Back Off! I just backed up main.ndx to ./#main.ndx.1#\n",
      "\n",
      "GROMACS reminds you: \"It Costs Too Much If It Costs a Lot\" (Magnapop)\n",
      "\n",
      "[dgx-master:2734448] PMIX ERROR: NO-PERMISSIONS in file dstore_base.c at line 237\n",
      "[dgx-master:2734448] PMIX ERROR: NO-PERMISSIONS in file dstore_base.c at line 246\n"
     ]
    },
    {
     "name": "stdout",
     "output_type": "stream",
     "text": [
      "Note that major changes are planned in future for trjconv, to improve usability and utility.\n",
      "Select group for centering\n",
      "Selected 18: '__main__'\n",
      "Select group for output\n",
      "Selected 0: 'System'\n"
     ]
    },
    {
     "name": "stderr",
     "output_type": "stream",
     "text": [
      "               :-) GROMACS - gmx trjconv, 2020.6-plumed-2.8.0 (-:\n",
      "\n",
      "                            GROMACS is written by:\n",
      "     Emile Apol      Rossen Apostolov      Paul Bauer     Herman J.C. Berendsen\n",
      "    Par Bjelkmar      Christian Blau   Viacheslav Bolnykh     Kevin Boyd    \n",
      " Aldert van Buuren   Rudi van Drunen     Anton Feenstra       Alan Gray     \n",
      "  Gerrit Groenhof     Anca Hamuraru    Vincent Hindriksen  M. Eric Irrgang  \n",
      "  Aleksei Iupinov   Christoph Junghans     Joe Jordan     Dimitrios Karkoulis\n",
      "    Peter Kasson        Jiri Kraus      Carsten Kutzner      Per Larsson    \n",
      "  Justin A. Lemkul    Viveca Lindahl    Magnus Lundborg     Erik Marklund   \n",
      "    Pascal Merz     Pieter Meulenhoff    Teemu Murtola       Szilard Pall   \n",
      "    Sander Pronk      Roland Schulz      Michael Shirts    Alexey Shvetsov  \n",
      "   Alfons Sijbers     Peter Tieleman      Jon Vincent      Teemu Virolainen \n",
      " Christian Wennberg    Maarten Wolf      Artem Zhmurov   \n",
      "                           and the project leaders:\n",
      "        Mark Abraham, Berk Hess, Erik Lindahl, and David van der Spoel\n",
      "\n",
      "Copyright (c) 1991-2000, University of Groningen, The Netherlands.\n",
      "Copyright (c) 2001-2019, The GROMACS development team at\n",
      "Uppsala University, Stockholm University and\n",
      "the Royal Institute of Technology, Sweden.\n",
      "check out http://www.gromacs.org for more information.\n",
      "\n",
      "GROMACS is free software; you can redistribute it and/or modify it\n",
      "under the terms of the GNU Lesser General Public License\n",
      "as published by the Free Software Foundation; either version 2.1\n",
      "of the License, or (at your option) any later version.\n",
      "\n",
      "GROMACS:      gmx trjconv, version 2020.6-plumed-2.8.0\n",
      "Executable:   /home/zadoki/miniconda3/envs/bpti/bin/gmx_mpi\n",
      "Data prefix:  /home/zadoki/miniconda3/envs/bpti\n",
      "Working dir:  /rg/mendels_prj/zadoki/chignolin_test/data/interim/GYDPENGTWG/state_folded/solvate\n",
      "Command line:\n",
      "  gmx_mpi trjconv -ur compact -center -boxcenter tric -pbc mol -f ionized.gro -s ionized.tpr -o compact.pdb -n main.ndx\n",
      "\n",
      "Will write pdb: Protein data bank file\n",
      "Reading file ionized.tpr, VERSION 2020.6-plumed-2.8.0 (single precision)\n",
      "Reading file ionized.tpr, VERSION 2020.6-plumed-2.8.0 (single precision)\n",
      "Group     0 (         System) has  5093 elements\n",
      "Group     1 (        Protein) has   138 elements\n",
      "Group     2 (      Protein-H) has    77 elements\n",
      "Group     3 (        C-alpha) has    10 elements\n",
      "Group     4 (       Backbone) has    30 elements\n",
      "Group     5 (      MainChain) has    39 elements\n",
      "Group     6 (   MainChain+Cb) has    46 elements\n",
      "Group     7 (    MainChain+H) has    50 elements\n",
      "Group     8 (      SideChain) has    88 elements\n",
      "Group     9 (    SideChain-H) has    38 elements\n",
      "Group    10 (    Prot-Masses) has   138 elements\n",
      "Group    11 (    non-Protein) has  4955 elements\n",
      "Group    12 (          Water) has  4953 elements\n",
      "Group    13 (            SOL) has  4953 elements\n",
      "Group    14 (      non-Water) has   140 elements\n",
      "Group    15 (            Ion) has     2 elements\n",
      "Group    16 (             NA) has     2 elements\n",
      "Group    17 ( Water_and_ions) has  4955 elements\n",
      "Group    18 (       __main__) has   138 elements\n",
      "Group    19 (__environment__) has  4955 elements\n",
      "Select a group: Group     0 (         System) has  5093 elements\n",
      "Group     1 (        Protein) has   138 elements\n",
      "Group     2 (      Protein-H) has    77 elements\n",
      "Group     3 (        C-alpha) has    10 elements\n",
      "Group     4 (       Backbone) has    30 elements\n",
      "Group     5 (      MainChain) has    39 elements\n",
      "Group     6 (   MainChain+Cb) has    46 elements\n",
      "Group     7 (    MainChain+H) has    50 elements\n",
      "Group     8 (      SideChain) has    88 elements\n",
      "Group     9 (    SideChain-H) has    38 elements\n",
      "Group    10 (    Prot-Masses) has   138 elements\n",
      "Group    11 (    non-Protein) has  4955 elements\n",
      "Group    12 (          Water) has  4953 elements\n",
      "Group    13 (            SOL) has  4953 elements\n",
      "Group    14 (      non-Water) has   140 elements\n",
      "Group    15 (            Ion) has     2 elements\n",
      "Group    16 (             NA) has     2 elements\n",
      "Group    17 ( Water_and_ions) has  4955 elements\n",
      "Group    18 (       __main__) has   138 elements\n",
      "Group    19 (__environment__) has  4955 elements\n",
      "Select a group: Reading frames from gro file 'Protein in water', 5093 atoms.\n",
      "Reading frame       0 time    0.000   \n",
      "Precision of ionized.gro is 0.001 (nm)\n",
      "Last frame          0 time    0.000   \n",
      "\n",
      "\n",
      "GROMACS reminds you: \"It Costs Too Much If It Costs a Lot\" (Magnapop)\n",
      "\n"
     ]
    }
   ],
   "source": [
    "# original topology ff \n",
    "f1 = topology(protein='protein_solvate', struct= mutate_name + '.pdb',  ff='charmm27', water='tip3p', ignh=True, posrefc=50)\n",
    "# solvate and ionize\n",
    "f2 = solvate(boxtype='cubic',distance=1.0, water='tip3p', **f1)"
   ]
  },
  {
   "cell_type": "code",
   "execution_count": 13,
   "metadata": {
    "execution": {
     "iopub.execute_input": "2024-02-14T08:54:20.777440Z",
     "iopub.status.busy": "2024-02-14T08:54:20.777146Z",
     "iopub.status.idle": "2024-02-14T08:54:26.947207Z",
     "shell.execute_reply": "2024-02-14T08:54:26.946207Z",
     "shell.execute_reply.started": "2024-02-14T08:54:20.777406Z"
    }
   },
   "outputs": [
    {
     "name": "stderr",
     "output_type": "stream",
     "text": [
      "[dgx-master:2734483] PMIX ERROR: NO-PERMISSIONS in file dstore_base.c at line 237\n",
      "[dgx-master:2734483] PMIX ERROR: NO-PERMISSIONS in file dstore_base.c at line 246\n",
      "/home/zadoki/miniconda3/envs/gromacs_plumed/lib/python3.9/site-packages/gromacs/setup.py:781: UsageWarning: Unprocessed mdp option are interpreted as options for grompp:\n",
      "{'maxwarn': 10, 'pp': 'processed.top'}\n",
      "  warnings.warn(wmsg, category=UsageWarning)\n",
      "               :-) GROMACS - gmx grompp, 2020.6-plumed-2.8.0 (-:\n",
      "\n",
      "                            GROMACS is written by:\n",
      "     Emile Apol      Rossen Apostolov      Paul Bauer     Herman J.C. Berendsen\n",
      "    Par Bjelkmar      Christian Blau   Viacheslav Bolnykh     Kevin Boyd    \n",
      " Aldert van Buuren   Rudi van Drunen     Anton Feenstra       Alan Gray     \n",
      "  Gerrit Groenhof     Anca Hamuraru    Vincent Hindriksen  M. Eric Irrgang  \n",
      "  Aleksei Iupinov   Christoph Junghans     Joe Jordan     Dimitrios Karkoulis\n",
      "    Peter Kasson        Jiri Kraus      Carsten Kutzner      Per Larsson    \n",
      "  Justin A. Lemkul    Viveca Lindahl    Magnus Lundborg     Erik Marklund   \n",
      "    Pascal Merz     Pieter Meulenhoff    Teemu Murtola       Szilard Pall   \n",
      "    Sander Pronk      Roland Schulz      Michael Shirts    Alexey Shvetsov  \n",
      "   Alfons Sijbers     Peter Tieleman      Jon Vincent      Teemu Virolainen \n",
      " Christian Wennberg    Maarten Wolf      Artem Zhmurov   \n",
      "                           and the project leaders:\n",
      "        Mark Abraham, Berk Hess, Erik Lindahl, and David van der Spoel\n",
      "\n",
      "Copyright (c) 1991-2000, University of Groningen, The Netherlands.\n",
      "Copyright (c) 2001-2019, The GROMACS development team at\n",
      "Uppsala University, Stockholm University and\n",
      "the Royal Institute of Technology, Sweden.\n",
      "check out http://www.gromacs.org for more information.\n",
      "\n",
      "GROMACS is free software; you can redistribute it and/or modify it\n",
      "under the terms of the GNU Lesser General Public License\n",
      "as published by the Free Software Foundation; either version 2.1\n",
      "of the License, or (at your option) any later version.\n",
      "\n",
      "GROMACS:      gmx grompp, version 2020.6-plumed-2.8.0\n",
      "Executable:   /home/zadoki/miniconda3/envs/bpti/bin/gmx_mpi\n",
      "Data prefix:  /home/zadoki/miniconda3/envs/bpti\n",
      "Working dir:  /rg/mendels_prj/zadoki/chignolin_test/data/interim/GYDPENGTWG/state_folded/em\n",
      "Command line:\n",
      "  gmx_mpi grompp -f em.mdp -o em.tpr -c /rg/mendels_prj/zadoki/chignolin_test/data/interim/GYDPENGTWG/state_folded/solvate/ionized.gro -r /rg/mendels_prj/zadoki/chignolin_test/data/interim/GYDPENGTWG/state_folded/solvate/ionized.gro -p /rg/mendels_prj/zadoki/chignolin_test/data/interim/GYDPENGTWG/state_folded/top/system.top -maxwarn 10 -pp processed.top\n",
      "\n",
      "Ignoring obsolete mdp entry 'cpp'\n",
      "Ignoring obsolete mdp entry 'optimize_fft'\n",
      "Ignoring obsolete mdp entry 'ns_type'\n",
      "\n",
      "NOTE 1 [file em.mdp]:\n",
      "  Replacing vdwtype=Shift by the equivalent combination of vdwtype=Cut-off\n",
      "  and vdw_modifier=Force-switch\n",
      "\n",
      "\n",
      "NOTE 2 [file em.mdp]:\n",
      "  nstcomm < nstcalcenergy defeats the purpose of nstcalcenergy, setting\n",
      "  nstcomm to nstcalcenergy\n",
      "\n",
      "Setting the LD random seed to 2004168037\n",
      "Generated 20503 of the 20503 non-bonded parameter combinations\n",
      "Generating 1-4 interactions: fudge = 1\n",
      "Generated 17396 of the 20503 1-4 parameter combinations\n",
      "Excluding 3 bonded neighbours molecule type 'Protein_chain_A'\n",
      "Excluding 2 bonded neighbours molecule type 'SOL'\n",
      "Excluding 1 bonded neighbours molecule type 'NA'\n",
      "\n",
      "WARNING 1 [file system.top, line 1363]:\n",
      "  The following macros were defined in the 'define' mdp field with the -D\n",
      "  prefix, but were not used in the topology:\n",
      "      FLEXSPC\n",
      "  If you haven't made a spelling error, either use the macro you defined,\n",
      "  or don't define the macro\n",
      "\n",
      "Number of degrees of freedom in T-Coupling group rest is 10323.00\n",
      "\n",
      "NOTE 3 [file em.mdp]:\n",
      "  Removing center of mass motion in the presence of position restraints\n",
      "  might cause artifacts. When you are using position restraints to\n",
      "  equilibrate a macro-molecule, the artifacts are usually negligible.\n",
      "\n",
      "Estimate for the relative computational load of the PME mesh part: 0.17\n",
      "\n",
      "There were 3 notes\n",
      "\n",
      "There was 1 warning\n",
      "\n",
      "GROMACS reminds you: \"Your Bones Got a Little Machine\" (Pixies)\n",
      "\n",
      "/home/zadoki/miniconda3/envs/gromacs_plumed/lib/python3.9/site-packages/gromacs/run.py:445: AutoCorrectionWarning: No 'mdrun_d' binary found so trying 'mdrun' instead.\n",
      "(Note that energy minimization runs better with mdrun_d.)\n",
      "  warnings.warn(wmsg, category=AutoCorrectionWarning)\n",
      "[dgx-master:2734505] PMIX ERROR: NO-PERMISSIONS in file dstore_base.c at line 237\n",
      "[dgx-master:2734505] PMIX ERROR: NO-PERMISSIONS in file dstore_base.c at line 246\n"
     ]
    },
    {
     "name": "stdout",
     "output_type": "stream",
     "text": [
      "Analysing residue names:\n",
      "There are:    10    Protein residues\n",
      "There are:  1651      Water residues\n",
      "There are:     2        Ion residues\n",
      "Analysing Protein...\n",
      "Analysing residues not classified as Protein/DNA/RNA/Water and splitting into groups...\n",
      "Calculating fourier grid dimensions for X Y Z\n",
      "Using a fourier grid of 32x32x32, spacing 0.118 0.118 0.118\n",
      "This run will generate roughly 0 Mb of data\n"
     ]
    },
    {
     "name": "stderr",
     "output_type": "stream",
     "text": [
      "                :-) GROMACS - gmx mdrun, 2020.6-plumed-2.8.0 (-:\n",
      "\n",
      "                            GROMACS is written by:\n",
      "     Emile Apol      Rossen Apostolov      Paul Bauer     Herman J.C. Berendsen\n",
      "    Par Bjelkmar      Christian Blau   Viacheslav Bolnykh     Kevin Boyd    \n",
      " Aldert van Buuren   Rudi van Drunen     Anton Feenstra       Alan Gray     \n",
      "  Gerrit Groenhof     Anca Hamuraru    Vincent Hindriksen  M. Eric Irrgang  \n",
      "  Aleksei Iupinov   Christoph Junghans     Joe Jordan     Dimitrios Karkoulis\n",
      "    Peter Kasson        Jiri Kraus      Carsten Kutzner      Per Larsson    \n",
      "  Justin A. Lemkul    Viveca Lindahl    Magnus Lundborg     Erik Marklund   \n",
      "    Pascal Merz     Pieter Meulenhoff    Teemu Murtola       Szilard Pall   \n",
      "    Sander Pronk      Roland Schulz      Michael Shirts    Alexey Shvetsov  \n",
      "   Alfons Sijbers     Peter Tieleman      Jon Vincent      Teemu Virolainen \n",
      " Christian Wennberg    Maarten Wolf      Artem Zhmurov   \n",
      "                           and the project leaders:\n",
      "        Mark Abraham, Berk Hess, Erik Lindahl, and David van der Spoel\n",
      "\n",
      "Copyright (c) 1991-2000, University of Groningen, The Netherlands.\n",
      "Copyright (c) 2001-2019, The GROMACS development team at\n",
      "Uppsala University, Stockholm University and\n",
      "the Royal Institute of Technology, Sweden.\n",
      "check out http://www.gromacs.org for more information.\n",
      "\n",
      "GROMACS is free software; you can redistribute it and/or modify it\n",
      "under the terms of the GNU Lesser General Public License\n",
      "as published by the Free Software Foundation; either version 2.1\n",
      "of the License, or (at your option) any later version.\n",
      "\n",
      "GROMACS:      gmx mdrun, version 2020.6-plumed-2.8.0\n",
      "Executable:   /home/zadoki/miniconda3/envs/bpti/bin/gmx_mpi\n",
      "Data prefix:  /home/zadoki/miniconda3/envs/bpti\n",
      "Working dir:  /rg/mendels_prj/zadoki/chignolin_test/data/interim/GYDPENGTWG/state_folded/em\n",
      "Command line:\n",
      "  gmx_mpi mdrun -v -stepout 10 -deffnm em -c em.pdb\n",
      "\n",
      "Compiled SIMD: SSE2, but for this host/run AVX_512 might be better (see log).\n",
      "The current CPU can measure timings more accurately than the code in\n",
      "gmx mdrun was configured to use. This might affect your simulation\n",
      "speed as accurate timings are needed for load-balancing.\n",
      "Please consider rebuilding gmx mdrun with the GMX_USE_RDTSCP=ON CMake option.\n",
      "Reading file em.tpr, VERSION 2020.6-plumed-2.8.0 (single precision)\n",
      "\n",
      "Using 1 MPI process\n",
      "Using 16 OpenMP threads \n",
      "\n",
      "\n",
      "Steepest Descents:\n",
      "   Tolerance (Fmax)   =  5.00000e+02\n",
      "   Number of steps    =         1000\n",
      "Step=    0, Dmax= 1.0e-02 nm, Epot= -6.28203e+04 Fmax= 1.59365e+04, atom= 106\n",
      "Step=    1, Dmax= 1.0e-02 nm, Epot= -6.40837e+04 Fmax= 8.13195e+03, atom= 137\n",
      "Step=    2, Dmax= 1.2e-02 nm, Epot= -6.51545e+04 Fmax= 3.27738e+03, atom= 136\n",
      "Step=    3, Dmax= 1.4e-02 nm, Epot= -6.66538e+04 Fmax= 7.09646e+03, atom= 136\n",
      "Step=    4, Dmax= 1.7e-02 nm, Epot= -6.71288e+04 Fmax= 8.01691e+03, atom= 136\n",
      "Step=    6, Dmax= 1.0e-02 nm, Epot= -6.75708e+04 Fmax= 5.20947e+03, atom= 105\n",
      "Step=    7, Dmax= 1.2e-02 nm, Epot= -6.78391e+04 Fmax= 1.17219e+04, atom= 105\n",
      "Step=    8, Dmax= 1.5e-02 nm, Epot= -6.82026e+04 Fmax= 8.12108e+03, atom= 105\n",
      "Step=    9, Dmax= 1.8e-02 nm, Epot= -6.82599e+04 Fmax= 1.60276e+04, atom= 105\n",
      "Step=   10, Dmax= 2.1e-02 nm, Epot= -6.86197e+04 Fmax= 1.25869e+04, atom= 105\n",
      "Step=   12, Dmax= 1.3e-02 nm, Epot= -6.89807e+04 Fmax= 4.71237e+03, atom= 105\n",
      "Step=   13, Dmax= 1.5e-02 nm, Epot= -6.90596e+04 Fmax= 1.57031e+04, atom= 105\n",
      "Step=   14, Dmax= 1.9e-02 nm, Epot= -6.94549e+04 Fmax= 9.20595e+03, atom= 105\n",
      "Step=   16, Dmax= 1.1e-02 nm, Epot= -6.96747e+04 Fmax= 5.60993e+03, atom= 105\n",
      "Step=   17, Dmax= 1.3e-02 nm, Epot= -6.97309e+04 Fmax= 1.24437e+04, atom= 105\n",
      "Step=   18, Dmax= 1.6e-02 nm, Epot= -6.99789e+04 Fmax= 8.93472e+03, atom= 105\n",
      "Step=   20, Dmax= 9.6e-03 nm, Epot= -7.01938e+04 Fmax= 4.00938e+03, atom= 105\n",
      "Step=   21, Dmax= 1.2e-02 nm, Epot= -7.02488e+04 Fmax= 1.12570e+04, atom= 105\n",
      "Step=   22, Dmax= 1.4e-02 nm, Epot= -7.04887e+04 Fmax= 7.37692e+03, atom= 105\n",
      "Step=   24, Dmax= 8.3e-03 nm, Epot= -7.06645e+04 Fmax= 3.69721e+03, atom= 105\n",
      "Step=   25, Dmax= 1.0e-02 nm, Epot= -7.06888e+04 Fmax= 9.83493e+03, atom= 105\n",
      "Step=   26, Dmax= 1.2e-02 nm, Epot= -7.09116e+04 Fmax= 6.14459e+03, atom= 105\n",
      "Step=   28, Dmax= 7.2e-03 nm, Epot= -7.10604e+04 Fmax= 3.92498e+03, atom= 119\n",
      "Step=   29, Dmax= 8.6e-03 nm, Epot= -7.11061e+04 Fmax= 8.46020e+03, atom= 119\n",
      "Step=   30, Dmax= 1.0e-02 nm, Epot= -7.12671e+04 Fmax= 6.14826e+03, atom= 119\n",
      "Step=   32, Dmax= 6.2e-03 nm, Epot= -7.13978e+04 Fmax= 2.57202e+03, atom= 119\n",
      "Step=   33, Dmax= 7.5e-03 nm, Epot= -7.14965e+04 Fmax= 7.72077e+03, atom= 119\n",
      "Step=   34, Dmax= 8.9e-03 nm, Epot= -7.16342e+04 Fmax= 4.87607e+03, atom= 119\n",
      "Step=   35, Dmax= 1.1e-02 nm, Epot= -7.16472e+04 Fmax= 9.99224e+03, atom= 119\n",
      "Step=   36, Dmax= 1.3e-02 nm, Epot= -7.17841e+04 Fmax= 8.15514e+03, atom= 119\n",
      "Step=   38, Dmax= 7.7e-03 nm, Epot= -7.19214e+04 Fmax= 2.86383e+03, atom= 119\n",
      "Step=   39, Dmax= 9.3e-03 nm, Epot= -7.19729e+04 Fmax= 1.05076e+04, atom= 119\n",
      "Step=   40, Dmax= 1.1e-02 nm, Epot= -7.21309e+04 Fmax= 5.30932e+03, atom= 119\n",
      "Step=   42, Dmax= 6.7e-03 nm, Epot= -7.22114e+04 Fmax= 4.10994e+03, atom= 119\n",
      "Step=   43, Dmax= 8.0e-03 nm, Epot= -7.22671e+04 Fmax= 7.05895e+03, atom= 119\n",
      "Step=   44, Dmax= 9.6e-03 nm, Epot= -7.23458e+04 Fmax= 6.53481e+03, atom= 119\n",
      "Step=   45, Dmax= 1.2e-02 nm, Epot= -7.23661e+04 Fmax= 9.56222e+03, atom= 119\n",
      "Step=   46, Dmax= 1.4e-02 nm, Epot= -7.24304e+04 Fmax= 1.00290e+04, atom= 119\n",
      "Step=   48, Dmax= 8.3e-03 nm, Epot= -7.25813e+04 Fmax= 1.90522e+03, atom= 119\n",
      "Step=   49, Dmax= 1.0e-02 nm, Epot= -7.26429e+04 Fmax= 1.25093e+04, atom= 119\n",
      "Step=   50, Dmax= 1.2e-02 nm, Epot= -7.28304e+04 Fmax= 4.58460e+03, atom= 119\n",
      "Step=   52, Dmax= 7.2e-03 nm, Epot= -7.28832e+04 Fmax= 5.60363e+03, atom= 119\n",
      "Step=   53, Dmax= 8.6e-03 nm, Epot= -7.29298e+04 Fmax= 6.47481e+03, atom= 119\n",
      "Step=   54, Dmax= 1.0e-02 nm, Epot= -7.29656e+04 Fmax= 8.20064e+03, atom= 119\n",
      "Step=   55, Dmax= 1.2e-02 nm, Epot= -7.29974e+04 Fmax= 9.19831e+03, atom= 119\n",
      "Step=   56, Dmax= 1.5e-02 nm, Epot= -7.29987e+04 Fmax= 1.19512e+04, atom= 119\n",
      "Step=   57, Dmax= 1.8e-02 nm, Epot= -7.30050e+04 Fmax= 1.30810e+04, atom= 119\n",
      "Step=   59, Dmax= 1.1e-02 nm, Epot= -7.32392e+04 Fmax= 1.61863e+03, atom= 119\n",
      "Step=   61, Dmax= 6.4e-03 nm, Epot= -7.33129e+04 Fmax= 7.44290e+03, atom= 119\n",
      "Step=   62, Dmax= 7.7e-03 nm, Epot= -7.34023e+04 Fmax= 3.43812e+03, atom= 119\n",
      "Step=   64, Dmax= 4.6e-03 nm, Epot= -7.34489e+04 Fmax= 3.05382e+03, atom= 119\n",
      "Step=   65, Dmax= 5.6e-03 nm, Epot= -7.34918e+04 Fmax= 4.86547e+03, atom= 119\n",
      "Step=   66, Dmax= 6.7e-03 nm, Epot= -7.35379e+04 Fmax= 4.51921e+03, atom= 119\n",
      "Step=   67, Dmax= 8.0e-03 nm, Epot= -7.35637e+04 Fmax= 6.86416e+03, atom= 119\n",
      "Step=   68, Dmax= 9.6e-03 nm, Epot= -7.36070e+04 Fmax= 6.65225e+03, atom= 119\n",
      "Step=   70, Dmax= 5.8e-03 nm, Epot= -7.36833e+04 Fmax= 1.38282e+03, atom= 119\n",
      "Step=   71, Dmax= 6.9e-03 nm, Epot= -7.37510e+04 Fmax= 8.18699e+03, atom= 119\n",
      "Step=   72, Dmax= 8.3e-03 nm, Epot= -7.38468e+04 Fmax= 3.43723e+03, atom= 119\n",
      "Step=   74, Dmax= 5.0e-03 nm, Epot= -7.38852e+04 Fmax= 3.56360e+03, atom= 119\n",
      "Step=   75, Dmax= 6.0e-03 nm, Epot= -7.39181e+04 Fmax= 4.91714e+03, atom= 119\n",
      "Step=   76, Dmax= 7.2e-03 nm, Epot= -7.39529e+04 Fmax= 5.16636e+03, atom= 119\n",
      "Step=   77, Dmax= 8.6e-03 nm, Epot= -7.39718e+04 Fmax= 7.04547e+03, atom= 119\n",
      "Step=   78, Dmax= 1.0e-02 nm, Epot= -7.39994e+04 Fmax= 7.46965e+03, atom= 119\n",
      "Step=   80, Dmax= 6.2e-03 nm, Epot= -7.40852e+04 Fmax= 1.14143e+03, atom= 119\n",
      "Step=   81, Dmax= 7.4e-03 nm, Epot= -7.41462e+04 Fmax= 9.15518e+03, atom= 119\n",
      "Step=   82, Dmax= 8.9e-03 nm, Epot= -7.42585e+04 Fmax= 3.32292e+03, atom= 119\n",
      "Step=   84, Dmax= 5.3e-03 nm, Epot= -7.42878e+04 Fmax= 4.18225e+03, atom= 119\n",
      "Step=   85, Dmax= 6.4e-03 nm, Epot= -7.43160e+04 Fmax= 4.91712e+03, atom= 119\n",
      "Step=   86, Dmax= 7.7e-03 nm, Epot= -7.43375e+04 Fmax= 5.90789e+03, atom= 119\n",
      "Step=   87, Dmax= 9.2e-03 nm, Epot= -7.43548e+04 Fmax= 7.19578e+03, atom= 119\n",
      "Step=   88, Dmax= 1.1e-02 nm, Epot= -7.43634e+04 Fmax= 8.38415e+03, atom= 119\n",
      "Step=   90, Dmax= 6.7e-03 nm, Epot= -7.44635e+04 Fmax= 8.44150e+02, atom= 119\n",
      "Step=   91, Dmax= 8.0e-03 nm, Epot= -7.45338e+04 Fmax= 1.02431e+04, atom= 119\n",
      "Step=   92, Dmax= 9.6e-03 nm, Epot= -7.46700e+04 Fmax= 3.16694e+03, atom= 119\n",
      "Step=   94, Dmax= 5.7e-03 nm, Epot= -7.46887e+04 Fmax= 4.85395e+03, atom= 119\n",
      "Step=   95, Dmax= 6.9e-03 nm, Epot= -7.47163e+04 Fmax= 4.90891e+03, atom= 119\n",
      "Step=   96, Dmax= 8.3e-03 nm, Epot= -7.47222e+04 Fmax= 6.70865e+03, atom= 119\n",
      "Step=   97, Dmax= 9.9e-03 nm, Epot= -7.47419e+04 Fmax= 7.35228e+03, atom= 119\n",
      "Step=   99, Dmax= 6.0e-03 nm, Epot= -7.48166e+04 Fmax= 1.18752e+03, atom= 119\n",
      "Step=  100, Dmax= 7.2e-03 nm, Epot= -7.48367e+04 Fmax= 9.05241e+03, atom= 119\n",
      "Step=  101, Dmax= 8.6e-03 nm, Epot= -7.49320e+04 Fmax= 3.18326e+03, atom= 119\n",
      "Step=  103, Dmax= 5.2e-03 nm, Epot= -7.49525e+04 Fmax= 4.12019e+03, atom= 119\n",
      "Step=  104, Dmax= 6.2e-03 nm, Epot= -7.49729e+04 Fmax= 4.57661e+03, atom= 119\n",
      "Step=  105, Dmax= 7.4e-03 nm, Epot= -7.49848e+04 Fmax= 5.93836e+03, atom= 119\n",
      "Step=  106, Dmax= 8.9e-03 nm, Epot= -7.49985e+04 Fmax= 6.58369e+03, atom= 119\n",
      "Step=  108, Dmax= 5.3e-03 nm, Epot= -7.50622e+04 Fmax= 8.52751e+02, atom= 119\n",
      "Step=  109, Dmax= 6.4e-03 nm, Epot= -7.51059e+04 Fmax= 8.06653e+03, atom= 119\n",
      "Step=  110, Dmax= 7.7e-03 nm, Epot= -7.51912e+04 Fmax= 2.70946e+03, atom= 119\n",
      "Step=  112, Dmax= 4.6e-03 nm, Epot= -7.52091e+04 Fmax= 3.76079e+03, atom= 119\n",
      "Step=  113, Dmax= 5.5e-03 nm, Epot= -7.52291e+04 Fmax= 4.07693e+03, atom= 119\n",
      "Step=  114, Dmax= 6.6e-03 nm, Epot= -7.52400e+04 Fmax= 5.26295e+03, atom= 119\n",
      "Step=  115, Dmax= 8.0e-03 nm, Epot= -7.52539e+04 Fmax= 6.02427e+03, atom= 119\n",
      "Step=  117, Dmax= 4.8e-03 nm, Epot= -7.53061e+04 Fmax= 8.14128e+02, atom= 119\n",
      "Step=  118, Dmax= 5.7e-03 nm, Epot= -7.53486e+04 Fmax= 7.37768e+03, atom= 119\n",
      "Step=  119, Dmax= 6.9e-03 nm, Epot= -7.54154e+04 Fmax= 2.42359e+03, atom= 119\n",
      "Step=  121, Dmax= 4.1e-03 nm, Epot= -7.54324e+04 Fmax= 3.44258e+03, atom= 119\n",
      "Step=  122, Dmax= 5.0e-03 nm, Epot= -7.54510e+04 Fmax= 3.54432e+03, atom= 119\n",
      "Step=  123, Dmax= 6.0e-03 nm, Epot= -7.54613e+04 Fmax= 4.89370e+03, atom= 119\n",
      "Step=  124, Dmax= 7.1e-03 nm, Epot= -7.54767e+04 Fmax= 5.16754e+03, atom= 119\n",
      "Step=  126, Dmax= 4.3e-03 nm, Epot= -7.55185e+04 Fmax= 8.20616e+02, atom= 119\n",
      "Step=  127, Dmax= 5.1e-03 nm, Epot= -7.55535e+04 Fmax= 6.35203e+03, atom= 119\n",
      "Step=  128, Dmax= 6.2e-03 nm, Epot= -7.56081e+04 Fmax= 2.30788e+03, atom= 119\n",
      "Step=  130, Dmax= 3.7e-03 nm, Epot= -7.56247e+04 Fmax= 2.89975e+03, atom= 119\n",
      "Step=  131, Dmax= 4.4e-03 nm, Epot= -7.56407e+04 Fmax= 3.39072e+03, atom= 119\n",
      "Step=  132, Dmax= 5.3e-03 nm, Epot= -7.56535e+04 Fmax= 4.11444e+03, atom= 119\n",
      "Step=  133, Dmax= 6.4e-03 nm, Epot= -7.56647e+04 Fmax= 4.94450e+03, atom= 119\n",
      "Step=  134, Dmax= 7.7e-03 nm, Epot= -7.56711e+04 Fmax= 5.85813e+03, atom= 119\n",
      "Step=  135, Dmax= 9.2e-03 nm, Epot= -7.56720e+04 Fmax= 7.19505e+03, atom= 119\n",
      "Step=  137, Dmax= 5.5e-03 nm, Epot= -7.57393e+04 Fmax= 7.31374e+02, atom= 119\n",
      "Step=  138, Dmax= 6.6e-03 nm, Epot= -7.57637e+04 Fmax= 8.71734e+03, atom= 119\n",
      "Step=  139, Dmax= 8.0e-03 nm, Epot= -7.58495e+04 Fmax= 2.62168e+03, atom= 119\n",
      "Step=  141, Dmax= 4.8e-03 nm, Epot= -7.58584e+04 Fmax= 4.17792e+03, atom= 119\n",
      "Step=  142, Dmax= 5.7e-03 nm, Epot= -7.58757e+04 Fmax= 3.90332e+03, atom= 119\n",
      "Step=  144, Dmax= 3.4e-03 nm, Epot= -7.59024e+04 Fmax= 9.17935e+02, atom= 119\n",
      "Step=  145, Dmax= 4.1e-03 nm, Epot= -7.59250e+04 Fmax= 4.84990e+03, atom= 119\n",
      "Step=  146, Dmax= 5.0e-03 nm, Epot= -7.59587e+04 Fmax= 2.11054e+03, atom= 119\n",
      "Step=  148, Dmax= 3.0e-03 nm, Epot= -7.59739e+04 Fmax= 2.08107e+03, atom= 119\n",
      "Step=  149, Dmax= 3.6e-03 nm, Epot= -7.59871e+04 Fmax= 2.96948e+03, atom= 119\n",
      "Step=  150, Dmax= 4.3e-03 nm, Epot= -7.60014e+04 Fmax= 3.06336e+03, atom= 119\n",
      "Step=  151, Dmax= 5.1e-03 nm, Epot= -7.60097e+04 Fmax= 4.21104e+03, atom= 119\n",
      "Step=  152, Dmax= 6.2e-03 nm, Epot= -7.60216e+04 Fmax= 4.47260e+03, atom= 119\n",
      "Step=  154, Dmax= 3.7e-03 nm, Epot= -7.60530e+04 Fmax= 7.00260e+02, atom= 119\n",
      "Step=  155, Dmax= 4.4e-03 nm, Epot= -7.60822e+04 Fmax= 5.49962e+03, atom= 119\n",
      "Step=  156, Dmax= 5.3e-03 nm, Epot= -7.61233e+04 Fmax= 1.97561e+03, atom= 119\n",
      "Step=  158, Dmax= 3.2e-03 nm, Epot= -7.61363e+04 Fmax= 2.51928e+03, atom= 119\n",
      "Step=  159, Dmax= 3.8e-03 nm, Epot= -7.61490e+04 Fmax= 2.90385e+03, atom= 119\n",
      "Step=  160, Dmax= 4.6e-03 nm, Epot= -7.61591e+04 Fmax= 3.57316e+03, atom= 119\n",
      "Step=  161, Dmax= 5.5e-03 nm, Epot= -7.61684e+04 Fmax= 4.23684e+03, atom= 119\n",
      "Step=  162, Dmax= 6.6e-03 nm, Epot= -7.61734e+04 Fmax= 5.08604e+03, atom= 119\n",
      "Step=  163, Dmax= 7.9e-03 nm, Epot= -7.61755e+04 Fmax= 6.16686e+03, atom= 119\n",
      "Step=  165, Dmax= 4.8e-03 nm, Epot= -7.62256e+04 Fmax= 6.55876e+02, atom= 119\n",
      "Step=  166, Dmax= 5.7e-03 nm, Epot= -7.62452e+04 Fmax= 7.48342e+03, atom= 119\n",
      "Step=  167, Dmax= 6.9e-03 nm, Epot= -7.63094e+04 Fmax= 2.28631e+03, atom= 119\n",
      "Step=  169, Dmax= 4.1e-03 nm, Epot= -7.63171e+04 Fmax= 3.56933e+03, atom= 119\n",
      "Step=  170, Dmax= 4.9e-03 nm, Epot= -7.63304e+04 Fmax= 3.40275e+03, atom= 119\n",
      "Step=  171, Dmax= 5.9e-03 nm, Epot= -7.63308e+04 Fmax= 5.00886e+03, atom= 119\n",
      "Step=  172, Dmax= 7.1e-03 nm, Epot= -7.63421e+04 Fmax= 5.02943e+03, atom= 119\n",
      "Step=  174, Dmax= 4.3e-03 nm, Epot= -7.63782e+04 Fmax= 9.39462e+02, atom= 119\n",
      "Step=  175, Dmax= 5.1e-03 nm, Epot= -7.63800e+04 Fmax= 6.23248e+03, atom= 119\n",
      "Step=  176, Dmax= 6.2e-03 nm, Epot= -7.64281e+04 Fmax= 2.39685e+03, atom= 119\n",
      "Step=  178, Dmax= 3.7e-03 nm, Epot= -7.64385e+04 Fmax= 2.80354e+03, atom= 119\n",
      "Step=  179, Dmax= 4.4e-03 nm, Epot= -7.64471e+04 Fmax= 3.46481e+03, atom= 119\n",
      "Step=  180, Dmax= 5.3e-03 nm, Epot= -7.64547e+04 Fmax= 4.02289e+03, atom= 119\n",
      "Step=  181, Dmax= 6.4e-03 nm, Epot= -7.64582e+04 Fmax= 5.00623e+03, atom= 119\n",
      "Step=  182, Dmax= 7.7e-03 nm, Epot= -7.64600e+04 Fmax= 5.76864e+03, atom= 119\n",
      "Step=  184, Dmax= 4.6e-03 nm, Epot= -7.65053e+04 Fmax= 6.32966e+02, atom= 119\n",
      "Step=  185, Dmax= 5.5e-03 nm, Epot= -7.65156e+04 Fmax= 7.08494e+03, atom= 119\n",
      "Step=  186, Dmax= 6.6e-03 nm, Epot= -7.65780e+04 Fmax= 2.18623e+03, atom= 119\n",
      "Step=  188, Dmax= 4.0e-03 nm, Epot= -7.65842e+04 Fmax= 3.37712e+03, atom= 119\n",
      "Step=  189, Dmax= 4.8e-03 nm, Epot= -7.65957e+04 Fmax= 3.35111e+03, atom= 119\n",
      "Step=  190, Dmax= 5.7e-03 nm, Epot= -7.65959e+04 Fmax= 4.68370e+03, atom= 119\n",
      "Step=  191, Dmax= 6.9e-03 nm, Epot= -7.66043e+04 Fmax= 5.00718e+03, atom= 119\n",
      "Step=  193, Dmax= 4.1e-03 nm, Epot= -7.66383e+04 Fmax= 8.59799e+02, atom= 119\n",
      "Step=  194, Dmax= 4.9e-03 nm, Epot= -7.66400e+04 Fmax= 6.16537e+03, atom= 119\n",
      "Step=  195, Dmax= 5.9e-03 nm, Epot= -7.66839e+04 Fmax= 2.25298e+03, atom= 119\n",
      "Step=  197, Dmax= 3.6e-03 nm, Epot= -7.66927e+04 Fmax= 2.77441e+03, atom= 119\n",
      "Step=  198, Dmax= 4.3e-03 nm, Epot= -7.67007e+04 Fmax= 3.23432e+03, atom= 119\n",
      "Step=  199, Dmax= 5.1e-03 nm, Epot= -7.67061e+04 Fmax= 4.00659e+03, atom= 119\n",
      "Step=  200, Dmax= 6.1e-03 nm, Epot= -7.67103e+04 Fmax= 4.64336e+03, atom= 119\n",
      "Step=  202, Dmax= 3.7e-03 nm, Epot= -7.67411e+04 Fmax= 5.06173e+02, atom= 119\n",
      "Step=  203, Dmax= 4.4e-03 nm, Epot= -7.67653e+04 Fmax= 5.69503e+03, atom= 119\n",
      "Step=  204, Dmax= 5.3e-03 nm, Epot= -7.68071e+04 Fmax= 1.75560e+03, atom= 119\n",
      "Step=  206, Dmax= 3.2e-03 nm, Epot= -7.68146e+04 Fmax= 2.71481e+03, atom= 119\n",
      "Step=  207, Dmax= 3.8e-03 nm, Epot= -7.68247e+04 Fmax= 2.68321e+03, atom= 119\n",
      "Step=  208, Dmax= 4.6e-03 nm, Epot= -7.68281e+04 Fmax= 3.76964e+03, atom= 119\n",
      "Step=  209, Dmax= 5.5e-03 nm, Epot= -7.68364e+04 Fmax= 4.00498e+03, atom= 119\n",
      "Step=  211, Dmax= 3.3e-03 nm, Epot= -7.68599e+04 Fmax= 6.93911e+02, atom= 119\n",
      "Step=  212, Dmax= 4.0e-03 nm, Epot= -7.68717e+04 Fmax= 4.93250e+03, atom= 119\n",
      "Step=  213, Dmax= 4.8e-03 nm, Epot= -7.69017e+04 Fmax= 1.81423e+03, atom= 119\n",
      "Step=  215, Dmax= 2.9e-03 nm, Epot= -7.69104e+04 Fmax= 2.21815e+03, atom= 119\n",
      "Step=  216, Dmax= 3.4e-03 nm, Epot= -7.69183e+04 Fmax= 2.60589e+03, atom= 119\n",
      "Step=  217, Dmax= 4.1e-03 nm, Epot= -7.69249e+04 Fmax= 3.20172e+03, atom= 119\n",
      "Step=  218, Dmax= 4.9e-03 nm, Epot= -7.69303e+04 Fmax= 3.74308e+03, atom= 119\n",
      "Step=  219, Dmax= 5.9e-03 nm, Epot= -7.69326e+04 Fmax= 4.62450e+03, atom= 119\n",
      "Step=  220, Dmax= 7.1e-03 nm, Epot= -7.69330e+04 Fmax= 5.36919e+03, atom= 119\n",
      "Step=  222, Dmax= 4.3e-03 nm, Epot= -7.69717e+04 Fmax= 5.70272e+02, atom= 119\n",
      "Step=  223, Dmax= 5.1e-03 nm, Epot= -7.69770e+04 Fmax= 6.60457e+03, atom= 119\n",
      "Step=  224, Dmax= 6.1e-03 nm, Epot= -7.70307e+04 Fmax= 1.99608e+03, atom= 119\n",
      "Step=  226, Dmax= 3.7e-03 nm, Epot= -7.70350e+04 Fmax= 3.16464e+03, atom= 119\n",
      "Step=  227, Dmax= 4.4e-03 nm, Epot= -7.70446e+04 Fmax= 3.07128e+03, atom= 119\n",
      "Step=  229, Dmax= 2.6e-03 nm, Epot= -7.70602e+04 Fmax= 6.90852e+02, atom= 119\n",
      "Step=  230, Dmax= 3.2e-03 nm, Epot= -7.70724e+04 Fmax= 3.82042e+03, atom= 119\n",
      "Step=  231, Dmax= 3.8e-03 nm, Epot= -7.70921e+04 Fmax= 1.58696e+03, atom= 119\n",
      "Step=  233, Dmax= 2.3e-03 nm, Epot= -7.71007e+04 Fmax= 1.64396e+03, atom= 119\n",
      "Step=  234, Dmax= 2.7e-03 nm, Epot= -7.71081e+04 Fmax= 2.22700e+03, atom= 119\n",
      "Step=  235, Dmax= 3.3e-03 nm, Epot= -7.71160e+04 Fmax= 2.42865e+03, atom= 119\n",
      "Step=  236, Dmax= 4.0e-03 nm, Epot= -7.71209e+04 Fmax= 3.14344e+03, atom= 119\n",
      "Step=  237, Dmax= 4.7e-03 nm, Epot= -7.71269e+04 Fmax= 3.56398e+03, atom= 119\n",
      "Step=  238, Dmax= 5.7e-03 nm, Epot= -7.71276e+04 Fmax= 4.45535e+03, atom= 119\n",
      "Step=  239, Dmax= 6.8e-03 nm, Epot= -7.71290e+04 Fmax= 5.20980e+03, atom= 119\n",
      "Step=  241, Dmax= 4.1e-03 nm, Epot= -7.71641e+04 Fmax= 6.44650e+02, atom= 119\n",
      "Step=  242, Dmax= 4.9e-03 nm, Epot= -7.71641e+04 Fmax= 6.33978e+03, atom= 119\n",
      "Step=  243, Dmax= 5.9e-03 nm, Epot= -7.72094e+04 Fmax= 2.05296e+03, atom= 119\n",
      "Step=  245, Dmax= 3.5e-03 nm, Epot= -7.72141e+04 Fmax= 2.96766e+03, atom= 119\n",
      "Step=  246, Dmax= 4.3e-03 nm, Epot= -7.72216e+04 Fmax= 3.02817e+03, atom= 119\n",
      "Step=  247, Dmax= 5.1e-03 nm, Epot= -7.72218e+04 Fmax= 4.19359e+03, atom= 119\n",
      "Step=  248, Dmax= 6.1e-03 nm, Epot= -7.72270e+04 Fmax= 4.43784e+03, atom= 119\n",
      "Step=  250, Dmax= 3.7e-03 nm, Epot= -7.72541e+04 Fmax= 6.97812e+02, atom= 119\n",
      "Step=  252, Dmax= 2.2e-03 nm, Epot= -7.72655e+04 Fmax= 2.41966e+03, atom= 119\n",
      "Step=  253, Dmax= 2.6e-03 nm, Epot= -7.72764e+04 Fmax= 1.31017e+03, atom= 119\n",
      "Step=  254, Dmax= 3.2e-03 nm, Epot= -7.72802e+04 Fmax= 3.14775e+03, atom= 119\n",
      "Step=  255, Dmax= 3.8e-03 nm, Epot= -7.72928e+04 Fmax= 2.21891e+03, atom= 119\n",
      "Step=  257, Dmax= 2.3e-03 nm, Epot= -7.73029e+04 Fmax= 1.01841e+03, atom= 119\n",
      "Step=  258, Dmax= 2.7e-03 nm, Epot= -7.73094e+04 Fmax= 2.86511e+03, atom= 119\n",
      "Step=  259, Dmax= 3.3e-03 nm, Epot= -7.73213e+04 Fmax= 1.78984e+03, atom= 119\n",
      "Step=  261, Dmax= 2.0e-03 nm, Epot= -7.73298e+04 Fmax= 9.90655e+02, atom= 119\n",
      "Step=  262, Dmax= 2.4e-03 nm, Epot= -7.73374e+04 Fmax= 2.34519e+03, atom= 119\n",
      "Step=  263, Dmax= 2.8e-03 nm, Epot= -7.73471e+04 Fmax= 1.66274e+03, atom= 119\n",
      "Step=  264, Dmax= 3.4e-03 nm, Epot= -7.73498e+04 Fmax= 3.13696e+03, atom= 119\n",
      "Step=  265, Dmax= 4.1e-03 nm, Epot= -7.73602e+04 Fmax= 2.63676e+03, atom= 119\n",
      "Step=  267, Dmax= 2.5e-03 nm, Epot= -7.73723e+04 Fmax= 8.48016e+02, atom= 119\n",
      "Step=  268, Dmax= 2.9e-03 nm, Epot= -7.73788e+04 Fmax= 3.32846e+03, atom= 119\n",
      "Step=  269, Dmax= 3.5e-03 nm, Epot= -7.73937e+04 Fmax= 1.68088e+03, atom= 119\n",
      "Step=  271, Dmax= 2.1e-03 nm, Epot= -7.74016e+04 Fmax= 1.31068e+03, atom= 119\n",
      "Step=  272, Dmax= 2.5e-03 nm, Epot= -7.74076e+04 Fmax= 2.27769e+03, atom= 119\n",
      "Step=  273, Dmax= 3.1e-03 nm, Epot= -7.74158e+04 Fmax= 2.03419e+03, atom= 119\n",
      "Step=  274, Dmax= 3.7e-03 nm, Epot= -7.74184e+04 Fmax= 3.12966e+03, atom= 119\n",
      "Step=  275, Dmax= 4.4e-03 nm, Epot= -7.74262e+04 Fmax= 3.08259e+03, atom= 119\n",
      "Step=  277, Dmax= 2.6e-03 nm, Epot= -7.74409e+04 Fmax= 6.68653e+02, atom= 119\n",
      "Step=  278, Dmax= 3.2e-03 nm, Epot= -7.74489e+04 Fmax= 3.82131e+03, atom= 119\n",
      "Step=  279, Dmax= 3.8e-03 nm, Epot= -7.74677e+04 Fmax= 1.56893e+03, atom= 119\n",
      "Step=  281, Dmax= 2.3e-03 nm, Epot= -7.74747e+04 Fmax= 1.65082e+03, atom= 119\n",
      "Step=  282, Dmax= 2.7e-03 nm, Epot= -7.74804e+04 Fmax= 2.20911e+03, atom= 119\n",
      "Step=  283, Dmax= 3.3e-03 nm, Epot= -7.74867e+04 Fmax= 2.43030e+03, atom= 119\n",
      "Step=  284, Dmax= 3.9e-03 nm, Epot= -7.74901e+04 Fmax= 3.12539e+03, atom= 119\n",
      "Step=  285, Dmax= 4.7e-03 nm, Epot= -7.74945e+04 Fmax= 3.55912e+03, atom= 119\n",
      "Step=  287, Dmax= 2.8e-03 nm, Epot= -7.75127e+04 Fmax= 4.79496e+02, atom= 119\n",
      "\n",
      "writing lowest energy coordinates.\n",
      "\n",
      "Steepest Descents converged to Fmax < 500 in 288 steps\n",
      "Potential Energy  = -7.7512656e+04\n",
      "Maximum force     =  4.7949573e+02 on atom 119\n",
      "Norm of force     =  3.3298779e+01\n",
      "\n",
      "GROMACS reminds you: \"Weaseling out of things is important to learn. It's what separates us from the animals... except the weasels.\" (Homer Simpson)\n",
      "\n"
     ]
    }
   ],
   "source": [
    "# minimize rigid\n",
    "f3 = energy_minimize(integrator='steep',maxwarn=10, **f2)"
   ]
  },
  {
   "cell_type": "code",
   "execution_count": 14,
   "metadata": {
    "execution": {
     "iopub.execute_input": "2024-02-14T08:54:26.949364Z",
     "iopub.status.busy": "2024-02-14T08:54:26.948603Z",
     "iopub.status.idle": "2024-02-14T08:54:27.987169Z",
     "shell.execute_reply": "2024-02-14T08:54:27.986099Z",
     "shell.execute_reply.started": "2024-02-14T08:54:26.949324Z"
    }
   },
   "outputs": [
    {
     "name": "stderr",
     "output_type": "stream",
     "text": [
      "[dgx-master:2734539] PMIX ERROR: NO-PERMISSIONS in file dstore_base.c at line 237\n",
      "[dgx-master:2734539] PMIX ERROR: NO-PERMISSIONS in file dstore_base.c at line 246\n",
      "              :-) GROMACS - gmx make_ndx, 2020.6-plumed-2.8.0 (-:\n",
      "\n",
      "                            GROMACS is written by:\n",
      "     Emile Apol      Rossen Apostolov      Paul Bauer     Herman J.C. Berendsen\n",
      "    Par Bjelkmar      Christian Blau   Viacheslav Bolnykh     Kevin Boyd    \n",
      " Aldert van Buuren   Rudi van Drunen     Anton Feenstra       Alan Gray     \n",
      "  Gerrit Groenhof     Anca Hamuraru    Vincent Hindriksen  M. Eric Irrgang  \n",
      "  Aleksei Iupinov   Christoph Junghans     Joe Jordan     Dimitrios Karkoulis\n",
      "    Peter Kasson        Jiri Kraus      Carsten Kutzner      Per Larsson    \n",
      "  Justin A. Lemkul    Viveca Lindahl    Magnus Lundborg     Erik Marklund   \n",
      "    Pascal Merz     Pieter Meulenhoff    Teemu Murtola       Szilard Pall   \n",
      "    Sander Pronk      Roland Schulz      Michael Shirts    Alexey Shvetsov  \n",
      "   Alfons Sijbers     Peter Tieleman      Jon Vincent      Teemu Virolainen \n",
      " Christian Wennberg    Maarten Wolf      Artem Zhmurov   \n",
      "                           and the project leaders:\n",
      "        Mark Abraham, Berk Hess, Erik Lindahl, and David van der Spoel\n",
      "\n",
      "Copyright (c) 1991-2000, University of Groningen, The Netherlands.\n",
      "Copyright (c) 2001-2019, The GROMACS development team at\n",
      "Uppsala University, Stockholm University and\n",
      "the Royal Institute of Technology, Sweden.\n",
      "check out http://www.gromacs.org for more information.\n",
      "\n",
      "GROMACS is free software; you can redistribute it and/or modify it\n",
      "under the terms of the GNU Lesser General Public License\n",
      "as published by the Free Software Foundation; either version 2.1\n",
      "of the License, or (at your option) any later version.\n",
      "\n",
      "GROMACS:      gmx make_ndx, version 2020.6-plumed-2.8.0\n",
      "Executable:   /home/zadoki/miniconda3/envs/bpti/bin/gmx_mpi\n",
      "Data prefix:  /home/zadoki/miniconda3/envs/bpti\n",
      "Working dir:  /rg/mendels_prj/zadoki/chignolin_test/data/interim/GYDPENGTWG/state_folded/MD_POSRES\n",
      "Command line:\n",
      "  gmx_mpi make_ndx -f /rg/mendels_prj/zadoki/chignolin_test/data/interim/GYDPENGTWG/state_folded/em/em.pdb -o md.ndx\n",
      "\n",
      "\n",
      "Reading structure file\n",
      "\n",
      "GROMACS reminds you: \"If Java had true garbage collection, most programs would delete themselves upon execution.\" (Robert Sewell)\n",
      "\n",
      "[dgx-master:2734702] PMIX ERROR: NO-PERMISSIONS in file dstore_base.c at line 237\n",
      "[dgx-master:2734702] PMIX ERROR: NO-PERMISSIONS in file dstore_base.c at line 246\n",
      "              :-) GROMACS - gmx make_ndx, 2020.6-plumed-2.8.0 (-:\n",
      "\n",
      "                            GROMACS is written by:\n",
      "     Emile Apol      Rossen Apostolov      Paul Bauer     Herman J.C. Berendsen\n",
      "    Par Bjelkmar      Christian Blau   Viacheslav Bolnykh     Kevin Boyd    \n",
      " Aldert van Buuren   Rudi van Drunen     Anton Feenstra       Alan Gray     \n",
      "  Gerrit Groenhof     Anca Hamuraru    Vincent Hindriksen  M. Eric Irrgang  \n",
      "  Aleksei Iupinov   Christoph Junghans     Joe Jordan     Dimitrios Karkoulis\n",
      "    Peter Kasson        Jiri Kraus      Carsten Kutzner      Per Larsson    \n",
      "  Justin A. Lemkul    Viveca Lindahl    Magnus Lundborg     Erik Marklund   \n",
      "    Pascal Merz     Pieter Meulenhoff    Teemu Murtola       Szilard Pall   \n",
      "    Sander Pronk      Roland Schulz      Michael Shirts    Alexey Shvetsov  \n",
      "   Alfons Sijbers     Peter Tieleman      Jon Vincent      Teemu Virolainen \n",
      " Christian Wennberg    Maarten Wolf      Artem Zhmurov   \n",
      "                           and the project leaders:\n",
      "        Mark Abraham, Berk Hess, Erik Lindahl, and David van der Spoel\n",
      "\n",
      "Copyright (c) 1991-2000, University of Groningen, The Netherlands.\n",
      "Copyright (c) 2001-2019, The GROMACS development team at\n",
      "Uppsala University, Stockholm University and\n",
      "the Royal Institute of Technology, Sweden.\n",
      "check out http://www.gromacs.org for more information.\n",
      "\n",
      "GROMACS is free software; you can redistribute it and/or modify it\n",
      "under the terms of the GNU Lesser General Public License\n",
      "as published by the Free Software Foundation; either version 2.1\n",
      "of the License, or (at your option) any later version.\n",
      "\n",
      "GROMACS:      gmx make_ndx, version 2020.6-plumed-2.8.0\n",
      "Executable:   /home/zadoki/miniconda3/envs/bpti/bin/gmx_mpi\n",
      "Data prefix:  /home/zadoki/miniconda3/envs/bpti\n",
      "Working dir:  /rg/mendels_prj/zadoki/chignolin_test/data/interim/GYDPENGTWG/state_folded/MD_POSRES\n",
      "Command line:\n",
      "  gmx_mpi make_ndx -f /rg/mendels_prj/zadoki/chignolin_test/data/interim/GYDPENGTWG/state_folded/em/em.pdb -n md.ndx -o md.ndx\n",
      "\n",
      "\n",
      "Reading structure file\n",
      "\n",
      "Back Off! I just backed up md.ndx to ./#md.ndx.1#\n",
      "\n",
      "GROMACS reminds you: \"If Java had true garbage collection, most programs would delete themselves upon execution.\" (Robert Sewell)\n",
      "\n",
      "[dgx-master:2734724] PMIX ERROR: NO-PERMISSIONS in file dstore_base.c at line 237\n",
      "[dgx-master:2734724] PMIX ERROR: NO-PERMISSIONS in file dstore_base.c at line 246\n",
      "/home/zadoki/miniconda3/envs/gromacs_plumed/lib/python3.9/site-packages/gromacs/setup.py:1116: AutoCorrectionWarning: Size of __main__ is only 2.8% of __environment__ so we use 'System' for T-coupling and ref_t = 300 K and tau_t = 0.1 1/ps (can be changed in mdp_parameters).\n",
      "\n",
      "  warnings.warn(wmsg, category=AutoCorrectionWarning)\n",
      "/home/zadoki/miniconda3/envs/gromacs_plumed/lib/python3.9/site-packages/gromacs/setup.py:781: UsageWarning: Unprocessed mdp option are interpreted as options for grompp:\n",
      "{'pp': 'processed.top', 'r': '/rg/mendels_prj/zadoki/chignolin_test/data/interim/GYDPENGTWG/state_folded/em/em.pdb', 'maxwarn': 10}\n",
      "  warnings.warn(wmsg, category=UsageWarning)\n",
      "               :-) GROMACS - gmx grompp, 2020.6-plumed-2.8.0 (-:\n",
      "\n",
      "                            GROMACS is written by:\n",
      "     Emile Apol      Rossen Apostolov      Paul Bauer     Herman J.C. Berendsen\n",
      "    Par Bjelkmar      Christian Blau   Viacheslav Bolnykh     Kevin Boyd    \n",
      " Aldert van Buuren   Rudi van Drunen     Anton Feenstra       Alan Gray     \n",
      "  Gerrit Groenhof     Anca Hamuraru    Vincent Hindriksen  M. Eric Irrgang  \n",
      "  Aleksei Iupinov   Christoph Junghans     Joe Jordan     Dimitrios Karkoulis\n",
      "    Peter Kasson        Jiri Kraus      Carsten Kutzner      Per Larsson    \n",
      "  Justin A. Lemkul    Viveca Lindahl    Magnus Lundborg     Erik Marklund   \n",
      "    Pascal Merz     Pieter Meulenhoff    Teemu Murtola       Szilard Pall   \n",
      "    Sander Pronk      Roland Schulz      Michael Shirts    Alexey Shvetsov  \n",
      "   Alfons Sijbers     Peter Tieleman      Jon Vincent      Teemu Virolainen \n",
      " Christian Wennberg    Maarten Wolf      Artem Zhmurov   \n",
      "                           and the project leaders:\n",
      "        Mark Abraham, Berk Hess, Erik Lindahl, and David van der Spoel\n",
      "\n",
      "Copyright (c) 1991-2000, University of Groningen, The Netherlands.\n",
      "Copyright (c) 2001-2019, The GROMACS development team at\n",
      "Uppsala University, Stockholm University and\n",
      "the Royal Institute of Technology, Sweden.\n",
      "check out http://www.gromacs.org for more information.\n",
      "\n",
      "GROMACS is free software; you can redistribute it and/or modify it\n",
      "under the terms of the GNU Lesser General Public License\n",
      "as published by the Free Software Foundation; either version 2.1\n",
      "of the License, or (at your option) any later version.\n",
      "\n",
      "GROMACS:      gmx grompp, version 2020.6-plumed-2.8.0\n",
      "Executable:   /home/zadoki/miniconda3/envs/bpti/bin/gmx_mpi\n",
      "Data prefix:  /home/zadoki/miniconda3/envs/bpti\n",
      "Working dir:  /rg/mendels_prj/zadoki/chignolin_test/data/interim/GYDPENGTWG/state_folded/MD_POSRES\n",
      "Command line:\n",
      "  gmx_mpi grompp -f md.mdp -p /rg/mendels_prj/zadoki/chignolin_test/data/interim/GYDPENGTWG/state_folded/top/system.top -c /rg/mendels_prj/zadoki/chignolin_test/data/interim/GYDPENGTWG/state_folded/em/em.pdb -n /rg/mendels_prj/zadoki/chignolin_test/data/interim/GYDPENGTWG/state_folded/MD_POSRES/md.ndx -o md.tpr -pp processed.top -r /rg/mendels_prj/zadoki/chignolin_test/data/interim/GYDPENGTWG/state_folded/em/em.pdb -maxwarn 10\n",
      "\n",
      "Ignoring obsolete mdp entry 'andersen_seed'\n",
      "Ignoring obsolete mdp entry 'optimize_fft'\n",
      "Ignoring obsolete mdp entry 'ns_type'\n",
      "Replacing old mdp entry 'nstxtcout' by 'nstxout-compressed'\n",
      "Replacing old mdp entry 'xtc-precision' by 'compressed-x-precision'\n",
      "\n",
      "NOTE 1 [file md.mdp]:\n",
      "  With Verlet lists the optimal nstlist is >= 10, with GPUs >= 20. Note\n",
      "  that with the Verlet scheme, nstlist has no effect on the accuracy of\n",
      "  your simulation.\n",
      "\n",
      "Setting the LD random seed to -422318277\n",
      "Generated 20503 of the 20503 non-bonded parameter combinations\n",
      "Generating 1-4 interactions: fudge = 1\n",
      "Generated 17396 of the 20503 1-4 parameter combinations\n",
      "Excluding 3 bonded neighbours molecule type 'Protein_chain_A'\n",
      "Excluding 2 bonded neighbours molecule type 'SOL'\n",
      "Excluding 1 bonded neighbours molecule type 'NA'\n",
      "Velocities were taken from a Maxwell distribution at 300 K\n",
      "The center of mass of the position restraint coord's is  1.880  1.907  1.892\n",
      "The center of mass of the position restraint coord's is  1.880  1.907  1.892\n",
      "Number of degrees of freedom in T-Coupling group System is 10262.00\n",
      "\n",
      "NOTE 2 [file md.mdp]:\n",
      "  Removing center of mass motion in the presence of position restraints\n",
      "  might cause artifacts. When you are using position restraints to\n",
      "  equilibrate a macro-molecule, the artifacts are usually negligible.\n",
      "\n",
      "Estimate for the relative computational load of the PME mesh part: 0.19\n",
      "\n",
      "There were 2 notes\n",
      "\n",
      "GROMACS reminds you: \"If Java had true garbage collection, most programs would delete themselves upon execution.\" (Robert Sewell)\n",
      "\n"
     ]
    },
    {
     "name": "stdout",
     "output_type": "stream",
     "text": [
      "turning H bonds into constraints...\n",
      "turning H bonds into constraints...\n",
      "turning H bonds into constraints...\n",
      "Determining Verlet buffer for a tolerance of 0.005 kJ/mol/ps at 300 K\n",
      "Calculated rlist for 1x1 atom pair-list as 1.008 nm, buffer size 0.008 nm\n",
      "Set rlist, assuming 4x4 atom pair-list, to 1.000 nm, buffer size 0.000 nm\n",
      "Note that mdrun will redetermine rlist based on the actual pair-list setup\n",
      "Calculating fourier grid dimensions for X Y Z\n",
      "Using a fourier grid of 32x32x32, spacing 0.118 0.118 0.118\n",
      "This run will generate roughly 6 Mb of data\n"
     ]
    },
    {
     "name": "stderr",
     "output_type": "stream",
     "text": [
      "[dgx-master:2734758] PMIX ERROR: NO-PERMISSIONS in file dstore_base.c at line 237\n",
      "[dgx-master:2734758] PMIX ERROR: NO-PERMISSIONS in file dstore_base.c at line 246\n"
     ]
    },
    {
     "data": {
      "text/plain": [
       "{'struct': '/rg/mendels_prj/zadoki/chignolin_test/data/interim/GYDPENGTWG/state_folded/MD_POSRES/md.gro',\n",
       " 'top': '/rg/mendels_prj/zadoki/chignolin_test/data/interim/GYDPENGTWG/state_folded/top/system.top',\n",
       " 'ndx': '/rg/mendels_prj/zadoki/chignolin_test/data/interim/GYDPENGTWG/state_folded/MD_POSRES/md.ndx',\n",
       " 'qscript': ['./local.sh'],\n",
       " 'mainselection': '\"Protein\"',\n",
       " 'deffnm': 'md',\n",
       " 'r': '/rg/mendels_prj/zadoki/chignolin_test/data/interim/GYDPENGTWG/state_folded/em/em.pdb',\n",
       " 'maxwarn': 10,\n",
       " 'nstxout': 100,\n",
       " 'nstvout': 0,\n",
       " 'nstenergy': 100,\n",
       " 'nstxtcout': 0,\n",
       " 'nsteps': 10000,\n",
       " 'nstfout': '0',\n",
       " 'nstlog': '500'}"
      ]
     },
     "execution_count": 14,
     "metadata": {},
     "output_type": "execute_result"
    }
   ],
   "source": [
    "# restrained md npt 20ns\n",
    "MD_restrained(r=str(fdir / 'em/em.pdb') , maxwarn=10, nstxout=NSTXOUT, nstvout=0, nstenergy=NSTENERGY, nstxtcout = 0, nsteps= nsteps_posres, **f3)"
   ]
  },
  {
   "cell_type": "code",
   "execution_count": 15,
   "metadata": {
    "execution": {
     "iopub.execute_input": "2024-02-14T08:54:27.989021Z",
     "iopub.status.busy": "2024-02-14T08:54:27.988472Z",
     "iopub.status.idle": "2024-02-14T08:54:27.992909Z",
     "shell.execute_reply": "2024-02-14T08:54:27.992162Z",
     "shell.execute_reply.started": "2024-02-14T08:54:27.988991Z"
    }
   },
   "outputs": [],
   "source": [
    "os.chdir(fdir / 'MD_POSRES')"
   ]
  },
  {
   "cell_type": "code",
   "execution_count": 16,
   "metadata": {
    "execution": {
     "iopub.execute_input": "2024-02-14T08:54:27.994555Z",
     "iopub.status.busy": "2024-02-14T08:54:27.994099Z",
     "iopub.status.idle": "2024-02-14T08:55:08.262453Z",
     "shell.execute_reply": "2024-02-14T08:55:08.261215Z",
     "shell.execute_reply.started": "2024-02-14T08:54:27.994522Z"
    }
   },
   "outputs": [
    {
     "name": "stderr",
     "output_type": "stream",
     "text": [
      "                :-) GROMACS - gmx mdrun, 2020.6-plumed-2.8.0 (-:\n",
      "\n",
      "                            GROMACS is written by:\n",
      "     Emile Apol      Rossen Apostolov      Paul Bauer     Herman J.C. Berendsen\n",
      "    Par Bjelkmar      Christian Blau   Viacheslav Bolnykh     Kevin Boyd    \n",
      " Aldert van Buuren   Rudi van Drunen     Anton Feenstra       Alan Gray     \n",
      "  Gerrit Groenhof     Anca Hamuraru    Vincent Hindriksen  M. Eric Irrgang  \n",
      "  Aleksei Iupinov   Christoph Junghans     Joe Jordan     Dimitrios Karkoulis\n",
      "    Peter Kasson        Jiri Kraus      Carsten Kutzner      Per Larsson    \n",
      "  Justin A. Lemkul    Viveca Lindahl    Magnus Lundborg     Erik Marklund   \n",
      "    Pascal Merz     Pieter Meulenhoff    Teemu Murtola       Szilard Pall   \n",
      "    Sander Pronk      Roland Schulz      Michael Shirts    Alexey Shvetsov  \n",
      "   Alfons Sijbers     Peter Tieleman      Jon Vincent      Teemu Virolainen \n",
      " Christian Wennberg    Maarten Wolf      Artem Zhmurov   \n",
      "                           and the project leaders:\n",
      "        Mark Abraham, Berk Hess, Erik Lindahl, and David van der Spoel\n",
      "\n",
      "Copyright (c) 1991-2000, University of Groningen, The Netherlands.\n",
      "Copyright (c) 2001-2019, The GROMACS development team at\n",
      "Uppsala University, Stockholm University and\n",
      "the Royal Institute of Technology, Sweden.\n",
      "check out http://www.gromacs.org for more information.\n",
      "\n",
      "GROMACS is free software; you can redistribute it and/or modify it\n",
      "under the terms of the GNU Lesser General Public License\n",
      "as published by the Free Software Foundation; either version 2.1\n",
      "of the License, or (at your option) any later version.\n",
      "\n",
      "GROMACS:      gmx mdrun, version 2020.6-plumed-2.8.0\n",
      "Executable:   /home/zadoki/miniconda3/envs/bpti/bin/gmx_mpi\n",
      "Data prefix:  /home/zadoki/miniconda3/envs/bpti\n",
      "Working dir:  /rg/mendels_prj/zadoki/chignolin_test/data/interim/GYDPENGTWG/state_folded/MD_POSRES\n",
      "Command line:\n",
      "  gmx_mpi mdrun -v -deffnm md -ntomp 8\n",
      "\n",
      "Compiled SIMD: SSE2, but for this host/run AVX_512 might be better (see log).\n",
      "The current CPU can measure timings more accurately than the code in\n",
      "gmx mdrun was configured to use. This might affect your simulation\n",
      "speed as accurate timings are needed for load-balancing.\n",
      "Please consider rebuilding gmx mdrun with the GMX_USE_RDTSCP=ON CMake option.\n",
      "Reading file md.tpr, VERSION 2020.6-plumed-2.8.0 (single precision)\n",
      "Changing nstlist from 5 to 50, rlist from 1 to 1.106\n",
      "\n",
      "\n",
      "Using 1 MPI process\n",
      "Using 8 OpenMP threads \n",
      "\n",
      "\n",
      "NOTE: The number of threads is not equal to the number of (logical) cores\n",
      "      and the -pin option is set to auto: will not pin threads to cores.\n",
      "      This can lead to significant performance degradation.\n",
      "      Consider using -pin on (and -pinoffset in case you run multiple jobs).\n",
      "starting mdrun 'Protein in water'\n",
      "10000 steps,     20.0 ps.\n",
      "step 9900, remaining wall clock time:     0 s          \n",
      "Writing final coordinates.\n",
      "step 10000, remaining wall clock time:     0 s          \n",
      "               Core t (s)   Wall t (s)        (%)\n",
      "       Time:      318.263       39.787      799.9\n",
      "                 (ns/day)    (hour/ns)\n",
      "Performance:       43.436        0.553\n",
      "\n",
      "GROMACS reminds you: \"Science progresses best when observations force us to alter our preconceptions.\" (Vera Rubin)\n",
      "\n"
     ]
    },
    {
     "data": {
      "text/plain": [
       "CompletedProcess(args='gmx_mpi mdrun  -v -deffnm md  -ntomp 8 ', returncode=0)"
      ]
     },
     "execution_count": 16,
     "metadata": {},
     "output_type": "execute_result"
    },
    {
     "name": "stderr",
     "output_type": "stream",
     "text": [
      "[dgx-master:2734797] PMIX ERROR: NO-PERMISSIONS in file dstore_base.c at line 237\n",
      "[dgx-master:2734797] PMIX ERROR: NO-PERMISSIONS in file dstore_base.c at line 246\n"
     ]
    }
   ],
   "source": [
    "subprocess.run('gmx_mpi mdrun  -v -deffnm md  -ntomp 8 ', shell=True )"
   ]
  },
  {
   "cell_type": "code",
   "execution_count": 17,
   "metadata": {
    "execution": {
     "iopub.execute_input": "2024-02-14T08:55:08.264046Z",
     "iopub.status.busy": "2024-02-14T08:55:08.263752Z",
     "iopub.status.idle": "2024-02-14T08:55:08.271166Z",
     "shell.execute_reply": "2024-02-14T08:55:08.268717Z",
     "shell.execute_reply.started": "2024-02-14T08:55:08.264017Z"
    }
   },
   "outputs": [],
   "source": [
    "os.chdir(fdir)"
   ]
  },
  {
   "cell_type": "code",
   "execution_count": 18,
   "metadata": {
    "execution": {
     "iopub.execute_input": "2024-02-14T08:55:08.272602Z",
     "iopub.status.busy": "2024-02-14T08:55:08.272111Z",
     "iopub.status.idle": "2024-02-14T08:55:09.347934Z",
     "shell.execute_reply": "2024-02-14T08:55:09.347103Z",
     "shell.execute_reply.started": "2024-02-14T08:55:08.272570Z"
    },
    "scrolled": true
   },
   "outputs": [
    {
     "name": "stderr",
     "output_type": "stream",
     "text": [
      "              :-) GROMACS - gmx make_ndx, 2020.6-plumed-2.8.0 (-:\n",
      "\n",
      "                            GROMACS is written by:\n",
      "     Emile Apol      Rossen Apostolov      Paul Bauer     Herman J.C. Berendsen\n",
      "    Par Bjelkmar      Christian Blau   Viacheslav Bolnykh     Kevin Boyd    \n",
      " Aldert van Buuren   Rudi van Drunen     Anton Feenstra       Alan Gray     \n",
      "  Gerrit Groenhof     Anca Hamuraru    Vincent Hindriksen  M. Eric Irrgang  \n",
      "  Aleksei Iupinov   Christoph Junghans     Joe Jordan     Dimitrios Karkoulis\n",
      "    Peter Kasson        Jiri Kraus      Carsten Kutzner      Per Larsson    \n",
      "  Justin A. Lemkul    Viveca Lindahl    Magnus Lundborg     Erik Marklund   \n",
      "    Pascal Merz     Pieter Meulenhoff    Teemu Murtola       Szilard Pall   \n",
      "    Sander Pronk      Roland Schulz      Michael Shirts    Alexey Shvetsov  \n",
      "   Alfons Sijbers     Peter Tieleman      Jon Vincent      Teemu Virolainen \n",
      " Christian Wennberg    Maarten Wolf      Artem Zhmurov   \n",
      "                           and the project leaders:\n",
      "        Mark Abraham, Berk Hess, Erik Lindahl, and David van der Spoel\n",
      "\n",
      "Copyright (c) 1991-2000, University of Groningen, The Netherlands.\n",
      "Copyright (c) 2001-2019, The GROMACS development team at\n",
      "Uppsala University, Stockholm University and\n",
      "the Royal Institute of Technology, Sweden.\n",
      "check out http://www.gromacs.org for more information.\n",
      "\n",
      "GROMACS is free software; you can redistribute it and/or modify it\n",
      "under the terms of the GNU Lesser General Public License\n",
      "as published by the Free Software Foundation; either version 2.1\n",
      "of the License, or (at your option) any later version.\n",
      "\n",
      "GROMACS:      gmx make_ndx, version 2020.6-plumed-2.8.0\n",
      "Executable:   /home/zadoki/miniconda3/envs/bpti/bin/gmx_mpi\n",
      "Data prefix:  /home/zadoki/miniconda3/envs/bpti\n",
      "Working dir:  /rg/mendels_prj/zadoki/chignolin_test/data/interim/GYDPENGTWG/state_folded/MD\n",
      "Command line:\n",
      "  gmx_mpi make_ndx -f /rg/mendels_prj/zadoki/chignolin_test/data/interim/GYDPENGTWG/state_folded/em/em.pdb -o md.ndx\n",
      "\n",
      "\n",
      "Reading structure file\n",
      "\n",
      "GROMACS reminds you: \"Science progresses best when observations force us to alter our preconceptions.\" (Vera Rubin)\n",
      "\n",
      "[dgx-master:2735811] PMIX ERROR: NO-PERMISSIONS in file dstore_base.c at line 237\n",
      "[dgx-master:2735811] PMIX ERROR: NO-PERMISSIONS in file dstore_base.c at line 246\n",
      "              :-) GROMACS - gmx make_ndx, 2020.6-plumed-2.8.0 (-:\n",
      "\n",
      "                            GROMACS is written by:\n",
      "     Emile Apol      Rossen Apostolov      Paul Bauer     Herman J.C. Berendsen\n",
      "    Par Bjelkmar      Christian Blau   Viacheslav Bolnykh     Kevin Boyd    \n",
      " Aldert van Buuren   Rudi van Drunen     Anton Feenstra       Alan Gray     \n",
      "  Gerrit Groenhof     Anca Hamuraru    Vincent Hindriksen  M. Eric Irrgang  \n",
      "  Aleksei Iupinov   Christoph Junghans     Joe Jordan     Dimitrios Karkoulis\n",
      "    Peter Kasson        Jiri Kraus      Carsten Kutzner      Per Larsson    \n",
      "  Justin A. Lemkul    Viveca Lindahl    Magnus Lundborg     Erik Marklund   \n",
      "    Pascal Merz     Pieter Meulenhoff    Teemu Murtola       Szilard Pall   \n",
      "    Sander Pronk      Roland Schulz      Michael Shirts    Alexey Shvetsov  \n",
      "   Alfons Sijbers     Peter Tieleman      Jon Vincent      Teemu Virolainen \n",
      " Christian Wennberg    Maarten Wolf      Artem Zhmurov   \n",
      "                           and the project leaders:\n",
      "        Mark Abraham, Berk Hess, Erik Lindahl, and David van der Spoel\n",
      "\n",
      "Copyright (c) 1991-2000, University of Groningen, The Netherlands.\n",
      "Copyright (c) 2001-2019, The GROMACS development team at\n",
      "Uppsala University, Stockholm University and\n",
      "the Royal Institute of Technology, Sweden.\n",
      "check out http://www.gromacs.org for more information.\n",
      "\n",
      "GROMACS is free software; you can redistribute it and/or modify it\n",
      "under the terms of the GNU Lesser General Public License\n",
      "as published by the Free Software Foundation; either version 2.1\n",
      "of the License, or (at your option) any later version.\n",
      "\n",
      "GROMACS:      gmx make_ndx, version 2020.6-plumed-2.8.0\n",
      "Executable:   /home/zadoki/miniconda3/envs/bpti/bin/gmx_mpi\n",
      "Data prefix:  /home/zadoki/miniconda3/envs/bpti\n",
      "Working dir:  /rg/mendels_prj/zadoki/chignolin_test/data/interim/GYDPENGTWG/state_folded/MD\n",
      "Command line:\n",
      "  gmx_mpi make_ndx -f /rg/mendels_prj/zadoki/chignolin_test/data/interim/GYDPENGTWG/state_folded/em/em.pdb -n md.ndx -o md.ndx\n",
      "\n",
      "\n",
      "Reading structure file\n",
      "\n",
      "Back Off! I just backed up md.ndx to ./#md.ndx.1#\n",
      "\n",
      "GROMACS reminds you: \"Science progresses best when observations force us to alter our preconceptions.\" (Vera Rubin)\n",
      "\n",
      "[dgx-master:2735848] PMIX ERROR: NO-PERMISSIONS in file dstore_base.c at line 237\n",
      "[dgx-master:2735848] PMIX ERROR: NO-PERMISSIONS in file dstore_base.c at line 237\n",
      "[dgx-master:2735848] PMIX ERROR: NO-PERMISSIONS in file dstore_base.c at line 246\n",
      "/home/zadoki/miniconda3/envs/gromacs_plumed/lib/python3.9/site-packages/gromacs/setup.py:1116: AutoCorrectionWarning: Size of __main__ is only 2.8% of __environment__ so we use 'System' for T-coupling and ref_t = 300 K and tau_t = 0.1 1/ps (can be changed in mdp_parameters).\n",
      "\n",
      "  warnings.warn(wmsg, category=AutoCorrectionWarning)\n",
      "/home/zadoki/miniconda3/envs/gromacs_plumed/lib/python3.9/site-packages/gromacs/setup.py:781: UsageWarning: Unprocessed mdp option are interpreted as options for grompp:\n",
      "{'pp': 'processed.top', 'r': '/rg/mendels_prj/zadoki/chignolin_test/data/interim/GYDPENGTWG/state_folded/MD_POSRES/md.tpr', 'maxwarn': 10}\n",
      "  warnings.warn(wmsg, category=UsageWarning)\n",
      "               :-) GROMACS - gmx grompp, 2020.6-plumed-2.8.0 (-:\n",
      "\n",
      "                            GROMACS is written by:\n",
      "     Emile Apol      Rossen Apostolov      Paul Bauer     Herman J.C. Berendsen\n",
      "    Par Bjelkmar      Christian Blau   Viacheslav Bolnykh     Kevin Boyd    \n",
      " Aldert van Buuren   Rudi van Drunen     Anton Feenstra       Alan Gray     \n",
      "  Gerrit Groenhof     Anca Hamuraru    Vincent Hindriksen  M. Eric Irrgang  \n",
      "  Aleksei Iupinov   Christoph Junghans     Joe Jordan     Dimitrios Karkoulis\n",
      "    Peter Kasson        Jiri Kraus      Carsten Kutzner      Per Larsson    \n",
      "  Justin A. Lemkul    Viveca Lindahl    Magnus Lundborg     Erik Marklund   \n",
      "    Pascal Merz     Pieter Meulenhoff    Teemu Murtola       Szilard Pall   \n",
      "    Sander Pronk      Roland Schulz      Michael Shirts    Alexey Shvetsov  \n",
      "   Alfons Sijbers     Peter Tieleman      Jon Vincent      Teemu Virolainen \n",
      " Christian Wennberg    Maarten Wolf      Artem Zhmurov   \n",
      "                           and the project leaders:\n",
      "        Mark Abraham, Berk Hess, Erik Lindahl, and David van der Spoel\n",
      "\n",
      "Copyright (c) 1991-2000, University of Groningen, The Netherlands.\n",
      "Copyright (c) 2001-2019, The GROMACS development team at\n",
      "Uppsala University, Stockholm University and\n",
      "the Royal Institute of Technology, Sweden.\n",
      "check out http://www.gromacs.org for more information.\n",
      "\n",
      "GROMACS is free software; you can redistribute it and/or modify it\n",
      "under the terms of the GNU Lesser General Public License\n",
      "as published by the Free Software Foundation; either version 2.1\n",
      "of the License, or (at your option) any later version.\n",
      "\n",
      "GROMACS:      gmx grompp, version 2020.6-plumed-2.8.0\n",
      "Executable:   /home/zadoki/miniconda3/envs/bpti/bin/gmx_mpi\n",
      "Data prefix:  /home/zadoki/miniconda3/envs/bpti\n",
      "Working dir:  /rg/mendels_prj/zadoki/chignolin_test/data/interim/GYDPENGTWG/state_folded/MD\n",
      "Command line:\n",
      "  gmx_mpi grompp -f md.mdp -p /rg/mendels_prj/zadoki/chignolin_test/data/interim/GYDPENGTWG/state_folded/top/system.top -c /rg/mendels_prj/zadoki/chignolin_test/data/interim/GYDPENGTWG/state_folded/em/em.pdb -n /rg/mendels_prj/zadoki/chignolin_test/data/interim/GYDPENGTWG/state_folded/MD/md.ndx -o md.tpr -pp processed.top -r /rg/mendels_prj/zadoki/chignolin_test/data/interim/GYDPENGTWG/state_folded/MD_POSRES/md.tpr -maxwarn 10\n",
      "\n",
      "Ignoring obsolete mdp entry 'andersen_seed'\n",
      "Ignoring obsolete mdp entry 'optimize_fft'\n",
      "Ignoring obsolete mdp entry 'ns_type'\n",
      "Replacing old mdp entry 'nstxtcout' by 'nstxout-compressed'\n",
      "Replacing old mdp entry 'xtc-precision' by 'compressed-x-precision'\n",
      "\n",
      "NOTE 1 [file md.mdp]:\n",
      "  With Verlet lists the optimal nstlist is >= 10, with GPUs >= 20. Note\n",
      "  that with the Verlet scheme, nstlist has no effect on the accuracy of\n",
      "  your simulation.\n",
      "\n",
      "\n",
      "WARNING 1 [file md.mdp]:\n",
      "  You are generating velocities so I am assuming you are equilibrating a\n",
      "  system. You are using Parrinello-Rahman pressure coupling, but this can\n",
      "  be unstable for equilibration. If your system crashes, try equilibrating\n",
      "  first with Berendsen pressure coupling. If you are not equilibrating the\n",
      "  system, you can probably ignore this warning.\n",
      "\n",
      "Setting the LD random seed to -1092178018\n",
      "Generated 20503 of the 20503 non-bonded parameter combinations\n",
      "Generating 1-4 interactions: fudge = 1\n",
      "Generated 17396 of the 20503 1-4 parameter combinations\n",
      "Excluding 3 bonded neighbours molecule type 'Protein_chain_A'\n",
      "Excluding 2 bonded neighbours molecule type 'SOL'\n",
      "Excluding 1 bonded neighbours molecule type 'NA'\n",
      "Velocities were taken from a Maxwell distribution at 300 K\n",
      "Number of degrees of freedom in T-Coupling group System is 10262.00\n",
      "Estimate for the relative computational load of the PME mesh part: 0.19\n",
      "\n",
      "There was 1 note\n",
      "\n",
      "There was 1 warning\n",
      "\n",
      "GROMACS reminds you: \"Never mind, death professor, your structure's fine\" (TV on the Radio)\n",
      "\n",
      "[dgx-master:2735874] PMIX ERROR: NO-PERMISSIONS in file dstore_base.c at line 237\n"
     ]
    },
    {
     "name": "stdout",
     "output_type": "stream",
     "text": [
      "turning H bonds into constraints...\n",
      "turning H bonds into constraints...\n",
      "turning H bonds into constraints...\n",
      "Determining Verlet buffer for a tolerance of 0.005 kJ/mol/ps at 300 K\n",
      "Calculated rlist for 1x1 atom pair-list as 1.008 nm, buffer size 0.008 nm\n",
      "Set rlist, assuming 4x4 atom pair-list, to 1.000 nm, buffer size 0.000 nm\n",
      "Note that mdrun will redetermine rlist based on the actual pair-list setup\n",
      "Calculating fourier grid dimensions for X Y Z\n",
      "Using a fourier grid of 32x32x32, spacing 0.118 0.118 0.118\n",
      "This run will generate roughly 1 Mb of data\n"
     ]
    },
    {
     "data": {
      "text/plain": [
       "{'struct': '/rg/mendels_prj/zadoki/chignolin_test/data/interim/GYDPENGTWG/state_folded/MD/md.gro',\n",
       " 'top': '/rg/mendels_prj/zadoki/chignolin_test/data/interim/GYDPENGTWG/state_folded/top/system.top',\n",
       " 'ndx': '/rg/mendels_prj/zadoki/chignolin_test/data/interim/GYDPENGTWG/state_folded/MD/md.ndx',\n",
       " 'qscript': ['./local.sh'],\n",
       " 'mainselection': '\"Protein\"',\n",
       " 'deffnm': 'md',\n",
       " 'r': '/rg/mendels_prj/zadoki/chignolin_test/data/interim/GYDPENGTWG/state_folded/MD_POSRES/md.tpr',\n",
       " 'maxwarn': 10,\n",
       " 'nstxout': 100,\n",
       " 'nstvout': 0,\n",
       " 'nstenergy': 100,\n",
       " 'nstxtcout': 0,\n",
       " 'nsteps': 1000}"
      ]
     },
     "execution_count": 18,
     "metadata": {},
     "output_type": "execute_result"
    }
   ],
   "source": [
    "MD(r=str(fdir / 'MD_POSRES/md.tpr') , maxwarn=10, nstxout=NSTXOUT, nstvout=0, nstenergy=NSTENERGY, nstxtcout = 0, nsteps= NSTEPS, **f3)"
   ]
  },
  {
   "cell_type": "markdown",
   "metadata": {},
   "source": [
    "##  make reference pdb for plumed - align on protein backbone"
   ]
  },
  {
   "cell_type": "code",
   "execution_count": 19,
   "metadata": {
    "execution": {
     "iopub.execute_input": "2024-02-14T08:55:09.349326Z",
     "iopub.status.busy": "2024-02-14T08:55:09.349038Z",
     "iopub.status.idle": "2024-02-14T08:55:09.429976Z",
     "shell.execute_reply": "2024-02-14T08:55:09.429020Z",
     "shell.execute_reply.started": "2024-02-14T08:55:09.349295Z"
    }
   },
   "outputs": [
    {
     "name": "stderr",
     "output_type": "stream",
     "text": [
      "[dgx-master:2735874] PMIX ERROR: NO-PERMISSIONS in file dstore_base.c at line 237\n",
      "[dgx-master:2735874] PMIX ERROR: NO-PERMISSIONS in file dstore_base.c at line 246\n",
      "/home/zadoki/miniconda3/envs/gromacs_plumed/lib/python3.9/site-packages/MDAnalysis/coordinates/PDB.py:1153: UserWarning: Found no information for attr: 'altLocs' Using default value of ' '\n",
      "  warnings.warn(\"Found no information for attr: '{}'\"\n",
      "/home/zadoki/miniconda3/envs/gromacs_plumed/lib/python3.9/site-packages/MDAnalysis/coordinates/PDB.py:1153: UserWarning: Found no information for attr: 'icodes' Using default value of ' '\n",
      "  warnings.warn(\"Found no information for attr: '{}'\"\n",
      "/home/zadoki/miniconda3/envs/gromacs_plumed/lib/python3.9/site-packages/MDAnalysis/coordinates/PDB.py:1153: UserWarning: Found no information for attr: 'record_types' Using default value of 'ATOM'\n",
      "  warnings.warn(\"Found no information for attr: '{}'\"\n",
      "/home/zadoki/miniconda3/envs/gromacs_plumed/lib/python3.9/site-packages/MDAnalysis/coordinates/PDB.py:1153: UserWarning: Found no information for attr: 'formalcharges' Using default value of '0'\n",
      "  warnings.warn(\"Found no information for attr: '{}'\"\n"
     ]
    }
   ],
   "source": [
    "\n",
    "# load traj\n",
    "u = mda.Universe(fdir / 'MD_POSRES/md.tpr', fdir / 'MD_POSRES/md.trr' )\n",
    "\n",
    "u.add_TopologyAttr('tempfactors')\n",
    "u.add_TopologyAttr('occupancy')\n",
    "\n",
    "# Select protein\n",
    "p = u.select_atoms('protein')\n",
    "\n",
    "u.trajectory[-1]\n",
    "\n",
    "# set attributes for RMSD and reference\n",
    "bb = p.select_atoms('backbone')\n",
    "\n",
    "\n",
    "bb.atoms.tempfactors = 1 \n",
    "bb.atoms.occupancies  =  1 \n",
    "\n",
    "# change some oxygen names\n",
    "\n",
    "p.select_atoms('name OT1').atoms.names = 'O'\n",
    "p.select_atoms('name OT2').atoms.names = 'OXT'\n",
    "#[atomselect top \"name OT1\"] set name O\n",
    "#[atomselect top \"name OT2\"] set name OXT\n",
    "\n",
    "\n",
    "\n",
    "# fix zero based resids\n",
    "p.residues.resids = p.residues.resids -1 \n",
    "\n",
    "# save pdb\n",
    "\n",
    "p.write(fdir / 'reference.pdb', bonds = None )"
   ]
  },
  {
   "cell_type": "code",
   "execution_count": 20,
   "metadata": {
    "execution": {
     "iopub.execute_input": "2024-02-14T08:55:09.431189Z",
     "iopub.status.busy": "2024-02-14T08:55:09.430899Z",
     "iopub.status.idle": "2024-02-14T08:55:09.441341Z",
     "shell.execute_reply": "2024-02-14T08:55:09.440709Z",
     "shell.execute_reply.started": "2024-02-14T08:55:09.431162Z"
    }
   },
   "outputs": [
    {
     "data": {
      "text/plain": [
       "'reference.pdb'"
      ]
     },
     "execution_count": 20,
     "metadata": {},
     "output_type": "execute_result"
    }
   ],
   "source": [
    "os.chdir(fdir / 'MD')\n",
    "shutil.copy2(fdir/ 'reference.pdb', 'reference.pdb')"
   ]
  },
  {
   "cell_type": "code",
   "execution_count": 21,
   "metadata": {
    "execution": {
     "iopub.execute_input": "2024-02-14T08:55:09.442390Z",
     "iopub.status.busy": "2024-02-14T08:55:09.442157Z",
     "iopub.status.idle": "2024-02-14T08:55:09.452034Z",
     "shell.execute_reply": "2024-02-14T08:55:09.451375Z",
     "shell.execute_reply.started": "2024-02-14T08:55:09.442367Z"
    }
   },
   "outputs": [],
   "source": [
    "# write plumed cv collection file\n",
    "with open('plumed.dat', 'w') as f:\n",
    "    print(\"\"\"\n",
    "    # vim:ft=plumed\n",
    "    # calculate  CVs for HLDA \n",
    "    MOLINFO STRUCTURE=reference.pdb MOLTYPE=protein\n",
    "    WHOLEMOLECULES RESIDUES=all MOLTYPE=protein\n",
    "    rmsd: RMSD REFERENCE=reference.pdb TYPE=OPTIMAL NOPBC\n",
    "    e2e: DISTANCE ATOMS=@N-0,@O-9 NOPBC\n",
    "    rg: GYRATION TYPE=RADIUS ATOMS=@back-0,@back-1,@back-2,@back-3,@back-4,@back-5,@back-6,@back-7,@back-8,@back-9 NOPBC\n",
    "\n",
    "    # dihedrals\n",
    "    psi0: TORSION ATOMS=@psi-0 NOPBC\n",
    "    phi1: TORSION ATOMS=@phi-1 NOPBC\n",
    "    psi1: TORSION ATOMS=@psi-1 NOPBC\n",
    "    phi2: TORSION ATOMS=@phi-2 NOPBC\n",
    "    psi2: TORSION ATOMS=@psi-2 NOPBC\n",
    "    phi3: TORSION ATOMS=@phi-3 NOPBC\n",
    "    psi3: TORSION ATOMS=@psi-3 NOPBC\n",
    "    phi4: TORSION ATOMS=@phi-4 NOPBC\n",
    "    psi4: TORSION ATOMS=@psi-4 NOPBC\n",
    "    phi5: TORSION ATOMS=@phi-5 NOPBC\n",
    "    psi5: TORSION ATOMS=@psi-5 NOPBC\n",
    "    phi6: TORSION ATOMS=@phi-6 NOPBC\n",
    "    psi6: TORSION ATOMS=@psi-6 NOPBC\n",
    "    phi7: TORSION ATOMS=@phi-7 NOPBC\n",
    "    psi7: TORSION ATOMS=@psi-7 NOPBC\n",
    "    phi8: TORSION ATOMS=@phi-8 NOPBC\n",
    "    psi8: TORSION ATOMS=@psi-8 NOPBC\n",
    "    phi9: TORSION ATOMS=@phi-9 NOPBC\n",
    "\n",
    "    \n",
    "    PRINT ...\n",
    "    ARG=rmsd,e2e,rg,psi0,phi1,psi1,phi2,psi2,phi3,psi3,phi4,psi4,phi5,psi5,phi6,psi6,phi7,psi7,phi8,psi8,phi9\n",
    "    FILE=COLVAR STRIDE=100\n",
    "    ... PRINT\n",
    "    \"\"\", file = f) "
   ]
  },
  {
   "cell_type": "code",
   "execution_count": 22,
   "metadata": {
    "execution": {
     "iopub.execute_input": "2024-02-14T08:55:09.457083Z",
     "iopub.status.busy": "2024-02-14T08:55:09.456822Z",
     "iopub.status.idle": "2024-02-14T08:55:14.179117Z",
     "shell.execute_reply": "2024-02-14T08:55:14.177962Z",
     "shell.execute_reply.started": "2024-02-14T08:55:09.457057Z"
    },
    "scrolled": true
   },
   "outputs": [
    {
     "name": "stderr",
     "output_type": "stream",
     "text": [
      "                :-) GROMACS - gmx mdrun, 2020.6-plumed-2.8.0 (-:\n",
      "\n",
      "                            GROMACS is written by:\n",
      "     Emile Apol      Rossen Apostolov      Paul Bauer     Herman J.C. Berendsen\n",
      "    Par Bjelkmar      Christian Blau   Viacheslav Bolnykh     Kevin Boyd    \n",
      " Aldert van Buuren   Rudi van Drunen     Anton Feenstra       Alan Gray     \n",
      "  Gerrit Groenhof     Anca Hamuraru    Vincent Hindriksen  M. Eric Irrgang  \n",
      "  Aleksei Iupinov   Christoph Junghans     Joe Jordan     Dimitrios Karkoulis\n",
      "    Peter Kasson        Jiri Kraus      Carsten Kutzner      Per Larsson    \n",
      "  Justin A. Lemkul    Viveca Lindahl    Magnus Lundborg     Erik Marklund   \n",
      "    Pascal Merz     Pieter Meulenhoff    Teemu Murtola       Szilard Pall   \n",
      "    Sander Pronk      Roland Schulz      Michael Shirts    Alexey Shvetsov  \n",
      "   Alfons Sijbers     Peter Tieleman      Jon Vincent      Teemu Virolainen \n",
      " Christian Wennberg    Maarten Wolf      Artem Zhmurov   \n",
      "                           and the project leaders:\n",
      "        Mark Abraham, Berk Hess, Erik Lindahl, and David van der Spoel\n",
      "\n",
      "Copyright (c) 1991-2000, University of Groningen, The Netherlands.\n",
      "Copyright (c) 2001-2019, The GROMACS development team at\n",
      "Uppsala University, Stockholm University and\n",
      "the Royal Institute of Technology, Sweden.\n",
      "check out http://www.gromacs.org for more information.\n",
      "\n",
      "GROMACS is free software; you can redistribute it and/or modify it\n",
      "under the terms of the GNU Lesser General Public License\n",
      "as published by the Free Software Foundation; either version 2.1\n",
      "of the License, or (at your option) any later version.\n",
      "\n",
      "GROMACS:      gmx mdrun, version 2020.6-plumed-2.8.0\n",
      "Executable:   /home/zadoki/miniconda3/envs/bpti/bin/gmx_mpi\n",
      "Data prefix:  /home/zadoki/miniconda3/envs/bpti\n",
      "Working dir:  /rg/mendels_prj/zadoki/chignolin_test/data/interim/GYDPENGTWG/state_folded/MD\n",
      "Command line:\n",
      "  gmx_mpi mdrun -v -deffnm md -cpi -plumed plumed.dat -c md.pdb -ntomp 8 -nsteps 1000\n",
      "\n",
      "+++ Loading the PLUMED kernel runtime +++\n",
      "+++ PLUMED_KERNEL=\"/home/zadoki/miniconda3/envs/bpti/lib/libplumedKernel.so\" +++\n",
      "+++ Loading the PLUMED kernel runtime +++\n",
      "+++ PLUMED_KERNEL=\"/home/zadoki/miniconda3/envs/bpti/lib/libplumedKernel.so\" +++\n",
      "Compiled SIMD: SSE2, but for this host/run AVX_512 might be better (see log).\n",
      "The current CPU can measure timings more accurately than the code in\n",
      "gmx mdrun was configured to use. This might affect your simulation\n",
      "speed as accurate timings are needed for load-balancing.\n",
      "Please consider rebuilding gmx mdrun with the GMX_USE_RDTSCP=ON CMake option.\n",
      "Reading file md.tpr, VERSION 2020.6-plumed-2.8.0 (single precision)\n",
      "\n",
      "Overriding nsteps with value passed on the command line: 1000 steps, 2 ps\n",
      "Changing nstlist from 5 to 50, rlist from 1 to 1.106\n",
      "\n",
      "\n",
      "Using 1 MPI process\n",
      "Using 8 OpenMP threads \n",
      "\n",
      "\n",
      "NOTE: The number of threads is not equal to the number of (logical) cores\n",
      "      and the -pin option is set to auto: will not pin threads to cores.\n",
      "      This can lead to significant performance degradation.\n",
      "      Consider using -pin on (and -pinoffset in case you run multiple jobs).\n",
      "starting mdrun 'Protein in water'\n",
      "1000 steps,      2.0 ps.\n",
      "step 900, remaining wall clock time:     0 s          \n",
      "Writing final coordinates.\n",
      "step 1000, remaining wall clock time:     0 s          \n",
      "               Core t (s)   Wall t (s)        (%)\n",
      "       Time:       33.113        4.143      799.3\n",
      "                 (ns/day)    (hour/ns)\n",
      "Performance:       41.752        0.575\n",
      "\n",
      "GROMACS reminds you: \"I can't go to a restaurant and order food because I keep looking at the fonts on the menu. Five minutes later I realize that it's also talking about food.\" (Donald Knuth)\n",
      "\n"
     ]
    },
    {
     "data": {
      "text/plain": [
       "CompletedProcess(args='gmx_mpi mdrun  -v -deffnm md -cpi -plumed plumed.dat  -c md.pdb -ntomp 8 -nsteps 1000 ', returncode=0)"
      ]
     },
     "execution_count": 22,
     "metadata": {},
     "output_type": "execute_result"
    }
   ],
   "source": [
    "subprocess.run('gmx_mpi mdrun  -v -deffnm md -cpi -plumed plumed.dat  -c md.pdb -ntomp 8 -nsteps {} '.format(NSTEPS), shell=True )"
   ]
  },
  {
   "cell_type": "code",
   "execution_count": 57,
   "metadata": {
    "execution": {
     "iopub.execute_input": "2024-02-14T12:04:47.660386Z",
     "iopub.status.busy": "2024-02-14T12:04:47.659741Z",
     "iopub.status.idle": "2024-02-14T12:04:48.730650Z",
     "shell.execute_reply": "2024-02-14T12:04:48.729813Z",
     "shell.execute_reply.started": "2024-02-14T12:04:47.660350Z"
    }
   },
   "outputs": [],
   "source": [
    "data = panedr.edr_to_df(str(fdir / 'MD/md.edr'))"
   ]
  },
  {
   "cell_type": "code",
   "execution_count": 58,
   "metadata": {
    "execution": {
     "iopub.execute_input": "2024-02-14T12:04:48.732337Z",
     "iopub.status.busy": "2024-02-14T12:04:48.731974Z",
     "iopub.status.idle": "2024-02-14T12:04:49.128251Z",
     "shell.execute_reply": "2024-02-14T12:04:49.127544Z",
     "shell.execute_reply.started": "2024-02-14T12:04:48.732310Z"
    }
   },
   "outputs": [
    {
     "data": {
      "text/plain": [
       "<Axes: xlabel='Time'>"
      ]
     },
     "execution_count": 58,
     "metadata": {},
     "output_type": "execute_result"
    },
    {
     "data": {
      "image/png": "[encoded data removed]",
      "text/plain": [
       "<Figure size 640x480 with 1 Axes>"
      ]
     },
     "metadata": {},
     "output_type": "display_data"
    }
   ],
   "source": [
    "\n",
    "data.iloc[:,:].plot(x='Time', y='Temperature')\n",
    "\n",
    "\n"
   ]
  },
  {
   "cell_type": "code",
   "execution_count": 59,
   "metadata": {
    "execution": {
     "iopub.execute_input": "2024-02-14T12:04:50.331292Z",
     "iopub.status.busy": "2024-02-14T12:04:50.330549Z",
     "iopub.status.idle": "2024-02-14T12:04:50.697995Z",
     "shell.execute_reply": "2024-02-14T12:04:50.697280Z",
     "shell.execute_reply.started": "2024-02-14T12:04:50.331253Z"
    }
   },
   "outputs": [
    {
     "data": {
      "text/plain": [
       "<Axes: xlabel='Time'>"
      ]
     },
     "execution_count": 59,
     "metadata": {},
     "output_type": "execute_result"
    },
    {
     "data": {
      "image/png": "[encoded data removed]",
      "text/plain": [
       "<Figure size 640x480 with 1 Axes>"
      ]
     },
     "metadata": {},
     "output_type": "display_data"
    }
   ],
   "source": [
    "data.iloc[:,:].plot(x='Time', y='Pressure')\n"
   ]
  },
  {
   "cell_type": "code",
   "execution_count": 60,
   "metadata": {
    "execution": {
     "iopub.execute_input": "2024-02-14T12:04:51.193886Z",
     "iopub.status.busy": "2024-02-14T12:04:51.193188Z",
     "iopub.status.idle": "2024-02-14T12:04:51.448538Z",
     "shell.execute_reply": "2024-02-14T12:04:51.447835Z",
     "shell.execute_reply.started": "2024-02-14T12:04:51.193849Z"
    }
   },
   "outputs": [
    {
     "data": {
      "text/plain": [
       "<Axes: xlabel='Time'>"
      ]
     },
     "execution_count": 60,
     "metadata": {},
     "output_type": "execute_result"
    },
    {
     "data": {
      "image/png": "[encoded data removed]",
      "text/plain": [
       "<Figure size 640x480 with 1 Axes>"
      ]
     },
     "metadata": {},
     "output_type": "display_data"
    }
   ],
   "source": [
    "data.iloc[:,:].plot(x='Time', y='Total Energy')\n"
   ]
  },
  {
   "cell_type": "code",
   "execution_count": 61,
   "metadata": {
    "execution": {
     "iopub.execute_input": "2024-02-14T12:05:08.666058Z",
     "iopub.status.busy": "2024-02-14T12:05:08.665198Z",
     "iopub.status.idle": "2024-02-14T12:05:08.964878Z",
     "shell.execute_reply": "2024-02-14T12:05:08.963759Z",
     "shell.execute_reply.started": "2024-02-14T12:05:08.666024Z"
    }
   },
   "outputs": [
    {
     "data": {
      "text/plain": [
       "<Axes: xlabel='Time'>"
      ]
     },
     "execution_count": 61,
     "metadata": {},
     "output_type": "execute_result"
    },
    {
     "data": {
      "image/png": "[encoded data removed]",
      "text/plain": [
       "<Figure size 640x480 with 1 Axes>"
      ]
     },
     "metadata": {},
     "output_type": "display_data"
    }
   ],
   "source": [
    "data.iloc[:,:].plot(x='Time', y='Potential')\n"
   ]
  },
  {
   "cell_type": "markdown",
   "metadata": {},
   "source": [
    "## Unfold protein"
   ]
  },
  {
   "cell_type": "code",
   "execution_count": 31,
   "metadata": {
    "execution": {
     "iopub.execute_input": "2024-02-14T08:55:46.880127Z",
     "iopub.status.busy": "2024-02-14T08:55:46.879858Z",
     "iopub.status.idle": "2024-02-14T08:55:46.885933Z",
     "shell.execute_reply": "2024-02-14T08:55:46.885202Z",
     "shell.execute_reply.started": "2024-02-14T08:55:46.880096Z"
    }
   },
   "outputs": [],
   "source": [
    "ufdir = base / 'data/interim' / mutate_name / 'state_unfolded'\n",
    "os.makedirs(str(ufdir), exist_ok=True)\n",
    "os.chdir(ufdir)"
   ]
  },
  {
   "cell_type": "code",
   "execution_count": 32,
   "metadata": {
    "execution": {
     "iopub.execute_input": "2024-02-14T08:55:46.887152Z",
     "iopub.status.busy": "2024-02-14T08:55:46.886911Z",
     "iopub.status.idle": "2024-02-14T08:55:46.901289Z",
     "shell.execute_reply": "2024-02-14T08:55:46.900603Z",
     "shell.execute_reply.started": "2024-02-14T08:55:46.887126Z"
    }
   },
   "outputs": [
    {
     "data": {
      "text/plain": [
       "'/rg/mendels_prj/zadoki/chignolin_test/data/interim/GYDPENGTWG/state_unfolded'"
      ]
     },
     "execution_count": 32,
     "metadata": {},
     "output_type": "execute_result"
    }
   ],
   "source": [
    "os.getcwd()"
   ]
  },
  {
   "cell_type": "code",
   "execution_count": 33,
   "metadata": {
    "execution": {
     "iopub.execute_input": "2024-02-14T08:55:46.902817Z",
     "iopub.status.busy": "2024-02-14T08:55:46.902232Z",
     "iopub.status.idle": "2024-02-14T08:55:48.187151Z",
     "shell.execute_reply": "2024-02-14T08:55:48.186459Z",
     "shell.execute_reply.started": "2024-02-14T08:55:46.902791Z"
    },
    "scrolled": true
   },
   "outputs": [
    {
     "name": "stderr",
     "output_type": "stream",
     "text": [
      "              :-) GROMACS - gmx make_ndx, 2020.6-plumed-2.8.0 (-:\n",
      "\n",
      "                            GROMACS is written by:\n",
      "     Emile Apol      Rossen Apostolov      Paul Bauer     Herman J.C. Berendsen\n",
      "    Par Bjelkmar      Christian Blau   Viacheslav Bolnykh     Kevin Boyd    \n",
      " Aldert van Buuren   Rudi van Drunen     Anton Feenstra       Alan Gray     \n",
      "  Gerrit Groenhof     Anca Hamuraru    Vincent Hindriksen  M. Eric Irrgang  \n",
      "  Aleksei Iupinov   Christoph Junghans     Joe Jordan     Dimitrios Karkoulis\n",
      "    Peter Kasson        Jiri Kraus      Carsten Kutzner      Per Larsson    \n",
      "  Justin A. Lemkul    Viveca Lindahl    Magnus Lundborg     Erik Marklund   \n",
      "    Pascal Merz     Pieter Meulenhoff    Teemu Murtola       Szilard Pall   \n",
      "    Sander Pronk      Roland Schulz      Michael Shirts    Alexey Shvetsov  \n",
      "   Alfons Sijbers     Peter Tieleman      Jon Vincent      Teemu Virolainen \n",
      " Christian Wennberg    Maarten Wolf      Artem Zhmurov   \n",
      "                           and the project leaders:\n",
      "        Mark Abraham, Berk Hess, Erik Lindahl, and David van der Spoel\n",
      "\n",
      "Copyright (c) 1991-2000, University of Groningen, The Netherlands.\n",
      "Copyright (c) 2001-2019, The GROMACS development team at\n",
      "Uppsala University, Stockholm University and\n",
      "the Royal Institute of Technology, Sweden.\n",
      "check out http://www.gromacs.org for more information.\n",
      "\n",
      "GROMACS is free software; you can redistribute it and/or modify it\n",
      "under the terms of the GNU Lesser General Public License\n",
      "as published by the Free Software Foundation; either version 2.1\n",
      "of the License, or (at your option) any later version.\n",
      "\n",
      "GROMACS:      gmx make_ndx, version 2020.6-plumed-2.8.0\n",
      "Executable:   /home/zadoki/miniconda3/envs/bpti/bin/gmx_mpi\n",
      "Data prefix:  /home/zadoki/miniconda3/envs/bpti\n",
      "Working dir:  /rg/mendels_prj/zadoki/chignolin_test/data/interim/GYDPENGTWG/state_unfolded/MD\n",
      "Command line:\n",
      "  gmx_mpi make_ndx -f /rg/mendels_prj/zadoki/chignolin_test/data/interim/GYDPENGTWG/state_folded/em/em.pdb -o md.ndx\n",
      "\n",
      "\n",
      "Reading structure file\n",
      "\n",
      "GROMACS reminds you: \"Everything Must Go\" (Red Hot Chili Peppers)\n",
      "\n",
      "[dgx-master:2741942] PMIX ERROR: NO-PERMISSIONS in file dstore_base.c at line 237\n",
      "[dgx-master:2741942] PMIX ERROR: NO-PERMISSIONS in file dstore_base.c at line 237\n",
      "[dgx-master:2741942] PMIX ERROR: NO-PERMISSIONS in file dstore_base.c at line 237\n",
      "[dgx-master:2741942] PMIX ERROR: NO-PERMISSIONS in file dstore_base.c at line 246\n",
      "              :-) GROMACS - gmx make_ndx, 2020.6-plumed-2.8.0 (-:\n",
      "\n",
      "                            GROMACS is written by:\n",
      "     Emile Apol      Rossen Apostolov      Paul Bauer     Herman J.C. Berendsen\n",
      "    Par Bjelkmar      Christian Blau   Viacheslav Bolnykh     Kevin Boyd    \n",
      " Aldert van Buuren   Rudi van Drunen     Anton Feenstra       Alan Gray     \n",
      "  Gerrit Groenhof     Anca Hamuraru    Vincent Hindriksen  M. Eric Irrgang  \n",
      "  Aleksei Iupinov   Christoph Junghans     Joe Jordan     Dimitrios Karkoulis\n",
      "    Peter Kasson        Jiri Kraus      Carsten Kutzner      Per Larsson    \n",
      "  Justin A. Lemkul    Viveca Lindahl    Magnus Lundborg     Erik Marklund   \n",
      "    Pascal Merz     Pieter Meulenhoff    Teemu Murtola       Szilard Pall   \n",
      "    Sander Pronk      Roland Schulz      Michael Shirts    Alexey Shvetsov  \n",
      "   Alfons Sijbers     Peter Tieleman      Jon Vincent      Teemu Virolainen \n",
      " Christian Wennberg    Maarten Wolf      Artem Zhmurov   \n",
      "                           and the project leaders:\n",
      "        Mark Abraham, Berk Hess, Erik Lindahl, and David van der Spoel\n",
      "\n",
      "Copyright (c) 1991-2000, University of Groningen, The Netherlands.\n",
      "Copyright (c) 2001-2019, The GROMACS development team at\n",
      "Uppsala University, Stockholm University and\n",
      "the Royal Institute of Technology, Sweden.\n",
      "check out http://www.gromacs.org for more information.\n",
      "\n",
      "GROMACS is free software; you can redistribute it and/or modify it\n",
      "under the terms of the GNU Lesser General Public License\n",
      "as published by the Free Software Foundation; either version 2.1\n",
      "of the License, or (at your option) any later version.\n",
      "\n",
      "GROMACS:      gmx make_ndx, version 2020.6-plumed-2.8.0\n",
      "Executable:   /home/zadoki/miniconda3/envs/bpti/bin/gmx_mpi\n",
      "Data prefix:  /home/zadoki/miniconda3/envs/bpti\n",
      "Working dir:  /rg/mendels_prj/zadoki/chignolin_test/data/interim/GYDPENGTWG/state_unfolded/MD\n",
      "Command line:\n",
      "  gmx_mpi make_ndx -f /rg/mendels_prj/zadoki/chignolin_test/data/interim/GYDPENGTWG/state_folded/em/em.pdb -n md.ndx -o md.ndx\n",
      "\n",
      "\n",
      "Reading structure file\n",
      "\n",
      "Back Off! I just backed up md.ndx to ./#md.ndx.1#\n",
      "\n",
      "GROMACS reminds you: \"Everything Must Go\" (Red Hot Chili Peppers)\n",
      "\n",
      "[dgx-master:2742021] PMIX ERROR: NO-PERMISSIONS in file dstore_base.c at line 237\n",
      "[dgx-master:2742021] PMIX ERROR: NO-PERMISSIONS in file dstore_base.c at line 246\n",
      "/home/zadoki/miniconda3/envs/gromacs_plumed/lib/python3.9/site-packages/gromacs/setup.py:1116: AutoCorrectionWarning: Size of __main__ is only 2.8% of __environment__ so we use 'System' for T-coupling and ref_t = 300 K and tau_t = 0.1 1/ps (can be changed in mdp_parameters).\n",
      "\n",
      "  warnings.warn(wmsg, category=AutoCorrectionWarning)\n",
      "/home/zadoki/miniconda3/envs/gromacs_plumed/lib/python3.9/site-packages/gromacs/setup.py:781: UsageWarning: Unprocessed mdp option are interpreted as options for grompp:\n",
      "{'pp': 'processed.top', 'r': '/rg/mendels_prj/zadoki/chignolin_test/data/interim/GYDPENGTWG/state_folded/MD_POSRES/md.tpr', 'maxwarn': 10}\n",
      "  warnings.warn(wmsg, category=UsageWarning)\n",
      "               :-) GROMACS - gmx grompp, 2020.6-plumed-2.8.0 (-:\n",
      "\n",
      "                            GROMACS is written by:\n",
      "     Emile Apol      Rossen Apostolov      Paul Bauer     Herman J.C. Berendsen\n",
      "    Par Bjelkmar      Christian Blau   Viacheslav Bolnykh     Kevin Boyd    \n",
      " Aldert van Buuren   Rudi van Drunen     Anton Feenstra       Alan Gray     \n",
      "  Gerrit Groenhof     Anca Hamuraru    Vincent Hindriksen  M. Eric Irrgang  \n",
      "  Aleksei Iupinov   Christoph Junghans     Joe Jordan     Dimitrios Karkoulis\n",
      "    Peter Kasson        Jiri Kraus      Carsten Kutzner      Per Larsson    \n",
      "  Justin A. Lemkul    Viveca Lindahl    Magnus Lundborg     Erik Marklund   \n",
      "    Pascal Merz     Pieter Meulenhoff    Teemu Murtola       Szilard Pall   \n",
      "    Sander Pronk      Roland Schulz      Michael Shirts    Alexey Shvetsov  \n",
      "   Alfons Sijbers     Peter Tieleman      Jon Vincent      Teemu Virolainen \n",
      " Christian Wennberg    Maarten Wolf      Artem Zhmurov   \n",
      "                           and the project leaders:\n",
      "        Mark Abraham, Berk Hess, Erik Lindahl, and David van der Spoel\n",
      "\n",
      "Copyright (c) 1991-2000, University of Groningen, The Netherlands.\n",
      "Copyright (c) 2001-2019, The GROMACS development team at\n",
      "Uppsala University, Stockholm University and\n",
      "the Royal Institute of Technology, Sweden.\n",
      "check out http://www.gromacs.org for more information.\n",
      "\n",
      "GROMACS is free software; you can redistribute it and/or modify it\n",
      "under the terms of the GNU Lesser General Public License\n",
      "as published by the Free Software Foundation; either version 2.1\n",
      "of the License, or (at your option) any later version.\n",
      "\n",
      "GROMACS:      gmx grompp, version 2020.6-plumed-2.8.0\n",
      "Executable:   /home/zadoki/miniconda3/envs/bpti/bin/gmx_mpi\n",
      "Data prefix:  /home/zadoki/miniconda3/envs/bpti\n",
      "Working dir:  /rg/mendels_prj/zadoki/chignolin_test/data/interim/GYDPENGTWG/state_unfolded/MD\n",
      "Command line:\n",
      "  gmx_mpi grompp -f md.mdp -p /rg/mendels_prj/zadoki/chignolin_test/data/interim/GYDPENGTWG/state_folded/top/system.top -c /rg/mendels_prj/zadoki/chignolin_test/data/interim/GYDPENGTWG/state_folded/em/em.pdb -n /rg/mendels_prj/zadoki/chignolin_test/data/interim/GYDPENGTWG/state_unfolded/MD/md.ndx -o md.tpr -pp processed.top -r /rg/mendels_prj/zadoki/chignolin_test/data/interim/GYDPENGTWG/state_folded/MD_POSRES/md.tpr -maxwarn 10\n",
      "\n",
      "Ignoring obsolete mdp entry 'andersen_seed'\n",
      "Ignoring obsolete mdp entry 'optimize_fft'\n",
      "Ignoring obsolete mdp entry 'ns_type'\n",
      "Replacing old mdp entry 'nstxtcout' by 'nstxout-compressed'\n",
      "Replacing old mdp entry 'xtc-precision' by 'compressed-x-precision'\n",
      "\n",
      "NOTE 1 [file md.mdp]:\n",
      "  With Verlet lists the optimal nstlist is >= 10, with GPUs >= 20. Note\n",
      "  that with the Verlet scheme, nstlist has no effect on the accuracy of\n",
      "  your simulation.\n",
      "\n",
      "\n",
      "WARNING 1 [file md.mdp]:\n",
      "  You are generating velocities so I am assuming you are equilibrating a\n",
      "  system. You are using Parrinello-Rahman pressure coupling, but this can\n",
      "  be unstable for equilibration. If your system crashes, try equilibrating\n",
      "  first with Berendsen pressure coupling. If you are not equilibrating the\n",
      "  system, you can probably ignore this warning.\n",
      "\n",
      "Setting the LD random seed to -1108642337\n",
      "Generated 20503 of the 20503 non-bonded parameter combinations\n",
      "Generating 1-4 interactions: fudge = 1\n",
      "Generated 17396 of the 20503 1-4 parameter combinations\n",
      "Excluding 3 bonded neighbours molecule type 'Protein_chain_A'\n",
      "Excluding 2 bonded neighbours molecule type 'SOL'\n",
      "Excluding 1 bonded neighbours molecule type 'NA'\n"
     ]
    },
    {
     "name": "stdout",
     "output_type": "stream",
     "text": [
      "turning H bonds into constraints...\n",
      "turning H bonds into constraints...\n",
      "turning H bonds into constraints...\n",
      "Determining Verlet buffer for a tolerance of 0.005 kJ/mol/ps at 300 K\n",
      "Calculated rlist for 1x1 atom pair-list as 1.008 nm, buffer size 0.008 nm\n",
      "Set rlist, assuming 4x4 atom pair-list, to 1.000 nm, buffer size 0.000 nm\n",
      "Note that mdrun will redetermine rlist based on the actual pair-list setup\n",
      "Calculating fourier grid dimensions for X Y Z\n",
      "Using a fourier grid of 32x32x32, spacing 0.118 0.118 0.118\n",
      "This run will generate roughly 6 Mb of data\n"
     ]
    },
    {
     "name": "stderr",
     "output_type": "stream",
     "text": [
      "Velocities were taken from a Maxwell distribution at 300 K\n",
      "Number of degrees of freedom in T-Coupling group System is 10262.00\n",
      "Estimate for the relative computational load of the PME mesh part: 0.19\n",
      "\n",
      "There was 1 note\n",
      "\n",
      "There was 1 warning\n",
      "\n",
      "GROMACS reminds you: \"Let's Go Hang Out In a Mall\" (LIVE)\n",
      "\n",
      "[dgx-master:2742094] PMIX ERROR: NO-PERMISSIONS in file dstore_base.c at line 237\n"
     ]
    },
    {
     "data": {
      "text/plain": [
       "{'struct': '/rg/mendels_prj/zadoki/chignolin_test/data/interim/GYDPENGTWG/state_unfolded/MD/md.gro',\n",
       " 'top': '/rg/mendels_prj/zadoki/chignolin_test/data/interim/GYDPENGTWG/state_folded/top/system.top',\n",
       " 'ndx': '/rg/mendels_prj/zadoki/chignolin_test/data/interim/GYDPENGTWG/state_unfolded/MD/md.ndx',\n",
       " 'qscript': ['./local.sh'],\n",
       " 'mainselection': '\"Protein\"',\n",
       " 'deffnm': 'md',\n",
       " 'r': '/rg/mendels_prj/zadoki/chignolin_test/data/interim/GYDPENGTWG/state_folded/MD_POSRES/md.tpr',\n",
       " 'maxwarn': 10,\n",
       " 'nstxout': 100,\n",
       " 'nstvout': 0,\n",
       " 'nstenergy': 100,\n",
       " 'nstxtcout': 0,\n",
       " 'nsteps': 10000}"
      ]
     },
     "execution_count": 33,
     "metadata": {},
     "output_type": "execute_result"
    },
    {
     "name": "stderr",
     "output_type": "stream",
     "text": [
      "[dgx-master:2742094] PMIX ERROR: NO-PERMISSIONS in file dstore_base.c at line 246\n"
     ]
    }
   ],
   "source": [
    "# copy some files\n",
    "MD(r=str(fdir / 'MD_POSRES/md.tpr') , maxwarn=10, nstxout=NSTXOUT, nstvout=0, nstenergy=NSTENERGY, nstxtcout = 0, nsteps= nsteps_strech, **f3)"
   ]
  },
  {
   "cell_type": "markdown",
   "metadata": {
    "execution": {
     "iopub.execute_input": "2024-01-28T11:04:05.782206Z",
     "iopub.status.busy": "2024-01-28T11:04:05.781484Z",
     "iopub.status.idle": "2024-01-28T11:04:05.787408Z",
     "shell.execute_reply": "2024-01-28T11:04:05.786542Z",
     "shell.execute_reply.started": "2024-01-28T11:04:05.782167Z"
    }
   },
   "source": [
    "# write plumed strech file"
   ]
  },
  {
   "cell_type": "code",
   "execution_count": 34,
   "metadata": {
    "execution": {
     "iopub.execute_input": "2024-02-14T08:55:48.188876Z",
     "iopub.status.busy": "2024-02-14T08:55:48.188316Z",
     "iopub.status.idle": "2024-02-14T08:55:48.198549Z",
     "shell.execute_reply": "2024-02-14T08:55:48.197784Z",
     "shell.execute_reply.started": "2024-02-14T08:55:48.188845Z"
    }
   },
   "outputs": [
    {
     "data": {
      "text/plain": [
       "PosixPath('/rg/mendels_prj/zadoki/chignolin_test/data/interim/GYDPENGTWG/state_unfolded/reference.pdb')"
      ]
     },
     "execution_count": 34,
     "metadata": {},
     "output_type": "execute_result"
    }
   ],
   "source": [
    "shutil.copy2(fdir/ 'reference.pdb', ufdir/ 'reference.pdb')"
   ]
  },
  {
   "cell_type": "code",
   "execution_count": 35,
   "metadata": {
    "execution": {
     "iopub.execute_input": "2024-02-14T08:55:48.200046Z",
     "iopub.status.busy": "2024-02-14T08:55:48.199555Z",
     "iopub.status.idle": "2024-02-14T08:55:48.209553Z",
     "shell.execute_reply": "2024-02-14T08:55:48.208841Z",
     "shell.execute_reply.started": "2024-02-14T08:55:48.200016Z"
    }
   },
   "outputs": [],
   "source": [
    "# use plumed to strech protein\n",
    "with open(ufdir / \"MD/plumed_strech.dat\",\"w\") as f:\n",
    "    print(\"\"\"# vim:ft=plumed\n",
    "# add a restraint to strech the protein into unfolded state\n",
    "MOLINFO STRUCTURE={}.pdb MOLTYPE=protein\n",
    "WHOLEMOLECULES RESIDUES=all MOLTYPE=protein\n",
    "rmsd: RMSD REFERENCE={}.pdb TYPE=OPTIMAL NOPBC\n",
    "e2e: DISTANCE ATOMS=@N-0,@C-9 NOPBC\n",
    "res: RESTRAINT ARG=e2e KAPPA=100 AT=2.5\n",
    "PRINT ARG=e2e,rmsd,res.bias FILE=COLVAR_STRECH STRIDE=10\n",
    "     \"\"\".format('reference','reference'),file=f)"
   ]
  },
  {
   "cell_type": "code",
   "execution_count": 36,
   "metadata": {
    "execution": {
     "iopub.execute_input": "2024-02-14T08:55:48.211042Z",
     "iopub.status.busy": "2024-02-14T08:55:48.210542Z",
     "iopub.status.idle": "2024-02-14T08:55:48.229240Z",
     "shell.execute_reply": "2024-02-14T08:55:48.228557Z",
     "shell.execute_reply.started": "2024-02-14T08:55:48.211014Z"
    }
   },
   "outputs": [
    {
     "data": {
      "text/plain": [
       "PosixPath('/rg/mendels_prj/zadoki/chignolin_test/data/interim/GYDPENGTWG/state_unfolded/MD/plumed.dat')"
      ]
     },
     "execution_count": 36,
     "metadata": {},
     "output_type": "execute_result"
    }
   ],
   "source": [
    "shutil.copy2(fdir/ 'reference.pdb', ufdir/ 'MD/reference.pdb')\n",
    "shutil.copy2(fdir/ 'MD/plumed.dat', ufdir/ 'MD/plumed.dat')"
   ]
  },
  {
   "cell_type": "code",
   "execution_count": 37,
   "metadata": {
    "execution": {
     "iopub.execute_input": "2024-02-14T08:55:48.230519Z",
     "iopub.status.busy": "2024-02-14T08:55:48.230260Z",
     "iopub.status.idle": "2024-02-14T08:55:48.234204Z",
     "shell.execute_reply": "2024-02-14T08:55:48.233442Z",
     "shell.execute_reply.started": "2024-02-14T08:55:48.230494Z"
    }
   },
   "outputs": [],
   "source": [
    "os.chdir(ufdir/'MD')"
   ]
  },
  {
   "cell_type": "code",
   "execution_count": 38,
   "metadata": {
    "execution": {
     "iopub.execute_input": "2024-02-14T08:55:48.235843Z",
     "iopub.status.busy": "2024-02-14T08:55:48.235248Z",
     "iopub.status.idle": "2024-02-14T08:55:48.268022Z",
     "shell.execute_reply": "2024-02-14T08:55:48.267044Z",
     "shell.execute_reply.started": "2024-02-14T08:55:48.235806Z"
    }
   },
   "outputs": [
    {
     "name": "stdout",
     "output_type": "stream",
     "text": [
      "CompletedProcess(args='rm -f \\\\#*; rm -fr bck.*', returncode=0)\n"
     ]
    }
   ],
   "source": [
    "clean()"
   ]
  },
  {
   "cell_type": "code",
   "execution_count": 39,
   "metadata": {
    "execution": {
     "iopub.execute_input": "2024-02-14T08:55:48.269675Z",
     "iopub.status.busy": "2024-02-14T08:55:48.269359Z",
     "iopub.status.idle": "2024-02-14T08:56:30.361818Z",
     "shell.execute_reply": "2024-02-14T08:56:30.359311Z",
     "shell.execute_reply.started": "2024-02-14T08:55:48.269642Z"
    }
   },
   "outputs": [
    {
     "name": "stderr",
     "output_type": "stream",
     "text": [
      "                :-) GROMACS - gmx mdrun, 2020.6-plumed-2.8.0 (-:\n",
      "\n",
      "                            GROMACS is written by:\n",
      "     Emile Apol      Rossen Apostolov      Paul Bauer     Herman J.C. Berendsen\n",
      "    Par Bjelkmar      Christian Blau   Viacheslav Bolnykh     Kevin Boyd    \n",
      " Aldert van Buuren   Rudi van Drunen     Anton Feenstra       Alan Gray     \n",
      "  Gerrit Groenhof     Anca Hamuraru    Vincent Hindriksen  M. Eric Irrgang  \n",
      "  Aleksei Iupinov   Christoph Junghans     Joe Jordan     Dimitrios Karkoulis\n",
      "    Peter Kasson        Jiri Kraus      Carsten Kutzner      Per Larsson    \n",
      "  Justin A. Lemkul    Viveca Lindahl    Magnus Lundborg     Erik Marklund   \n",
      "    Pascal Merz     Pieter Meulenhoff    Teemu Murtola       Szilard Pall   \n",
      "    Sander Pronk      Roland Schulz      Michael Shirts    Alexey Shvetsov  \n",
      "   Alfons Sijbers     Peter Tieleman      Jon Vincent      Teemu Virolainen \n",
      " Christian Wennberg    Maarten Wolf      Artem Zhmurov   \n",
      "                           and the project leaders:\n",
      "        Mark Abraham, Berk Hess, Erik Lindahl, and David van der Spoel\n",
      "\n",
      "Copyright (c) 1991-2000, University of Groningen, The Netherlands.\n",
      "Copyright (c) 2001-2019, The GROMACS development team at\n",
      "Uppsala University, Stockholm University and\n",
      "the Royal Institute of Technology, Sweden.\n",
      "check out http://www.gromacs.org for more information.\n",
      "\n",
      "GROMACS is free software; you can redistribute it and/or modify it\n",
      "under the terms of the GNU Lesser General Public License\n",
      "as published by the Free Software Foundation; either version 2.1\n",
      "of the License, or (at your option) any later version.\n",
      "\n",
      "GROMACS:      gmx mdrun, version 2020.6-plumed-2.8.0\n",
      "Executable:   /home/zadoki/miniconda3/envs/bpti/bin/gmx_mpi\n",
      "Data prefix:  /home/zadoki/miniconda3/envs/bpti\n",
      "Working dir:  /rg/mendels_prj/zadoki/chignolin_test/data/interim/GYDPENGTWG/state_unfolded/MD\n",
      "Command line:\n",
      "  gmx_mpi mdrun -v -deffnm md -plumed plumed_strech.dat -c md.pdb -ntomp 8\n",
      "\n",
      "+++ Loading the PLUMED kernel runtime +++\n",
      "+++ PLUMED_KERNEL=\"/home/zadoki/miniconda3/envs/bpti/lib/libplumedKernel.so\" +++\n",
      "+++ Loading the PLUMED kernel runtime +++\n",
      "+++ PLUMED_KERNEL=\"/home/zadoki/miniconda3/envs/bpti/lib/libplumedKernel.so\" +++\n",
      "Compiled SIMD: SSE2, but for this host/run AVX_512 might be better (see log).\n",
      "The current CPU can measure timings more accurately than the code in\n",
      "gmx mdrun was configured to use. This might affect your simulation\n",
      "speed as accurate timings are needed for load-balancing.\n",
      "Please consider rebuilding gmx mdrun with the GMX_USE_RDTSCP=ON CMake option.\n",
      "Reading file md.tpr, VERSION 2020.6-plumed-2.8.0 (single precision)\n",
      "Changing nstlist from 5 to 50, rlist from 1 to 1.106\n",
      "\n",
      "\n",
      "Using 1 MPI process\n",
      "Using 8 OpenMP threads \n",
      "\n",
      "\n",
      "NOTE: The number of threads is not equal to the number of (logical) cores\n",
      "      and the -pin option is set to auto: will not pin threads to cores.\n",
      "      This can lead to significant performance degradation.\n",
      "      Consider using -pin on (and -pinoffset in case you run multiple jobs).\n",
      "starting mdrun 'Protein in water'\n",
      "10000 steps,     20.0 ps.\n",
      "step 9900, remaining wall clock time:     0 s          \n",
      "Writing final coordinates.\n",
      "step 10000, remaining wall clock time:     0 s          \n",
      "               Core t (s)   Wall t (s)        (%)\n",
      "       Time:      332.492       41.565      799.9\n",
      "                 (ns/day)    (hour/ns)\n",
      "Performance:       41.578        0.577\n",
      "\n",
      "GROMACS reminds you: \"Screw a Lightbulb in your Head\" (Gogol Bordello)\n",
      "\n"
     ]
    },
    {
     "data": {
      "text/plain": [
       "CompletedProcess(args='gmx_mpi mdrun  -v -deffnm md -plumed plumed_strech.dat  -c md.pdb -ntomp 8 ', returncode=0)"
      ]
     },
     "execution_count": 39,
     "metadata": {},
     "output_type": "execute_result"
    },
    {
     "name": "stderr",
     "output_type": "stream",
     "text": [
      "[dgx-master:2742215] PMIX ERROR: NO-PERMISSIONS in file dstore_base.c at line 237\n",
      "[dgx-master:2742215] PMIX ERROR: NO-PERMISSIONS in file dstore_base.c at line 246\n"
     ]
    }
   ],
   "source": [
    "# Strech protein \n",
    "\n",
    "subprocess.run('gmx_mpi mdrun  -v -deffnm md -plumed plumed_strech.dat  -c md.pdb -ntomp 8 ', shell=True )"
   ]
  },
  {
   "cell_type": "code",
   "execution_count": 64,
   "metadata": {
    "execution": {
     "iopub.execute_input": "2024-02-14T12:05:44.330502Z",
     "iopub.status.busy": "2024-02-14T12:05:44.328664Z",
     "iopub.status.idle": "2024-02-14T12:05:45.044441Z",
     "shell.execute_reply": "2024-02-14T12:05:45.043728Z",
     "shell.execute_reply.started": "2024-02-14T12:05:44.330451Z"
    }
   },
   "outputs": [
    {
     "name": "stderr",
     "output_type": "stream",
     "text": [
      "+++ Loading the PLUMED kernel runtime +++\n",
      "+++ PLUMED_KERNEL=\"/home/zadoki/miniconda3/envs/gromacs_plumed/lib/libplumedKernel.so\" +++\n"
     ]
    },
    {
     "data": {
      "text/plain": [
       "<Axes: xlabel='time'>"
      ]
     },
     "execution_count": 64,
     "metadata": {},
     "output_type": "execute_result"
    },
    {
     "data": {
      "image/png": "[encoded data removed]",
      "text/plain": [
       "<Figure size 640x480 with 1 Axes>"
      ]
     },
     "metadata": {},
     "output_type": "display_data"
    },
    {
     "data": {
      "image/png": "[encoded data removed]",
      "text/plain": [
       "<Figure size 640x480 with 1 Axes>"
      ]
     },
     "metadata": {},
     "output_type": "display_data"
    },
    {
     "data": {
      "image/png": "[encoded data removed]",
      "text/plain": [
       "<Figure size 640x480 with 1 Axes>"
      ]
     },
     "metadata": {},
     "output_type": "display_data"
    }
   ],
   "source": [
    "data = plumed.read_as_pandas('COLVAR_STRECH')\n",
    "\n",
    "data.plot('time','e2e', label='e2e')\n",
    "data.plot('time','rmsd', label='rmsd')\n",
    "data.plot('time','res.bias', label='bias')"
   ]
  },
  {
   "cell_type": "code",
   "execution_count": null,
   "metadata": {
    "execution": {
     "iopub.status.busy": "2024-02-14T12:05:41.175904Z",
     "iopub.status.idle": "2024-02-14T12:05:41.176440Z",
     "shell.execute_reply": "2024-02-14T12:05:41.176281Z",
     "shell.execute_reply.started": "2024-02-14T12:05:41.176264Z"
    }
   },
   "outputs": [],
   "source": [
    "# simulate and collect CVs\n",
    "\n",
    "\n",
    "subprocess.run('gmx_mpi mdrun  -v -deffnm md -cpi  -plumed plumed.dat -nsteps {} -c md.pdb -ntomp 8'.format(NSTEPS), shell=True )"
   ]
  },
  {
   "cell_type": "markdown",
   "metadata": {},
   "source": [
    "## visualize with nglview"
   ]
  },
  {
   "cell_type": "code",
   "execution_count": 65,
   "metadata": {
    "execution": {
     "iopub.execute_input": "2024-02-14T12:05:50.938480Z",
     "iopub.status.busy": "2024-02-14T12:05:50.937646Z",
     "iopub.status.idle": "2024-02-14T12:05:50.999261Z",
     "shell.execute_reply": "2024-02-14T12:05:50.998405Z",
     "shell.execute_reply.started": "2024-02-14T12:05:50.938441Z"
    }
   },
   "outputs": [],
   "source": [
    "os.chdir(ufdir/ 'MD')\n",
    "\n",
    "u = mda.Universe('md.tpr', 'md.trr')"
   ]
  },
  {
   "cell_type": "code",
   "execution_count": 66,
   "metadata": {
    "execution": {
     "iopub.execute_input": "2024-02-14T12:05:51.330061Z",
     "iopub.status.busy": "2024-02-14T12:05:51.329056Z",
     "iopub.status.idle": "2024-02-14T12:05:51.338920Z",
     "shell.execute_reply": "2024-02-14T12:05:51.338178Z",
     "shell.execute_reply.started": "2024-02-14T12:05:51.330018Z"
    }
   },
   "outputs": [
    {
     "data": {
      "text/plain": [
       "<AtomGroup with 5078 atoms>"
      ]
     },
     "execution_count": 66,
     "metadata": {},
     "output_type": "execute_result"
    }
   ],
   "source": [
    "u.trajectory.n_frames\n",
    "\n",
    "u.universe.residues[1000]\n",
    "\n",
    "prot = u.select_atoms(\"(protein and not type H) or (resname SOL within 2)\")\n",
    "\n",
    "prot"
   ]
  },
  {
   "cell_type": "code",
   "execution_count": 67,
   "metadata": {
    "execution": {
     "iopub.execute_input": "2024-02-14T12:05:51.752195Z",
     "iopub.status.busy": "2024-02-14T12:05:51.751279Z",
     "iopub.status.idle": "2024-02-14T12:05:52.894261Z",
     "shell.execute_reply": "2024-02-14T12:05:52.893549Z",
     "shell.execute_reply.started": "2024-02-14T12:05:51.752151Z"
    }
   },
   "outputs": [
    {
     "data": {
      "application/vnd.jupyter.widget-view+json": {
       "model_id": "3cc4360b97a64342a3c37dc8e318b011",
       "version_major": 2,
       "version_minor": 0
      },
      "text/plain": [
       "NGLWidget(max_frame=11000)"
      ]
     },
     "metadata": {},
     "output_type": "display_data"
    }
   ],
   "source": [
    "view = nglview.show_mdanalysis(prot)\n",
    "view"
   ]
  },
  {
   "cell_type": "markdown",
   "metadata": {},
   "source": [
    "# Calculate HLDA CV"
   ]
  },
  {
   "cell_type": "markdown",
   "metadata": {},
   "source": [
    "## Let's see the states first"
   ]
  },
  {
   "cell_type": "code",
   "execution_count": 68,
   "metadata": {
    "execution": {
     "iopub.execute_input": "2024-02-14T12:06:09.066431Z",
     "iopub.status.busy": "2024-02-14T12:06:09.066036Z",
     "iopub.status.idle": "2024-02-14T12:06:09.070642Z",
     "shell.execute_reply": "2024-02-14T12:06:09.069884Z",
     "shell.execute_reply.started": "2024-02-14T12:06:09.066401Z"
    }
   },
   "outputs": [],
   "source": [
    "from harmonic_discriminant_analysis import HarmonicLinearDiscriminantAnalysis\n",
    "from sklearn.preprocessing import StandardScaler\n",
    "from sklearn.pipeline import Pipeline\n",
    "import seaborn as sns"
   ]
  },
  {
   "cell_type": "code",
   "execution_count": 69,
   "metadata": {
    "execution": {
     "iopub.execute_input": "2024-02-14T12:06:09.424664Z",
     "iopub.status.busy": "2024-02-14T12:06:09.424306Z",
     "iopub.status.idle": "2024-02-14T12:06:09.511276Z",
     "shell.execute_reply": "2024-02-14T12:06:09.510409Z",
     "shell.execute_reply.started": "2024-02-14T12:06:09.424633Z"
    }
   },
   "outputs": [
    {
     "name": "stderr",
     "output_type": "stream",
     "text": [
      "+++ Loading the PLUMED kernel runtime +++\n",
      "+++ PLUMED_KERNEL=\"/home/zadoki/miniconda3/envs/gromacs_plumed/lib/libplumedKernel.so\" +++\n",
      "+++ Loading the PLUMED kernel runtime +++\n",
      "+++ PLUMED_KERNEL=\"/home/zadoki/miniconda3/envs/gromacs_plumed/lib/libplumedKernel.so\" +++\n"
     ]
    }
   ],
   "source": [
    "data = pd.concat([\n",
    "    (plumed.read_as_pandas(str(fdir / 'MD/COLVAR'))).assign(state = 'folded'),\n",
    "    (plumed.read_as_pandas(str(ufdir / 'MD/COLVAR'))).assign(state = 'unfolded')]).reset_index(drop=True)"
   ]
  },
  {
   "cell_type": "code",
   "execution_count": 70,
   "metadata": {
    "execution": {
     "iopub.execute_input": "2024-02-14T12:06:10.048579Z",
     "iopub.status.busy": "2024-02-14T12:06:10.048201Z",
     "iopub.status.idle": "2024-02-14T12:06:10.564061Z",
     "shell.execute_reply": "2024-02-14T12:06:10.563275Z",
     "shell.execute_reply.started": "2024-02-14T12:06:10.048545Z"
    }
   },
   "outputs": [
    {
     "data": {
      "text/plain": [
       "<Axes: xlabel='time'>"
      ]
     },
     "execution_count": 70,
     "metadata": {},
     "output_type": "execute_result"
    },
    {
     "data": {
      "image/png": "[encoded data removed]",
      "text/plain": [
       "<Figure size 640x480 with 1 Axes>"
      ]
     },
     "metadata": {},
     "output_type": "display_data"
    },
    {
     "data": {
      "image/png": "[encoded data removed]",
      "text/plain": [
       "<Figure size 640x480 with 1 Axes>"
      ]
     },
     "metadata": {},
     "output_type": "display_data"
    }
   ],
   "source": [
    "data[data.state == 'folded'].plot('time','rmsd', label = 'folded')\n",
    "data[data.state == 'unfolded'].plot('time','rmsd', label = 'unfolded')"
   ]
  },
  {
   "cell_type": "code",
   "execution_count": 71,
   "metadata": {
    "execution": {
     "iopub.execute_input": "2024-02-14T12:06:10.975670Z",
     "iopub.status.busy": "2024-02-14T12:06:10.975307Z",
     "iopub.status.idle": "2024-02-14T12:06:11.576672Z",
     "shell.execute_reply": "2024-02-14T12:06:11.575961Z",
     "shell.execute_reply.started": "2024-02-14T12:06:10.975640Z"
    }
   },
   "outputs": [
    {
     "data": {
      "text/plain": [
       "<Axes: xlabel='time'>"
      ]
     },
     "execution_count": 71,
     "metadata": {},
     "output_type": "execute_result"
    },
    {
     "data": {
      "image/png": "[encoded data removed]",
      "text/plain": [
       "<Figure size 640x480 with 1 Axes>"
      ]
     },
     "metadata": {},
     "output_type": "display_data"
    },
    {
     "data": {
      "image/png": "[encoded data removed]",
      "text/plain": [
       "<Figure size 640x480 with 1 Axes>"
      ]
     },
     "metadata": {},
     "output_type": "display_data"
    }
   ],
   "source": [
    "data[data.state == 'folded'].plot('time','e2e', label = 'folded')\n",
    "data[data.state == 'unfolded'].plot('time','e2e', label = 'unfolded')"
   ]
  },
  {
   "cell_type": "code",
   "execution_count": 72,
   "metadata": {
    "execution": {
     "iopub.execute_input": "2024-02-14T12:06:11.578512Z",
     "iopub.status.busy": "2024-02-14T12:06:11.577916Z",
     "iopub.status.idle": "2024-02-14T12:06:11.903168Z",
     "shell.execute_reply": "2024-02-14T12:06:11.902376Z",
     "shell.execute_reply.started": "2024-02-14T12:06:11.578485Z"
    }
   },
   "outputs": [
    {
     "data": {
      "text/plain": [
       "<Axes: xlabel='e2e', ylabel='rmsd'>"
      ]
     },
     "execution_count": 72,
     "metadata": {},
     "output_type": "execute_result"
    },
    {
     "data": {
      "image/png": "[encoded data removed]",
      "text/plain": [
       "<Figure size 640x480 with 1 Axes>"
      ]
     },
     "metadata": {},
     "output_type": "display_data"
    }
   ],
   "source": [
    "data.plot('e2e','rmsd', kind='scatter')"
   ]
  },
  {
   "cell_type": "code",
   "execution_count": 73,
   "metadata": {
    "execution": {
     "iopub.execute_input": "2024-02-14T12:06:26.295802Z",
     "iopub.status.busy": "2024-02-14T12:06:26.295107Z",
     "iopub.status.idle": "2024-02-14T12:06:26.316831Z",
     "shell.execute_reply": "2024-02-14T12:06:26.315903Z",
     "shell.execute_reply.started": "2024-02-14T12:06:26.295764Z"
    }
   },
   "outputs": [],
   "source": [
    "X = data.iloc[:,data.columns.str.contains('^p')].copy(deep=True)\n",
    "y = data.state\n",
    "\n",
    "# apply unwrap \n",
    "X = X.apply(np.unwrap,)\n"
   ]
  },
  {
   "cell_type": "code",
   "execution_count": 74,
   "metadata": {
    "execution": {
     "iopub.execute_input": "2024-02-14T12:06:26.862835Z",
     "iopub.status.busy": "2024-02-14T12:06:26.862361Z",
     "iopub.status.idle": "2024-02-14T12:06:26.866694Z",
     "shell.execute_reply": "2024-02-14T12:06:26.865856Z",
     "shell.execute_reply.started": "2024-02-14T12:06:26.862802Z"
    }
   },
   "outputs": [],
   "source": [
    "hlda = HarmonicLinearDiscriminantAnalysis()"
   ]
  },
  {
   "cell_type": "code",
   "execution_count": 75,
   "metadata": {
    "execution": {
     "iopub.execute_input": "2024-02-14T12:06:27.260539Z",
     "iopub.status.busy": "2024-02-14T12:06:27.259664Z",
     "iopub.status.idle": "2024-02-14T12:06:27.338831Z",
     "shell.execute_reply": "2024-02-14T12:06:27.338074Z",
     "shell.execute_reply.started": "2024-02-14T12:06:27.260502Z"
    }
   },
   "outputs": [
    {
     "data": {
      "text/html": [
       "<style>#sk-container-id-2 {color: black;}#sk-container-id-2 pre{padding: 0;}#sk-container-id-2 div.sk-toggleable {background-color: white;}#sk-container-id-2 label.sk-toggleable__label {cursor: pointer;display: block;width: 100%;margin-bottom: 0;padding: 0.3em;box-sizing: border-box;text-align: center;}#sk-container-id-2 label.sk-toggleable__label-arrow:before {content: \"▸\";float: left;margin-right: 0.25em;color: #696969;}#sk-container-id-2 label.sk-toggleable__label-arrow:hover:before {color: black;}#sk-container-id-2 div.sk-estimator:hover label.sk-toggleable__label-arrow:before {color: black;}#sk-container-id-2 div.sk-toggleable__content {max-height: 0;max-width: 0;overflow: hidden;text-align: left;background-color: #f0f8ff;}#sk-container-id-2 div.sk-toggleable__content pre {margin: 0.2em;color: black;border-radius: 0.25em;background-color: #f0f8ff;}#sk-container-id-2 input.sk-toggleable__control:checked~div.sk-toggleable__content {max-height: 200px;max-width: 100%;overflow: auto;}#sk-container-id-2 input.sk-toggleable__control:checked~label.sk-toggleable__label-arrow:before {content: \"▾\";}#sk-container-id-2 div.sk-estimator input.sk-toggleable__control:checked~label.sk-toggleable__label {background-color: #d4ebff;}#sk-container-id-2 div.sk-label input.sk-toggleable__control:checked~label.sk-toggleable__label {background-color: #d4ebff;}#sk-container-id-2 input.sk-hidden--visually {border: 0;clip: rect(1px 1px 1px 1px);clip: rect(1px, 1px, 1px, 1px);height: 1px;margin: -1px;overflow: hidden;padding: 0;position: absolute;width: 1px;}#sk-container-id-2 div.sk-estimator {font-family: monospace;background-color: #f0f8ff;border: 1px dotted black;border-radius: 0.25em;box-sizing: border-box;margin-bottom: 0.5em;}#sk-container-id-2 div.sk-estimator:hover {background-color: #d4ebff;}#sk-container-id-2 div.sk-parallel-item::after {content: \"\";width: 100%;border-bottom: 1px solid gray;flex-grow: 1;}#sk-container-id-2 div.sk-label:hover label.sk-toggleable__label {background-color: #d4ebff;}#sk-container-id-2 div.sk-serial::before {content: \"\";position: absolute;border-left: 1px solid gray;box-sizing: border-box;top: 0;bottom: 0;left: 50%;z-index: 0;}#sk-container-id-2 div.sk-serial {display: flex;flex-direction: column;align-items: center;background-color: white;padding-right: 0.2em;padding-left: 0.2em;position: relative;}#sk-container-id-2 div.sk-item {position: relative;z-index: 1;}#sk-container-id-2 div.sk-parallel {display: flex;align-items: stretch;justify-content: center;background-color: white;position: relative;}#sk-container-id-2 div.sk-item::before, #sk-container-id-2 div.sk-parallel-item::before {content: \"\";position: absolute;border-left: 1px solid gray;box-sizing: border-box;top: 0;bottom: 0;left: 50%;z-index: -1;}#sk-container-id-2 div.sk-parallel-item {display: flex;flex-direction: column;z-index: 1;position: relative;background-color: white;}#sk-container-id-2 div.sk-parallel-item:first-child::after {align-self: flex-end;width: 50%;}#sk-container-id-2 div.sk-parallel-item:last-child::after {align-self: flex-start;width: 50%;}#sk-container-id-2 div.sk-parallel-item:only-child::after {width: 0;}#sk-container-id-2 div.sk-dashed-wrapped {border: 1px dashed gray;margin: 0 0.4em 0.5em 0.4em;box-sizing: border-box;padding-bottom: 0.4em;background-color: white;}#sk-container-id-2 div.sk-label label {font-family: monospace;font-weight: bold;display: inline-block;line-height: 1.2em;}#sk-container-id-2 div.sk-label-container {text-align: center;}#sk-container-id-2 div.sk-container {/* jupyter's `normalize.less` sets `[hidden] { display: none; }` but bootstrap.min.css set `[hidden] { display: none !important; }` so we also need the `!important` here to be able to override the default hidden behavior on the sphinx rendered scikit-learn.org. See: https://github.com/scikit-learn/scikit-learn/issues/21755 */display: inline-block !important;position: relative;}#sk-container-id-2 div.sk-text-repr-fallback {display: none;}</style><div id=\"sk-container-id-2\" class=\"sk-top-container\"><div class=\"sk-text-repr-fallback\"><pre>HarmonicLinearDiscriminantAnalysis()</pre><b>In a Jupyter environment, please rerun this cell to show the HTML representation or trust the notebook. <br />On GitHub, the HTML representation is unable to render, please try loading this page with nbviewer.org.</b></div><div class=\"sk-container\" hidden><div class=\"sk-item\"><div class=\"sk-estimator sk-toggleable\"><input class=\"sk-toggleable__control sk-hidden--visually\" id=\"sk-estimator-id-2\" type=\"checkbox\" checked><label for=\"sk-estimator-id-2\" class=\"sk-toggleable__label sk-toggleable__label-arrow\">HarmonicLinearDiscriminantAnalysis</label><div class=\"sk-toggleable__content\"><pre>HarmonicLinearDiscriminantAnalysis()</pre></div></div></div></div></div>"
      ],
      "text/plain": [
       "HarmonicLinearDiscriminantAnalysis()"
      ]
     },
     "execution_count": 75,
     "metadata": {},
     "output_type": "execute_result"
    }
   ],
   "source": [
    "hlda.fit(X,y)"
   ]
  },
  {
   "cell_type": "markdown",
   "metadata": {},
   "source": [
    "## Plot State separation"
   ]
  },
  {
   "cell_type": "code",
   "execution_count": 79,
   "metadata": {
    "execution": {
     "iopub.execute_input": "2024-02-14T12:06:56.116590Z",
     "iopub.status.busy": "2024-02-14T12:06:56.115844Z",
     "iopub.status.idle": "2024-02-14T12:06:56.464164Z",
     "shell.execute_reply": "2024-02-14T12:06:56.463470Z",
     "shell.execute_reply.started": "2024-02-14T12:06:56.116555Z"
    }
   },
   "outputs": [
    {
     "data": {
      "image/png": "[encoded data removed]",
      "text/plain": [
       "<Figure size 640x480 with 1 Axes>"
      ]
     },
     "metadata": {},
     "output_type": "display_data"
    }
   ],
   "source": [
    "plt.hist(hlda.transform(X)[y == 'folded'],  label = 'folded', alpha=0.5 )\n",
    "plt.hist(hlda.transform(X)[y == 'unfolded'], label = 'unfolded', alpha =  0.5)\n",
    "plt.legend()\n",
    "plt.show()"
   ]
  },
  {
   "cell_type": "code",
   "execution_count": 77,
   "metadata": {
    "execution": {
     "iopub.execute_input": "2024-02-14T12:06:32.150819Z",
     "iopub.status.busy": "2024-02-14T12:06:32.150090Z",
     "iopub.status.idle": "2024-02-14T12:06:32.154726Z",
     "shell.execute_reply": "2024-02-14T12:06:32.153852Z",
     "shell.execute_reply.started": "2024-02-14T12:06:32.150785Z"
    }
   },
   "outputs": [],
   "source": [
    "hlda_evects = (hlda.scalings_)[:,0]"
   ]
  },
  {
   "cell_type": "markdown",
   "metadata": {},
   "source": [
    "## Plot HLDA coefficients"
   ]
  },
  {
   "cell_type": "code",
   "execution_count": 78,
   "metadata": {
    "execution": {
     "iopub.execute_input": "2024-02-14T12:06:33.584007Z",
     "iopub.status.busy": "2024-02-14T12:06:33.583374Z",
     "iopub.status.idle": "2024-02-14T12:06:33.787681Z",
     "shell.execute_reply": "2024-02-14T12:06:33.786853Z",
     "shell.execute_reply.started": "2024-02-14T12:06:33.583969Z"
    }
   },
   "outputs": [
    {
     "data": {
      "image/png": "[encoded data removed]",
      "text/plain": [
       "<Figure size 640x480 with 1 Axes>"
      ]
     },
     "metadata": {},
     "output_type": "display_data"
    }
   ],
   "source": [
    "fig = plt.figure()\n",
    "sortx = np.argsort(np.abs(hlda_evects.flatten()),)[::-1]\n",
    "plt.bar(X.columns[sortx],hlda_evects.flatten()[sortx],align='center', width=0.7)\n",
    "plt.xticks(rotation=90,fontsize=6)\n",
    "plt.xlabel('CV')\n",
    "plt.ylabel('Coefficient Size')\n",
    "plt.show()"
   ]
  },
  {
   "cell_type": "code",
   "execution_count": null,
   "metadata": {},
   "outputs": [],
   "source": []
  }
 ],
 "metadata": {
  "kernelspec": {
   "display_name": "Python [conda env:gromacs_plumed] *",
   "language": "python",
   "name": "conda-env-gromacs_plumed-py"
  },
  "language_info": {
   "codemirror_mode": {
    "name": "ipython",
    "version": 3
   },
   "file_extension": ".py",
   "mimetype": "text/x-python",
   "name": "python",
   "nbconvert_exporter": "python",
   "pygments_lexer": "ipython3",
   "version": "3.9.0"
  }
 },
 "nbformat": 4,
 "nbformat_minor": 4
}
